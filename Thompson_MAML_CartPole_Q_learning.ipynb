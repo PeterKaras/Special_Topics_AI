{
 "cells": [
  {
   "cell_type": "code",
   "execution_count": null,
   "metadata": {
    "colab": {
     "base_uri": "https://localhost:8080/",
     "height": 1000
    },
    "id": "MFfNBskxxkdt",
    "outputId": "7b848ab6-0a4f-46bb-cc51-0d0ba90a6c5f"
   },
   "outputs": [
    {
     "name": "stdout",
     "output_type": "stream",
     "text": [
      "[13.0]\n",
      "[13.0, 14.0]\n",
      "[13.0, 14.0, 10.0]\n",
      "[13.0, 14.0, 10.0, 28.0]\n",
      "[13.0, 14.0, 10.0, 28.0, 33.0]\n",
      "[13.0, 14.0, 10.0, 28.0, 33.0, 11.0]\n",
      "[13.0, 14.0, 10.0, 28.0, 33.0, 11.0, 23.0]\n",
      "[13.0, 14.0, 10.0, 28.0, 33.0, 11.0, 23.0, 13.0]\n",
      "[13.0, 14.0, 10.0, 28.0, 33.0, 11.0, 23.0, 13.0, 10.0]\n",
      "[13.0, 14.0, 10.0, 28.0, 33.0, 11.0, 23.0, 13.0, 10.0, 27.0]\n",
      "Episode 10, Average Score: 18.20\n",
      "Thompson params - Alpha: [1.86 1.86], Beta: [15.514 13.514]\n",
      "Thompson Params - Alpha: [1.86 1.86], Beta: [15.514 13.514]\n",
      "Action Means: [0.10705652 0.12098348], Action Variances: [0.00520276 0.00649484]\n",
      "[14.0, 10.0, 28.0, 33.0, 11.0, 23.0, 13.0, 10.0, 27.0, 33.0]\n",
      "[10.0, 28.0, 33.0, 11.0, 23.0, 13.0, 10.0, 27.0, 33.0, 33.0]\n",
      "[28.0, 33.0, 11.0, 23.0, 13.0, 10.0, 27.0, 33.0, 33.0, 12.0]\n",
      "[33.0, 11.0, 23.0, 13.0, 10.0, 27.0, 33.0, 33.0, 12.0, 24.0]\n",
      "[11.0, 23.0, 13.0, 10.0, 27.0, 33.0, 33.0, 12.0, 24.0, 27.0]\n",
      "[23.0, 13.0, 10.0, 27.0, 33.0, 33.0, 12.0, 24.0, 27.0, 21.0]\n",
      "[13.0, 10.0, 27.0, 33.0, 33.0, 12.0, 24.0, 27.0, 21.0, 23.0]\n",
      "[10.0, 27.0, 33.0, 33.0, 12.0, 24.0, 27.0, 21.0, 23.0, 13.0]\n",
      "[27.0, 33.0, 33.0, 12.0, 24.0, 27.0, 21.0, 23.0, 13.0, 42.0]\n",
      "[33.0, 33.0, 12.0, 24.0, 27.0, 21.0, 23.0, 13.0, 42.0, 37.0]\n",
      "Episode 20, Average Score: 26.50\n",
      "Thompson params - Alpha: [3.03 3.24], Beta: [32.097 32.176]\n",
      "Thompson Params - Alpha: [3.03 3.24], Beta: [32.097 32.176]\n",
      "Action Means: [0.08625843 0.09148407], Action Variances: [0.00218169 0.00228237]\n",
      "[33.0, 12.0, 24.0, 27.0, 21.0, 23.0, 13.0, 42.0, 37.0, 22.0]\n",
      "[12.0, 24.0, 27.0, 21.0, 23.0, 13.0, 42.0, 37.0, 22.0, 25.0]\n",
      "[24.0, 27.0, 21.0, 23.0, 13.0, 42.0, 37.0, 22.0, 25.0, 26.0]\n",
      "[27.0, 21.0, 23.0, 13.0, 42.0, 37.0, 22.0, 25.0, 26.0, 19.0]\n",
      "[21.0, 23.0, 13.0, 42.0, 37.0, 22.0, 25.0, 26.0, 19.0, 15.0]\n",
      "[23.0, 13.0, 42.0, 37.0, 22.0, 25.0, 26.0, 19.0, 15.0, 46.0]\n",
      "[13.0, 42.0, 37.0, 22.0, 25.0, 26.0, 19.0, 15.0, 46.0, 14.0]\n",
      "[42.0, 37.0, 22.0, 25.0, 26.0, 19.0, 15.0, 46.0, 14.0, 22.0]\n",
      "[37.0, 22.0, 25.0, 26.0, 19.0, 15.0, 46.0, 14.0, 22.0, 12.0]\n",
      "[22.0, 25.0, 26.0, 19.0, 15.0, 46.0, 14.0, 22.0, 12.0, 20.0]\n",
      "Episode 30, Average Score: 22.10\n",
      "Thompson params - Alpha: [4.09 4.29], Beta: [45.591 49.571]\n",
      "Thompson Params - Alpha: [4.09 4.29], Beta: [45.591 49.571]\n",
      "Action Means: [0.08232523 0.07964947], Action Variances: [0.00149065 0.0013362 ]\n",
      "[25.0, 26.0, 19.0, 15.0, 46.0, 14.0, 22.0, 12.0, 20.0, 11.0]\n",
      "[26.0, 19.0, 15.0, 46.0, 14.0, 22.0, 12.0, 20.0, 11.0, 15.0]\n",
      "[19.0, 15.0, 46.0, 14.0, 22.0, 12.0, 20.0, 11.0, 15.0, 12.0]\n",
      "[15.0, 46.0, 14.0, 22.0, 12.0, 20.0, 11.0, 15.0, 12.0, 24.0]\n",
      "[46.0, 14.0, 22.0, 12.0, 20.0, 11.0, 15.0, 12.0, 24.0, 11.0]\n",
      "[14.0, 22.0, 12.0, 20.0, 11.0, 15.0, 12.0, 24.0, 11.0, 31.0]\n",
      "[22.0, 12.0, 20.0, 11.0, 15.0, 12.0, 24.0, 11.0, 31.0, 12.0]\n",
      "[12.0, 20.0, 11.0, 15.0, 12.0, 24.0, 11.0, 31.0, 12.0, 21.0]\n",
      "[20.0, 11.0, 15.0, 12.0, 24.0, 11.0, 31.0, 12.0, 21.0, 17.0]\n",
      "[11.0, 15.0, 12.0, 24.0, 11.0, 31.0, 12.0, 21.0, 17.0, 17.0]\n",
      "Episode 40, Average Score: 17.10\n",
      "Thompson params - Alpha: [5.02 4.97], Beta: [60.798 60.303]\n",
      "Thompson Params - Alpha: [5.02 4.97], Beta: [60.798 60.303]\n",
      "Action Means: [0.07627093 0.07614174], Action Variances: [0.00105441 0.00106143]\n",
      "[15.0, 12.0, 24.0, 11.0, 31.0, 12.0, 21.0, 17.0, 17.0, 16.0]\n",
      "[12.0, 24.0, 11.0, 31.0, 12.0, 21.0, 17.0, 17.0, 16.0, 35.0]\n",
      "[24.0, 11.0, 31.0, 12.0, 21.0, 17.0, 17.0, 16.0, 35.0, 45.0]\n",
      "[11.0, 31.0, 12.0, 21.0, 17.0, 17.0, 16.0, 35.0, 45.0, 12.0]\n",
      "[31.0, 12.0, 21.0, 17.0, 17.0, 16.0, 35.0, 45.0, 12.0, 15.0]\n",
      "[12.0, 21.0, 17.0, 17.0, 16.0, 35.0, 45.0, 12.0, 15.0, 15.0]\n",
      "[21.0, 17.0, 17.0, 16.0, 35.0, 45.0, 12.0, 15.0, 15.0, 13.0]\n",
      "[17.0, 17.0, 16.0, 35.0, 45.0, 12.0, 15.0, 15.0, 13.0, 15.0]\n",
      "[17.0, 16.0, 35.0, 45.0, 12.0, 15.0, 15.0, 13.0, 15.0, 45.0]\n",
      "[16.0, 35.0, 45.0, 12.0, 15.0, 15.0, 13.0, 15.0, 45.0, 42.0]\n",
      "Episode 50, Average Score: 25.30\n",
      "Thompson params - Alpha: [6.29 6.13], Beta: [80.371 74.787]\n",
      "Thompson Params - Alpha: [6.29 6.13], Beta: [80.371 74.787]\n",
      "Action Means: [0.07258167 0.07575664], Action Variances: [0.00076789 0.00085474]\n",
      "[35.0, 45.0, 12.0, 15.0, 15.0, 13.0, 15.0, 45.0, 42.0, 21.0]\n",
      "[45.0, 12.0, 15.0, 15.0, 13.0, 15.0, 45.0, 42.0, 21.0, 12.0]\n",
      "[12.0, 15.0, 15.0, 13.0, 15.0, 45.0, 42.0, 21.0, 12.0, 16.0]\n",
      "[15.0, 15.0, 13.0, 15.0, 45.0, 42.0, 21.0, 12.0, 16.0, 22.0]\n",
      "[15.0, 13.0, 15.0, 45.0, 42.0, 21.0, 12.0, 16.0, 22.0, 13.0]\n",
      "[13.0, 15.0, 45.0, 42.0, 21.0, 12.0, 16.0, 22.0, 13.0, 18.0]\n",
      "[15.0, 45.0, 42.0, 21.0, 12.0, 16.0, 22.0, 13.0, 18.0, 19.0]\n",
      "[45.0, 42.0, 21.0, 12.0, 16.0, 22.0, 13.0, 18.0, 19.0, 14.0]\n",
      "[42.0, 21.0, 12.0, 16.0, 22.0, 13.0, 18.0, 19.0, 14.0, 30.0]\n",
      "[21.0, 12.0, 16.0, 22.0, 13.0, 18.0, 19.0, 14.0, 30.0, 19.0]\n",
      "Episode 60, Average Score: 18.40\n",
      "Thompson params - Alpha: [7.33 6.83], Beta: [95.667 86.717]\n",
      "Thompson Params - Alpha: [7.33 6.83], Beta: [95.667 86.717]\n",
      "Action Means: [0.07116712 0.07301143], Action Variances: [0.00063562 0.00071584]\n",
      "[12.0, 16.0, 22.0, 13.0, 18.0, 19.0, 14.0, 30.0, 19.0, 11.0]\n",
      "[16.0, 22.0, 13.0, 18.0, 19.0, 14.0, 30.0, 19.0, 11.0, 25.0]\n",
      "[22.0, 13.0, 18.0, 19.0, 14.0, 30.0, 19.0, 11.0, 25.0, 55.0]\n",
      "[13.0, 18.0, 19.0, 14.0, 30.0, 19.0, 11.0, 25.0, 55.0, 47.0]\n",
      "[18.0, 19.0, 14.0, 30.0, 19.0, 11.0, 25.0, 55.0, 47.0, 16.0]\n",
      "[19.0, 14.0, 30.0, 19.0, 11.0, 25.0, 55.0, 47.0, 16.0, 15.0]\n",
      "[14.0, 30.0, 19.0, 11.0, 25.0, 55.0, 47.0, 16.0, 15.0, 14.0]\n",
      "[30.0, 19.0, 11.0, 25.0, 55.0, 47.0, 16.0, 15.0, 14.0, 36.0]\n",
      "[19.0, 11.0, 25.0, 55.0, 47.0, 16.0, 15.0, 14.0, 36.0, 11.0]\n",
      "[11.0, 25.0, 55.0, 47.0, 16.0, 15.0, 14.0, 36.0, 11.0, 18.0]\n",
      "Episode 70, Average Score: 24.80\n",
      "Thompson params - Alpha: [8.59 7.95], Beta: [112.141 103.805]\n",
      "Thompson Params - Alpha: [8.59 7.95], Beta: [112.141 103.805]\n",
      "Action Means: [0.07114991 0.07113776], Action Variances: [0.0005429  0.00058602]\n",
      "[25.0, 55.0, 47.0, 16.0, 15.0, 14.0, 36.0, 11.0, 18.0, 28.0]\n",
      "[55.0, 47.0, 16.0, 15.0, 14.0, 36.0, 11.0, 18.0, 28.0, 10.0]\n",
      "[47.0, 16.0, 15.0, 14.0, 36.0, 11.0, 18.0, 28.0, 10.0, 20.0]\n",
      "[16.0, 15.0, 14.0, 36.0, 11.0, 18.0, 28.0, 10.0, 20.0, 15.0]\n",
      "[15.0, 14.0, 36.0, 11.0, 18.0, 28.0, 10.0, 20.0, 15.0, 11.0]\n",
      "[14.0, 36.0, 11.0, 18.0, 28.0, 10.0, 20.0, 15.0, 11.0, 38.0]\n",
      "[36.0, 11.0, 18.0, 28.0, 10.0, 20.0, 15.0, 11.0, 38.0, 18.0]\n",
      "[11.0, 18.0, 28.0, 10.0, 20.0, 15.0, 11.0, 38.0, 18.0, 15.0]\n",
      "[18.0, 28.0, 10.0, 20.0, 15.0, 11.0, 38.0, 18.0, 15.0, 46.0]\n",
      "[28.0, 10.0, 20.0, 15.0, 11.0, 38.0, 18.0, 15.0, 46.0, 13.0]\n",
      "Episode 80, Average Score: 21.40\n",
      "Thompson params - Alpha: [9.7  8.88], Beta: [129.13  117.012]\n",
      "Thompson Params - Alpha: [9.7  8.88], Beta: [129.13  117.012]\n",
      "Action Means: [0.06986962 0.07053665], Action Variances: [0.00046476 0.00051667]\n",
      "[10.0, 20.0, 15.0, 11.0, 38.0, 18.0, 15.0, 46.0, 13.0, 17.0]\n",
      "[20.0, 15.0, 11.0, 38.0, 18.0, 15.0, 46.0, 13.0, 17.0, 20.0]\n",
      "[15.0, 11.0, 38.0, 18.0, 15.0, 46.0, 13.0, 17.0, 20.0, 11.0]\n",
      "[11.0, 38.0, 18.0, 15.0, 46.0, 13.0, 17.0, 20.0, 11.0, 13.0]\n",
      "[38.0, 18.0, 15.0, 46.0, 13.0, 17.0, 20.0, 11.0, 13.0, 15.0]\n",
      "[18.0, 15.0, 46.0, 13.0, 17.0, 20.0, 11.0, 13.0, 15.0, 15.0]\n",
      "[15.0, 46.0, 13.0, 17.0, 20.0, 11.0, 13.0, 15.0, 15.0, 13.0]\n",
      "[46.0, 13.0, 17.0, 20.0, 11.0, 13.0, 15.0, 15.0, 13.0, 11.0]\n",
      "[13.0, 17.0, 20.0, 11.0, 13.0, 15.0, 15.0, 13.0, 11.0, 16.0]\n",
      "[17.0, 20.0, 11.0, 13.0, 15.0, 15.0, 13.0, 11.0, 16.0, 17.0]\n",
      "Episode 90, Average Score: 14.80\n",
      "Thompson params - Alpha: [10.53  9.43], Beta: [140.347 129.457]\n",
      "Thompson Params - Alpha: [10.53  9.43], Beta: [140.347 129.457]\n",
      "Action Means: [0.06979195 0.06789692], Action Variances: [0.00042746 0.00045241]\n",
      "[20.0, 11.0, 13.0, 15.0, 15.0, 13.0, 11.0, 16.0, 17.0, 34.0]\n",
      "[11.0, 13.0, 15.0, 15.0, 13.0, 11.0, 16.0, 17.0, 34.0, 10.0]\n",
      "[13.0, 15.0, 15.0, 13.0, 11.0, 16.0, 17.0, 34.0, 10.0, 19.0]\n",
      "[15.0, 15.0, 13.0, 11.0, 16.0, 17.0, 34.0, 10.0, 19.0, 13.0]\n",
      "[15.0, 13.0, 11.0, 16.0, 17.0, 34.0, 10.0, 19.0, 13.0, 22.0]\n",
      "[13.0, 11.0, 16.0, 17.0, 34.0, 10.0, 19.0, 13.0, 22.0, 48.0]\n",
      "[11.0, 16.0, 17.0, 34.0, 10.0, 19.0, 13.0, 22.0, 48.0, 11.0]\n",
      "[16.0, 17.0, 34.0, 10.0, 19.0, 13.0, 22.0, 48.0, 11.0, 12.0]\n",
      "[17.0, 34.0, 10.0, 19.0, 13.0, 22.0, 48.0, 11.0, 12.0, 42.0]\n",
      "[34.0, 10.0, 19.0, 13.0, 22.0, 48.0, 11.0, 12.0, 42.0, 27.0]\n",
      "Episode 100, Average Score: 23.80\n",
      "Thompson params - Alpha: [11.81 10.43], Beta: [159.019 143.357]\n",
      "Thompson Params - Alpha: [11.81 10.43], Beta: [159.019 143.357]\n",
      "Action Means: [0.06913346 0.06782108], Action Variances: [0.00037452 0.00040844]\n",
      "[10.0, 19.0, 13.0, 22.0, 48.0, 11.0, 12.0, 42.0, 27.0, 36.0]\n",
      "[19.0, 13.0, 22.0, 48.0, 11.0, 12.0, 42.0, 27.0, 36.0, 20.0]\n",
      "[13.0, 22.0, 48.0, 11.0, 12.0, 42.0, 27.0, 36.0, 20.0, 11.0]\n",
      "[22.0, 48.0, 11.0, 12.0, 42.0, 27.0, 36.0, 20.0, 11.0, 43.0]\n",
      "[48.0, 11.0, 12.0, 42.0, 27.0, 36.0, 20.0, 11.0, 43.0, 43.0]\n",
      "[11.0, 12.0, 42.0, 27.0, 36.0, 20.0, 11.0, 43.0, 43.0, 36.0]\n",
      "[12.0, 42.0, 27.0, 36.0, 20.0, 11.0, 43.0, 43.0, 36.0, 17.0]\n",
      "[42.0, 27.0, 36.0, 20.0, 11.0, 43.0, 43.0, 36.0, 17.0, 29.0]\n",
      "[27.0, 36.0, 20.0, 11.0, 43.0, 43.0, 36.0, 17.0, 29.0, 15.0]\n",
      "[36.0, 20.0, 11.0, 43.0, 43.0, 36.0, 17.0, 29.0, 15.0, 51.0]\n",
      "Episode 110, Average Score: 30.10\n",
      "Thompson params - Alpha: [13.26 11.89], Beta: [176.374 164.811]\n",
      "Thompson Params - Alpha: [13.26 11.89], Beta: [176.374 164.811]\n",
      "Action Means: [0.06992417 0.06728881], Action Variances: [0.00034115 0.00035318]\n",
      "[20.0, 11.0, 43.0, 43.0, 36.0, 17.0, 29.0, 15.0, 51.0, 24.0]\n",
      "[11.0, 43.0, 43.0, 36.0, 17.0, 29.0, 15.0, 51.0, 24.0, 28.0]\n",
      "[43.0, 43.0, 36.0, 17.0, 29.0, 15.0, 51.0, 24.0, 28.0, 15.0]\n",
      "[43.0, 36.0, 17.0, 29.0, 15.0, 51.0, 24.0, 28.0, 15.0, 15.0]\n",
      "[36.0, 17.0, 29.0, 15.0, 51.0, 24.0, 28.0, 15.0, 15.0, 19.0]\n",
      "[17.0, 29.0, 15.0, 51.0, 24.0, 28.0, 15.0, 15.0, 19.0, 13.0]\n",
      "[29.0, 15.0, 51.0, 24.0, 28.0, 15.0, 15.0, 19.0, 13.0, 32.0]\n",
      "[15.0, 51.0, 24.0, 28.0, 15.0, 15.0, 19.0, 13.0, 32.0, 9.0]\n",
      "[51.0, 24.0, 28.0, 15.0, 15.0, 19.0, 13.0, 32.0, 9.0, 36.0]\n",
      "[24.0, 28.0, 15.0, 15.0, 19.0, 13.0, 32.0, 9.0, 36.0, 13.0]\n",
      "Episode 120, Average Score: 20.40\n",
      "Thompson params - Alpha: [14.18 12.91], Beta: [188.482 181.909]\n",
      "Thompson Params - Alpha: [14.18 12.91], Beta: [188.482 181.909]\n",
      "Action Means: [0.06996872 0.06626664], Action Variances: [0.00031952 0.00031598]\n",
      "[28.0, 15.0, 15.0, 19.0, 13.0, 32.0, 9.0, 36.0, 13.0, 29.0]\n",
      "[15.0, 15.0, 19.0, 13.0, 32.0, 9.0, 36.0, 13.0, 29.0, 16.0]\n",
      "[15.0, 19.0, 13.0, 32.0, 9.0, 36.0, 13.0, 29.0, 16.0, 21.0]\n",
      "[19.0, 13.0, 32.0, 9.0, 36.0, 13.0, 29.0, 16.0, 21.0, 10.0]\n",
      "[13.0, 32.0, 9.0, 36.0, 13.0, 29.0, 16.0, 21.0, 10.0, 13.0]\n",
      "[32.0, 9.0, 36.0, 13.0, 29.0, 16.0, 21.0, 10.0, 13.0, 15.0]\n",
      "[9.0, 36.0, 13.0, 29.0, 16.0, 21.0, 10.0, 13.0, 15.0, 18.0]\n",
      "[36.0, 13.0, 29.0, 16.0, 21.0, 10.0, 13.0, 15.0, 18.0, 24.0]\n",
      "[13.0, 29.0, 16.0, 21.0, 10.0, 13.0, 15.0, 18.0, 24.0, 9.0]\n",
      "[29.0, 16.0, 21.0, 10.0, 13.0, 15.0, 18.0, 24.0, 9.0, 19.0]\n",
      "Episode 130, Average Score: 17.40\n",
      "Thompson params - Alpha: [15.02 13.71], Beta: [200.798 195.829]\n",
      "Thompson Params - Alpha: [15.02 13.71], Beta: [200.798 195.829]\n",
      "Action Means: [0.06959568 0.06542935], Action Variances: [0.00029865 0.00029044]\n",
      "[16.0, 21.0, 10.0, 13.0, 15.0, 18.0, 24.0, 9.0, 19.0, 30.0]\n",
      "[21.0, 10.0, 13.0, 15.0, 18.0, 24.0, 9.0, 19.0, 30.0, 26.0]\n",
      "[10.0, 13.0, 15.0, 18.0, 24.0, 9.0, 19.0, 30.0, 26.0, 22.0]\n",
      "[13.0, 15.0, 18.0, 24.0, 9.0, 19.0, 30.0, 26.0, 22.0, 15.0]\n",
      "[15.0, 18.0, 24.0, 9.0, 19.0, 30.0, 26.0, 22.0, 15.0, 45.0]\n",
      "[18.0, 24.0, 9.0, 19.0, 30.0, 26.0, 22.0, 15.0, 45.0, 16.0]\n",
      "[24.0, 9.0, 19.0, 30.0, 26.0, 22.0, 15.0, 45.0, 16.0, 26.0]\n",
      "[9.0, 19.0, 30.0, 26.0, 22.0, 15.0, 45.0, 16.0, 26.0, 31.0]\n",
      "[19.0, 30.0, 26.0, 22.0, 15.0, 45.0, 16.0, 26.0, 31.0, 50.0]\n",
      "[30.0, 26.0, 22.0, 15.0, 45.0, 16.0, 26.0, 31.0, 50.0, 13.0]\n",
      "Episode 140, Average Score: 27.40\n",
      "Thompson params - Alpha: [16.22 15.15], Beta: [217.678 215.085]\n",
      "Thompson Params - Alpha: [16.22 15.15], Beta: [217.678 215.085]\n",
      "Action Means: [0.06934647 0.06580233], Action Variances: [0.00027475 0.00026584]\n",
      "[26.0, 22.0, 15.0, 45.0, 16.0, 26.0, 31.0, 50.0, 13.0, 13.0]\n",
      "[22.0, 15.0, 45.0, 16.0, 26.0, 31.0, 50.0, 13.0, 13.0, 44.0]\n",
      "[15.0, 45.0, 16.0, 26.0, 31.0, 50.0, 13.0, 13.0, 44.0, 26.0]\n",
      "[45.0, 16.0, 26.0, 31.0, 50.0, 13.0, 13.0, 44.0, 26.0, 15.0]\n",
      "[16.0, 26.0, 31.0, 50.0, 13.0, 13.0, 44.0, 26.0, 15.0, 18.0]\n",
      "[26.0, 31.0, 50.0, 13.0, 13.0, 44.0, 26.0, 15.0, 18.0, 14.0]\n",
      "[31.0, 50.0, 13.0, 13.0, 44.0, 26.0, 15.0, 18.0, 14.0, 28.0]\n",
      "[50.0, 13.0, 13.0, 44.0, 26.0, 15.0, 18.0, 14.0, 28.0, 17.0]\n",
      "[13.0, 13.0, 44.0, 26.0, 15.0, 18.0, 14.0, 28.0, 17.0, 18.0]\n",
      "[13.0, 44.0, 26.0, 15.0, 18.0, 14.0, 28.0, 17.0, 18.0, 64.0]\n",
      "Episode 150, Average Score: 25.70\n",
      "Thompson params - Alpha: [17.51 16.33], Beta: [236.449 230.767]\n",
      "Thompson Params - Alpha: [17.51 16.33], Beta: [236.449 230.767]\n",
      "Action Means: [0.06894814 0.06608741], Action Variances: [0.00025178 0.00024877]\n",
      "[44.0, 26.0, 15.0, 18.0, 14.0, 28.0, 17.0, 18.0, 64.0, 10.0]\n",
      "[26.0, 15.0, 18.0, 14.0, 28.0, 17.0, 18.0, 64.0, 10.0, 36.0]\n",
      "[15.0, 18.0, 14.0, 28.0, 17.0, 18.0, 64.0, 10.0, 36.0, 14.0]\n",
      "[18.0, 14.0, 28.0, 17.0, 18.0, 64.0, 10.0, 36.0, 14.0, 18.0]\n",
      "[14.0, 28.0, 17.0, 18.0, 64.0, 10.0, 36.0, 14.0, 18.0, 24.0]\n",
      "[28.0, 17.0, 18.0, 64.0, 10.0, 36.0, 14.0, 18.0, 24.0, 9.0]\n",
      "[17.0, 18.0, 64.0, 10.0, 36.0, 14.0, 18.0, 24.0, 9.0, 18.0]\n",
      "[18.0, 64.0, 10.0, 36.0, 14.0, 18.0, 24.0, 9.0, 18.0, 60.0]\n",
      "[64.0, 10.0, 36.0, 14.0, 18.0, 24.0, 9.0, 18.0, 60.0, 14.0]\n",
      "[10.0, 36.0, 14.0, 18.0, 24.0, 9.0, 18.0, 60.0, 14.0, 12.0]\n",
      "Episode 160, Average Score: 21.50\n",
      "Thompson params - Alpha: [18.43 17.46], Beta: [252.557 244.954]\n",
      "Thompson Params - Alpha: [18.43 17.46], Beta: [252.557 244.954]\n",
      "Action Means: [0.06801064 0.06653608], Action Variances: [0.00023304 0.00023578]\n",
      "[36.0, 14.0, 18.0, 24.0, 9.0, 18.0, 60.0, 14.0, 12.0, 15.0]\n",
      "[14.0, 18.0, 24.0, 9.0, 18.0, 60.0, 14.0, 12.0, 15.0, 13.0]\n",
      "[18.0, 24.0, 9.0, 18.0, 60.0, 14.0, 12.0, 15.0, 13.0, 12.0]\n",
      "[24.0, 9.0, 18.0, 60.0, 14.0, 12.0, 15.0, 13.0, 12.0, 15.0]\n",
      "[9.0, 18.0, 60.0, 14.0, 12.0, 15.0, 13.0, 12.0, 15.0, 12.0]\n",
      "[18.0, 60.0, 14.0, 12.0, 15.0, 13.0, 12.0, 15.0, 12.0, 47.0]\n",
      "[60.0, 14.0, 12.0, 15.0, 13.0, 12.0, 15.0, 12.0, 47.0, 22.0]\n",
      "[14.0, 12.0, 15.0, 13.0, 12.0, 15.0, 12.0, 47.0, 22.0, 36.0]\n",
      "[12.0, 15.0, 13.0, 12.0, 15.0, 12.0, 47.0, 22.0, 36.0, 20.0]\n",
      "[15.0, 13.0, 12.0, 15.0, 12.0, 47.0, 22.0, 36.0, 20.0, 15.0]\n",
      "Episode 170, Average Score: 20.70\n",
      "Thompson params - Alpha: [19.48 18.38], Beta: [267.952 259.062]\n",
      "Thompson Params - Alpha: [19.48 18.38], Beta: [267.952 259.062]\n",
      "Action Means: [0.06777255 0.06624808], Action Variances: [0.00021904 0.00022216]\n",
      "[13.0, 12.0, 15.0, 12.0, 47.0, 22.0, 36.0, 20.0, 15.0, 19.0]\n",
      "[12.0, 15.0, 12.0, 47.0, 22.0, 36.0, 20.0, 15.0, 19.0, 24.0]\n",
      "[15.0, 12.0, 47.0, 22.0, 36.0, 20.0, 15.0, 19.0, 24.0, 31.0]\n",
      "[12.0, 47.0, 22.0, 36.0, 20.0, 15.0, 19.0, 24.0, 31.0, 25.0]\n",
      "[47.0, 22.0, 36.0, 20.0, 15.0, 19.0, 24.0, 31.0, 25.0, 25.0]\n",
      "[22.0, 36.0, 20.0, 15.0, 19.0, 24.0, 31.0, 25.0, 25.0, 34.0]\n",
      "[36.0, 20.0, 15.0, 19.0, 24.0, 31.0, 25.0, 25.0, 34.0, 26.0]\n",
      "[20.0, 15.0, 19.0, 24.0, 31.0, 25.0, 25.0, 34.0, 26.0, 53.0]\n",
      "[15.0, 19.0, 24.0, 31.0, 25.0, 25.0, 34.0, 26.0, 53.0, 25.0]\n",
      "[19.0, 24.0, 31.0, 25.0, 25.0, 34.0, 26.0, 53.0, 25.0, 15.0]\n",
      "Episode 180, Average Score: 27.70\n",
      "Thompson params - Alpha: [20.79 19.74], Beta: [282.921 280.526]\n",
      "Thompson Params - Alpha: [20.79 19.74], Beta: [282.921 280.526]\n",
      "Action Means: [0.06845323 0.06574171], Action Variances: [0.00020927 0.00020387]\n",
      "[24.0, 31.0, 25.0, 25.0, 34.0, 26.0, 53.0, 25.0, 15.0, 25.0]\n",
      "[31.0, 25.0, 25.0, 34.0, 26.0, 53.0, 25.0, 15.0, 25.0, 34.0]\n",
      "[25.0, 25.0, 34.0, 26.0, 53.0, 25.0, 15.0, 25.0, 34.0, 45.0]\n",
      "[25.0, 34.0, 26.0, 53.0, 25.0, 15.0, 25.0, 34.0, 45.0, 17.0]\n"
     ]
    },
    {
     "ename": "KeyboardInterrupt",
     "evalue": "",
     "output_type": "error",
     "traceback": [
      "\u001b[0;31m---------------------------------------------------------------------------\u001b[0m",
      "\u001b[0;31mKeyboardInterrupt\u001b[0m                         Traceback (most recent call last)",
      "\u001b[0;32m<ipython-input-3-ada0da95be2a>\u001b[0m in \u001b[0;36m<cell line: 258>\u001b[0;34m()\u001b[0m\n\u001b[1;32m    261\u001b[0m     \u001b[0mrandom\u001b[0m\u001b[0;34m.\u001b[0m\u001b[0mseed\u001b[0m\u001b[0;34m(\u001b[0m\u001b[0;36m1\u001b[0m\u001b[0;34m)\u001b[0m\u001b[0;34m\u001b[0m\u001b[0;34m\u001b[0m\u001b[0m\n\u001b[1;32m    262\u001b[0m \u001b[0;34m\u001b[0m\u001b[0m\n\u001b[0;32m--> 263\u001b[0;31m     \u001b[0magent\u001b[0m\u001b[0;34m,\u001b[0m \u001b[0mscores\u001b[0m \u001b[0;34m=\u001b[0m \u001b[0mtrain\u001b[0m\u001b[0;34m(\u001b[0m\u001b[0mepisodes\u001b[0m\u001b[0;34m=\u001b[0m\u001b[0;36m1000\u001b[0m\u001b[0;34m)\u001b[0m\u001b[0;34m\u001b[0m\u001b[0;34m\u001b[0m\u001b[0m\n\u001b[0m\u001b[1;32m    264\u001b[0m \u001b[0;34m\u001b[0m\u001b[0m\n\u001b[1;32m    265\u001b[0m     \u001b[0;32mimport\u001b[0m \u001b[0mmatplotlib\u001b[0m\u001b[0;34m.\u001b[0m\u001b[0mpyplot\u001b[0m \u001b[0;32mas\u001b[0m \u001b[0mplt\u001b[0m\u001b[0;34m\u001b[0m\u001b[0;34m\u001b[0m\u001b[0m\n",
      "\u001b[0;32m<ipython-input-3-ada0da95be2a>\u001b[0m in \u001b[0;36mtrain\u001b[0;34m(env_name, episodes, max_steps)\u001b[0m\n\u001b[1;32m    233\u001b[0m \u001b[0;34m\u001b[0m\u001b[0m\n\u001b[1;32m    234\u001b[0m             \u001b[0;32mif\u001b[0m \u001b[0mlen\u001b[0m\u001b[0;34m(\u001b[0m\u001b[0magent\u001b[0m\u001b[0;34m.\u001b[0m\u001b[0mmemory\u001b[0m\u001b[0;34m)\u001b[0m \u001b[0;34m>=\u001b[0m \u001b[0magent\u001b[0m\u001b[0;34m.\u001b[0m\u001b[0mbatch_size\u001b[0m \u001b[0;34m*\u001b[0m \u001b[0;36m2\u001b[0m\u001b[0;34m:\u001b[0m\u001b[0;34m\u001b[0m\u001b[0;34m\u001b[0m\u001b[0m\n\u001b[0;32m--> 235\u001b[0;31m                 \u001b[0magent\u001b[0m\u001b[0;34m.\u001b[0m\u001b[0mmeta_update\u001b[0m\u001b[0;34m(\u001b[0m\u001b[0;34m)\u001b[0m\u001b[0;34m\u001b[0m\u001b[0;34m\u001b[0m\u001b[0m\n\u001b[0m\u001b[1;32m    236\u001b[0m \u001b[0;34m\u001b[0m\u001b[0m\n\u001b[1;32m    237\u001b[0m             \u001b[0mtotal_reward\u001b[0m \u001b[0;34m+=\u001b[0m \u001b[0mreward\u001b[0m\u001b[0;34m\u001b[0m\u001b[0;34m\u001b[0m\u001b[0m\n",
      "\u001b[0;32m<ipython-input-3-ada0da95be2a>\u001b[0m in \u001b[0;36mmeta_update\u001b[0;34m(self)\u001b[0m\n\u001b[1;32m    196\u001b[0m             \u001b[0mself\u001b[0m\u001b[0;34m.\u001b[0m\u001b[0mmeta_policy\u001b[0m\u001b[0;34m.\u001b[0m\u001b[0mset_params\u001b[0m\u001b[0;34m(\u001b[0m\u001b[0mupdated_params\u001b[0m\u001b[0;34m)\u001b[0m\u001b[0;34m\u001b[0m\u001b[0;34m\u001b[0m\u001b[0m\n\u001b[1;32m    197\u001b[0m \u001b[0;34m\u001b[0m\u001b[0m\n\u001b[0;32m--> 198\u001b[0;31m             \u001b[0mtask_meta_loss\u001b[0m \u001b[0;34m=\u001b[0m \u001b[0mself\u001b[0m\u001b[0;34m.\u001b[0m\u001b[0mcompute_loss\u001b[0m\u001b[0;34m(\u001b[0m\u001b[0mstates\u001b[0m\u001b[0;34m,\u001b[0m \u001b[0mactions\u001b[0m\u001b[0;34m,\u001b[0m \u001b[0mrewards\u001b[0m\u001b[0;34m)\u001b[0m\u001b[0;34m\u001b[0m\u001b[0;34m\u001b[0m\u001b[0m\n\u001b[0m\u001b[1;32m    199\u001b[0m             \u001b[0mmeta_loss\u001b[0m \u001b[0;34m+=\u001b[0m \u001b[0mtask_meta_loss\u001b[0m\u001b[0;34m\u001b[0m\u001b[0;34m\u001b[0m\u001b[0m\n\u001b[1;32m    200\u001b[0m \u001b[0;34m\u001b[0m\u001b[0m\n",
      "\u001b[0;31mKeyboardInterrupt\u001b[0m: "
     ]
    }
   ],
   "source": [
    "import numpy as np\n",
    "import torch\n",
    "import torch.nn as nn\n",
    "import torch.nn.functional as F\n",
    "import torch.optim as optim\n",
    "import gymnasium as gym\n",
    "from collections import deque, OrderedDict\n",
    "import random\n",
    "from copy import deepcopy\n",
    "\n",
    "class PolicyNetwork(nn.Module):\n",
    "    def __init__(self, input_size, hidden_size, output_size):\n",
    "        super(PolicyNetwork, self).__init__()\n",
    "        self.fc1 = nn.Linear(input_size, hidden_size)\n",
    "        self.fc2 = nn.Linear(hidden_size, hidden_size)\n",
    "        self.fc3 = nn.Linear(hidden_size, hidden_size)\n",
    "        self.fc4 = nn.Linear(hidden_size, hidden_size)\n",
    "        self.fc5 = nn.Linear(hidden_size, output_size)\n",
    "\n",
    "        # Initialize weights\n",
    "        for layer in [self.fc1, self.fc2, self.fc3]:\n",
    "            nn.init.xavier_uniform_(layer.weight)\n",
    "            nn.init.zeros_(layer.bias)\n",
    "\n",
    "    def forward(self, x, thompson_probs=None):\n",
    "        x = F.relu(self.fc1(x))\n",
    "        x = F.relu(self.fc2(x))\n",
    "        x = F.relu(self.fc3(x))\n",
    "        x = F.relu(self.fc4(x))\n",
    "        action_probs = F.softmax(self.fc5(x), dim=-1)\n",
    "\n",
    "        # Incorporate Thompson sampling probabilities\n",
    "        if thompson_probs is not None:\n",
    "            action_probs = action_probs * thompson_probs\n",
    "            action_probs = action_probs / (action_probs.sum() + 1e-10)\n",
    "\n",
    "        return action_probs\n",
    "\n",
    "class MetaPolicy:\n",
    "    def __init__(self, policy):\n",
    "        self.policy = policy\n",
    "        self.params = OrderedDict(policy.named_parameters())\n",
    "\n",
    "    def update_params(self, loss, step_size=0.1, first_order=False):\n",
    "        grads = torch.autograd.grad(loss, self.params.values(),\n",
    "                                    create_graph=not first_order)\n",
    "        updated_params = OrderedDict()\n",
    "        for (name, param), grad in zip(self.params.items(), grads):\n",
    "            updated_params[name] = param - step_size * grad.clamp(-1, 1)  # Gradient clipping\n",
    "        return updated_params\n",
    "\n",
    "    def set_params(self, params):\n",
    "        for name, param in self.policy.named_parameters():\n",
    "            param.data = params[name].data.clone()\n",
    "\n",
    "class ThompsonMAML:\n",
    "    def __init__(self, state_dim, action_dim, hidden_dim=256,\n",
    "                 inner_lr=0.01, meta_lr=0.001,\n",
    "                 num_tasks=5, k_shots=20,\n",
    "                 memory_size=10000, batch_size=1024,\n",
    "                 gamma=0.99, epsilon=0.1):\n",
    "        self.device = torch.device(\"cuda\" if torch.cuda.is_available() else \"cpu\")\n",
    "\n",
    "        self.policy = PolicyNetwork(state_dim, hidden_dim, action_dim).to(self.device)\n",
    "        self.meta_policy = MetaPolicy(self.policy)\n",
    "        self.meta_optimizer = optim.Adam(self.policy.parameters(), lr=meta_lr)\n",
    "\n",
    "        self.inner_lr = inner_lr\n",
    "\n",
    "        self.memory = deque(maxlen=memory_size)\n",
    "        self.batch_size = batch_size\n",
    "\n",
    "        self.gamma = gamma\n",
    "        self.epsilon = epsilon\n",
    "        self.num_tasks = num_tasks\n",
    "        self.k_shots = k_shots\n",
    "        self.state_dim = state_dim\n",
    "        self.action_dim = action_dim\n",
    "\n",
    "        self.epsilon = 0.5\n",
    "        self.epsilon_min = 0.1\n",
    "        self.epsilon_decay = 0.99\n",
    "\n",
    "        # Reward normalization using moving averages\n",
    "        self.reward_mean = 0\n",
    "        self.reward_std = 1\n",
    "        self.reward_ema_alpha = 0.1  # Smoothing factor for exponential moving average\n",
    "\n",
    "        self.alpha = np.ones(action_dim) * 1.0\n",
    "        self.beta = np.ones(action_dim) * 1.0\n",
    "\n",
    "        # Add reward scaling\n",
    "        self.reward_scale = 0.1\n",
    "\n",
    "        # Episode statistics\n",
    "        self.current_episode_length = 0\n",
    "        self.max_episode_length = 500  # Typical max length for CartPole\n",
    "\n",
    "    def select_action(self, state, thompson=True):\n",
    "        with torch.no_grad():\n",
    "            state = torch.FloatTensor(state).unsqueeze(0).to(self.device)\n",
    "\n",
    "            if thompson:\n",
    "                # Sample Thompson probabilities\n",
    "                thompson_probs = np.array([np.random.beta(self.alpha[i], self.beta[i])\n",
    "                                           for i in range(self.action_dim)])\n",
    "                thompson_probs = torch.FloatTensor(thompson_probs).to(self.device)\n",
    "\n",
    "                # Get policy probabilities incorporating Thompson sampling\n",
    "                probs = self.policy(state, thompson_probs).cpu().numpy()[0]\n",
    "            else:\n",
    "                probs = self.policy(state).cpu().numpy()[0]\n",
    "\n",
    "            if random.random() < self.epsilon:\n",
    "                return random.randrange(self.action_dim)\n",
    "            return np.argmax(probs)\n",
    "\n",
    "    def normalize_reward(self, reward):\n",
    "        self.reward_mean = (1 - self.reward_ema_alpha) * self.reward_mean + self.reward_ema_alpha * reward\n",
    "        self.reward_std = (1 - self.reward_ema_alpha) * self.reward_std + self.reward_ema_alpha * abs(reward - self.reward_mean)\n",
    "        return (reward - self.reward_mean) / (self.reward_std + 1e-8)\n",
    "\n",
    "    def store_transition(self, state, action, reward, next_state, done):\n",
    "        # Normalize rewards before storing\n",
    "        normalized_reward = self.normalize_reward(reward)\n",
    "        self.memory.append((state, action, normalized_reward, next_state, done))\n",
    "\n",
    "        self.current_episode_length += 1\n",
    "\n",
    "        # Balanced Thompson updates\n",
    "        if done:\n",
    "            success = self.current_episode_length >= self.max_episode_length\n",
    "            update_value = self.reward_scale * (1.0 if success else 0.0)\n",
    "\n",
    "            self.alpha[action] += update_value\n",
    "            self.beta[action] += (1.0 - update_value)\n",
    "\n",
    "            self.current_episode_length = 0\n",
    "        else:\n",
    "            # Smaller intermediate updates\n",
    "            step_reward = max(0, reward * self.reward_scale * 0.1)\n",
    "            self.alpha[action] += step_reward\n",
    "            self.beta[action] += (1.0 - step_reward) * 0.1\n",
    "\n",
    "    def prepare_batch(self, batch):\n",
    "        states = torch.FloatTensor([t[0] for t in batch]).to(self.device)\n",
    "        actions = torch.LongTensor([t[1] for t in batch]).to(self.device)\n",
    "        rewards = torch.FloatTensor([t[2] for t in batch]).to(self.device)\n",
    "        next_states = torch.FloatTensor([t[3] for t in batch]).to(self.device)\n",
    "        dones = torch.FloatTensor([t[4] for t in batch]).to(self.device)\n",
    "        return states, actions, rewards, next_states, dones\n",
    "\n",
    "    def compute_loss(self, states, actions, rewards, policy=None):\n",
    "        if policy is None:\n",
    "            policy = self.policy\n",
    "\n",
    "        # Scale rewards for loss computation\n",
    "        scaled_rewards = rewards * self.reward_scale\n",
    "\n",
    "        thompson_probs = np.array([[np.random.beta(self.alpha[i], self.beta[i])\n",
    "                                    for i in range(self.action_dim)]\n",
    "                                   for _ in range(states.size(0))])\n",
    "        thompson_probs = torch.FloatTensor(thompson_probs).to(self.device)\n",
    "\n",
    "        probs = policy(states, thompson_probs)\n",
    "        log_probs = torch.log(probs + 1e-10)\n",
    "        action_log_probs = log_probs.gather(1, actions.unsqueeze(1)).squeeze()\n",
    "\n",
    "        # Increased entropy coefficient for better exploration\n",
    "        entropy = -(probs * log_probs).sum(-1).mean()\n",
    "\n",
    "        return -(action_log_probs * scaled_rewards).mean() - 0.05 * entropy\n",
    "\n",
    "    def inner_loop_update(self, task_batch):\n",
    "        states, actions, rewards, _, _ = self.prepare_batch(task_batch)\n",
    "        loss = self.compute_loss(states, actions, rewards)\n",
    "        return self.meta_policy.update_params(loss, self.inner_lr)\n",
    "\n",
    "    def meta_update(self):\n",
    "        if len(self.memory) < self.batch_size * 2:\n",
    "            return\n",
    "\n",
    "        self.meta_optimizer.zero_grad()\n",
    "        meta_loss = 0\n",
    "\n",
    "        for _ in range(self.num_tasks):\n",
    "            start_idx = random.randint(0, len(self.memory) - self.batch_size * 2)\n",
    "            task_batch = list(self.memory)[start_idx:start_idx + self.batch_size]\n",
    "            eval_batch = list(self.memory)[start_idx + self.batch_size:start_idx + self.batch_size * 2]\n",
    "\n",
    "            updated_params = self.inner_loop_update(task_batch)\n",
    "            states, actions, rewards, _, _ = self.prepare_batch(eval_batch)\n",
    "\n",
    "            old_params = OrderedDict((name, param.clone())\n",
    "                                     for name, param in self.policy.named_parameters())\n",
    "            self.meta_policy.set_params(updated_params)\n",
    "\n",
    "            task_meta_loss = self.compute_loss(states, actions, rewards)\n",
    "            meta_loss += task_meta_loss\n",
    "\n",
    "            self.meta_policy.set_params(old_params)\n",
    "\n",
    "        meta_loss = meta_loss / self.num_tasks\n",
    "        meta_loss.backward()\n",
    "\n",
    "        torch.nn.utils.clip_grad_norm_(self.policy.parameters(), 1.0)\n",
    "        self.meta_optimizer.step()\n",
    "\n",
    "    def log_thompson_params(self):\n",
    "      means = self.alpha / (self.alpha + self.beta)\n",
    "      variances = (self.alpha * self.beta) / ((self.alpha + self.beta) ** 2 * (self.alpha + self.beta + 1))\n",
    "      print(f\"Thompson Params - Alpha: {self.alpha}, Beta: {self.beta}\")\n",
    "      print(f\"Action Means: {means}, Action Variances: {variances}\")\n",
    "\n",
    "def train(env_name='CartPole-v1', episodes=1000, max_steps=500):\n",
    "    env = gym.make(env_name)\n",
    "    state_dim = env.observation_space.shape[0]\n",
    "    action_dim = env.action_space.n\n",
    "\n",
    "    agent = ThompsonMAML(state_dim, action_dim)\n",
    "    scores = []\n",
    "\n",
    "    for episode in range(episodes):\n",
    "        state = env.reset()\n",
    "        total_reward = 0\n",
    "\n",
    "        for step in range(max_steps):\n",
    "            action = agent.select_action(state)\n",
    "            next_state, reward, done, _ = env.step(action)\n",
    "            #print(\"REWARDS\", reward)\n",
    "\n",
    "            agent.store_transition(state, action, reward, next_state, done)\n",
    "\n",
    "            if len(agent.memory) >= agent.batch_size * 2:\n",
    "                agent.meta_update()\n",
    "\n",
    "            total_reward += reward\n",
    "            state = next_state\n",
    "\n",
    "            if done:\n",
    "                break\n",
    "        scores.append(total_reward)\n",
    "\n",
    "        agent.epsilon = max(agent.epsilon_min, agent.epsilon * agent.epsilon_decay)\n",
    "        print(scores[-10:])\n",
    "        if (episode + 1) % 10 == 0:\n",
    "            avg_score = np.mean(scores[-10:])\n",
    "            print(f\"Episode {episode + 1}, Average Score: {avg_score:.2f}\")\n",
    "            print(f\"Thompson params - Alpha: {agent.alpha}, Beta: {agent.beta}\")\n",
    "\n",
    "            if avg_score >= 195.0:\n",
    "                print(f\"Environment solved in {episode + 1} episodes!\")\n",
    "                break\n",
    "            agent.log_thompson_params()  # Log means and variances\n",
    "\n",
    "    return agent, scores\n",
    "\n",
    "if __name__ == \"__main__\":\n",
    "    torch.manual_seed(1)\n",
    "    np.random.seed(1)\n",
    "    random.seed(1)\n",
    "\n",
    "    agent, scores = train(episodes=1000)\n",
    "\n",
    "    import matplotlib.pyplot as plt\n",
    "    plt.figure(figsize=(12, 4))\n",
    "\n",
    "    plt.subplot(1, 2, 1)\n",
    "    plt.plot(scores)\n",
    "    plt.title('Training Progress')\n",
    "    plt.xlabel('Episode')\n",
    "    plt.ylabel('Score')\n",
    "\n",
    "    plt.subplot(1, 2, 2)\n",
    "    x = np.linspace(0, 1, 100)\n",
    "    for i in range(agent.action_dim):\n",
    "        plt.hist(np.random.beta(agent.alpha[i], agent.beta[i], 1000),\n",
    "                bins=30, alpha=0.5, label=f'Action {i}')\n",
    "    plt.title('Thompson Sampling Distributions')\n",
    "    plt.xlabel('Probability')\n",
    "    plt.ylabel('Frequency')\n",
    "    plt.legend()\n",
    "\n",
    "    plt.tight_layout()\n",
    "    plt.show()\n"
   ]
  },
  {
   "cell_type": "code",
   "execution_count": 1,
   "metadata": {},
   "outputs": [],
   "source": [
    "'''THE GROKFAST IMPLEMENTATION\n",
    "\n",
    "see https://github.com/ironjr/grokfast for a reference\n",
    "there also is a accompanying paper\n",
    "'''\n",
    "\n",
    "from collections import deque\n",
    "from typing import Dict, Optional, Literal\n",
    "import torch\n",
    "import torch.nn as nn\n",
    "\n",
    "\n",
    "def gradfilter_ma(\n",
    "    m: nn.Module,\n",
    "    grads: Optional[Dict[str, deque]] = None,\n",
    "    window_size: int = 100,\n",
    "    lamb: float = 5.0,\n",
    "    filter_type: Literal['mean', 'sum'] = 'mean',\n",
    "    warmup: bool = True,\n",
    "    trigger: bool = False, # For ablation study.\n",
    ") -> Dict[str, deque]:\n",
    "    if grads is None:\n",
    "        grads = {n: deque(maxlen=window_size) for n, p in m.named_parameters() if p.requires_grad and p.grad is not None}\n",
    "\n",
    "    for n, p in m.named_parameters():\n",
    "        if p.requires_grad and p.grad is not None:\n",
    "            grads[n].append(p.grad.data.detach()) # .cpu())\n",
    "\n",
    "            # Modify the gradients.\n",
    "            if not warmup or len(grads[n]) == window_size and not trigger:\n",
    "                if filter_type == \"mean\":\n",
    "                    avg = sum(grads[n]) / len(grads[n])\n",
    "                elif filter_type == \"sum\":\n",
    "                    avg = sum(grads[n])\n",
    "                else:\n",
    "                    raise ValueError(f\"Unrecognized filter_type {filter_type}\")\n",
    "                p.grad.data = p.grad.data + avg * lamb\n",
    "\n",
    "    return grads\n",
    "\n",
    "\n",
    "def gradfilter_ema(\n",
    "    m: nn.Module,\n",
    "    grads: Optional[Dict[str, torch.Tensor]] = None,\n",
    "    alpha: float = 0.98,\n",
    "    lamb: float = 2.0,\n",
    ") -> Dict[str, torch.Tensor]:\n",
    "    if grads is None:\n",
    "        grads = {n: p.grad.data.detach() for n, p in m.named_parameters() if p.requires_grad and p.grad is not None}\n",
    "\n",
    "    for n, p in m.named_parameters():\n",
    "        if p.requires_grad and p.grad is not None:\n",
    "            grads[n] = grads[n] * alpha + p.grad.data.detach() * (1 - alpha)\n",
    "            p.grad.data = p.grad.data + grads[n] * lamb\n",
    "\n",
    "    return grads"
   ]
  },
  {
   "cell_type": "code",
   "execution_count": null,
   "metadata": {
    "colab": {
     "base_uri": "https://localhost:8080/",
     "height": 906
    },
    "id": "nw0HzIJq8BUO",
    "outputId": "93f981ff-b859-41bb-bef3-6e9be8a97149"
   },
   "outputs": [
    {
     "name": "stdout",
     "output_type": "stream",
     "text": [
      "Episode 10, Average Score: 22.5\n",
      "Episode 20, Average Score: 38.8\n",
      "Episode 30, Average Score: 199.6\n",
      "Episode 40, Average Score: 188.7\n",
      "Episode 50, Average Score: 181.6\n",
      "Episode 60, Average Score: 197.8\n",
      "Episode 70, Average Score: 193.3\n",
      "Episode 80, Average Score: 9.5\n",
      "Episode 90, Average Score: 9.5\n",
      "Episode 100, Average Score: 19.9\n",
      "Episode 110, Average Score: 10.7\n",
      "Episode 120, Average Score: 9.9\n",
      "Episode 130, Average Score: 148.4\n",
      "Episode 140, Average Score: 151.4\n",
      "Episode 150, Average Score: 122.5\n",
      "Episode 160, Average Score: 187.0\n",
      "Episode 170, Average Score: 129.9\n",
      "Episode 180, Average Score: 148.1\n",
      "Episode 190, Average Score: 106.7\n",
      "Episode 200, Average Score: 60.2\n",
      "Episode 210, Average Score: 160.2\n",
      "Episode 220, Average Score: 353.3\n",
      "Episode 230, Average Score: 324.6\n",
      "Episode 240, Average Score: 318.0\n",
      "Solved at Episode 242\n"
     ]
    },
    {
     "data": {
      "image/png": "[encoded data removed]",
      "text/plain": [
       "<Figure size 640x480 with 1 Axes>"
      ]
     },
     "metadata": {},
     "output_type": "display_data"
    }
   ],
   "source": [
    "import numpy as np\n",
    "import torch\n",
    "import torch.nn as nn\n",
    "import torch.nn.functional as F\n",
    "import torch.optim as optim\n",
    "import gymnasium as gym\n",
    "from collections import deque\n",
    "import random\n",
    "\n",
    "class QNetwork(nn.Module):\n",
    "    def __init__(self, state_dim, action_dim, hidden_dim=256):\n",
    "        super(QNetwork, self).__init__()\n",
    "        self.fc1 = nn.Linear(state_dim, hidden_dim)\n",
    "        self.fc2 = nn.Linear(hidden_dim, hidden_dim)\n",
    "        self.fc3 = nn.Linear(hidden_dim, action_dim)\n",
    "\n",
    "    def forward(self, state):\n",
    "        x = F.relu(self.fc1(state))\n",
    "        x = F.relu(self.fc2(x))\n",
    "        return self.fc3(x)  # Outputs Q-values for each action\n",
    "\n",
    "class DQNAgent:\n",
    "    def __init__(self, state_dim, action_dim, hidden_dim=256,\n",
    "                 gamma=0.99, epsilon=1.0, epsilon_min=0.1,\n",
    "                 epsilon_decay=0.995, lr=0.001, batch_size=64,\n",
    "                 memory_size=10000, target_update_freq=10):\n",
    "        self.device = torch.device(\"cuda\" if torch.cuda.is_available() else \"cpu\")\n",
    "        self.state_dim = state_dim\n",
    "        self.action_dim = action_dim\n",
    "        self.gamma = gamma\n",
    "        self.epsilon = epsilon\n",
    "        self.epsilon_min = epsilon_min\n",
    "        self.epsilon_decay = epsilon_decay\n",
    "        self.batch_size = batch_size\n",
    "        self.target_update_freq = target_update_freq\n",
    "\n",
    "        # Main Q-Network and Target Q-Network\n",
    "        self.q_network = QNetwork(state_dim, action_dim, hidden_dim).to(self.device)\n",
    "        self.target_network = QNetwork(state_dim, action_dim, hidden_dim).to(self.device)\n",
    "        self.target_network.load_state_dict(self.q_network.state_dict())\n",
    "        self.target_network.eval()\n",
    "\n",
    "        self.optimizer = optim.Adam(self.q_network.parameters(), lr=lr)\n",
    "        self.memory = deque(maxlen=memory_size)\n",
    "        self.learn_step_counter = 0\n",
    "\n",
    "    def select_action(self, state, greedy=False):\n",
    "        state = torch.FloatTensor(state).unsqueeze(0).to(self.device)\n",
    "        if greedy or random.random() > self.epsilon:\n",
    "            with torch.no_grad():\n",
    "                return torch.argmax(self.q_network(state)).item()\n",
    "        else:\n",
    "            return random.randrange(self.action_dim)\n",
    "\n",
    "    def store_transition(self, state, action, reward, next_state, done):\n",
    "        self.memory.append((state, action, reward, next_state, done))\n",
    "\n",
    "    def learn(self):\n",
    "        if len(self.memory) < self.batch_size:\n",
    "            return\n",
    "\n",
    "        batch = random.sample(self.memory, self.batch_size)\n",
    "        states, actions, rewards, next_states, dones = zip(*batch)\n",
    "\n",
    "        states = torch.FloatTensor(states).to(self.device)\n",
    "        actions = torch.LongTensor(actions).to(self.device)\n",
    "        rewards = torch.FloatTensor(rewards).to(self.device)\n",
    "        next_states = torch.FloatTensor(next_states).to(self.device)\n",
    "        dones = torch.FloatTensor(dones).to(self.device)\n",
    "\n",
    "        # Current Q-values\n",
    "        q_values = self.q_network(states)\n",
    "        q_values = q_values.gather(1, actions.unsqueeze(1)).squeeze()\n",
    "\n",
    "        # Target Q-values\n",
    "        with torch.no_grad():\n",
    "            max_next_q_values = self.target_network(next_states).max(1)[0]\n",
    "            target_q_values = rewards + (1 - dones) * self.gamma * max_next_q_values\n",
    "\n",
    "        # Loss and backpropagation\n",
    "        loss = F.mse_loss(q_values, target_q_values)\n",
    "        self.optimizer.zero_grad()\n",
    "        loss.backward()\n",
    "        self.optimizer.step()\n",
    "\n",
    "        # Update target network\n",
    "        self.learn_step_counter += 1\n",
    "        if self.learn_step_counter % self.target_update_freq == 0:\n",
    "            self.target_network.load_state_dict(self.q_network.state_dict())\n",
    "\n",
    "        # Decay epsilon\n",
    "        self.epsilon = max(self.epsilon_min, self.epsilon * self.epsilon_decay)\n",
    "\n",
    "def train_dqn(env_name='CartPole-v1', episodes=1000, max_steps=500):\n",
    "    env = gym.make(env_name)\n",
    "    state_dim = env.observation_space.shape[0]\n",
    "    action_dim = env.action_space.n\n",
    "\n",
    "    agent = DQNAgent(state_dim, action_dim)\n",
    "\n",
    "    scores = []\n",
    "    for episode in range(episodes):\n",
    "        state = env.reset()\n",
    "        total_reward = 0\n",
    "\n",
    "        for _ in range(max_steps):\n",
    "            action = agent.select_action(state)\n",
    "            next_state, reward, done, _ = env.step(action)\n",
    "\n",
    "            agent.store_transition(state, action, reward, next_state, done)\n",
    "            agent.learn()\n",
    "\n",
    "            total_reward += reward\n",
    "            state = next_state\n",
    "\n",
    "            if done:\n",
    "                break\n",
    "\n",
    "        scores.append(total_reward)\n",
    "        if (episode + 1) % 10 == 0:\n",
    "            avg_score = np.mean(scores[-10:])\n",
    "            print(f\"Episode {episode + 1}, Average Score: {avg_score}\")\n",
    "\n",
    "        # Check for solving criteria\n",
    "        if np.mean(scores[-100:]) >= 195.0:  # Solved when average score over last 100 episodes >= 195\n",
    "            print(f\"Solved at Episode {episode + 1}\")\n",
    "            break\n",
    "\n",
    "    return agent, scores\n",
    "\n",
    "if __name__ == \"__main__\":\n",
    "    torch.manual_seed(1)\n",
    "    np.random.seed(1)\n",
    "    random.seed(1)\n",
    "\n",
    "    agent, scores = train_dqn(episodes=1000)\n",
    "\n",
    "    import matplotlib.pyplot as plt\n",
    "    plt.plot(scores)\n",
    "    plt.title('DQN Training Progress')\n",
    "    plt.xlabel('Episode')\n",
    "    plt.ylabel('Score')\n",
    "    plt.show()\n"
   ]
  },
  {
   "cell_type": "code",
   "execution_count": null,
   "metadata": {
    "colab": {
     "base_uri": "https://localhost:8080/",
     "height": 715
    },
    "id": "NhHE3faqEOiG",
    "outputId": "a5c48b3d-4244-4bcb-da11-bf56851542a1"
   },
   "outputs": [
    {
     "name": "stdout",
     "output_type": "stream",
     "text": [
      "Episode 10, Average Score: 9.5\n",
      "Episode 20, Average Score: 9.5\n",
      "Episode 30, Average Score: 9.7\n",
      "Episode 40, Average Score: 13.9\n",
      "Episode 50, Average Score: 88.9\n",
      "Episode 60, Average Score: 275.1\n",
      "Episode 70, Average Score: 412.1\n",
      "Episode 80, Average Score: 228.6\n",
      "Episode 90, Average Score: 109.8\n",
      "Episode 100, Average Score: 66.9\n",
      "Episode 110, Average Score: 128.0\n",
      "Episode 120, Average Score: 290.3\n",
      "Episode 130, Average Score: 331.9\n",
      "Solved at Episode 131\n"
     ]
    },
    {
     "data": {
      "image/png": "[encoded data removed]",
      "text/plain": [
       "<Figure size 640x480 with 1 Axes>"
      ]
     },
     "metadata": {},
     "output_type": "display_data"
    }
   ],
   "source": [
    "import numpy as np\n",
    "import torch\n",
    "import torch.nn as nn\n",
    "import torch.nn.functional as F\n",
    "import torch.optim as optim\n",
    "import gymnasium as gym\n",
    "from collections import deque\n",
    "import random\n",
    "\n",
    "class QNetwork(nn.Module):\n",
    "    def __init__(self, state_dim, action_dim, hidden_dim=256):\n",
    "        super(QNetwork, self).__init__()\n",
    "        self.fc1 = nn.Linear(state_dim, hidden_dim)\n",
    "        self.fc2 = nn.Linear(hidden_dim, hidden_dim)\n",
    "        self.fc3 = nn.Linear(hidden_dim, action_dim)\n",
    "\n",
    "    def forward(self, state):\n",
    "        x = F.relu(self.fc1(state))\n",
    "        x = F.relu(self.fc2(x))\n",
    "        return self.fc3(x)  # Outputs Q-values for each action\n",
    "\n",
    "class ThompsonDQNAgent:\n",
    "    def __init__(self, state_dim, action_dim, hidden_dim=256,\n",
    "                 gamma=0.99, lr=0.001, batch_size=64,\n",
    "                 memory_size=10000, target_update_freq=10,\n",
    "                 initial_alpha=1.0, initial_beta=1.0):\n",
    "        self.device = torch.device(\"cuda\" if torch.cuda.is_available() else \"cpu\")\n",
    "        self.state_dim = state_dim\n",
    "        self.action_dim = action_dim\n",
    "        self.gamma = gamma\n",
    "        self.batch_size = batch_size\n",
    "        self.target_update_freq = target_update_freq\n",
    "\n",
    "        # Main Q-Network and Target Q-Network\n",
    "        self.q_network = QNetwork(state_dim, action_dim, hidden_dim).to(self.device)\n",
    "        self.target_network = QNetwork(state_dim, action_dim, hidden_dim).to(self.device)\n",
    "        self.target_network.load_state_dict(self.q_network.state_dict())\n",
    "        self.target_network.eval()\n",
    "\n",
    "        self.optimizer = optim.Adam(self.q_network.parameters(), lr=lr)\n",
    "        self.memory = deque(maxlen=memory_size)\n",
    "        self.learn_step_counter = 0\n",
    "\n",
    "        # Thompson Sampling parameters for each action\n",
    "        self.alpha = np.ones(action_dim) * initial_alpha\n",
    "        self.beta = np.ones(action_dim) * initial_beta\n",
    "\n",
    "    def select_action(self, state):\n",
    "        state = torch.FloatTensor(state).unsqueeze(0).to(self.device)\n",
    "\n",
    "        # Sample action probabilities using Beta distributions\n",
    "        sampled_probs = np.array([np.random.beta(self.alpha[a], self.beta[a]) for a in range(self.action_dim)])\n",
    "\n",
    "        # Select action with the highest sampled value\n",
    "        with torch.no_grad():\n",
    "            q_values = self.q_network(state).cpu().numpy()[0]\n",
    "            weighted_q_values = q_values * sampled_probs\n",
    "            return np.argmax(weighted_q_values)\n",
    "\n",
    "    def store_transition(self, state, action, reward, next_state, done):\n",
    "        self.memory.append((state, action, reward, next_state, done))\n",
    "\n",
    "        # Update Thompson Sampling parameters\n",
    "        if reward > 0:\n",
    "            self.alpha[action] += 1\n",
    "        else:\n",
    "            self.beta[action] += 1\n",
    "\n",
    "    def learn(self):\n",
    "        if len(self.memory) < self.batch_size:\n",
    "            return\n",
    "\n",
    "        batch = random.sample(self.memory, self.batch_size)\n",
    "        states, actions, rewards, next_states, dones = zip(*batch)\n",
    "\n",
    "        states = torch.FloatTensor(states).to(self.device)\n",
    "        actions = torch.LongTensor(actions).to(self.device)\n",
    "        rewards = torch.FloatTensor(rewards).to(self.device)\n",
    "        next_states = torch.FloatTensor(next_states).to(self.device)\n",
    "        dones = torch.FloatTensor(dones).to(self.device)\n",
    "\n",
    "        # Current Q-values\n",
    "        q_values = self.q_network(states)\n",
    "        q_values = q_values.gather(1, actions.unsqueeze(1)).squeeze()\n",
    "\n",
    "        # Target Q-values\n",
    "        with torch.no_grad():\n",
    "            max_next_q_values = self.target_network(next_states).max(1)[0]\n",
    "            target_q_values = rewards + (1 - dones) * self.gamma * max_next_q_values\n",
    "\n",
    "        # Loss and backpropagation\n",
    "        loss = F.mse_loss(q_values, target_q_values)\n",
    "        self.optimizer.zero_grad()\n",
    "        loss.backward()\n",
    "        self.optimizer.step()\n",
    "\n",
    "        # Update target network\n",
    "        self.learn_step_counter += 1\n",
    "        if self.learn_step_counter % self.target_update_freq == 0:\n",
    "            self.target_network.load_state_dict(self.q_network.state_dict())\n",
    "\n",
    "def train_thompson_dqn(env_name='CartPole-v1', episodes=1000, max_steps=500):\n",
    "    env = gym.make(env_name)\n",
    "    state_dim = env.observation_space.shape[0]\n",
    "    action_dim = env.action_space.n\n",
    "\n",
    "    agent = ThompsonDQNAgent(state_dim, action_dim)\n",
    "\n",
    "    scores = []\n",
    "    for episode in range(episodes):\n",
    "        state = env.reset()\n",
    "        total_reward = 0\n",
    "\n",
    "        for _ in range(max_steps):\n",
    "            action = agent.select_action(state)\n",
    "            next_state, reward, done, _ = env.step(action)\n",
    "\n",
    "            agent.store_transition(state, action, reward, next_state, done)\n",
    "            agent.learn()\n",
    "\n",
    "            total_reward += reward\n",
    "            state = next_state\n",
    "\n",
    "            if done:\n",
    "                break\n",
    "\n",
    "        scores.append(total_reward)\n",
    "        if (episode + 1) % 10 == 0:\n",
    "            avg_score = np.mean(scores[-10:])\n",
    "            print(f\"Episode {episode + 1}, Average Score: {avg_score}\")\n",
    "\n",
    "        # Check for solving criteria\n",
    "        if np.mean(scores[-100:]) >= 195.0:  # Solved when average score over last 100 episodes >= 195\n",
    "            print(f\"Solved at Episode {episode + 1}\")\n",
    "            break\n",
    "\n",
    "    return agent, scores\n",
    "\n",
    "if __name__ == \"__main__\":\n",
    "    torch.manual_seed(1)\n",
    "    np.random.seed(1)\n",
    "    random.seed(1)\n",
    "\n",
    "    agent, scores = train_thompson_dqn(episodes=1000)\n",
    "\n",
    "    import matplotlib.pyplot as plt\n",
    "    plt.plot(scores)\n",
    "    plt.title('Thompson Sampling DQN Training Progress')\n",
    "    plt.xlabel('Episode')\n",
    "    plt.ylabel('Score')\n",
    "    plt.show()\n"
   ]
  },
  {
   "cell_type": "code",
   "execution_count": null,
   "metadata": {
    "colab": {
     "base_uri": "https://localhost:8080/",
     "height": 1000
    },
    "id": "QmGmN0p5FWR-",
    "outputId": "2a81e9af-b3fc-4dd3-fe71-2b0aaf94bed1"
   },
   "outputs": [
    {
     "name": "stdout",
     "output_type": "stream",
     "text": [
      "Episode 10, Average Score: 9.3\n",
      "Episode 20, Average Score: 9.7\n",
      "Episode 30, Average Score: 10.2\n",
      "Episode 40, Average Score: 9.0\n",
      "Episode 50, Average Score: 9.9\n",
      "Episode 60, Average Score: 10.3\n",
      "Episode 70, Average Score: 10.2\n",
      "Episode 80, Average Score: 9.9\n",
      "Episode 90, Average Score: 10.4\n",
      "Episode 100, Average Score: 13.6\n",
      "Episode 110, Average Score: 29.2\n",
      "Episode 120, Average Score: 10.2\n",
      "Episode 130, Average Score: 10.2\n",
      "Episode 140, Average Score: 12.8\n",
      "Episode 150, Average Score: 12.4\n",
      "Episode 160, Average Score: 11.3\n",
      "Episode 170, Average Score: 14.3\n",
      "Episode 180, Average Score: 17.6\n",
      "Episode 190, Average Score: 43.7\n",
      "Episode 200, Average Score: 44.3\n",
      "Episode 210, Average Score: 37.0\n",
      "Episode 220, Average Score: 27.3\n",
      "Episode 230, Average Score: 41.2\n",
      "Episode 240, Average Score: 40.8\n",
      "Episode 250, Average Score: 48.0\n",
      "Episode 260, Average Score: 63.5\n",
      "Episode 270, Average Score: 41.0\n",
      "Episode 280, Average Score: 48.6\n",
      "Episode 290, Average Score: 60.1\n",
      "Episode 300, Average Score: 40.8\n",
      "Episode 310, Average Score: 59.0\n",
      "Episode 320, Average Score: 93.0\n",
      "Episode 330, Average Score: 100.1\n",
      "Episode 340, Average Score: 126.4\n",
      "Episode 350, Average Score: 138.2\n",
      "Episode 360, Average Score: 136.0\n",
      "Episode 370, Average Score: 124.0\n",
      "Episode 380, Average Score: 120.4\n",
      "Episode 390, Average Score: 133.1\n",
      "Episode 400, Average Score: 143.6\n",
      "Episode 410, Average Score: 144.1\n",
      "Episode 420, Average Score: 155.2\n",
      "Episode 430, Average Score: 140.8\n",
      "Episode 440, Average Score: 137.4\n",
      "Episode 450, Average Score: 142.4\n",
      "Episode 460, Average Score: 121.9\n",
      "Episode 470, Average Score: 124.9\n",
      "Episode 480, Average Score: 118.1\n",
      "Episode 490, Average Score: 128.4\n",
      "Episode 500, Average Score: 114.5\n",
      "Episode 510, Average Score: 123.3\n",
      "Episode 520, Average Score: 112.2\n",
      "Episode 530, Average Score: 163.8\n",
      "Episode 540, Average Score: 104.3\n",
      "Episode 550, Average Score: 143.9\n",
      "Episode 560, Average Score: 111.7\n",
      "Episode 570, Average Score: 172.5\n",
      "Episode 580, Average Score: 119.4\n",
      "Episode 590, Average Score: 185.9\n",
      "Episode 600, Average Score: 142.0\n",
      "Episode 610, Average Score: 187.9\n",
      "Episode 620, Average Score: 172.7\n",
      "Episode 630, Average Score: 183.1\n",
      "Episode 640, Average Score: 191.4\n",
      "Episode 650, Average Score: 200.3\n",
      "Episode 660, Average Score: 213.2\n",
      "Episode 670, Average Score: 172.6\n",
      "Episode 680, Average Score: 235.9\n",
      "Episode 690, Average Score: 222.8\n",
      "Solved at Episode 698\n"
     ]
    },
    {
     "data": {
      "image/png": "[encoded data removed]",
      "text/plain": [
       "<Figure size 640x480 with 1 Axes>"
      ]
     },
     "metadata": {},
     "output_type": "display_data"
    }
   ],
   "source": [
    "import numpy as np\n",
    "import torch\n",
    "import torch.nn as nn\n",
    "import torch.nn.functional as F\n",
    "import torch.optim as optim\n",
    "import gymnasium as gym\n",
    "from collections import deque, OrderedDict\n",
    "import random\n",
    "\n",
    "class QNetwork(nn.Module):\n",
    "    def __init__(self, state_dim, action_dim, hidden_dim=256):\n",
    "        super(QNetwork, self).__init__()\n",
    "        self.fc1 = nn.Linear(state_dim, hidden_dim)\n",
    "        self.fc2 = nn.Linear(hidden_dim, hidden_dim)\n",
    "        self.fc3 = nn.Linear(hidden_dim, action_dim)\n",
    "\n",
    "    def forward(self, state):\n",
    "        x = F.relu(self.fc1(state))\n",
    "        x = F.relu(self.fc2(x))\n",
    "        return self.fc3(x)  # Outputs Q-values for each action\n",
    "\n",
    "class MetaQ:\n",
    "    def __init__(self, state_dim, action_dim, hidden_dim=256,\n",
    "                 inner_lr=0.01, meta_lr=0.001, gamma=0.99,\n",
    "                 memory_size=10000, batch_size=64,\n",
    "                 target_update_freq=10, num_tasks=5):\n",
    "        self.device = torch.device(\"cuda\" if torch.cuda.is_available() else \"cpu\")\n",
    "\n",
    "        # Meta Q-Network and Target Q-Network\n",
    "        self.q_network = QNetwork(state_dim, action_dim, hidden_dim).to(self.device)\n",
    "        self.target_network = QNetwork(state_dim, action_dim, hidden_dim).to(self.device)\n",
    "        self.target_network.load_state_dict(self.q_network.state_dict())\n",
    "        self.target_network.eval()\n",
    "\n",
    "        self.meta_optimizer = optim.Adam(self.q_network.parameters(), lr=meta_lr)\n",
    "        self.gamma = gamma\n",
    "        self.inner_lr = inner_lr\n",
    "        self.batch_size = batch_size\n",
    "        self.target_update_freq = target_update_freq\n",
    "        self.memory = deque(maxlen=memory_size)\n",
    "        self.num_tasks = num_tasks\n",
    "        self.learn_step_counter = 0\n",
    "\n",
    "    def select_action(self, state, epsilon=0.1):\n",
    "        state = torch.FloatTensor(state).unsqueeze(0).to(self.device)\n",
    "        if random.random() > epsilon:\n",
    "            with torch.no_grad():\n",
    "                return torch.argmax(self.q_network(state)).item()\n",
    "        else:\n",
    "            return random.randrange(self.q_network.fc3.out_features)\n",
    "\n",
    "    def store_transition(self, state, action, reward, next_state, done):\n",
    "        self.memory.append((state, action, reward, next_state, done))\n",
    "\n",
    "    def prepare_batch(self, batch):\n",
    "        states, actions, rewards, next_states, dones = zip(*batch)\n",
    "        states = torch.FloatTensor(states).to(self.device)\n",
    "        actions = torch.LongTensor(actions).to(self.device)\n",
    "        rewards = torch.FloatTensor(rewards).to(self.device)\n",
    "        next_states = torch.FloatTensor(next_states).to(self.device)\n",
    "        dones = torch.FloatTensor(dones).to(self.device)\n",
    "        return states, actions, rewards, next_states, dones\n",
    "\n",
    "    def inner_loop_update(self, task_batch):\n",
    "        # Perform task-specific updates\n",
    "        states, actions, rewards, next_states, dones = self.prepare_batch(task_batch)\n",
    "\n",
    "        # Compute Q-values\n",
    "        q_values = self.q_network(states).gather(1, actions.unsqueeze(1)).squeeze()\n",
    "        with torch.no_grad():\n",
    "            max_next_q_values = self.target_network(next_states).max(1)[0]\n",
    "            target_q_values = rewards + (1 - dones) * self.gamma * max_next_q_values\n",
    "\n",
    "        # Compute loss\n",
    "        loss = F.mse_loss(q_values, target_q_values)\n",
    "\n",
    "        # Update parameters using a temporary optimizer\n",
    "        grads = torch.autograd.grad(loss, self.q_network.parameters())\n",
    "        updated_params = OrderedDict()\n",
    "        for (name, param), grad in zip(self.q_network.named_parameters(), grads):\n",
    "            updated_params[name] = param - self.inner_lr * grad\n",
    "\n",
    "        return updated_params\n",
    "\n",
    "    def meta_update(self):\n",
    "        if len(self.memory) < self.batch_size * 2 * self.num_tasks:\n",
    "            return\n",
    "\n",
    "        meta_loss = 0\n",
    "        self.meta_optimizer.zero_grad()\n",
    "\n",
    "        for _ in range(self.num_tasks):\n",
    "            # Sample task-specific batches\n",
    "            task_start = random.randint(0, len(self.memory) - self.batch_size * 2)\n",
    "            task_batch = list(self.memory)[task_start:task_start + self.batch_size]\n",
    "            eval_batch = list(self.memory)[task_start + self.batch_size:task_start + self.batch_size * 2]\n",
    "\n",
    "            # Inner loop: Perform task-specific updates\n",
    "            updated_params = self.inner_loop_update(task_batch)\n",
    "\n",
    "            # Temporarily apply updated parameters\n",
    "            original_params = OrderedDict((name, param.clone()) for name, param in self.q_network.named_parameters())\n",
    "            for name, param in self.q_network.named_parameters():\n",
    "                param.data = updated_params[name].data\n",
    "\n",
    "            # Evaluate on evaluation batch\n",
    "            states, actions, rewards, next_states, dones = self.prepare_batch(eval_batch)\n",
    "            q_values = self.q_network(states).gather(1, actions.unsqueeze(1)).squeeze()\n",
    "            with torch.no_grad():\n",
    "                max_next_q_values = self.target_network(next_states).max(1)[0]\n",
    "                target_q_values = rewards + (1 - dones) * self.gamma * max_next_q_values\n",
    "\n",
    "            # Meta loss\n",
    "            task_meta_loss = F.mse_loss(q_values, target_q_values)\n",
    "            meta_loss += task_meta_loss\n",
    "\n",
    "            # Revert to original parameters\n",
    "            for name, param in self.q_network.named_parameters():\n",
    "                param.data = original_params[name].data\n",
    "\n",
    "        # Outer loop: Meta optimization\n",
    "        meta_loss = meta_loss / self.num_tasks\n",
    "        meta_loss.backward()\n",
    "        self.meta_optimizer.step()\n",
    "\n",
    "        # Update target network\n",
    "        self.learn_step_counter += 1\n",
    "        if self.learn_step_counter % self.target_update_freq == 0:\n",
    "            self.target_network.load_state_dict(self.q_network.state_dict())\n",
    "\n",
    "        #print(f\"Meta Loss: {meta_loss.item()}\")\n",
    "\n",
    "def train_meta_q(env_name='CartPole-v1', episodes=1000, max_steps=500):\n",
    "    env = gym.make(env_name)\n",
    "    state_dim = env.observation_space.shape[0]\n",
    "    action_dim = env.action_space.n\n",
    "\n",
    "    agent = MetaQ(state_dim, action_dim)\n",
    "\n",
    "    scores = []\n",
    "    for episode in range(episodes):\n",
    "        state = env.reset()\n",
    "        total_reward = 0\n",
    "\n",
    "        for _ in range(max_steps):\n",
    "            action = agent.select_action(state)\n",
    "            next_state, reward, done, _ = env.step(action)\n",
    "\n",
    "            agent.store_transition(state, action, reward, next_state, done)\n",
    "            total_reward += reward\n",
    "            state = next_state\n",
    "\n",
    "            if done:\n",
    "                break\n",
    "\n",
    "        scores.append(total_reward)\n",
    "\n",
    "        # Meta-update after each episode\n",
    "        agent.meta_update()\n",
    "\n",
    "        if (episode + 1) % 10 == 0:\n",
    "            avg_score = np.mean(scores[-10:])\n",
    "            print(f\"Episode {episode + 1}, Average Score: {avg_score}\")\n",
    "\n",
    "        # Check for solving criteria\n",
    "        if np.mean(scores[-100:]) >= 195.0:  # Solved when average score over last 100 episodes >= 195\n",
    "            print(f\"Solved at Episode {episode + 1}\")\n",
    "            break\n",
    "\n",
    "    return agent, scores\n",
    "\n",
    "if __name__ == \"__main__\":\n",
    "    torch.manual_seed(1)\n",
    "    np.random.seed(1)\n",
    "    random.seed(1)\n",
    "\n",
    "    agent, scores = train_meta_q(episodes=1000)\n",
    "\n",
    "    import matplotlib.pyplot as plt\n",
    "    plt.plot(scores)\n",
    "    plt.title('Meta-Learning Q-Network Training Progress')\n",
    "    plt.xlabel('Episode')\n",
    "    plt.ylabel('Score')\n",
    "    plt.show()\n"
   ]
  },
  {
   "cell_type": "code",
   "execution_count": null,
   "metadata": {
    "colab": {
     "base_uri": "https://localhost:8080/",
     "height": 1000
    },
    "id": "cHmx53-vN_kP",
    "outputId": "99d7c2a2-3c09-42d8-e235-3e64cc704b6e"
   },
   "outputs": [
    {
     "data": {
      "text/html": [
       "<div class=\"tuneStatus\">\n",
       "  <div style=\"display: flex;flex-direction: row\">\n",
       "    <div style=\"display: flex;flex-direction: column;\">\n",
       "      <h3>Tune Status</h3>\n",
       "      <table>\n",
       "<tbody>\n",
       "<tr><td>Current time:</td><td>2024-11-25 11:02:28</td></tr>\n",
       "<tr><td>Running for: </td><td>00:24:53.24        </td></tr>\n",
       "<tr><td>Memory:      </td><td>18.1/27.7 GiB      </td></tr>\n",
       "</tbody>\n",
       "</table>\n",
       "    </div>\n",
       "    <div class=\"vDivider\"></div>\n",
       "    <div class=\"systemInfo\">\n",
       "      <h3>System Info</h3>\n",
       "      Using AsyncHyperBand: num_stopped=229<br>Bracket: Iter 300.000: 31.94666666666667<br>Logical resource usage: 4.0/16 CPUs, 0/0 GPUs\n",
       "    </div>\n",
       "    \n",
       "  </div>\n",
       "  <div class=\"hDivider\"></div>\n",
       "  <div class=\"trialStatus\">\n",
       "    <h3>Trial Status</h3>\n",
       "    <table>\n",
       "<thead>\n",
       "<tr><th>Trial name  </th><th>status    </th><th>loc             </th><th style=\"text-align: right;\">  batch_size</th><th style=\"text-align: right;\">  hidden_dim</th><th style=\"text-align: right;\">   inner_lr</th><th style=\"text-align: right;\">  memory_size</th><th style=\"text-align: right;\">    meta_lr</th><th style=\"text-align: right;\">  num_tasks</th><th style=\"text-align: right;\">  target_update_freq</th><th style=\"text-align: right;\">  iter</th><th style=\"text-align: right;\">  total time (s)</th><th style=\"text-align: right;\">  mean_reward</th></tr>\n",
       "</thead>\n",
       "<tbody>\n",
       "<tr><td>obj_e380bf55</td><td>RUNNING   </td><td>127.0.0.1:13400 </td><td style=\"text-align: right;\">          32</td><td style=\"text-align: right;\">         512</td><td style=\"text-align: right;\">0.0030356  </td><td style=\"text-align: right;\">        50000</td><td style=\"text-align: right;\">0.00375202 </td><td style=\"text-align: right;\">         12</td><td style=\"text-align: right;\">                   9</td><td style=\"text-align: right;\">   272</td><td style=\"text-align: right;\">        16.2606 </td><td style=\"text-align: right;\">         9.2 </td></tr>\n",
       "<tr><td>obj_1debdaf3</td><td>RUNNING   </td><td>127.0.0.1:108048</td><td style=\"text-align: right;\">          32</td><td style=\"text-align: right;\">         512</td><td style=\"text-align: right;\">0.0432807  </td><td style=\"text-align: right;\">        50000</td><td style=\"text-align: right;\">0.00401148 </td><td style=\"text-align: right;\">          2</td><td style=\"text-align: right;\">                   9</td><td style=\"text-align: right;\">   304</td><td style=\"text-align: right;\">         7.79442</td><td style=\"text-align: right;\">        33.2 </td></tr>\n",
       "<tr><td>obj_d8cf7bb1</td><td>RUNNING   </td><td>127.0.0.1:107220</td><td style=\"text-align: right;\">          32</td><td style=\"text-align: right;\">         512</td><td style=\"text-align: right;\">0.0608972  </td><td style=\"text-align: right;\">        50000</td><td style=\"text-align: right;\">0.00383066 </td><td style=\"text-align: right;\">          2</td><td style=\"text-align: right;\">                   9</td><td style=\"text-align: right;\">      </td><td style=\"text-align: right;\">                </td><td style=\"text-align: right;\">             </td></tr>\n",
       "<tr><td>obj_635dc2b1</td><td>PENDING   </td><td>                </td><td style=\"text-align: right;\">          32</td><td style=\"text-align: right;\">         512</td><td style=\"text-align: right;\">0.00940994 </td><td style=\"text-align: right;\">        50000</td><td style=\"text-align: right;\">0.0042942  </td><td style=\"text-align: right;\">         12</td><td style=\"text-align: right;\">                   1</td><td style=\"text-align: right;\">      </td><td style=\"text-align: right;\">                </td><td style=\"text-align: right;\">             </td></tr>\n",
       "<tr><td>obj_d6b26a7b</td><td>TERMINATED</td><td>127.0.0.1:111280</td><td style=\"text-align: right;\">          64</td><td style=\"text-align: right;\">         256</td><td style=\"text-align: right;\">0.00795808 </td><td style=\"text-align: right;\">        10000</td><td style=\"text-align: right;\">0.00416317 </td><td style=\"text-align: right;\">         18</td><td style=\"text-align: right;\">                  33</td><td style=\"text-align: right;\">   400</td><td style=\"text-align: right;\">         9.66087</td><td style=\"text-align: right;\">         9.3 </td></tr>\n",
       "<tr><td>obj_ceb5cf43</td><td>TERMINATED</td><td>127.0.0.1:68456 </td><td style=\"text-align: right;\">          32</td><td style=\"text-align: right;\">         512</td><td style=\"text-align: right;\">0.0252595  </td><td style=\"text-align: right;\">        10000</td><td style=\"text-align: right;\">0.000362476</td><td style=\"text-align: right;\">         16</td><td style=\"text-align: right;\">                  98</td><td style=\"text-align: right;\">   300</td><td style=\"text-align: right;\">        15.4345 </td><td style=\"text-align: right;\">        31.98</td></tr>\n",
       "<tr><td>obj_7e8cfdc4</td><td>TERMINATED</td><td>127.0.0.1:107296</td><td style=\"text-align: right;\">          32</td><td style=\"text-align: right;\">         128</td><td style=\"text-align: right;\">0.0934564  </td><td style=\"text-align: right;\">        20000</td><td style=\"text-align: right;\">0.00494807 </td><td style=\"text-align: right;\">         19</td><td style=\"text-align: right;\">                   9</td><td style=\"text-align: right;\">   400</td><td style=\"text-align: right;\">        11.5997 </td><td style=\"text-align: right;\">       105.52</td></tr>\n",
       "<tr><td>obj_7c343b50</td><td>TERMINATED</td><td>127.0.0.1:104656</td><td style=\"text-align: right;\">         128</td><td style=\"text-align: right;\">         128</td><td style=\"text-align: right;\">0.00464526 </td><td style=\"text-align: right;\">        20000</td><td style=\"text-align: right;\">0.000705474</td><td style=\"text-align: right;\">          7</td><td style=\"text-align: right;\">                   3</td><td style=\"text-align: right;\">   300</td><td style=\"text-align: right;\">         3.82859</td><td style=\"text-align: right;\">         9.42</td></tr>\n",
       "<tr><td>obj_32bc9c12</td><td>TERMINATED</td><td>127.0.0.1:103772</td><td style=\"text-align: right;\">         128</td><td style=\"text-align: right;\">         128</td><td style=\"text-align: right;\">0.0636829  </td><td style=\"text-align: right;\">        50000</td><td style=\"text-align: right;\">0.000131359</td><td style=\"text-align: right;\">          3</td><td style=\"text-align: right;\">                  31</td><td style=\"text-align: right;\">   300</td><td style=\"text-align: right;\">         3.58978</td><td style=\"text-align: right;\">        27.8 </td></tr>\n",
       "<tr><td>obj_dbe284d8</td><td>TERMINATED</td><td>127.0.0.1:99904 </td><td style=\"text-align: right;\">          64</td><td style=\"text-align: right;\">         256</td><td style=\"text-align: right;\">0.000181544</td><td style=\"text-align: right;\">        50000</td><td style=\"text-align: right;\">0.00374904 </td><td style=\"text-align: right;\">          6</td><td style=\"text-align: right;\">                  57</td><td style=\"text-align: right;\">   300</td><td style=\"text-align: right;\">         5.55053</td><td style=\"text-align: right;\">         9.32</td></tr>\n",
       "<tr><td>obj_59386642</td><td>TERMINATED</td><td>127.0.0.1:108552</td><td style=\"text-align: right;\">          64</td><td style=\"text-align: right;\">         256</td><td style=\"text-align: right;\">0.000189587</td><td style=\"text-align: right;\">        20000</td><td style=\"text-align: right;\">0.00333417 </td><td style=\"text-align: right;\">         18</td><td style=\"text-align: right;\">                  46</td><td style=\"text-align: right;\">   300</td><td style=\"text-align: right;\">         6.82648</td><td style=\"text-align: right;\">         9.72</td></tr>\n",
       "<tr><td>obj_1712e8ca</td><td>TERMINATED</td><td>127.0.0.1:82664 </td><td style=\"text-align: right;\">         128</td><td style=\"text-align: right;\">          64</td><td style=\"text-align: right;\">0.0515411  </td><td style=\"text-align: right;\">        50000</td><td style=\"text-align: right;\">0.000427299</td><td style=\"text-align: right;\">          4</td><td style=\"text-align: right;\">                  92</td><td style=\"text-align: right;\">   300</td><td style=\"text-align: right;\">         3.73307</td><td style=\"text-align: right;\">        26.4 </td></tr>\n",
       "<tr><td>obj_5b09c417</td><td>TERMINATED</td><td>127.0.0.1:90984 </td><td style=\"text-align: right;\">          32</td><td style=\"text-align: right;\">          64</td><td style=\"text-align: right;\">0.000950755</td><td style=\"text-align: right;\">        50000</td><td style=\"text-align: right;\">0.000466914</td><td style=\"text-align: right;\">          3</td><td style=\"text-align: right;\">                  21</td><td style=\"text-align: right;\">   300</td><td style=\"text-align: right;\">         2.83692</td><td style=\"text-align: right;\">         9.32</td></tr>\n",
       "<tr><td>obj_7f055c78</td><td>TERMINATED</td><td>127.0.0.1:105840</td><td style=\"text-align: right;\">          64</td><td style=\"text-align: right;\">         512</td><td style=\"text-align: right;\">0.000132862</td><td style=\"text-align: right;\">        50000</td><td style=\"text-align: right;\">0.000202339</td><td style=\"text-align: right;\">         17</td><td style=\"text-align: right;\">                  31</td><td style=\"text-align: right;\">   300</td><td style=\"text-align: right;\">         9.48623</td><td style=\"text-align: right;\">         9.32</td></tr>\n",
       "<tr><td>obj_2e85f1eb</td><td>TERMINATED</td><td>127.0.0.1:85556 </td><td style=\"text-align: right;\">         128</td><td style=\"text-align: right;\">         128</td><td style=\"text-align: right;\">0.011259   </td><td style=\"text-align: right;\">        50000</td><td style=\"text-align: right;\">0.00170626 </td><td style=\"text-align: right;\">          4</td><td style=\"text-align: right;\">                   6</td><td style=\"text-align: right;\">   400</td><td style=\"text-align: right;\">         7.14992</td><td style=\"text-align: right;\">        95.94</td></tr>\n",
       "<tr><td>obj_c64f4020</td><td>TERMINATED</td><td>127.0.0.1:56108 </td><td style=\"text-align: right;\">          32</td><td style=\"text-align: right;\">          64</td><td style=\"text-align: right;\">0.0964222  </td><td style=\"text-align: right;\">        10000</td><td style=\"text-align: right;\">0.00961614 </td><td style=\"text-align: right;\">          8</td><td style=\"text-align: right;\">                  72</td><td style=\"text-align: right;\">   400</td><td style=\"text-align: right;\">         6.18776</td><td style=\"text-align: right;\">        50.18</td></tr>\n",
       "<tr><td>obj_854bf97c</td><td>TERMINATED</td><td>127.0.0.1:106988</td><td style=\"text-align: right;\">          32</td><td style=\"text-align: right;\">         128</td><td style=\"text-align: right;\">0.0136643  </td><td style=\"text-align: right;\">        20000</td><td style=\"text-align: right;\">0.0350957  </td><td style=\"text-align: right;\">         13</td><td style=\"text-align: right;\">                   1</td><td style=\"text-align: right;\">   400</td><td style=\"text-align: right;\">         9.81466</td><td style=\"text-align: right;\">        79.64</td></tr>\n",
       "<tr><td>obj_f168122e</td><td>TERMINATED</td><td>127.0.0.1:99096 </td><td style=\"text-align: right;\">          32</td><td style=\"text-align: right;\">         128</td><td style=\"text-align: right;\">0.0159824  </td><td style=\"text-align: right;\">        20000</td><td style=\"text-align: right;\">0.0361681  </td><td style=\"text-align: right;\">         12</td><td style=\"text-align: right;\">                   2</td><td style=\"text-align: right;\">   400</td><td style=\"text-align: right;\">        11.7337 </td><td style=\"text-align: right;\">       113.36</td></tr>\n",
       "<tr><td>obj_56d987d2</td><td>TERMINATED</td><td>127.0.0.1:56048 </td><td style=\"text-align: right;\">         128</td><td style=\"text-align: right;\">         128</td><td style=\"text-align: right;\">0.0154579  </td><td style=\"text-align: right;\">        20000</td><td style=\"text-align: right;\">0.0294973  </td><td style=\"text-align: right;\">         13</td><td style=\"text-align: right;\">                   2</td><td style=\"text-align: right;\">   300</td><td style=\"text-align: right;\">         2.04217</td><td style=\"text-align: right;\">         9.32</td></tr>\n",
       "<tr><td>obj_0a079130</td><td>TERMINATED</td><td>127.0.0.1:24224 </td><td style=\"text-align: right;\">         128</td><td style=\"text-align: right;\">         128</td><td style=\"text-align: right;\">0.00137809 </td><td style=\"text-align: right;\">        20000</td><td style=\"text-align: right;\">0.00133257 </td><td style=\"text-align: right;\">         12</td><td style=\"text-align: right;\">                  16</td><td style=\"text-align: right;\">   300</td><td style=\"text-align: right;\">         1.92035</td><td style=\"text-align: right;\">         9.42</td></tr>\n",
       "<tr><td>obj_45435cc2</td><td>TERMINATED</td><td>127.0.0.1:86936 </td><td style=\"text-align: right;\">         128</td><td style=\"text-align: right;\">         128</td><td style=\"text-align: right;\">0.00149042 </td><td style=\"text-align: right;\">        20000</td><td style=\"text-align: right;\">0.00125413 </td><td style=\"text-align: right;\">         10</td><td style=\"text-align: right;\">                  18</td><td style=\"text-align: right;\">   300</td><td style=\"text-align: right;\">         3.04558</td><td style=\"text-align: right;\">         9.36</td></tr>\n",
       "<tr><td>obj_c029759f</td><td>TERMINATED</td><td>127.0.0.1:82764 </td><td style=\"text-align: right;\">          32</td><td style=\"text-align: right;\">         128</td><td style=\"text-align: right;\">0.029776   </td><td style=\"text-align: right;\">        20000</td><td style=\"text-align: right;\">0.0885078  </td><td style=\"text-align: right;\">         15</td><td style=\"text-align: right;\">                  17</td><td style=\"text-align: right;\">   400</td><td style=\"text-align: right;\">        15.2407 </td><td style=\"text-align: right;\">       107.28</td></tr>\n",
       "<tr><td>obj_d4b02298</td><td>TERMINATED</td><td>127.0.0.1:92508 </td><td style=\"text-align: right;\">          32</td><td style=\"text-align: right;\">         128</td><td style=\"text-align: right;\">0.031658   </td><td style=\"text-align: right;\">        20000</td><td style=\"text-align: right;\">0.0805681  </td><td style=\"text-align: right;\">         15</td><td style=\"text-align: right;\">                  45</td><td style=\"text-align: right;\">   300</td><td style=\"text-align: right;\">         7.40346</td><td style=\"text-align: right;\">         9.42</td></tr>\n",
       "<tr><td>obj_355325a6</td><td>TERMINATED</td><td>127.0.0.1:68328 </td><td style=\"text-align: right;\">          32</td><td style=\"text-align: right;\">         128</td><td style=\"text-align: right;\">0.0325501  </td><td style=\"text-align: right;\">        20000</td><td style=\"text-align: right;\">0.0785551  </td><td style=\"text-align: right;\">         15</td><td style=\"text-align: right;\">                  48</td><td style=\"text-align: right;\">   300</td><td style=\"text-align: right;\">         6.66143</td><td style=\"text-align: right;\">         9.42</td></tr>\n",
       "<tr><td>obj_35cf1678</td><td>TERMINATED</td><td>127.0.0.1:69640 </td><td style=\"text-align: right;\">          32</td><td style=\"text-align: right;\">         128</td><td style=\"text-align: right;\">0.0314429  </td><td style=\"text-align: right;\">        20000</td><td style=\"text-align: right;\">0.0145192  </td><td style=\"text-align: right;\">         15</td><td style=\"text-align: right;\">                  50</td><td style=\"text-align: right;\">   300</td><td style=\"text-align: right;\">         6.18854</td><td style=\"text-align: right;\">         9.42</td></tr>\n",
       "<tr><td>obj_1d631983</td><td>TERMINATED</td><td>127.0.0.1:31176 </td><td style=\"text-align: right;\">          32</td><td style=\"text-align: right;\">         512</td><td style=\"text-align: right;\">0.0037162  </td><td style=\"text-align: right;\">        20000</td><td style=\"text-align: right;\">0.0963294  </td><td style=\"text-align: right;\">         10</td><td style=\"text-align: right;\">                  62</td><td style=\"text-align: right;\">   300</td><td style=\"text-align: right;\">        11.8148 </td><td style=\"text-align: right;\">         9.32</td></tr>\n",
       "<tr><td>obj_e7c3e217</td><td>TERMINATED</td><td>127.0.0.1:108996</td><td style=\"text-align: right;\">          32</td><td style=\"text-align: right;\">         512</td><td style=\"text-align: right;\">0.00395489 </td><td style=\"text-align: right;\">        20000</td><td style=\"text-align: right;\">0.0179093  </td><td style=\"text-align: right;\">         10</td><td style=\"text-align: right;\">                  69</td><td style=\"text-align: right;\">   300</td><td style=\"text-align: right;\">        12.8362 </td><td style=\"text-align: right;\">        14.62</td></tr>\n",
       "<tr><td>obj_269d5c1c</td><td>TERMINATED</td><td>127.0.0.1:108488</td><td style=\"text-align: right;\">          32</td><td style=\"text-align: right;\">         512</td><td style=\"text-align: right;\">0.004343   </td><td style=\"text-align: right;\">        20000</td><td style=\"text-align: right;\">0.0311212  </td><td style=\"text-align: right;\">         19</td><td style=\"text-align: right;\">                  16</td><td style=\"text-align: right;\">   400</td><td style=\"text-align: right;\">        29.641  </td><td style=\"text-align: right;\">        46.46</td></tr>\n",
       "<tr><td>obj_8c3ee5ee</td><td>TERMINATED</td><td>127.0.0.1:111472</td><td style=\"text-align: right;\">          32</td><td style=\"text-align: right;\">         512</td><td style=\"text-align: right;\">0.0956458  </td><td style=\"text-align: right;\">        20000</td><td style=\"text-align: right;\">0.0284176  </td><td style=\"text-align: right;\">         19</td><td style=\"text-align: right;\">                  11</td><td style=\"text-align: right;\">   300</td><td style=\"text-align: right;\">        18.6084 </td><td style=\"text-align: right;\">         9.42</td></tr>\n",
       "<tr><td>obj_dee9ec70</td><td>TERMINATED</td><td>127.0.0.1:108292</td><td style=\"text-align: right;\">          32</td><td style=\"text-align: right;\">         128</td><td style=\"text-align: right;\">0.0770814  </td><td style=\"text-align: right;\">        20000</td><td style=\"text-align: right;\">0.0347642  </td><td style=\"text-align: right;\">         19</td><td style=\"text-align: right;\">                  14</td><td style=\"text-align: right;\">   400</td><td style=\"text-align: right;\">        15.6957 </td><td style=\"text-align: right;\">       123.9 </td></tr>\n",
       "<tr><td>obj_3e03a23d</td><td>TERMINATED</td><td>127.0.0.1:102108</td><td style=\"text-align: right;\">          32</td><td style=\"text-align: right;\">         128</td><td style=\"text-align: right;\">0.0704427  </td><td style=\"text-align: right;\">        20000</td><td style=\"text-align: right;\">0.0396682  </td><td style=\"text-align: right;\">         19</td><td style=\"text-align: right;\">                  11</td><td style=\"text-align: right;\">   400</td><td style=\"text-align: right;\">        12.2374 </td><td style=\"text-align: right;\">        38.7 </td></tr>\n",
       "<tr><td>obj_98cf13de</td><td>TERMINATED</td><td>127.0.0.1:107032</td><td style=\"text-align: right;\">          32</td><td style=\"text-align: right;\">         128</td><td style=\"text-align: right;\">0.0718854  </td><td style=\"text-align: right;\">        20000</td><td style=\"text-align: right;\">0.0422846  </td><td style=\"text-align: right;\">         19</td><td style=\"text-align: right;\">                  12</td><td style=\"text-align: right;\">   400</td><td style=\"text-align: right;\">        15.288  </td><td style=\"text-align: right;\">        57.96</td></tr>\n",
       "<tr><td>obj_83b7ebb7</td><td>TERMINATED</td><td>127.0.0.1:109252</td><td style=\"text-align: right;\">          32</td><td style=\"text-align: right;\">         128</td><td style=\"text-align: right;\">0.0477624  </td><td style=\"text-align: right;\">        20000</td><td style=\"text-align: right;\">0.00643969 </td><td style=\"text-align: right;\">         12</td><td style=\"text-align: right;\">                  24</td><td style=\"text-align: right;\">   400</td><td style=\"text-align: right;\">        13.779  </td><td style=\"text-align: right;\">       190.52</td></tr>\n",
       "<tr><td>obj_6438b669</td><td>TERMINATED</td><td>127.0.0.1:105864</td><td style=\"text-align: right;\">          32</td><td style=\"text-align: right;\">         128</td><td style=\"text-align: right;\">0.0204279  </td><td style=\"text-align: right;\">        10000</td><td style=\"text-align: right;\">0.0542193  </td><td style=\"text-align: right;\">         12</td><td style=\"text-align: right;\">                  25</td><td style=\"text-align: right;\">   300</td><td style=\"text-align: right;\">         5.97348</td><td style=\"text-align: right;\">         9.42</td></tr>\n",
       "<tr><td>obj_307ffc05</td><td>TERMINATED</td><td>127.0.0.1:107072</td><td style=\"text-align: right;\">          32</td><td style=\"text-align: right;\">         128</td><td style=\"text-align: right;\">0.0202754  </td><td style=\"text-align: right;\">        10000</td><td style=\"text-align: right;\">0.0531689  </td><td style=\"text-align: right;\">         12</td><td style=\"text-align: right;\">                  25</td><td style=\"text-align: right;\">   300</td><td style=\"text-align: right;\">         5.42128</td><td style=\"text-align: right;\">         9.42</td></tr>\n",
       "<tr><td>obj_54ea0ae2</td><td>TERMINATED</td><td>127.0.0.1:108232</td><td style=\"text-align: right;\">          32</td><td style=\"text-align: right;\">         128</td><td style=\"text-align: right;\">0.0194776  </td><td style=\"text-align: right;\">        10000</td><td style=\"text-align: right;\">0.00806451 </td><td style=\"text-align: right;\">         13</td><td style=\"text-align: right;\">                  25</td><td style=\"text-align: right;\">   400</td><td style=\"text-align: right;\">        10.0838 </td><td style=\"text-align: right;\">       121.06</td></tr>\n",
       "<tr><td>obj_99e7f2ae</td><td>TERMINATED</td><td>127.0.0.1:69812 </td><td style=\"text-align: right;\">          64</td><td style=\"text-align: right;\">         256</td><td style=\"text-align: right;\">0.0076634  </td><td style=\"text-align: right;\">        10000</td><td style=\"text-align: right;\">0.00747916 </td><td style=\"text-align: right;\">          8</td><td style=\"text-align: right;\">                  38</td><td style=\"text-align: right;\">   300</td><td style=\"text-align: right;\">         6.0147 </td><td style=\"text-align: right;\">        10.4 </td></tr>\n",
       "<tr><td>obj_db8cd7f6</td><td>TERMINATED</td><td>127.0.0.1:76424 </td><td style=\"text-align: right;\">          32</td><td style=\"text-align: right;\">         256</td><td style=\"text-align: right;\">0.0414087  </td><td style=\"text-align: right;\">        20000</td><td style=\"text-align: right;\">0.00722179 </td><td style=\"text-align: right;\">         14</td><td style=\"text-align: right;\">                  35</td><td style=\"text-align: right;\">   400</td><td style=\"text-align: right;\">        12.0704 </td><td style=\"text-align: right;\">        91.3 </td></tr>\n",
       "<tr><td>obj_6f90d108</td><td>TERMINATED</td><td>127.0.0.1:95828 </td><td style=\"text-align: right;\">          64</td><td style=\"text-align: right;\">         256</td><td style=\"text-align: right;\">0.00811447 </td><td style=\"text-align: right;\">        10000</td><td style=\"text-align: right;\">0.0071355  </td><td style=\"text-align: right;\">          9</td><td style=\"text-align: right;\">                  39</td><td style=\"text-align: right;\">   300</td><td style=\"text-align: right;\">         6.81153</td><td style=\"text-align: right;\">        10.76</td></tr>\n",
       "<tr><td>obj_5958819f</td><td>TERMINATED</td><td>127.0.0.1:105832</td><td style=\"text-align: right;\">          32</td><td style=\"text-align: right;\">         128</td><td style=\"text-align: right;\">0.0457964  </td><td style=\"text-align: right;\">        10000</td><td style=\"text-align: right;\">0.0189979  </td><td style=\"text-align: right;\">         13</td><td style=\"text-align: right;\">                  40</td><td style=\"text-align: right;\">   300</td><td style=\"text-align: right;\">         5.47653</td><td style=\"text-align: right;\">         9.32</td></tr>\n",
       "<tr><td>obj_e6dd7a08</td><td>TERMINATED</td><td>127.0.0.1:107964</td><td style=\"text-align: right;\">          32</td><td style=\"text-align: right;\">         128</td><td style=\"text-align: right;\">0.0449888  </td><td style=\"text-align: right;\">        10000</td><td style=\"text-align: right;\">0.0168114  </td><td style=\"text-align: right;\">         13</td><td style=\"text-align: right;\">                  25</td><td style=\"text-align: right;\">   300</td><td style=\"text-align: right;\">         5.41134</td><td style=\"text-align: right;\">         9.32</td></tr>\n",
       "<tr><td>obj_b9c2a004</td><td>TERMINATED</td><td>127.0.0.1:51972 </td><td style=\"text-align: right;\">          32</td><td style=\"text-align: right;\">         128</td><td style=\"text-align: right;\">0.0440592  </td><td style=\"text-align: right;\">        10000</td><td style=\"text-align: right;\">0.0152981  </td><td style=\"text-align: right;\">         17</td><td style=\"text-align: right;\">                  27</td><td style=\"text-align: right;\">   300</td><td style=\"text-align: right;\">         5.87228</td><td style=\"text-align: right;\">         9.32</td></tr>\n",
       "<tr><td>obj_017ffeb1</td><td>TERMINATED</td><td>127.0.0.1:18136 </td><td style=\"text-align: right;\">          32</td><td style=\"text-align: right;\">         128</td><td style=\"text-align: right;\">0.00965447 </td><td style=\"text-align: right;\">        10000</td><td style=\"text-align: right;\">0.0121232  </td><td style=\"text-align: right;\">         11</td><td style=\"text-align: right;\">                  24</td><td style=\"text-align: right;\">   300</td><td style=\"text-align: right;\">         5.20812</td><td style=\"text-align: right;\">         9.32</td></tr>\n",
       "<tr><td>obj_7cb7a55b</td><td>TERMINATED</td><td>127.0.0.1:86188 </td><td style=\"text-align: right;\">          32</td><td style=\"text-align: right;\">          64</td><td style=\"text-align: right;\">0.00817553 </td><td style=\"text-align: right;\">        10000</td><td style=\"text-align: right;\">0.00252772 </td><td style=\"text-align: right;\">         17</td><td style=\"text-align: right;\">                   7</td><td style=\"text-align: right;\">   300</td><td style=\"text-align: right;\">         5.57686</td><td style=\"text-align: right;\">         9.32</td></tr>\n",
       "<tr><td>obj_d40192c9</td><td>TERMINATED</td><td>127.0.0.1:69004 </td><td style=\"text-align: right;\">          32</td><td style=\"text-align: right;\">          64</td><td style=\"text-align: right;\">0.010037   </td><td style=\"text-align: right;\">        10000</td><td style=\"text-align: right;\">0.0045191  </td><td style=\"text-align: right;\">         11</td><td style=\"text-align: right;\">                  21</td><td style=\"text-align: right;\">   300</td><td style=\"text-align: right;\">         4.59756</td><td style=\"text-align: right;\">         9.32</td></tr>\n",
       "<tr><td>obj_210b1d7e</td><td>TERMINATED</td><td>127.0.0.1:110352</td><td style=\"text-align: right;\">          32</td><td style=\"text-align: right;\">          64</td><td style=\"text-align: right;\">0.0181175  </td><td style=\"text-align: right;\">        20000</td><td style=\"text-align: right;\">0.00228545 </td><td style=\"text-align: right;\">          6</td><td style=\"text-align: right;\">                   7</td><td style=\"text-align: right;\">   300</td><td style=\"text-align: right;\">         3.53077</td><td style=\"text-align: right;\">         9.32</td></tr>\n",
       "<tr><td>obj_22fdec1b</td><td>TERMINATED</td><td>127.0.0.1:84216 </td><td style=\"text-align: right;\">          32</td><td style=\"text-align: right;\">         128</td><td style=\"text-align: right;\">0.0207744  </td><td style=\"text-align: right;\">        20000</td><td style=\"text-align: right;\">0.0603126  </td><td style=\"text-align: right;\">         16</td><td style=\"text-align: right;\">                  14</td><td style=\"text-align: right;\">   400</td><td style=\"text-align: right;\">        12.4864 </td><td style=\"text-align: right;\">       165.26</td></tr>\n",
       "<tr><td>obj_81811b5c</td><td>TERMINATED</td><td>127.0.0.1:111944</td><td style=\"text-align: right;\">          32</td><td style=\"text-align: right;\">         128</td><td style=\"text-align: right;\">0.0293171  </td><td style=\"text-align: right;\">        20000</td><td style=\"text-align: right;\">0.022033   </td><td style=\"text-align: right;\">         16</td><td style=\"text-align: right;\">                  15</td><td style=\"text-align: right;\">   300</td><td style=\"text-align: right;\">         6.27651</td><td style=\"text-align: right;\">         9.42</td></tr>\n",
       "<tr><td>obj_5f20aec3</td><td>TERMINATED</td><td>127.0.0.1:112120</td><td style=\"text-align: right;\">          32</td><td style=\"text-align: right;\">         128</td><td style=\"text-align: right;\">0.0243361  </td><td style=\"text-align: right;\">        20000</td><td style=\"text-align: right;\">0.0237243  </td><td style=\"text-align: right;\">         16</td><td style=\"text-align: right;\">                  15</td><td style=\"text-align: right;\">   300</td><td style=\"text-align: right;\">         6.04731</td><td style=\"text-align: right;\">         9.32</td></tr>\n",
       "<tr><td>obj_9562d2ed</td><td>TERMINATED</td><td>127.0.0.1:78324 </td><td style=\"text-align: right;\">          32</td><td style=\"text-align: right;\">         128</td><td style=\"text-align: right;\">0.0585248  </td><td style=\"text-align: right;\">        20000</td><td style=\"text-align: right;\">0.0233461  </td><td style=\"text-align: right;\">         16</td><td style=\"text-align: right;\">                  15</td><td style=\"text-align: right;\">   400</td><td style=\"text-align: right;\">        10.0871 </td><td style=\"text-align: right;\">       104.08</td></tr>\n",
       "<tr><td>obj_a3d43640</td><td>TERMINATED</td><td>127.0.0.1:102596</td><td style=\"text-align: right;\">          64</td><td style=\"text-align: right;\">         128</td><td style=\"text-align: right;\">0.0621221  </td><td style=\"text-align: right;\">        50000</td><td style=\"text-align: right;\">0.0054953  </td><td style=\"text-align: right;\">         14</td><td style=\"text-align: right;\">                  31</td><td style=\"text-align: right;\">   300</td><td style=\"text-align: right;\">         5.34827</td><td style=\"text-align: right;\">        23.66</td></tr>\n",
       "<tr><td>obj_e5627df4</td><td>TERMINATED</td><td>127.0.0.1:2528  </td><td style=\"text-align: right;\">          64</td><td style=\"text-align: right;\">         128</td><td style=\"text-align: right;\">0.0058246  </td><td style=\"text-align: right;\">        50000</td><td style=\"text-align: right;\">0.0602719  </td><td style=\"text-align: right;\">         18</td><td style=\"text-align: right;\">                  31</td><td style=\"text-align: right;\">   400</td><td style=\"text-align: right;\">         8.36917</td><td style=\"text-align: right;\">        22.72</td></tr>\n",
       "<tr><td>obj_31571754</td><td>TERMINATED</td><td>127.0.0.1:109860</td><td style=\"text-align: right;\">          64</td><td style=\"text-align: right;\">         128</td><td style=\"text-align: right;\">0.000416152</td><td style=\"text-align: right;\">        50000</td><td style=\"text-align: right;\">0.0569137  </td><td style=\"text-align: right;\">         14</td><td style=\"text-align: right;\">                  32</td><td style=\"text-align: right;\">   300</td><td style=\"text-align: right;\">         4.73809</td><td style=\"text-align: right;\">        19.08</td></tr>\n",
       "<tr><td>obj_743e991f</td><td>TERMINATED</td><td>127.0.0.1:50864 </td><td style=\"text-align: right;\">         128</td><td style=\"text-align: right;\">         128</td><td style=\"text-align: right;\">0.000393414</td><td style=\"text-align: right;\">        50000</td><td style=\"text-align: right;\">0.056244   </td><td style=\"text-align: right;\">         18</td><td style=\"text-align: right;\">                   4</td><td style=\"text-align: right;\">   300</td><td style=\"text-align: right;\">         1.76173</td><td style=\"text-align: right;\">         9.42</td></tr>\n",
       "<tr><td>obj_38947278</td><td>TERMINATED</td><td>127.0.0.1:107032</td><td style=\"text-align: right;\">         128</td><td style=\"text-align: right;\">         128</td><td style=\"text-align: right;\">0.0157324  </td><td style=\"text-align: right;\">        20000</td><td style=\"text-align: right;\">0.00323353 </td><td style=\"text-align: right;\">         18</td><td style=\"text-align: right;\">                   2</td><td style=\"text-align: right;\">   300</td><td style=\"text-align: right;\">         1.71716</td><td style=\"text-align: right;\">         9.46</td></tr>\n",
       "<tr><td>obj_fd48df8c</td><td>TERMINATED</td><td>127.0.0.1:54060 </td><td style=\"text-align: right;\">          32</td><td style=\"text-align: right;\">         256</td><td style=\"text-align: right;\">0.00262941 </td><td style=\"text-align: right;\">        20000</td><td style=\"text-align: right;\">0.0115268  </td><td style=\"text-align: right;\">         12</td><td style=\"text-align: right;\">                   1</td><td style=\"text-align: right;\">   300</td><td style=\"text-align: right;\">         6.73048</td><td style=\"text-align: right;\">         9.42</td></tr>\n",
       "<tr><td>obj_ce9dd20d</td><td>TERMINATED</td><td>127.0.0.1:76680 </td><td style=\"text-align: right;\">          32</td><td style=\"text-align: right;\">         128</td><td style=\"text-align: right;\">0.024025   </td><td style=\"text-align: right;\">        20000</td><td style=\"text-align: right;\">0.00981601 </td><td style=\"text-align: right;\">         14</td><td style=\"text-align: right;\">                  21</td><td style=\"text-align: right;\">   300</td><td style=\"text-align: right;\">         8.08111</td><td style=\"text-align: right;\">         9.42</td></tr>\n",
       "<tr><td>obj_328d042b</td><td>TERMINATED</td><td>127.0.0.1:107356</td><td style=\"text-align: right;\">          32</td><td style=\"text-align: right;\">         128</td><td style=\"text-align: right;\">0.0130263  </td><td style=\"text-align: right;\">        20000</td><td style=\"text-align: right;\">0.0984289  </td><td style=\"text-align: right;\">         14</td><td style=\"text-align: right;\">                  20</td><td style=\"text-align: right;\">   300</td><td style=\"text-align: right;\">         6.66684</td><td style=\"text-align: right;\">         9.32</td></tr>\n",
       "<tr><td>obj_3bcc9858</td><td>TERMINATED</td><td>127.0.0.1:111708</td><td style=\"text-align: right;\">          32</td><td style=\"text-align: right;\">         128</td><td style=\"text-align: right;\">0.0130675  </td><td style=\"text-align: right;\">        20000</td><td style=\"text-align: right;\">0.0898963  </td><td style=\"text-align: right;\">         14</td><td style=\"text-align: right;\">                  93</td><td style=\"text-align: right;\">   300</td><td style=\"text-align: right;\">         7.04313</td><td style=\"text-align: right;\">        15.3 </td></tr>\n",
       "<tr><td>obj_49770f12</td><td>TERMINATED</td><td>127.0.0.1:62564 </td><td style=\"text-align: right;\">          32</td><td style=\"text-align: right;\">         128</td><td style=\"text-align: right;\">0.011961   </td><td style=\"text-align: right;\">        20000</td><td style=\"text-align: right;\">0.0996511  </td><td style=\"text-align: right;\">         15</td><td style=\"text-align: right;\">                  84</td><td style=\"text-align: right;\">   300</td><td style=\"text-align: right;\">         6.72623</td><td style=\"text-align: right;\">         9.42</td></tr>\n",
       "<tr><td>obj_f26c9130</td><td>TERMINATED</td><td>127.0.0.1:66540 </td><td style=\"text-align: right;\">          32</td><td style=\"text-align: right;\">         128</td><td style=\"text-align: right;\">0.0369838  </td><td style=\"text-align: right;\">        20000</td><td style=\"text-align: right;\">0.0733416  </td><td style=\"text-align: right;\">         11</td><td style=\"text-align: right;\">                   9</td><td style=\"text-align: right;\">   300</td><td style=\"text-align: right;\">         6.92947</td><td style=\"text-align: right;\">         9.42</td></tr>\n",
       "<tr><td>obj_0c030fa8</td><td>TERMINATED</td><td>127.0.0.1:68800 </td><td style=\"text-align: right;\">          32</td><td style=\"text-align: right;\">         128</td><td style=\"text-align: right;\">0.0363847  </td><td style=\"text-align: right;\">        20000</td><td style=\"text-align: right;\">0.0711087  </td><td style=\"text-align: right;\">         15</td><td style=\"text-align: right;\">                  11</td><td style=\"text-align: right;\">   300</td><td style=\"text-align: right;\">         6.73166</td><td style=\"text-align: right;\">         9.32</td></tr>\n",
       "<tr><td>obj_132bb490</td><td>TERMINATED</td><td>127.0.0.1:1176  </td><td style=\"text-align: right;\">          32</td><td style=\"text-align: right;\">         128</td><td style=\"text-align: right;\">0.0349247  </td><td style=\"text-align: right;\">        20000</td><td style=\"text-align: right;\">0.000740703</td><td style=\"text-align: right;\">         17</td><td style=\"text-align: right;\">                  10</td><td style=\"text-align: right;\">   400</td><td style=\"text-align: right;\">        11.2419 </td><td style=\"text-align: right;\">        61.22</td></tr>\n",
       "<tr><td>obj_dbc37f05</td><td>TERMINATED</td><td>127.0.0.1:110684</td><td style=\"text-align: right;\">          32</td><td style=\"text-align: right;\">         128</td><td style=\"text-align: right;\">0.0810388  </td><td style=\"text-align: right;\">        20000</td><td style=\"text-align: right;\">0.042576   </td><td style=\"text-align: right;\">         13</td><td style=\"text-align: right;\">                  12</td><td style=\"text-align: right;\">   400</td><td style=\"text-align: right;\">        15.0718 </td><td style=\"text-align: right;\">        78.8 </td></tr>\n",
       "<tr><td>obj_423499f4</td><td>TERMINATED</td><td>127.0.0.1:105368</td><td style=\"text-align: right;\">          32</td><td style=\"text-align: right;\">         512</td><td style=\"text-align: right;\">0.0791868  </td><td style=\"text-align: right;\">        20000</td><td style=\"text-align: right;\">0.0317469  </td><td style=\"text-align: right;\">         13</td><td style=\"text-align: right;\">                  28</td><td style=\"text-align: right;\">   300</td><td style=\"text-align: right;\">        17.631  </td><td style=\"text-align: right;\">         9.32</td></tr>\n",
       "<tr><td>obj_2bda8c81</td><td>TERMINATED</td><td>127.0.0.1:112044</td><td style=\"text-align: right;\">          32</td><td style=\"text-align: right;\">         512</td><td style=\"text-align: right;\">0.0792015  </td><td style=\"text-align: right;\">        20000</td><td style=\"text-align: right;\">0.037694   </td><td style=\"text-align: right;\">         13</td><td style=\"text-align: right;\">                  17</td><td style=\"text-align: right;\">   300</td><td style=\"text-align: right;\">        18.1163 </td><td style=\"text-align: right;\">         9.42</td></tr>\n",
       "<tr><td>obj_9c63c77f</td><td>TERMINATED</td><td>127.0.0.1:58068 </td><td style=\"text-align: right;\">          32</td><td style=\"text-align: right;\">         512</td><td style=\"text-align: right;\">0.0775617  </td><td style=\"text-align: right;\">        20000</td><td style=\"text-align: right;\">0.0341551  </td><td style=\"text-align: right;\">         13</td><td style=\"text-align: right;\">                  28</td><td style=\"text-align: right;\">   400</td><td style=\"text-align: right;\">        26.2419 </td><td style=\"text-align: right;\">        29.56</td></tr>\n",
       "<tr><td>obj_4cafb679</td><td>TERMINATED</td><td>127.0.0.1:111132</td><td style=\"text-align: right;\">         128</td><td style=\"text-align: right;\">         512</td><td style=\"text-align: right;\">0.0580695  </td><td style=\"text-align: right;\">        20000</td><td style=\"text-align: right;\">0.0355065  </td><td style=\"text-align: right;\">         12</td><td style=\"text-align: right;\">                  28</td><td style=\"text-align: right;\">   300</td><td style=\"text-align: right;\">         2.4869 </td><td style=\"text-align: right;\">         9.42</td></tr>\n",
       "<tr><td>obj_9136400c</td><td>TERMINATED</td><td>127.0.0.1:100856</td><td style=\"text-align: right;\">          32</td><td style=\"text-align: right;\">         128</td><td style=\"text-align: right;\">0.0538346  </td><td style=\"text-align: right;\">        20000</td><td style=\"text-align: right;\">0.00526572 </td><td style=\"text-align: right;\">         16</td><td style=\"text-align: right;\">                  18</td><td style=\"text-align: right;\">   400</td><td style=\"text-align: right;\">        13.5322 </td><td style=\"text-align: right;\">        89.04</td></tr>\n",
       "<tr><td>obj_7a3a0ad1</td><td>TERMINATED</td><td>127.0.0.1:108832</td><td style=\"text-align: right;\">          32</td><td style=\"text-align: right;\">         128</td><td style=\"text-align: right;\">0.0267138  </td><td style=\"text-align: right;\">        20000</td><td style=\"text-align: right;\">0.005349   </td><td style=\"text-align: right;\">         19</td><td style=\"text-align: right;\">                   5</td><td style=\"text-align: right;\">   300</td><td style=\"text-align: right;\">         8.20933</td><td style=\"text-align: right;\">        12.04</td></tr>\n",
       "<tr><td>obj_892882c5</td><td>TERMINATED</td><td>127.0.0.1:111292</td><td style=\"text-align: right;\">          32</td><td style=\"text-align: right;\">         128</td><td style=\"text-align: right;\">0.0926832  </td><td style=\"text-align: right;\">        20000</td><td style=\"text-align: right;\">0.00469462 </td><td style=\"text-align: right;\">         19</td><td style=\"text-align: right;\">                  56</td><td style=\"text-align: right;\">   300</td><td style=\"text-align: right;\">         7.65854</td><td style=\"text-align: right;\">        23.74</td></tr>\n",
       "<tr><td>obj_2947c60d</td><td>TERMINATED</td><td>127.0.0.1:37856 </td><td style=\"text-align: right;\">          32</td><td style=\"text-align: right;\">         128</td><td style=\"text-align: right;\">0.0959469  </td><td style=\"text-align: right;\">        20000</td><td style=\"text-align: right;\">0.00466913 </td><td style=\"text-align: right;\">          2</td><td style=\"text-align: right;\">                   6</td><td style=\"text-align: right;\">   300</td><td style=\"text-align: right;\">         3.47201</td><td style=\"text-align: right;\">         9.32</td></tr>\n",
       "<tr><td>obj_a83ec0ff</td><td>TERMINATED</td><td>127.0.0.1:97188 </td><td style=\"text-align: right;\">          32</td><td style=\"text-align: right;\">         128</td><td style=\"text-align: right;\">0.0974723  </td><td style=\"text-align: right;\">        20000</td><td style=\"text-align: right;\">0.000112228</td><td style=\"text-align: right;\">         17</td><td style=\"text-align: right;\">                  56</td><td style=\"text-align: right;\">   400</td><td style=\"text-align: right;\">        11.1683 </td><td style=\"text-align: right;\">        26.26</td></tr>\n",
       "<tr><td>obj_1a663c38</td><td>TERMINATED</td><td>127.0.0.1:105708</td><td style=\"text-align: right;\">          32</td><td style=\"text-align: right;\">          64</td><td style=\"text-align: right;\">0.0166565  </td><td style=\"text-align: right;\">        20000</td><td style=\"text-align: right;\">0.0473143  </td><td style=\"text-align: right;\">         18</td><td style=\"text-align: right;\">                  22</td><td style=\"text-align: right;\">   300</td><td style=\"text-align: right;\">         6.84479</td><td style=\"text-align: right;\">        11.72</td></tr>\n",
       "<tr><td>obj_ee99ac39</td><td>TERMINATED</td><td>127.0.0.1:111852</td><td style=\"text-align: right;\">          32</td><td style=\"text-align: right;\">          64</td><td style=\"text-align: right;\">0.019084   </td><td style=\"text-align: right;\">        20000</td><td style=\"text-align: right;\">0.00248275 </td><td style=\"text-align: right;\">         18</td><td style=\"text-align: right;\">                  22</td><td style=\"text-align: right;\">   300</td><td style=\"text-align: right;\">         5.83283</td><td style=\"text-align: right;\">         9.32</td></tr>\n",
       "<tr><td>obj_c6defe93</td><td>TERMINATED</td><td>127.0.0.1:28548 </td><td style=\"text-align: right;\">          32</td><td style=\"text-align: right;\">          64</td><td style=\"text-align: right;\">0.0160798  </td><td style=\"text-align: right;\">        10000</td><td style=\"text-align: right;\">0.000185013</td><td style=\"text-align: right;\">          9</td><td style=\"text-align: right;\">                  22</td><td style=\"text-align: right;\">   300</td><td style=\"text-align: right;\">         4.45631</td><td style=\"text-align: right;\">         9.32</td></tr>\n",
       "<tr><td>obj_630f73b8</td><td>TERMINATED</td><td>127.0.0.1:70220 </td><td style=\"text-align: right;\">          32</td><td style=\"text-align: right;\">         256</td><td style=\"text-align: right;\">0.0220748  </td><td style=\"text-align: right;\">        10000</td><td style=\"text-align: right;\">0.000251672</td><td style=\"text-align: right;\">          9</td><td style=\"text-align: right;\">                  13</td><td style=\"text-align: right;\">   400</td><td style=\"text-align: right;\">        10.0305 </td><td style=\"text-align: right;\">        48.92</td></tr>\n",
       "<tr><td>obj_02806dbd</td><td>TERMINATED</td><td>127.0.0.1:106292</td><td style=\"text-align: right;\">          32</td><td style=\"text-align: right;\">         128</td><td style=\"text-align: right;\">0.0619667  </td><td style=\"text-align: right;\">        20000</td><td style=\"text-align: right;\">0.0238337  </td><td style=\"text-align: right;\">         16</td><td style=\"text-align: right;\">                  15</td><td style=\"text-align: right;\">   400</td><td style=\"text-align: right;\">        12.1428 </td><td style=\"text-align: right;\">        50.24</td></tr>\n",
       "<tr><td>obj_7ea6d4e4</td><td>TERMINATED</td><td>127.0.0.1:52568 </td><td style=\"text-align: right;\">          32</td><td style=\"text-align: right;\">         128</td><td style=\"text-align: right;\">0.051481   </td><td style=\"text-align: right;\">        20000</td><td style=\"text-align: right;\">0.0244711  </td><td style=\"text-align: right;\">         16</td><td style=\"text-align: right;\">                  14</td><td style=\"text-align: right;\">   300</td><td style=\"text-align: right;\">         6.39102</td><td style=\"text-align: right;\">         9.32</td></tr>\n",
       "<tr><td>obj_77be53fe</td><td>TERMINATED</td><td>127.0.0.1:33448 </td><td style=\"text-align: right;\">          32</td><td style=\"text-align: right;\">         128</td><td style=\"text-align: right;\">0.0503025  </td><td style=\"text-align: right;\">        20000</td><td style=\"text-align: right;\">0.0219801  </td><td style=\"text-align: right;\">         16</td><td style=\"text-align: right;\">                   8</td><td style=\"text-align: right;\">   300</td><td style=\"text-align: right;\">         6.12441</td><td style=\"text-align: right;\">         9.42</td></tr>\n",
       "<tr><td>obj_97571d35</td><td>TERMINATED</td><td>127.0.0.1:26432 </td><td style=\"text-align: right;\">          32</td><td style=\"text-align: right;\">         128</td><td style=\"text-align: right;\">0.0539957  </td><td style=\"text-align: right;\">        20000</td><td style=\"text-align: right;\">0.0067405  </td><td style=\"text-align: right;\">         16</td><td style=\"text-align: right;\">                  15</td><td style=\"text-align: right;\">   400</td><td style=\"text-align: right;\">        12.351  </td><td style=\"text-align: right;\">        87.6 </td></tr>\n",
       "<tr><td>obj_4c7ab009</td><td>TERMINATED</td><td>127.0.0.1:70576 </td><td style=\"text-align: right;\">          32</td><td style=\"text-align: right;\">         128</td><td style=\"text-align: right;\">0.0290459  </td><td style=\"text-align: right;\">        20000</td><td style=\"text-align: right;\">0.00893115 </td><td style=\"text-align: right;\">         15</td><td style=\"text-align: right;\">                   9</td><td style=\"text-align: right;\">   300</td><td style=\"text-align: right;\">         6.09431</td><td style=\"text-align: right;\">        11.38</td></tr>\n",
       "<tr><td>obj_6ba02c88</td><td>TERMINATED</td><td>127.0.0.1:106040</td><td style=\"text-align: right;\">         128</td><td style=\"text-align: right;\">         128</td><td style=\"text-align: right;\">0.0298382  </td><td style=\"text-align: right;\">        20000</td><td style=\"text-align: right;\">0.00859576 </td><td style=\"text-align: right;\">         15</td><td style=\"text-align: right;\">                  35</td><td style=\"text-align: right;\">   300</td><td style=\"text-align: right;\">         1.91892</td><td style=\"text-align: right;\">        11.16</td></tr>\n",
       "<tr><td>obj_56ab6687</td><td>TERMINATED</td><td>127.0.0.1:47344 </td><td style=\"text-align: right;\">          32</td><td style=\"text-align: right;\">         128</td><td style=\"text-align: right;\">0.0292689  </td><td style=\"text-align: right;\">        20000</td><td style=\"text-align: right;\">0.00907595 </td><td style=\"text-align: right;\">         15</td><td style=\"text-align: right;\">                  18</td><td style=\"text-align: right;\">   300</td><td style=\"text-align: right;\">         6.18678</td><td style=\"text-align: right;\">        21.66</td></tr>\n",
       "<tr><td>obj_0fdc839f</td><td>TERMINATED</td><td>127.0.0.1:63192 </td><td style=\"text-align: right;\">          64</td><td style=\"text-align: right;\">         128</td><td style=\"text-align: right;\">0.0384326  </td><td style=\"text-align: right;\">        50000</td><td style=\"text-align: right;\">0.00380278 </td><td style=\"text-align: right;\">         11</td><td style=\"text-align: right;\">                  19</td><td style=\"text-align: right;\">   300</td><td style=\"text-align: right;\">         4.66375</td><td style=\"text-align: right;\">         9.42</td></tr>\n",
       "<tr><td>obj_27301b49</td><td>TERMINATED</td><td>127.0.0.1:105108</td><td style=\"text-align: right;\">          64</td><td style=\"text-align: right;\">         128</td><td style=\"text-align: right;\">0.069069   </td><td style=\"text-align: right;\">        50000</td><td style=\"text-align: right;\">0.0136462  </td><td style=\"text-align: right;\">         11</td><td style=\"text-align: right;\">                   4</td><td style=\"text-align: right;\">   300</td><td style=\"text-align: right;\">         4.4511 </td><td style=\"text-align: right;\">         9.32</td></tr>\n",
       "<tr><td>obj_e45055c3</td><td>TERMINATED</td><td>127.0.0.1:71160 </td><td style=\"text-align: right;\">         128</td><td style=\"text-align: right;\">         128</td><td style=\"text-align: right;\">0.0425023  </td><td style=\"text-align: right;\">        50000</td><td style=\"text-align: right;\">0.00179478 </td><td style=\"text-align: right;\">          5</td><td style=\"text-align: right;\">                   4</td><td style=\"text-align: right;\">   400</td><td style=\"text-align: right;\">         5.90585</td><td style=\"text-align: right;\">        56.62</td></tr>\n",
       "<tr><td>obj_48065b47</td><td>TERMINATED</td><td>127.0.0.1:24880 </td><td style=\"text-align: right;\">         128</td><td style=\"text-align: right;\">         128</td><td style=\"text-align: right;\">0.011011   </td><td style=\"text-align: right;\">        50000</td><td style=\"text-align: right;\">0.00169218 </td><td style=\"text-align: right;\">          5</td><td style=\"text-align: right;\">                   6</td><td style=\"text-align: right;\">   400</td><td style=\"text-align: right;\">         6.97903</td><td style=\"text-align: right;\">       160.72</td></tr>\n",
       "<tr><td>obj_9d96124f</td><td>TERMINATED</td><td>127.0.0.1:63584 </td><td style=\"text-align: right;\">         128</td><td style=\"text-align: right;\">         128</td><td style=\"text-align: right;\">0.0100191  </td><td style=\"text-align: right;\">        50000</td><td style=\"text-align: right;\">0.0016577  </td><td style=\"text-align: right;\">          5</td><td style=\"text-align: right;\">                   3</td><td style=\"text-align: right;\">   300</td><td style=\"text-align: right;\">         3.88619</td><td style=\"text-align: right;\">         9.42</td></tr>\n",
       "<tr><td>obj_cdf12ffc</td><td>TERMINATED</td><td>127.0.0.1:68632 </td><td style=\"text-align: right;\">         128</td><td style=\"text-align: right;\">         128</td><td style=\"text-align: right;\">0.00684319 </td><td style=\"text-align: right;\">        50000</td><td style=\"text-align: right;\">0.00106945 </td><td style=\"text-align: right;\">         17</td><td style=\"text-align: right;\">                   1</td><td style=\"text-align: right;\">   300</td><td style=\"text-align: right;\">         7.14753</td><td style=\"text-align: right;\">        11.34</td></tr>\n",
       "<tr><td>obj_65efd6cd</td><td>TERMINATED</td><td>127.0.0.1:108676</td><td style=\"text-align: right;\">         128</td><td style=\"text-align: right;\">         128</td><td style=\"text-align: right;\">0.00553583 </td><td style=\"text-align: right;\">        50000</td><td style=\"text-align: right;\">0.000988501</td><td style=\"text-align: right;\">         12</td><td style=\"text-align: right;\">                   7</td><td style=\"text-align: right;\">   300</td><td style=\"text-align: right;\">         1.89144</td><td style=\"text-align: right;\">         9.42</td></tr>\n",
       "<tr><td>obj_40cec7f1</td><td>TERMINATED</td><td>127.0.0.1:22180 </td><td style=\"text-align: right;\">         128</td><td style=\"text-align: right;\">         128</td><td style=\"text-align: right;\">0.0225558  </td><td style=\"text-align: right;\">        50000</td><td style=\"text-align: right;\">0.000839773</td><td style=\"text-align: right;\">         10</td><td style=\"text-align: right;\">                  12</td><td style=\"text-align: right;\">   300</td><td style=\"text-align: right;\">         2.47208</td><td style=\"text-align: right;\">         9.32</td></tr>\n",
       "<tr><td>obj_8c1622c5</td><td>TERMINATED</td><td>127.0.0.1:109724</td><td style=\"text-align: right;\">          32</td><td style=\"text-align: right;\">         256</td><td style=\"text-align: right;\">0.00244455 </td><td style=\"text-align: right;\">        10000</td><td style=\"text-align: right;\">0.0463871  </td><td style=\"text-align: right;\">         10</td><td style=\"text-align: right;\">                  12</td><td style=\"text-align: right;\">   300</td><td style=\"text-align: right;\">         7.58869</td><td style=\"text-align: right;\">        19.18</td></tr>\n",
       "<tr><td>obj_facd2c41</td><td>TERMINATED</td><td>127.0.0.1:106100</td><td style=\"text-align: right;\">          32</td><td style=\"text-align: right;\">         256</td><td style=\"text-align: right;\">0.0143655  </td><td style=\"text-align: right;\">        10000</td><td style=\"text-align: right;\">0.0455959  </td><td style=\"text-align: right;\">         12</td><td style=\"text-align: right;\">                  24</td><td style=\"text-align: right;\">   300</td><td style=\"text-align: right;\">         6.86916</td><td style=\"text-align: right;\">        10.54</td></tr>\n",
       "<tr><td>obj_cf4b67f5</td><td>TERMINATED</td><td>127.0.0.1:104196</td><td style=\"text-align: right;\">          32</td><td style=\"text-align: right;\">         128</td><td style=\"text-align: right;\">0.0194214  </td><td style=\"text-align: right;\">        20000</td><td style=\"text-align: right;\">0.0616899  </td><td style=\"text-align: right;\">          8</td><td style=\"text-align: right;\">                  24</td><td style=\"text-align: right;\">   300</td><td style=\"text-align: right;\">         4.58765</td><td style=\"text-align: right;\">         9.42</td></tr>\n",
       "<tr><td>obj_a68b9fe6</td><td>TERMINATED</td><td>127.0.0.1:44344 </td><td style=\"text-align: right;\">          32</td><td style=\"text-align: right;\">         128</td><td style=\"text-align: right;\">0.064282   </td><td style=\"text-align: right;\">        20000</td><td style=\"text-align: right;\">0.074272   </td><td style=\"text-align: right;\">         12</td><td style=\"text-align: right;\">                  24</td><td style=\"text-align: right;\">   300</td><td style=\"text-align: right;\">         5.37935</td><td style=\"text-align: right;\">         9.5 </td></tr>\n",
       "<tr><td>obj_545159a0</td><td>TERMINATED</td><td>127.0.0.1:24176 </td><td style=\"text-align: right;\">         128</td><td style=\"text-align: right;\">         128</td><td style=\"text-align: right;\">0.0105335  </td><td style=\"text-align: right;\">        50000</td><td style=\"text-align: right;\">0.000508268</td><td style=\"text-align: right;\">          3</td><td style=\"text-align: right;\">                   9</td><td style=\"text-align: right;\">   300</td><td style=\"text-align: right;\">         3.45743</td><td style=\"text-align: right;\">        11.5 </td></tr>\n",
       "<tr><td>obj_c39d8ad4</td><td>TERMINATED</td><td>127.0.0.1:106988</td><td style=\"text-align: right;\">         128</td><td style=\"text-align: right;\">         128</td><td style=\"text-align: right;\">0.00991513 </td><td style=\"text-align: right;\">        50000</td><td style=\"text-align: right;\">0.00293281 </td><td style=\"text-align: right;\">          3</td><td style=\"text-align: right;\">                   9</td><td style=\"text-align: right;\">   300</td><td style=\"text-align: right;\">         3.26387</td><td style=\"text-align: right;\">         9.42</td></tr>\n",
       "<tr><td>obj_676bc0fb</td><td>TERMINATED</td><td>127.0.0.1:105904</td><td style=\"text-align: right;\">         128</td><td style=\"text-align: right;\">         128</td><td style=\"text-align: right;\">0.0117076  </td><td style=\"text-align: right;\">        50000</td><td style=\"text-align: right;\">0.00194597 </td><td style=\"text-align: right;\">          4</td><td style=\"text-align: right;\">                   6</td><td style=\"text-align: right;\">   300</td><td style=\"text-align: right;\">         3.84163</td><td style=\"text-align: right;\">         9.32</td></tr>\n",
       "<tr><td>obj_a65c88d7</td><td>TERMINATED</td><td>127.0.0.1:100856</td><td style=\"text-align: right;\">         128</td><td style=\"text-align: right;\">         128</td><td style=\"text-align: right;\">0.0116816  </td><td style=\"text-align: right;\">        50000</td><td style=\"text-align: right;\">0.00221019 </td><td style=\"text-align: right;\">          4</td><td style=\"text-align: right;\">                  17</td><td style=\"text-align: right;\">   400</td><td style=\"text-align: right;\">         5.34168</td><td style=\"text-align: right;\">        76.96</td></tr>\n",
       "<tr><td>obj_f3899ce3</td><td>TERMINATED</td><td>127.0.0.1:71460 </td><td style=\"text-align: right;\">         128</td><td style=\"text-align: right;\">         128</td><td style=\"text-align: right;\">0.024301   </td><td style=\"text-align: right;\">        20000</td><td style=\"text-align: right;\">0.00150502 </td><td style=\"text-align: right;\">          4</td><td style=\"text-align: right;\">                  17</td><td style=\"text-align: right;\">   300</td><td style=\"text-align: right;\">         3.7543 </td><td style=\"text-align: right;\">         9.32</td></tr>\n",
       "<tr><td>obj_49b6007f</td><td>TERMINATED</td><td>127.0.0.1:50012 </td><td style=\"text-align: right;\">         128</td><td style=\"text-align: right;\">         128</td><td style=\"text-align: right;\">0.0335925  </td><td style=\"text-align: right;\">        20000</td><td style=\"text-align: right;\">0.00649797 </td><td style=\"text-align: right;\">          4</td><td style=\"text-align: right;\">                  17</td><td style=\"text-align: right;\">   400</td><td style=\"text-align: right;\">         6.0351 </td><td style=\"text-align: right;\">       253.76</td></tr>\n",
       "<tr><td>obj_e7863b89</td><td>TERMINATED</td><td>127.0.0.1:106876</td><td style=\"text-align: right;\">          32</td><td style=\"text-align: right;\">         128</td><td style=\"text-align: right;\">0.0468975  </td><td style=\"text-align: right;\">        20000</td><td style=\"text-align: right;\">0.00125225 </td><td style=\"text-align: right;\">          6</td><td style=\"text-align: right;\">                  14</td><td style=\"text-align: right;\">   400</td><td style=\"text-align: right;\">         7.15853</td><td style=\"text-align: right;\">        69.24</td></tr>\n",
       "<tr><td>obj_868f8d5b</td><td>TERMINATED</td><td>127.0.0.1:107964</td><td style=\"text-align: right;\">          32</td><td style=\"text-align: right;\">         128</td><td style=\"text-align: right;\">0.0340606  </td><td style=\"text-align: right;\">        20000</td><td style=\"text-align: right;\">0.0279038  </td><td style=\"text-align: right;\">         19</td><td style=\"text-align: right;\">                  43</td><td style=\"text-align: right;\">   300</td><td style=\"text-align: right;\">         6.42023</td><td style=\"text-align: right;\">         9.32</td></tr>\n",
       "<tr><td>obj_6f2c2fd1</td><td>TERMINATED</td><td>127.0.0.1:111576</td><td style=\"text-align: right;\">          32</td><td style=\"text-align: right;\">         128</td><td style=\"text-align: right;\">0.0447248  </td><td style=\"text-align: right;\">        20000</td><td style=\"text-align: right;\">0.00352438 </td><td style=\"text-align: right;\">          6</td><td style=\"text-align: right;\">                  14</td><td style=\"text-align: right;\">   400</td><td style=\"text-align: right;\">         7.43595</td><td style=\"text-align: right;\">       108.24</td></tr>\n",
       "<tr><td>obj_ce116b28</td><td>TERMINATED</td><td>127.0.0.1:112460</td><td style=\"text-align: right;\">          32</td><td style=\"text-align: right;\">         128</td><td style=\"text-align: right;\">0.0325634  </td><td style=\"text-align: right;\">        20000</td><td style=\"text-align: right;\">0.0111246  </td><td style=\"text-align: right;\">         19</td><td style=\"text-align: right;\">                  20</td><td style=\"text-align: right;\">   400</td><td style=\"text-align: right;\">        12.5727 </td><td style=\"text-align: right;\">       183.34</td></tr>\n",
       "<tr><td>obj_11630667</td><td>TERMINATED</td><td>127.0.0.1:48348 </td><td style=\"text-align: right;\">          32</td><td style=\"text-align: right;\">         128</td><td style=\"text-align: right;\">0.0445793  </td><td style=\"text-align: right;\">        20000</td><td style=\"text-align: right;\">0.00666478 </td><td style=\"text-align: right;\">         18</td><td style=\"text-align: right;\">                  11</td><td style=\"text-align: right;\">   400</td><td style=\"text-align: right;\">        14.4595 </td><td style=\"text-align: right;\">       124.76</td></tr>\n",
       "<tr><td>obj_a26b63fa</td><td>TERMINATED</td><td>127.0.0.1:106184</td><td style=\"text-align: right;\">          32</td><td style=\"text-align: right;\">         128</td><td style=\"text-align: right;\">0.0383271  </td><td style=\"text-align: right;\">        20000</td><td style=\"text-align: right;\">0.0064283  </td><td style=\"text-align: right;\">          5</td><td style=\"text-align: right;\">                  11</td><td style=\"text-align: right;\">   300</td><td style=\"text-align: right;\">         4.20019</td><td style=\"text-align: right;\">         9.42</td></tr>\n",
       "<tr><td>obj_ead50c50</td><td>TERMINATED</td><td>127.0.0.1:108032</td><td style=\"text-align: right;\">          32</td><td style=\"text-align: right;\">         128</td><td style=\"text-align: right;\">0.0254866  </td><td style=\"text-align: right;\">        20000</td><td style=\"text-align: right;\">0.00369226 </td><td style=\"text-align: right;\">          7</td><td style=\"text-align: right;\">                  20</td><td style=\"text-align: right;\">   400</td><td style=\"text-align: right;\">         6.943  </td><td style=\"text-align: right;\">        74.24</td></tr>\n",
       "<tr><td>obj_00461676</td><td>TERMINATED</td><td>127.0.0.1:111344</td><td style=\"text-align: right;\">          32</td><td style=\"text-align: right;\">         128</td><td style=\"text-align: right;\">0.0255944  </td><td style=\"text-align: right;\">        20000</td><td style=\"text-align: right;\">0.0115428  </td><td style=\"text-align: right;\">         18</td><td style=\"text-align: right;\">                  21</td><td style=\"text-align: right;\">   400</td><td style=\"text-align: right;\">        17.2238 </td><td style=\"text-align: right;\">       239.98</td></tr>\n",
       "<tr><td>obj_7af0df04</td><td>TERMINATED</td><td>127.0.0.1:70112 </td><td style=\"text-align: right;\">          32</td><td style=\"text-align: right;\">         128</td><td style=\"text-align: right;\">0.0265808  </td><td style=\"text-align: right;\">        20000</td><td style=\"text-align: right;\">0.00610376 </td><td style=\"text-align: right;\">          7</td><td style=\"text-align: right;\">                  13</td><td style=\"text-align: right;\">   300</td><td style=\"text-align: right;\">         4.90477</td><td style=\"text-align: right;\">         9.42</td></tr>\n",
       "<tr><td>obj_dc03d432</td><td>TERMINATED</td><td>127.0.0.1:103236</td><td style=\"text-align: right;\">          32</td><td style=\"text-align: right;\">         128</td><td style=\"text-align: right;\">0.0420077  </td><td style=\"text-align: right;\">        20000</td><td style=\"text-align: right;\">0.00636387 </td><td style=\"text-align: right;\">         18</td><td style=\"text-align: right;\">                  26</td><td style=\"text-align: right;\">   400</td><td style=\"text-align: right;\">        11.3236 </td><td style=\"text-align: right;\">       143.9 </td></tr>\n",
       "<tr><td>obj_408abf69</td><td>TERMINATED</td><td>127.0.0.1:104148</td><td style=\"text-align: right;\">          32</td><td style=\"text-align: right;\">         128</td><td style=\"text-align: right;\">0.0331892  </td><td style=\"text-align: right;\">        20000</td><td style=\"text-align: right;\">0.0109046  </td><td style=\"text-align: right;\">         18</td><td style=\"text-align: right;\">                  26</td><td style=\"text-align: right;\">   300</td><td style=\"text-align: right;\">         6.63188</td><td style=\"text-align: right;\">         9.52</td></tr>\n",
       "<tr><td>obj_a35c6a04</td><td>TERMINATED</td><td>127.0.0.1:110168</td><td style=\"text-align: right;\">          32</td><td style=\"text-align: right;\">         128</td><td style=\"text-align: right;\">0.0188696  </td><td style=\"text-align: right;\">        20000</td><td style=\"text-align: right;\">0.0110493  </td><td style=\"text-align: right;\">         18</td><td style=\"text-align: right;\">                  27</td><td style=\"text-align: right;\">   300</td><td style=\"text-align: right;\">         6.15913</td><td style=\"text-align: right;\">         9.42</td></tr>\n",
       "<tr><td>obj_aa0b702e</td><td>TERMINATED</td><td>127.0.0.1:36784 </td><td style=\"text-align: right;\">          32</td><td style=\"text-align: right;\">         128</td><td style=\"text-align: right;\">0.0184894  </td><td style=\"text-align: right;\">        20000</td><td style=\"text-align: right;\">0.0109927  </td><td style=\"text-align: right;\">         18</td><td style=\"text-align: right;\">                  27</td><td style=\"text-align: right;\">   300</td><td style=\"text-align: right;\">         6.82587</td><td style=\"text-align: right;\">         9.46</td></tr>\n",
       "<tr><td>obj_3880ddf3</td><td>TERMINATED</td><td>127.0.0.1:8456  </td><td style=\"text-align: right;\">          32</td><td style=\"text-align: right;\">         128</td><td style=\"text-align: right;\">0.0164801  </td><td style=\"text-align: right;\">        20000</td><td style=\"text-align: right;\">0.0124588  </td><td style=\"text-align: right;\">         18</td><td style=\"text-align: right;\">                  30</td><td style=\"text-align: right;\">   300</td><td style=\"text-align: right;\">         6.28411</td><td style=\"text-align: right;\">         9.42</td></tr>\n",
       "<tr><td>obj_62dd2303</td><td>TERMINATED</td><td>127.0.0.1:102720</td><td style=\"text-align: right;\">          32</td><td style=\"text-align: right;\">         128</td><td style=\"text-align: right;\">0.0207389  </td><td style=\"text-align: right;\">        20000</td><td style=\"text-align: right;\">0.0080052  </td><td style=\"text-align: right;\">         19</td><td style=\"text-align: right;\">                  19</td><td style=\"text-align: right;\">   400</td><td style=\"text-align: right;\">        12.3964 </td><td style=\"text-align: right;\">       114.42</td></tr>\n",
       "<tr><td>obj_2811afad</td><td>TERMINATED</td><td>127.0.0.1:67548 </td><td style=\"text-align: right;\">          32</td><td style=\"text-align: right;\">         128</td><td style=\"text-align: right;\">0.0396542  </td><td style=\"text-align: right;\">        20000</td><td style=\"text-align: right;\">0.00772825 </td><td style=\"text-align: right;\">         19</td><td style=\"text-align: right;\">                  19</td><td style=\"text-align: right;\">   300</td><td style=\"text-align: right;\">         7.0955 </td><td style=\"text-align: right;\">         9.46</td></tr>\n",
       "<tr><td>obj_6d96a862</td><td>TERMINATED</td><td>127.0.0.1:88172 </td><td style=\"text-align: right;\">          32</td><td style=\"text-align: right;\">         128</td><td style=\"text-align: right;\">0.0418041  </td><td style=\"text-align: right;\">        20000</td><td style=\"text-align: right;\">0.00780098 </td><td style=\"text-align: right;\">         19</td><td style=\"text-align: right;\">                  20</td><td style=\"text-align: right;\">   300</td><td style=\"text-align: right;\">         7.04188</td><td style=\"text-align: right;\">         9.42</td></tr>\n",
       "<tr><td>obj_991baa19</td><td>TERMINATED</td><td>127.0.0.1:90220 </td><td style=\"text-align: right;\">          32</td><td style=\"text-align: right;\">         128</td><td style=\"text-align: right;\">0.0423926  </td><td style=\"text-align: right;\">        20000</td><td style=\"text-align: right;\">0.00789245 </td><td style=\"text-align: right;\">         19</td><td style=\"text-align: right;\">                  20</td><td style=\"text-align: right;\">   400</td><td style=\"text-align: right;\">        11.2741 </td><td style=\"text-align: right;\">       110.26</td></tr>\n",
       "<tr><td>obj_90a82b76</td><td>TERMINATED</td><td>127.0.0.1:109876</td><td style=\"text-align: right;\">          32</td><td style=\"text-align: right;\">         128</td><td style=\"text-align: right;\">0.0206198  </td><td style=\"text-align: right;\">        20000</td><td style=\"text-align: right;\">0.00421538 </td><td style=\"text-align: right;\">         19</td><td style=\"text-align: right;\">                  20</td><td style=\"text-align: right;\">   400</td><td style=\"text-align: right;\">        11.9922 </td><td style=\"text-align: right;\">       163.68</td></tr>\n",
       "<tr><td>obj_8b575d97</td><td>TERMINATED</td><td>127.0.0.1:86248 </td><td style=\"text-align: right;\">          32</td><td style=\"text-align: right;\">         128</td><td style=\"text-align: right;\">0.0217319  </td><td style=\"text-align: right;\">        20000</td><td style=\"text-align: right;\">0.0154251  </td><td style=\"text-align: right;\">         17</td><td style=\"text-align: right;\">                  35</td><td style=\"text-align: right;\">   300</td><td style=\"text-align: right;\">         6.4869 </td><td style=\"text-align: right;\">         9.42</td></tr>\n",
       "<tr><td>obj_da4595df</td><td>TERMINATED</td><td>127.0.0.1:105132</td><td style=\"text-align: right;\">          32</td><td style=\"text-align: right;\">         128</td><td style=\"text-align: right;\">0.0224229  </td><td style=\"text-align: right;\">        20000</td><td style=\"text-align: right;\">0.016166   </td><td style=\"text-align: right;\">         17</td><td style=\"text-align: right;\">                  23</td><td style=\"text-align: right;\">   400</td><td style=\"text-align: right;\">        12.7472 </td><td style=\"text-align: right;\">       120.24</td></tr>\n",
       "<tr><td>obj_ab58e9f7</td><td>TERMINATED</td><td>127.0.0.1:105212</td><td style=\"text-align: right;\">          64</td><td style=\"text-align: right;\">         128</td><td style=\"text-align: right;\">0.021393   </td><td style=\"text-align: right;\">        10000</td><td style=\"text-align: right;\">0.0188502  </td><td style=\"text-align: right;\">         17</td><td style=\"text-align: right;\">                  23</td><td style=\"text-align: right;\">   300</td><td style=\"text-align: right;\">         4.17782</td><td style=\"text-align: right;\">         9.76</td></tr>\n",
       "<tr><td>obj_70b3e7e8</td><td>TERMINATED</td><td>127.0.0.1:111164</td><td style=\"text-align: right;\">          64</td><td style=\"text-align: right;\">         512</td><td style=\"text-align: right;\">0.0325031  </td><td style=\"text-align: right;\">        10000</td><td style=\"text-align: right;\">0.00574259 </td><td style=\"text-align: right;\">         19</td><td style=\"text-align: right;\">                  23</td><td style=\"text-align: right;\">   300</td><td style=\"text-align: right;\">         6.73153</td><td style=\"text-align: right;\">        10.06</td></tr>\n",
       "<tr><td>obj_04542657</td><td>TERMINATED</td><td>127.0.0.1:103460</td><td style=\"text-align: right;\">          32</td><td style=\"text-align: right;\">         512</td><td style=\"text-align: right;\">0.0320024  </td><td style=\"text-align: right;\">        20000</td><td style=\"text-align: right;\">0.00555933 </td><td style=\"text-align: right;\">         19</td><td style=\"text-align: right;\">                  30</td><td style=\"text-align: right;\">   356</td><td style=\"text-align: right;\">        42.0486 </td><td style=\"text-align: right;\">       377.3 </td></tr>\n",
       "<tr><td>obj_e79c087f</td><td>TERMINATED</td><td>127.0.0.1:97164 </td><td style=\"text-align: right;\">          32</td><td style=\"text-align: right;\">         512</td><td style=\"text-align: right;\">0.0321756  </td><td style=\"text-align: right;\">        20000</td><td style=\"text-align: right;\">0.00424049 </td><td style=\"text-align: right;\">         18</td><td style=\"text-align: right;\">                  30</td><td style=\"text-align: right;\">   400</td><td style=\"text-align: right;\">        32.5311 </td><td style=\"text-align: right;\">        40.34</td></tr>\n",
       "<tr><td>obj_78948acc</td><td>TERMINATED</td><td>127.0.0.1:105672</td><td style=\"text-align: right;\">          32</td><td style=\"text-align: right;\">         128</td><td style=\"text-align: right;\">0.0261477  </td><td style=\"text-align: right;\">        20000</td><td style=\"text-align: right;\">0.00467299 </td><td style=\"text-align: right;\">         18</td><td style=\"text-align: right;\">                  17</td><td style=\"text-align: right;\">   300</td><td style=\"text-align: right;\">        10.0993 </td><td style=\"text-align: right;\">         9.32</td></tr>\n",
       "<tr><td>obj_6f657bd9</td><td>TERMINATED</td><td>127.0.0.1:8496  </td><td style=\"text-align: right;\">          32</td><td style=\"text-align: right;\">         128</td><td style=\"text-align: right;\">0.0275944  </td><td style=\"text-align: right;\">        20000</td><td style=\"text-align: right;\">0.0041911  </td><td style=\"text-align: right;\">         18</td><td style=\"text-align: right;\">                  29</td><td style=\"text-align: right;\">   300</td><td style=\"text-align: right;\">         9.80955</td><td style=\"text-align: right;\">         9.32</td></tr>\n",
       "<tr><td>obj_58896cda</td><td>TERMINATED</td><td>127.0.0.1:102984</td><td style=\"text-align: right;\">          32</td><td style=\"text-align: right;\">         128</td><td style=\"text-align: right;\">0.0285817  </td><td style=\"text-align: right;\">        20000</td><td style=\"text-align: right;\">0.00969461 </td><td style=\"text-align: right;\">         19</td><td style=\"text-align: right;\">                  30</td><td style=\"text-align: right;\">   300</td><td style=\"text-align: right;\">         8.97203</td><td style=\"text-align: right;\">         9.42</td></tr>\n",
       "<tr><td>obj_d8325c9d</td><td>TERMINATED</td><td>127.0.0.1:108652</td><td style=\"text-align: right;\">          32</td><td style=\"text-align: right;\">         128</td><td style=\"text-align: right;\">0.0143806  </td><td style=\"text-align: right;\">        20000</td><td style=\"text-align: right;\">0.00958507 </td><td style=\"text-align: right;\">         18</td><td style=\"text-align: right;\">                  29</td><td style=\"text-align: right;\">   400</td><td style=\"text-align: right;\">        16.2271 </td><td style=\"text-align: right;\">       147.12</td></tr>\n",
       "<tr><td>obj_29d67655</td><td>TERMINATED</td><td>127.0.0.1:71804 </td><td style=\"text-align: right;\">          32</td><td style=\"text-align: right;\">         128</td><td style=\"text-align: right;\">0.013346   </td><td style=\"text-align: right;\">        20000</td><td style=\"text-align: right;\">0.00974985 </td><td style=\"text-align: right;\">         19</td><td style=\"text-align: right;\">                  21</td><td style=\"text-align: right;\">   300</td><td style=\"text-align: right;\">         7.04321</td><td style=\"text-align: right;\">         9.42</td></tr>\n",
       "<tr><td>obj_1a619328</td><td>TERMINATED</td><td>127.0.0.1:111400</td><td style=\"text-align: right;\">          32</td><td style=\"text-align: right;\">         512</td><td style=\"text-align: right;\">0.0148276  </td><td style=\"text-align: right;\">        20000</td><td style=\"text-align: right;\">0.00294308 </td><td style=\"text-align: right;\">         17</td><td style=\"text-align: right;\">                  26</td><td style=\"text-align: right;\">   300</td><td style=\"text-align: right;\">        16.2645 </td><td style=\"text-align: right;\">         9.32</td></tr>\n",
       "<tr><td>obj_0f6e1366</td><td>TERMINATED</td><td>127.0.0.1:70280 </td><td style=\"text-align: right;\">          32</td><td style=\"text-align: right;\">          64</td><td style=\"text-align: right;\">0.0525826  </td><td style=\"text-align: right;\">        20000</td><td style=\"text-align: right;\">0.00287109 </td><td style=\"text-align: right;\">         17</td><td style=\"text-align: right;\">                  33</td><td style=\"text-align: right;\">   300</td><td style=\"text-align: right;\">         6.33549</td><td style=\"text-align: right;\">        14.1 </td></tr>\n",
       "<tr><td>obj_8f610ab3</td><td>TERMINATED</td><td>127.0.0.1:13964 </td><td style=\"text-align: right;\">         128</td><td style=\"text-align: right;\">         512</td><td style=\"text-align: right;\">0.0530289  </td><td style=\"text-align: right;\">        20000</td><td style=\"text-align: right;\">0.00294529 </td><td style=\"text-align: right;\">         18</td><td style=\"text-align: right;\">                  26</td><td style=\"text-align: right;\">   300</td><td style=\"text-align: right;\">        11.5064 </td><td style=\"text-align: right;\">         9.72</td></tr>\n",
       "<tr><td>obj_d3ad3b75</td><td>TERMINATED</td><td>127.0.0.1:70440 </td><td style=\"text-align: right;\">         128</td><td style=\"text-align: right;\">         512</td><td style=\"text-align: right;\">0.0545704  </td><td style=\"text-align: right;\">        20000</td><td style=\"text-align: right;\">0.00296515 </td><td style=\"text-align: right;\">         18</td><td style=\"text-align: right;\">                  25</td><td style=\"text-align: right;\">   400</td><td style=\"text-align: right;\">        49.7696 </td><td style=\"text-align: right;\">        24.74</td></tr>\n",
       "<tr><td>obj_7b3d0bc4</td><td>TERMINATED</td><td>127.0.0.1:48532 </td><td style=\"text-align: right;\">         128</td><td style=\"text-align: right;\">         512</td><td style=\"text-align: right;\">0.0578559  </td><td style=\"text-align: right;\">        20000</td><td style=\"text-align: right;\">0.00626395 </td><td style=\"text-align: right;\">         18</td><td style=\"text-align: right;\">                  34</td><td style=\"text-align: right;\">   300</td><td style=\"text-align: right;\">         2.07427</td><td style=\"text-align: right;\">         9.42</td></tr>\n",
       "<tr><td>obj_8af5b682</td><td>TERMINATED</td><td>127.0.0.1:70892 </td><td style=\"text-align: right;\">          32</td><td style=\"text-align: right;\">         128</td><td style=\"text-align: right;\">0.0236324  </td><td style=\"text-align: right;\">        20000</td><td style=\"text-align: right;\">0.00633732 </td><td style=\"text-align: right;\">         18</td><td style=\"text-align: right;\">                  66</td><td style=\"text-align: right;\">   300</td><td style=\"text-align: right;\">         8.57456</td><td style=\"text-align: right;\">         9.54</td></tr>\n",
       "<tr><td>obj_1ba4a834</td><td>TERMINATED</td><td>127.0.0.1:77044 </td><td style=\"text-align: right;\">          32</td><td style=\"text-align: right;\">         128</td><td style=\"text-align: right;\">0.0230942  </td><td style=\"text-align: right;\">        20000</td><td style=\"text-align: right;\">0.00538728 </td><td style=\"text-align: right;\">         19</td><td style=\"text-align: right;\">                  38</td><td style=\"text-align: right;\">   300</td><td style=\"text-align: right;\">         7.1836 </td><td style=\"text-align: right;\">         9.32</td></tr>\n",
       "<tr><td>obj_141b6466</td><td>TERMINATED</td><td>127.0.0.1:75720 </td><td style=\"text-align: right;\">          32</td><td style=\"text-align: right;\">         128</td><td style=\"text-align: right;\">0.0173861  </td><td style=\"text-align: right;\">        20000</td><td style=\"text-align: right;\">0.00570461 </td><td style=\"text-align: right;\">         19</td><td style=\"text-align: right;\">                  22</td><td style=\"text-align: right;\">   300</td><td style=\"text-align: right;\">         7.16195</td><td style=\"text-align: right;\">         9.42</td></tr>\n",
       "<tr><td>obj_120c5386</td><td>TERMINATED</td><td>127.0.0.1:8916  </td><td style=\"text-align: right;\">          32</td><td style=\"text-align: right;\">         128</td><td style=\"text-align: right;\">0.0340977  </td><td style=\"text-align: right;\">        20000</td><td style=\"text-align: right;\">0.00695484 </td><td style=\"text-align: right;\">         19</td><td style=\"text-align: right;\">                  79</td><td style=\"text-align: right;\">   300</td><td style=\"text-align: right;\">        10.8699 </td><td style=\"text-align: right;\">         9.32</td></tr>\n",
       "<tr><td>obj_d4fb7d4e</td><td>TERMINATED</td><td>127.0.0.1:102940</td><td style=\"text-align: right;\">          32</td><td style=\"text-align: right;\">         128</td><td style=\"text-align: right;\">0.0171052  </td><td style=\"text-align: right;\">        20000</td><td style=\"text-align: right;\">0.0123575  </td><td style=\"text-align: right;\">         17</td><td style=\"text-align: right;\">                  25</td><td style=\"text-align: right;\">   300</td><td style=\"text-align: right;\">         7.10295</td><td style=\"text-align: right;\">         9.32</td></tr>\n",
       "<tr><td>obj_0a15c3bc</td><td>TERMINATED</td><td>127.0.0.1:56812 </td><td style=\"text-align: right;\">          32</td><td style=\"text-align: right;\">         256</td><td style=\"text-align: right;\">0.0353776  </td><td style=\"text-align: right;\">        20000</td><td style=\"text-align: right;\">0.0126571  </td><td style=\"text-align: right;\">         17</td><td style=\"text-align: right;\">                  82</td><td style=\"text-align: right;\">   300</td><td style=\"text-align: right;\">         9.25897</td><td style=\"text-align: right;\">         9.42</td></tr>\n",
       "<tr><td>obj_a979cba6</td><td>TERMINATED</td><td>127.0.0.1:107352</td><td style=\"text-align: right;\">          32</td><td style=\"text-align: right;\">         256</td><td style=\"text-align: right;\">0.0696476  </td><td style=\"text-align: right;\">        20000</td><td style=\"text-align: right;\">0.0124494  </td><td style=\"text-align: right;\">         17</td><td style=\"text-align: right;\">                  17</td><td style=\"text-align: right;\">   400</td><td style=\"text-align: right;\">        14.7843 </td><td style=\"text-align: right;\">        80.06</td></tr>\n",
       "<tr><td>obj_e4ed6a6f</td><td>TERMINATED</td><td>127.0.0.1:108916</td><td style=\"text-align: right;\">          32</td><td style=\"text-align: right;\">         256</td><td style=\"text-align: right;\">0.00870867 </td><td style=\"text-align: right;\">        10000</td><td style=\"text-align: right;\">0.0136262  </td><td style=\"text-align: right;\">         17</td><td style=\"text-align: right;\">                  16</td><td style=\"text-align: right;\">   300</td><td style=\"text-align: right;\">         8.85954</td><td style=\"text-align: right;\">         9.42</td></tr>\n",
       "<tr><td>obj_009fe5e9</td><td>TERMINATED</td><td>127.0.0.1:80952 </td><td style=\"text-align: right;\">          32</td><td style=\"text-align: right;\">         128</td><td style=\"text-align: right;\">0.0711235  </td><td style=\"text-align: right;\">        10000</td><td style=\"text-align: right;\">0.0162071  </td><td style=\"text-align: right;\">         18</td><td style=\"text-align: right;\">                  16</td><td style=\"text-align: right;\">   400</td><td style=\"text-align: right;\">        12.5161 </td><td style=\"text-align: right;\">        68.44</td></tr>\n",
       "<tr><td>obj_e3361497</td><td>TERMINATED</td><td>127.0.0.1:108832</td><td style=\"text-align: right;\">          32</td><td style=\"text-align: right;\">         128</td><td style=\"text-align: right;\">0.0734822  </td><td style=\"text-align: right;\">        10000</td><td style=\"text-align: right;\">0.0145668  </td><td style=\"text-align: right;\">         18</td><td style=\"text-align: right;\">                  16</td><td style=\"text-align: right;\">   400</td><td style=\"text-align: right;\">        11.7651 </td><td style=\"text-align: right;\">        61.34</td></tr>\n",
       "<tr><td>obj_148e2f3b</td><td>TERMINATED</td><td>127.0.0.1:111436</td><td style=\"text-align: right;\">          32</td><td style=\"text-align: right;\">         128</td><td style=\"text-align: right;\">0.0204848  </td><td style=\"text-align: right;\">        20000</td><td style=\"text-align: right;\">0.0082567  </td><td style=\"text-align: right;\">         19</td><td style=\"text-align: right;\">                  18</td><td style=\"text-align: right;\">   300</td><td style=\"text-align: right;\">         7.08564</td><td style=\"text-align: right;\">        10.16</td></tr>\n",
       "<tr><td>obj_f48ebbdb</td><td>TERMINATED</td><td>127.0.0.1:105840</td><td style=\"text-align: right;\">          32</td><td style=\"text-align: right;\">         128</td><td style=\"text-align: right;\">0.0200124  </td><td style=\"text-align: right;\">        20000</td><td style=\"text-align: right;\">0.00796391 </td><td style=\"text-align: right;\">         19</td><td style=\"text-align: right;\">                  20</td><td style=\"text-align: right;\">   400</td><td style=\"text-align: right;\">        12.4439 </td><td style=\"text-align: right;\">       118.96</td></tr>\n",
       "<tr><td>obj_d31ad6fe</td><td>TERMINATED</td><td>127.0.0.1:108144</td><td style=\"text-align: right;\">          32</td><td style=\"text-align: right;\">         128</td><td style=\"text-align: right;\">0.0190021  </td><td style=\"text-align: right;\">        20000</td><td style=\"text-align: right;\">0.0085106  </td><td style=\"text-align: right;\">         19</td><td style=\"text-align: right;\">                  19</td><td style=\"text-align: right;\">   300</td><td style=\"text-align: right;\">         6.93931</td><td style=\"text-align: right;\">         9.42</td></tr>\n",
       "<tr><td>obj_3cf867a5</td><td>TERMINATED</td><td>127.0.0.1:111448</td><td style=\"text-align: right;\">          32</td><td style=\"text-align: right;\">         128</td><td style=\"text-align: right;\">0.0148462  </td><td style=\"text-align: right;\">        20000</td><td style=\"text-align: right;\">0.00724333 </td><td style=\"text-align: right;\">         19</td><td style=\"text-align: right;\">                  22</td><td style=\"text-align: right;\">   400</td><td style=\"text-align: right;\">        10.7875 </td><td style=\"text-align: right;\">        57.28</td></tr>\n",
       "<tr><td>obj_426ca04e</td><td>TERMINATED</td><td>127.0.0.1:112528</td><td style=\"text-align: right;\">          32</td><td style=\"text-align: right;\">         128</td><td style=\"text-align: right;\">0.0143457  </td><td style=\"text-align: right;\">        20000</td><td style=\"text-align: right;\">0.00734052 </td><td style=\"text-align: right;\">         19</td><td style=\"text-align: right;\">                  22</td><td style=\"text-align: right;\">   300</td><td style=\"text-align: right;\">         6.84306</td><td style=\"text-align: right;\">        16.7 </td></tr>\n",
       "<tr><td>obj_1078bc51</td><td>TERMINATED</td><td>127.0.0.1:7268  </td><td style=\"text-align: right;\">          32</td><td style=\"text-align: right;\">         128</td><td style=\"text-align: right;\">0.0148668  </td><td style=\"text-align: right;\">        20000</td><td style=\"text-align: right;\">0.00489765 </td><td style=\"text-align: right;\">         19</td><td style=\"text-align: right;\">                  23</td><td style=\"text-align: right;\">   300</td><td style=\"text-align: right;\">         7.12166</td><td style=\"text-align: right;\">        10.28</td></tr>\n",
       "<tr><td>obj_ca4d90c2</td><td>TERMINATED</td><td>127.0.0.1:105244</td><td style=\"text-align: right;\">          32</td><td style=\"text-align: right;\">         128</td><td style=\"text-align: right;\">0.0284634  </td><td style=\"text-align: right;\">        20000</td><td style=\"text-align: right;\">0.00494353 </td><td style=\"text-align: right;\">         18</td><td style=\"text-align: right;\">                  13</td><td style=\"text-align: right;\">   300</td><td style=\"text-align: right;\">         6.44188</td><td style=\"text-align: right;\">         9.42</td></tr>\n",
       "<tr><td>obj_fc9fa817</td><td>TERMINATED</td><td>127.0.0.1:110896</td><td style=\"text-align: right;\">          32</td><td style=\"text-align: right;\">         128</td><td style=\"text-align: right;\">0.0294495  </td><td style=\"text-align: right;\">        20000</td><td style=\"text-align: right;\">0.00498939 </td><td style=\"text-align: right;\">          2</td><td style=\"text-align: right;\">                  29</td><td style=\"text-align: right;\">   400</td><td style=\"text-align: right;\">         5.48441</td><td style=\"text-align: right;\">       147.26</td></tr>\n",
       "<tr><td>obj_ecee67cc</td><td>TERMINATED</td><td>127.0.0.1:49500 </td><td style=\"text-align: right;\">          32</td><td style=\"text-align: right;\">         128</td><td style=\"text-align: right;\">0.0294749  </td><td style=\"text-align: right;\">        20000</td><td style=\"text-align: right;\">0.00998219 </td><td style=\"text-align: right;\">          2</td><td style=\"text-align: right;\">                  28</td><td style=\"text-align: right;\">   400</td><td style=\"text-align: right;\">         5.1119 </td><td style=\"text-align: right;\">        72.82</td></tr>\n",
       "<tr><td>obj_00acec14</td><td>TERMINATED</td><td>127.0.0.1:107896</td><td style=\"text-align: right;\">         128</td><td style=\"text-align: right;\">          64</td><td style=\"text-align: right;\">0.0366729  </td><td style=\"text-align: right;\">        20000</td><td style=\"text-align: right;\">0.00990752 </td><td style=\"text-align: right;\">         18</td><td style=\"text-align: right;\">                  10</td><td style=\"text-align: right;\">   300</td><td style=\"text-align: right;\">         2.27281</td><td style=\"text-align: right;\">         9.32</td></tr>\n",
       "<tr><td>obj_5b730e2d</td><td>TERMINATED</td><td>127.0.0.1:52512 </td><td style=\"text-align: right;\">          32</td><td style=\"text-align: right;\">         128</td><td style=\"text-align: right;\">0.0245284  </td><td style=\"text-align: right;\">        20000</td><td style=\"text-align: right;\">0.00398837 </td><td style=\"text-align: right;\">          2</td><td style=\"text-align: right;\">                  32</td><td style=\"text-align: right;\">   300</td><td style=\"text-align: right;\">         3.16656</td><td style=\"text-align: right;\">         9.32</td></tr>\n",
       "<tr><td>obj_b15afac7</td><td>TERMINATED</td><td>127.0.0.1:97656 </td><td style=\"text-align: right;\">          32</td><td style=\"text-align: right;\">         128</td><td style=\"text-align: right;\">0.0245924  </td><td style=\"text-align: right;\">        20000</td><td style=\"text-align: right;\">0.0039766  </td><td style=\"text-align: right;\">          3</td><td style=\"text-align: right;\">                  28</td><td style=\"text-align: right;\">   400</td><td style=\"text-align: right;\">         7.14799</td><td style=\"text-align: right;\">       155.22</td></tr>\n",
       "<tr><td>obj_2296216b</td><td>TERMINATED</td><td>127.0.0.1:112504</td><td style=\"text-align: right;\">          32</td><td style=\"text-align: right;\">         128</td><td style=\"text-align: right;\">0.0472073  </td><td style=\"text-align: right;\">        20000</td><td style=\"text-align: right;\">0.00638227 </td><td style=\"text-align: right;\">          3</td><td style=\"text-align: right;\">                  37</td><td style=\"text-align: right;\">   400</td><td style=\"text-align: right;\">         6.39989</td><td style=\"text-align: right;\">       102.8 </td></tr>\n",
       "<tr><td>obj_8646bdf7</td><td>TERMINATED</td><td>127.0.0.1:76228 </td><td style=\"text-align: right;\">          32</td><td style=\"text-align: right;\">         128</td><td style=\"text-align: right;\">0.000974741</td><td style=\"text-align: right;\">        20000</td><td style=\"text-align: right;\">0.00660901 </td><td style=\"text-align: right;\">          3</td><td style=\"text-align: right;\">                  37</td><td style=\"text-align: right;\">   300</td><td style=\"text-align: right;\">         3.76368</td><td style=\"text-align: right;\">         9.42</td></tr>\n",
       "<tr><td>obj_905012eb</td><td>TERMINATED</td><td>127.0.0.1:13128 </td><td style=\"text-align: right;\">          32</td><td style=\"text-align: right;\">         128</td><td style=\"text-align: right;\">0.0468038  </td><td style=\"text-align: right;\">        20000</td><td style=\"text-align: right;\">0.00566845 </td><td style=\"text-align: right;\">          3</td><td style=\"text-align: right;\">                  32</td><td style=\"text-align: right;\">   300</td><td style=\"text-align: right;\">         3.82063</td><td style=\"text-align: right;\">        23.5 </td></tr>\n",
       "<tr><td>obj_2df45289</td><td>TERMINATED</td><td>127.0.0.1:105172</td><td style=\"text-align: right;\">          32</td><td style=\"text-align: right;\">         128</td><td style=\"text-align: right;\">0.038808   </td><td style=\"text-align: right;\">        20000</td><td style=\"text-align: right;\">0.00364765 </td><td style=\"text-align: right;\">          2</td><td style=\"text-align: right;\">                  29</td><td style=\"text-align: right;\">   400</td><td style=\"text-align: right;\">         4.78071</td><td style=\"text-align: right;\">        91.76</td></tr>\n",
       "<tr><td>obj_dfbcbd5a</td><td>TERMINATED</td><td>127.0.0.1:104212</td><td style=\"text-align: right;\">          32</td><td style=\"text-align: right;\">         128</td><td style=\"text-align: right;\">0.0402424  </td><td style=\"text-align: right;\">        20000</td><td style=\"text-align: right;\">0.00354771 </td><td style=\"text-align: right;\">          2</td><td style=\"text-align: right;\">                  26</td><td style=\"text-align: right;\">   400</td><td style=\"text-align: right;\">         5.63025</td><td style=\"text-align: right;\">        88.72</td></tr>\n",
       "<tr><td>obj_8eed8f0b</td><td>TERMINATED</td><td>127.0.0.1:110776</td><td style=\"text-align: right;\">          32</td><td style=\"text-align: right;\">         128</td><td style=\"text-align: right;\">0.025614   </td><td style=\"text-align: right;\">        20000</td><td style=\"text-align: right;\">0.00347525 </td><td style=\"text-align: right;\">          2</td><td style=\"text-align: right;\">                  25</td><td style=\"text-align: right;\">   400</td><td style=\"text-align: right;\">         5.76066</td><td style=\"text-align: right;\">        71.84</td></tr>\n",
       "<tr><td>obj_6a22ada8</td><td>TERMINATED</td><td>127.0.0.1:96940 </td><td style=\"text-align: right;\">          32</td><td style=\"text-align: right;\">         128</td><td style=\"text-align: right;\">0.00012955 </td><td style=\"text-align: right;\">        20000</td><td style=\"text-align: right;\">0.00426668 </td><td style=\"text-align: right;\">          4</td><td style=\"text-align: right;\">                  27</td><td style=\"text-align: right;\">   300</td><td style=\"text-align: right;\">         4.00416</td><td style=\"text-align: right;\">         9.32</td></tr>\n",
       "<tr><td>obj_2398df3a</td><td>TERMINATED</td><td>127.0.0.1:22180 </td><td style=\"text-align: right;\">          32</td><td style=\"text-align: right;\">         128</td><td style=\"text-align: right;\">0.0247804  </td><td style=\"text-align: right;\">        20000</td><td style=\"text-align: right;\">0.00479582 </td><td style=\"text-align: right;\">          4</td><td style=\"text-align: right;\">                  52</td><td style=\"text-align: right;\">   300</td><td style=\"text-align: right;\">         3.96791</td><td style=\"text-align: right;\">         9.32</td></tr>\n",
       "<tr><td>obj_ac80747a</td><td>TERMINATED</td><td>127.0.0.1:109272</td><td style=\"text-align: right;\">          32</td><td style=\"text-align: right;\">         128</td><td style=\"text-align: right;\">0.0312773  </td><td style=\"text-align: right;\">        20000</td><td style=\"text-align: right;\">0.0049837  </td><td style=\"text-align: right;\">         18</td><td style=\"text-align: right;\">                  21</td><td style=\"text-align: right;\">   300</td><td style=\"text-align: right;\">         7.25196</td><td style=\"text-align: right;\">        14.22</td></tr>\n",
       "<tr><td>obj_a8562472</td><td>TERMINATED</td><td>127.0.0.1:37856 </td><td style=\"text-align: right;\">          32</td><td style=\"text-align: right;\">         128</td><td style=\"text-align: right;\">0.0313246  </td><td style=\"text-align: right;\">        20000</td><td style=\"text-align: right;\">0.00523615 </td><td style=\"text-align: right;\">         19</td><td style=\"text-align: right;\">                  20</td><td style=\"text-align: right;\">   300</td><td style=\"text-align: right;\">         7.49709</td><td style=\"text-align: right;\">        14.56</td></tr>\n",
       "<tr><td>obj_4e8310aa</td><td>TERMINATED</td><td>127.0.0.1:112292</td><td style=\"text-align: right;\">          32</td><td style=\"text-align: right;\">         128</td><td style=\"text-align: right;\">0.0322335  </td><td style=\"text-align: right;\">        20000</td><td style=\"text-align: right;\">0.00878278 </td><td style=\"text-align: right;\">         19</td><td style=\"text-align: right;\">                  20</td><td style=\"text-align: right;\">   300</td><td style=\"text-align: right;\">         7.55551</td><td style=\"text-align: right;\">         9.32</td></tr>\n",
       "<tr><td>obj_404e84f5</td><td>TERMINATED</td><td>127.0.0.1:32404 </td><td style=\"text-align: right;\">          32</td><td style=\"text-align: right;\">         128</td><td style=\"text-align: right;\">0.0213999  </td><td style=\"text-align: right;\">        20000</td><td style=\"text-align: right;\">0.00897069 </td><td style=\"text-align: right;\">         19</td><td style=\"text-align: right;\">                  29</td><td style=\"text-align: right;\">   300</td><td style=\"text-align: right;\">         7.61217</td><td style=\"text-align: right;\">         9.32</td></tr>\n",
       "<tr><td>obj_fd04e395</td><td>TERMINATED</td><td>127.0.0.1:17744 </td><td style=\"text-align: right;\">         128</td><td style=\"text-align: right;\">         128</td><td style=\"text-align: right;\">0.0200006  </td><td style=\"text-align: right;\">        20000</td><td style=\"text-align: right;\">0.00869385 </td><td style=\"text-align: right;\">          5</td><td style=\"text-align: right;\">                  24</td><td style=\"text-align: right;\">   300</td><td style=\"text-align: right;\">         4.76623</td><td style=\"text-align: right;\">         9.42</td></tr>\n",
       "<tr><td>obj_d6a353e0</td><td>TERMINATED</td><td>127.0.0.1:58348 </td><td style=\"text-align: right;\">         128</td><td style=\"text-align: right;\">         128</td><td style=\"text-align: right;\">0.0214074  </td><td style=\"text-align: right;\">        20000</td><td style=\"text-align: right;\">0.00676009 </td><td style=\"text-align: right;\">         17</td><td style=\"text-align: right;\">                  24</td><td style=\"text-align: right;\">   300</td><td style=\"text-align: right;\">         1.90573</td><td style=\"text-align: right;\">         9.32</td></tr>\n",
       "<tr><td>obj_45fc48bf</td><td>TERMINATED</td><td>127.0.0.1:52496 </td><td style=\"text-align: right;\">          64</td><td style=\"text-align: right;\">         512</td><td style=\"text-align: right;\">0.0171966  </td><td style=\"text-align: right;\">        50000</td><td style=\"text-align: right;\">0.00701938 </td><td style=\"text-align: right;\">          3</td><td style=\"text-align: right;\">                  14</td><td style=\"text-align: right;\">   300</td><td style=\"text-align: right;\">         7.07745</td><td style=\"text-align: right;\">         9.32</td></tr>\n",
       "<tr><td>obj_6766d7a2</td><td>TERMINATED</td><td>127.0.0.1:48836 </td><td style=\"text-align: right;\">          64</td><td style=\"text-align: right;\">         128</td><td style=\"text-align: right;\">0.0171235  </td><td style=\"text-align: right;\">        50000</td><td style=\"text-align: right;\">0.0189391  </td><td style=\"text-align: right;\">         18</td><td style=\"text-align: right;\">                  18</td><td style=\"text-align: right;\">   400</td><td style=\"text-align: right;\">        14.1279 </td><td style=\"text-align: right;\">        35.2 </td></tr>\n",
       "<tr><td>obj_c8e91ba3</td><td>TERMINATED</td><td>127.0.0.1:8456  </td><td style=\"text-align: right;\">          64</td><td style=\"text-align: right;\">         512</td><td style=\"text-align: right;\">0.000165599</td><td style=\"text-align: right;\">        20000</td><td style=\"text-align: right;\">0.00577853 </td><td style=\"text-align: right;\">         18</td><td style=\"text-align: right;\">                  31</td><td style=\"text-align: right;\">   300</td><td style=\"text-align: right;\">        16.7124 </td><td style=\"text-align: right;\">        11.38</td></tr>\n",
       "<tr><td>obj_9f491ab9</td><td>TERMINATED</td><td>127.0.0.1:108756</td><td style=\"text-align: right;\">          32</td><td style=\"text-align: right;\">         128</td><td style=\"text-align: right;\">0.0268251  </td><td style=\"text-align: right;\">        20000</td><td style=\"text-align: right;\">0.0201512  </td><td style=\"text-align: right;\">         18</td><td style=\"text-align: right;\">                  18</td><td style=\"text-align: right;\">   300</td><td style=\"text-align: right;\">         8.54351</td><td style=\"text-align: right;\">         9.42</td></tr>\n",
       "<tr><td>obj_d323fd8a</td><td>TERMINATED</td><td>127.0.0.1:110388</td><td style=\"text-align: right;\">          32</td><td style=\"text-align: right;\">         128</td><td style=\"text-align: right;\">0.0126777  </td><td style=\"text-align: right;\">        20000</td><td style=\"text-align: right;\">0.00593107 </td><td style=\"text-align: right;\">         18</td><td style=\"text-align: right;\">                  31</td><td style=\"text-align: right;\">   300</td><td style=\"text-align: right;\">        10.6635 </td><td style=\"text-align: right;\">         9.42</td></tr>\n",
       "<tr><td>obj_4f920e38</td><td>TERMINATED</td><td>127.0.0.1:18548 </td><td style=\"text-align: right;\">          32</td><td style=\"text-align: right;\">         128</td><td style=\"text-align: right;\">0.0227865  </td><td style=\"text-align: right;\">        20000</td><td style=\"text-align: right;\">0.00582908 </td><td style=\"text-align: right;\">         19</td><td style=\"text-align: right;\">                  22</td><td style=\"text-align: right;\">   300</td><td style=\"text-align: right;\">         6.96231</td><td style=\"text-align: right;\">         9.32</td></tr>\n",
       "<tr><td>obj_fe6436e7</td><td>TERMINATED</td><td>127.0.0.1:102524</td><td style=\"text-align: right;\">          32</td><td style=\"text-align: right;\">         128</td><td style=\"text-align: right;\">0.0215531  </td><td style=\"text-align: right;\">        20000</td><td style=\"text-align: right;\">0.0112229  </td><td style=\"text-align: right;\">         19</td><td style=\"text-align: right;\">                  22</td><td style=\"text-align: right;\">   300</td><td style=\"text-align: right;\">         7.41623</td><td style=\"text-align: right;\">        10.1 </td></tr>\n",
       "<tr><td>obj_e3717fd8</td><td>TERMINATED</td><td>127.0.0.1:70332 </td><td style=\"text-align: right;\">          32</td><td style=\"text-align: right;\">         128</td><td style=\"text-align: right;\">0.0235313  </td><td style=\"text-align: right;\">        20000</td><td style=\"text-align: right;\">0.0112996  </td><td style=\"text-align: right;\">         19</td><td style=\"text-align: right;\">                  11</td><td style=\"text-align: right;\">   400</td><td style=\"text-align: right;\">        13.1134 </td><td style=\"text-align: right;\">       116.6 </td></tr>\n",
       "<tr><td>obj_251912f8</td><td>TERMINATED</td><td>127.0.0.1:76444 </td><td style=\"text-align: right;\">          32</td><td style=\"text-align: right;\">         128</td><td style=\"text-align: right;\">0.0211844  </td><td style=\"text-align: right;\">        20000</td><td style=\"text-align: right;\">0.00772955 </td><td style=\"text-align: right;\">         19</td><td style=\"text-align: right;\">                  11</td><td style=\"text-align: right;\">   300</td><td style=\"text-align: right;\">         7.39052</td><td style=\"text-align: right;\">         9.42</td></tr>\n",
       "<tr><td>obj_0859ba2d</td><td>TERMINATED</td><td>127.0.0.1:101984</td><td style=\"text-align: right;\">          32</td><td style=\"text-align: right;\">         128</td><td style=\"text-align: right;\">0.0189917  </td><td style=\"text-align: right;\">        20000</td><td style=\"text-align: right;\">0.00772378 </td><td style=\"text-align: right;\">         19</td><td style=\"text-align: right;\">                  12</td><td style=\"text-align: right;\">   400</td><td style=\"text-align: right;\">        12.6882 </td><td style=\"text-align: right;\">       113.86</td></tr>\n",
       "<tr><td>obj_f3e3a7dc</td><td>TERMINATED</td><td>127.0.0.1:22208 </td><td style=\"text-align: right;\">          32</td><td style=\"text-align: right;\">         128</td><td style=\"text-align: right;\">0.019662   </td><td style=\"text-align: right;\">        20000</td><td style=\"text-align: right;\">0.007826   </td><td style=\"text-align: right;\">         19</td><td style=\"text-align: right;\">                  15</td><td style=\"text-align: right;\">   300</td><td style=\"text-align: right;\">         7.55269</td><td style=\"text-align: right;\">         9.42</td></tr>\n",
       "<tr><td>obj_3baa5062</td><td>TERMINATED</td><td>127.0.0.1:84752 </td><td style=\"text-align: right;\">          32</td><td style=\"text-align: right;\">         128</td><td style=\"text-align: right;\">0.0272958  </td><td style=\"text-align: right;\">        20000</td><td style=\"text-align: right;\">0.0143129  </td><td style=\"text-align: right;\">         19</td><td style=\"text-align: right;\">                   9</td><td style=\"text-align: right;\">   400</td><td style=\"text-align: right;\">        12.8533 </td><td style=\"text-align: right;\">       164.68</td></tr>\n",
       "<tr><td>obj_b79d2915</td><td>TERMINATED</td><td>127.0.0.1:112228</td><td style=\"text-align: right;\">          32</td><td style=\"text-align: right;\">         128</td><td style=\"text-align: right;\">0.0362074  </td><td style=\"text-align: right;\">        20000</td><td style=\"text-align: right;\">0.0109009  </td><td style=\"text-align: right;\">         19</td><td style=\"text-align: right;\">                   7</td><td style=\"text-align: right;\">   300</td><td style=\"text-align: right;\">         6.7923 </td><td style=\"text-align: right;\">         9.42</td></tr>\n",
       "<tr><td>obj_98f67841</td><td>TERMINATED</td><td>127.0.0.1:71156 </td><td style=\"text-align: right;\">          32</td><td style=\"text-align: right;\">         128</td><td style=\"text-align: right;\">0.0272475  </td><td style=\"text-align: right;\">        10000</td><td style=\"text-align: right;\">0.0107448  </td><td style=\"text-align: right;\">         18</td><td style=\"text-align: right;\">                   7</td><td style=\"text-align: right;\">   400</td><td style=\"text-align: right;\">        13.3328 </td><td style=\"text-align: right;\">        78.2 </td></tr>\n",
       "<tr><td>obj_f399b7f3</td><td>TERMINATED</td><td>127.0.0.1:96732 </td><td style=\"text-align: right;\">          32</td><td style=\"text-align: right;\">         128</td><td style=\"text-align: right;\">0.0353876  </td><td style=\"text-align: right;\">        10000</td><td style=\"text-align: right;\">0.0100796  </td><td style=\"text-align: right;\">         18</td><td style=\"text-align: right;\">                  27</td><td style=\"text-align: right;\">   300</td><td style=\"text-align: right;\">         7.78799</td><td style=\"text-align: right;\">         9.36</td></tr>\n",
       "<tr><td>obj_0160c0e6</td><td>TERMINATED</td><td>127.0.0.1:82196 </td><td style=\"text-align: right;\">          32</td><td style=\"text-align: right;\">         128</td><td style=\"text-align: right;\">0.0271007  </td><td style=\"text-align: right;\">        20000</td><td style=\"text-align: right;\">0.0157733  </td><td style=\"text-align: right;\">         18</td><td style=\"text-align: right;\">                   9</td><td style=\"text-align: right;\">   300</td><td style=\"text-align: right;\">         6.88535</td><td style=\"text-align: right;\">         9.32</td></tr>\n",
       "<tr><td>obj_2dd8d86a</td><td>TERMINATED</td><td>127.0.0.1:107744</td><td style=\"text-align: right;\">          32</td><td style=\"text-align: right;\">         128</td><td style=\"text-align: right;\">0.0281177  </td><td style=\"text-align: right;\">        20000</td><td style=\"text-align: right;\">0.0163305  </td><td style=\"text-align: right;\">         18</td><td style=\"text-align: right;\">                   8</td><td style=\"text-align: right;\">   400</td><td style=\"text-align: right;\">        12.5996 </td><td style=\"text-align: right;\">       135.48</td></tr>\n",
       "<tr><td>obj_d894d0bc</td><td>TERMINATED</td><td>127.0.0.1:102760</td><td style=\"text-align: right;\">          32</td><td style=\"text-align: right;\">         128</td><td style=\"text-align: right;\">0.0248265  </td><td style=\"text-align: right;\">        20000</td><td style=\"text-align: right;\">0.0149701  </td><td style=\"text-align: right;\">         19</td><td style=\"text-align: right;\">                  10</td><td style=\"text-align: right;\">   400</td><td style=\"text-align: right;\">        12.4377 </td><td style=\"text-align: right;\">        95.38</td></tr>\n",
       "<tr><td>obj_dfd8e868</td><td>TERMINATED</td><td>127.0.0.1:107540</td><td style=\"text-align: right;\">          32</td><td style=\"text-align: right;\">         128</td><td style=\"text-align: right;\">0.000309064</td><td style=\"text-align: right;\">        20000</td><td style=\"text-align: right;\">0.0146437  </td><td style=\"text-align: right;\">         19</td><td style=\"text-align: right;\">                   5</td><td style=\"text-align: right;\">   400</td><td style=\"text-align: right;\">        13.6994 </td><td style=\"text-align: right;\">        58.3 </td></tr>\n",
       "<tr><td>obj_7be91987</td><td>TERMINATED</td><td>127.0.0.1:68520 </td><td style=\"text-align: right;\">          32</td><td style=\"text-align: right;\">         128</td><td style=\"text-align: right;\">0.0245838  </td><td style=\"text-align: right;\">        20000</td><td style=\"text-align: right;\">0.0139568  </td><td style=\"text-align: right;\">         19</td><td style=\"text-align: right;\">                  11</td><td style=\"text-align: right;\">   300</td><td style=\"text-align: right;\">         7.98255</td><td style=\"text-align: right;\">        20.78</td></tr>\n",
       "<tr><td>obj_c215bb44</td><td>TERMINATED</td><td>127.0.0.1:110780</td><td style=\"text-align: right;\">          32</td><td style=\"text-align: right;\">          64</td><td style=\"text-align: right;\">0.000419549</td><td style=\"text-align: right;\">        20000</td><td style=\"text-align: right;\">0.0260486  </td><td style=\"text-align: right;\">         17</td><td style=\"text-align: right;\">                   8</td><td style=\"text-align: right;\">   300</td><td style=\"text-align: right;\">         5.61751</td><td style=\"text-align: right;\">         9.42</td></tr>\n",
       "<tr><td>obj_677d4814</td><td>TERMINATED</td><td>127.0.0.1:60592 </td><td style=\"text-align: right;\">          32</td><td style=\"text-align: right;\">         128</td><td style=\"text-align: right;\">0.0456935  </td><td style=\"text-align: right;\">        20000</td><td style=\"text-align: right;\">0.00430982 </td><td style=\"text-align: right;\">         17</td><td style=\"text-align: right;\">                   6</td><td style=\"text-align: right;\">   400</td><td style=\"text-align: right;\">        10.9241 </td><td style=\"text-align: right;\">        79.82</td></tr>\n",
       "<tr><td>obj_4cd68fc2</td><td>TERMINATED</td><td>127.0.0.1:106352</td><td style=\"text-align: right;\">          32</td><td style=\"text-align: right;\">          64</td><td style=\"text-align: right;\">0.030194   </td><td style=\"text-align: right;\">        20000</td><td style=\"text-align: right;\">0.0262935  </td><td style=\"text-align: right;\">         17</td><td style=\"text-align: right;\">                  24</td><td style=\"text-align: right;\">   300</td><td style=\"text-align: right;\">         6.06523</td><td style=\"text-align: right;\">         9.42</td></tr>\n",
       "<tr><td>obj_6e2a0adb</td><td>TERMINATED</td><td>127.0.0.1:93588 </td><td style=\"text-align: right;\">         128</td><td style=\"text-align: right;\">         128</td><td style=\"text-align: right;\">0.0315349  </td><td style=\"text-align: right;\">        20000</td><td style=\"text-align: right;\">0.0653012  </td><td style=\"text-align: right;\">         16</td><td style=\"text-align: right;\">                  28</td><td style=\"text-align: right;\">   300</td><td style=\"text-align: right;\">         2.18496</td><td style=\"text-align: right;\">         9.42</td></tr>\n",
       "<tr><td>obj_f6d2d3c1</td><td>TERMINATED</td><td>127.0.0.1:35816 </td><td style=\"text-align: right;\">         128</td><td style=\"text-align: right;\">         128</td><td style=\"text-align: right;\">0.0427572  </td><td style=\"text-align: right;\">        20000</td><td style=\"text-align: right;\">0.0169471  </td><td style=\"text-align: right;\">         13</td><td style=\"text-align: right;\">                  14</td><td style=\"text-align: right;\">   300</td><td style=\"text-align: right;\">         1.86751</td><td style=\"text-align: right;\">         9.32</td></tr>\n",
       "<tr><td>obj_a7abcf2d</td><td>TERMINATED</td><td>127.0.0.1:18916 </td><td style=\"text-align: right;\">          32</td><td style=\"text-align: right;\">         128</td><td style=\"text-align: right;\">0.0396058  </td><td style=\"text-align: right;\">        20000</td><td style=\"text-align: right;\">0.0169457  </td><td style=\"text-align: right;\">         18</td><td style=\"text-align: right;\">                  13</td><td style=\"text-align: right;\">   300</td><td style=\"text-align: right;\">         6.98432</td><td style=\"text-align: right;\">         9.42</td></tr>\n",
       "<tr><td>obj_bf972a48</td><td>TERMINATED</td><td>127.0.0.1:90284 </td><td style=\"text-align: right;\">          32</td><td style=\"text-align: right;\">         128</td><td style=\"text-align: right;\">0.0286281  </td><td style=\"text-align: right;\">        20000</td><td style=\"text-align: right;\">0.0124197  </td><td style=\"text-align: right;\">         18</td><td style=\"text-align: right;\">                  13</td><td style=\"text-align: right;\">   300</td><td style=\"text-align: right;\">         6.87227</td><td style=\"text-align: right;\">         9.32</td></tr>\n",
       "<tr><td>obj_6fc0baf4</td><td>TERMINATED</td><td>127.0.0.1:68792 </td><td style=\"text-align: right;\">          32</td><td style=\"text-align: right;\">         128</td><td style=\"text-align: right;\">0.0165293  </td><td style=\"text-align: right;\">        20000</td><td style=\"text-align: right;\">0.0133508  </td><td style=\"text-align: right;\">         18</td><td style=\"text-align: right;\">                  12</td><td style=\"text-align: right;\">   300</td><td style=\"text-align: right;\">         6.59943</td><td style=\"text-align: right;\">         9.32</td></tr>\n",
       "<tr><td>obj_5a9db5f1</td><td>TERMINATED</td><td>127.0.0.1:103608</td><td style=\"text-align: right;\">          32</td><td style=\"text-align: right;\">         128</td><td style=\"text-align: right;\">0.0165976  </td><td style=\"text-align: right;\">        20000</td><td style=\"text-align: right;\">0.0125022  </td><td style=\"text-align: right;\">         18</td><td style=\"text-align: right;\">                   3</td><td style=\"text-align: right;\">   400</td><td style=\"text-align: right;\">        12.8296 </td><td style=\"text-align: right;\">       122.12</td></tr>\n",
       "<tr><td>obj_a8bf5770</td><td>TERMINATED</td><td>127.0.0.1:109108</td><td style=\"text-align: right;\">          32</td><td style=\"text-align: right;\">         128</td><td style=\"text-align: right;\">0.0245673  </td><td style=\"text-align: right;\">        20000</td><td style=\"text-align: right;\">0.00965467 </td><td style=\"text-align: right;\">          3</td><td style=\"text-align: right;\">                   4</td><td style=\"text-align: right;\">   400</td><td style=\"text-align: right;\">         8.15324</td><td style=\"text-align: right;\">        82.92</td></tr>\n",
       "<tr><td>obj_6c1e5aa9</td><td>TERMINATED</td><td>127.0.0.1:21888 </td><td style=\"text-align: right;\">          32</td><td style=\"text-align: right;\">         128</td><td style=\"text-align: right;\">0.023453   </td><td style=\"text-align: right;\">        20000</td><td style=\"text-align: right;\">0.020474   </td><td style=\"text-align: right;\">          3</td><td style=\"text-align: right;\">                  99</td><td style=\"text-align: right;\">   300</td><td style=\"text-align: right;\">         4.05319</td><td style=\"text-align: right;\">         9.42</td></tr>\n",
       "<tr><td>obj_d2119e32</td><td>TERMINATED</td><td>127.0.0.1:109812</td><td style=\"text-align: right;\">          32</td><td style=\"text-align: right;\">         128</td><td style=\"text-align: right;\">0.0238387  </td><td style=\"text-align: right;\">        20000</td><td style=\"text-align: right;\">0.00934163 </td><td style=\"text-align: right;\">          3</td><td style=\"text-align: right;\">                  20</td><td style=\"text-align: right;\">   300</td><td style=\"text-align: right;\">         3.08032</td><td style=\"text-align: right;\">         9.32</td></tr>\n",
       "<tr><td>obj_9e1ab6ad</td><td>TERMINATED</td><td>127.0.0.1:101528</td><td style=\"text-align: right;\">          32</td><td style=\"text-align: right;\">         128</td><td style=\"text-align: right;\">0.0858295  </td><td style=\"text-align: right;\">        20000</td><td style=\"text-align: right;\">0.00665778 </td><td style=\"text-align: right;\">          9</td><td style=\"text-align: right;\">                   2</td><td style=\"text-align: right;\">   300</td><td style=\"text-align: right;\">         5.05357</td><td style=\"text-align: right;\">        18.66</td></tr>\n",
       "<tr><td>obj_ac64ce80</td><td>TERMINATED</td><td>127.0.0.1:99228 </td><td style=\"text-align: right;\">          32</td><td style=\"text-align: right;\">         128</td><td style=\"text-align: right;\">0.0180614  </td><td style=\"text-align: right;\">        20000</td><td style=\"text-align: right;\">0.011589   </td><td style=\"text-align: right;\">         11</td><td style=\"text-align: right;\">                   6</td><td style=\"text-align: right;\">   300</td><td style=\"text-align: right;\">         5.27326</td><td style=\"text-align: right;\">         9.32</td></tr>\n",
       "<tr><td>obj_6bab09df</td><td>TERMINATED</td><td>127.0.0.1:41780 </td><td style=\"text-align: right;\">          32</td><td style=\"text-align: right;\">         128</td><td style=\"text-align: right;\">0.0182207  </td><td style=\"text-align: right;\">        20000</td><td style=\"text-align: right;\">0.0117267  </td><td style=\"text-align: right;\">          9</td><td style=\"text-align: right;\">                   4</td><td style=\"text-align: right;\">   400</td><td style=\"text-align: right;\">        10.8305 </td><td style=\"text-align: right;\">       218.96</td></tr>\n",
       "<tr><td>obj_d79ba2c9</td><td>TERMINATED</td><td>127.0.0.1:31656 </td><td style=\"text-align: right;\">          32</td><td style=\"text-align: right;\">         128</td><td style=\"text-align: right;\">0.0187628  </td><td style=\"text-align: right;\">        20000</td><td style=\"text-align: right;\">0.0117593  </td><td style=\"text-align: right;\">         14</td><td style=\"text-align: right;\">                   4</td><td style=\"text-align: right;\">   400</td><td style=\"text-align: right;\">        12.1733 </td><td style=\"text-align: right;\">        85.36</td></tr>\n",
       "<tr><td>obj_5c304afc</td><td>TERMINATED</td><td>127.0.0.1:110208</td><td style=\"text-align: right;\">          32</td><td style=\"text-align: right;\">         128</td><td style=\"text-align: right;\">0.0139603  </td><td style=\"text-align: right;\">        20000</td><td style=\"text-align: right;\">0.0124078  </td><td style=\"text-align: right;\">         14</td><td style=\"text-align: right;\">                   3</td><td style=\"text-align: right;\">   300</td><td style=\"text-align: right;\">         6.68227</td><td style=\"text-align: right;\">         9.32</td></tr>\n",
       "<tr><td>obj_2b397451</td><td>TERMINATED</td><td>127.0.0.1:77416 </td><td style=\"text-align: right;\">          32</td><td style=\"text-align: right;\">         128</td><td style=\"text-align: right;\">0.0132286  </td><td style=\"text-align: right;\">        20000</td><td style=\"text-align: right;\">0.00447608 </td><td style=\"text-align: right;\">          5</td><td style=\"text-align: right;\">                   3</td><td style=\"text-align: right;\">   300</td><td style=\"text-align: right;\">         4.32549</td><td style=\"text-align: right;\">         9.32</td></tr>\n",
       "<tr><td>obj_875be80f</td><td>TERMINATED</td><td>127.0.0.1:107208</td><td style=\"text-align: right;\">          32</td><td style=\"text-align: right;\">         128</td><td style=\"text-align: right;\">0.0154234  </td><td style=\"text-align: right;\">        20000</td><td style=\"text-align: right;\">0.00509819 </td><td style=\"text-align: right;\">         14</td><td style=\"text-align: right;\">                   5</td><td style=\"text-align: right;\">   400</td><td style=\"text-align: right;\">         9.37213</td><td style=\"text-align: right;\">       127.06</td></tr>\n",
       "<tr><td>obj_158f4286</td><td>TERMINATED</td><td>127.0.0.1:7652  </td><td style=\"text-align: right;\">          32</td><td style=\"text-align: right;\">         512</td><td style=\"text-align: right;\">0.0156349  </td><td style=\"text-align: right;\">        50000</td><td style=\"text-align: right;\">0.00881618 </td><td style=\"text-align: right;\">          8</td><td style=\"text-align: right;\">                   9</td><td style=\"text-align: right;\">   400</td><td style=\"text-align: right;\">        21.6684 </td><td style=\"text-align: right;\">       118.1 </td></tr>\n",
       "<tr><td>obj_11541624</td><td>TERMINATED</td><td>127.0.0.1:103240</td><td style=\"text-align: right;\">          32</td><td style=\"text-align: right;\">         512</td><td style=\"text-align: right;\">0.0359213  </td><td style=\"text-align: right;\">        50000</td><td style=\"text-align: right;\">0.00547888 </td><td style=\"text-align: right;\">         13</td><td style=\"text-align: right;\">                   8</td><td style=\"text-align: right;\">   400</td><td style=\"text-align: right;\">        29.6192 </td><td style=\"text-align: right;\">       124.44</td></tr>\n",
       "<tr><td>obj_c2859857</td><td>TERMINATED</td><td>127.0.0.1:102964</td><td style=\"text-align: right;\">          32</td><td style=\"text-align: right;\">         512</td><td style=\"text-align: right;\">0.0160908  </td><td style=\"text-align: right;\">        50000</td><td style=\"text-align: right;\">0.00057601 </td><td style=\"text-align: right;\">         13</td><td style=\"text-align: right;\">                   8</td><td style=\"text-align: right;\">   400</td><td style=\"text-align: right;\">        32.4481 </td><td style=\"text-align: right;\">        42.92</td></tr>\n",
       "<tr><td>obj_4b008819</td><td>TERMINATED</td><td>127.0.0.1:78884 </td><td style=\"text-align: right;\">          32</td><td style=\"text-align: right;\">         512</td><td style=\"text-align: right;\">0.0120122  </td><td style=\"text-align: right;\">        50000</td><td style=\"text-align: right;\">0.00499988 </td><td style=\"text-align: right;\">         13</td><td style=\"text-align: right;\">                   2</td><td style=\"text-align: right;\">   300</td><td style=\"text-align: right;\">        18.431  </td><td style=\"text-align: right;\">         9.32</td></tr>\n",
       "<tr><td>obj_d7d520a4</td><td>TERMINATED</td><td>127.0.0.1:80200 </td><td style=\"text-align: right;\">          32</td><td style=\"text-align: right;\">         128</td><td style=\"text-align: right;\">0.0120656  </td><td style=\"text-align: right;\">        20000</td><td style=\"text-align: right;\">0.00546574 </td><td style=\"text-align: right;\">         13</td><td style=\"text-align: right;\">                   2</td><td style=\"text-align: right;\">   300</td><td style=\"text-align: right;\">         7.5186 </td><td style=\"text-align: right;\">        11.5 </td></tr>\n",
       "<tr><td>obj_842d0c1b</td><td>TERMINATED</td><td>127.0.0.1:59404 </td><td style=\"text-align: right;\">          32</td><td style=\"text-align: right;\">         128</td><td style=\"text-align: right;\">0.0334364  </td><td style=\"text-align: right;\">        20000</td><td style=\"text-align: right;\">0.00528639 </td><td style=\"text-align: right;\">          4</td><td style=\"text-align: right;\">                   5</td><td style=\"text-align: right;\">   300</td><td style=\"text-align: right;\">         4.63095</td><td style=\"text-align: right;\">         9.32</td></tr>\n",
       "<tr><td>obj_dc1e05ab</td><td>TERMINATED</td><td>127.0.0.1:40700 </td><td style=\"text-align: right;\">          32</td><td style=\"text-align: right;\">         512</td><td style=\"text-align: right;\">0.0110429  </td><td style=\"text-align: right;\">        50000</td><td style=\"text-align: right;\">0.00507427 </td><td style=\"text-align: right;\">         12</td><td style=\"text-align: right;\">                   1</td><td style=\"text-align: right;\">   400</td><td style=\"text-align: right;\">        27.5398 </td><td style=\"text-align: right;\">       146.56</td></tr>\n",
       "<tr><td>obj_a94d05da</td><td>TERMINATED</td><td>127.0.0.1:69504 </td><td style=\"text-align: right;\">          32</td><td style=\"text-align: right;\">         512</td><td style=\"text-align: right;\">0.0354648  </td><td style=\"text-align: right;\">        50000</td><td style=\"text-align: right;\">0.00409949 </td><td style=\"text-align: right;\">         13</td><td style=\"text-align: right;\">                   8</td><td style=\"text-align: right;\">   300</td><td style=\"text-align: right;\">        17.7367 </td><td style=\"text-align: right;\">        29.04</td></tr>\n",
       "<tr><td>obj_20da77fb</td><td>TERMINATED</td><td>127.0.0.1:107144</td><td style=\"text-align: right;\">          32</td><td style=\"text-align: right;\">         512</td><td style=\"text-align: right;\">0.0340891  </td><td style=\"text-align: right;\">        50000</td><td style=\"text-align: right;\">0.00420087 </td><td style=\"text-align: right;\">         12</td><td style=\"text-align: right;\">                   7</td><td style=\"text-align: right;\">   400</td><td style=\"text-align: right;\">        28.3848 </td><td style=\"text-align: right;\">         9.34</td></tr>\n",
       "<tr><td>obj_9fc4ba74</td><td>TERMINATED</td><td>127.0.0.1:108960</td><td style=\"text-align: right;\">          32</td><td style=\"text-align: right;\">         512</td><td style=\"text-align: right;\">0.0368059  </td><td style=\"text-align: right;\">        50000</td><td style=\"text-align: right;\">0.00397605 </td><td style=\"text-align: right;\">         12</td><td style=\"text-align: right;\">                   6</td><td style=\"text-align: right;\">   400</td><td style=\"text-align: right;\">        32.3072 </td><td style=\"text-align: right;\">       144.98</td></tr>\n",
       "<tr><td>obj_19f0a9e0</td><td>TERMINATED</td><td>127.0.0.1:66504 </td><td style=\"text-align: right;\">          32</td><td style=\"text-align: right;\">         512</td><td style=\"text-align: right;\">0.0372371  </td><td style=\"text-align: right;\">        50000</td><td style=\"text-align: right;\">0.00390628 </td><td style=\"text-align: right;\">         14</td><td style=\"text-align: right;\">                   7</td><td style=\"text-align: right;\">   400</td><td style=\"text-align: right;\">        28.8858 </td><td style=\"text-align: right;\">        57.66</td></tr>\n",
       "<tr><td>obj_cfdf48ff</td><td>TERMINATED</td><td>127.0.0.1:110064</td><td style=\"text-align: right;\">          32</td><td style=\"text-align: right;\">         512</td><td style=\"text-align: right;\">0.0283785  </td><td style=\"text-align: right;\">        50000</td><td style=\"text-align: right;\">0.0062082  </td><td style=\"text-align: right;\">         14</td><td style=\"text-align: right;\">                   7</td><td style=\"text-align: right;\">   400</td><td style=\"text-align: right;\">        29.2927 </td><td style=\"text-align: right;\">        91.78</td></tr>\n",
       "<tr><td>obj_b74c2433</td><td>TERMINATED</td><td>127.0.0.1:107600</td><td style=\"text-align: right;\">          32</td><td style=\"text-align: right;\">         512</td><td style=\"text-align: right;\">0.0397796  </td><td style=\"text-align: right;\">        50000</td><td style=\"text-align: right;\">0.00620779 </td><td style=\"text-align: right;\">         11</td><td style=\"text-align: right;\">                   1</td><td style=\"text-align: right;\">   300</td><td style=\"text-align: right;\">        17.5367 </td><td style=\"text-align: right;\">        28.24</td></tr>\n",
       "<tr><td>obj_58e7d850</td><td>TERMINATED</td><td>127.0.0.1:81936 </td><td style=\"text-align: right;\">          32</td><td style=\"text-align: right;\">         512</td><td style=\"text-align: right;\">0.00857691 </td><td style=\"text-align: right;\">        50000</td><td style=\"text-align: right;\">0.0838427  </td><td style=\"text-align: right;\">         12</td><td style=\"text-align: right;\">                   5</td><td style=\"text-align: right;\">   300</td><td style=\"text-align: right;\">        16.9386 </td><td style=\"text-align: right;\">         9.42</td></tr>\n",
       "<tr><td>obj_0b6e9d6a</td><td>TERMINATED</td><td>127.0.0.1:104212</td><td style=\"text-align: right;\">          32</td><td style=\"text-align: right;\">         512</td><td style=\"text-align: right;\">0.00741999 </td><td style=\"text-align: right;\">        50000</td><td style=\"text-align: right;\">0.00605888 </td><td style=\"text-align: right;\">          2</td><td style=\"text-align: right;\">                   4</td><td style=\"text-align: right;\">   400</td><td style=\"text-align: right;\">        10.5638 </td><td style=\"text-align: right;\">       230.2 </td></tr>\n",
       "<tr><td>obj_77dd6499</td><td>TERMINATED</td><td>127.0.0.1:10208 </td><td style=\"text-align: right;\">         128</td><td style=\"text-align: right;\">         512</td><td style=\"text-align: right;\">0.00743047 </td><td style=\"text-align: right;\">        50000</td><td style=\"text-align: right;\">0.00318895 </td><td style=\"text-align: right;\">         11</td><td style=\"text-align: right;\">                   5</td><td style=\"text-align: right;\">   300</td><td style=\"text-align: right;\">         3.43306</td><td style=\"text-align: right;\">         9.94</td></tr>\n",
       "<tr><td>obj_920d9401</td><td>TERMINATED</td><td>127.0.0.1:100712</td><td style=\"text-align: right;\">          32</td><td style=\"text-align: right;\">         512</td><td style=\"text-align: right;\">0.0105878  </td><td style=\"text-align: right;\">        50000</td><td style=\"text-align: right;\">0.00322269 </td><td style=\"text-align: right;\">         12</td><td style=\"text-align: right;\">                   5</td><td style=\"text-align: right;\">   300</td><td style=\"text-align: right;\">        13.3209 </td><td style=\"text-align: right;\">         9.44</td></tr>\n",
       "<tr><td>obj_6c01acaa</td><td>TERMINATED</td><td>127.0.0.1:86988 </td><td style=\"text-align: right;\">          32</td><td style=\"text-align: right;\">         512</td><td style=\"text-align: right;\">0.0110015  </td><td style=\"text-align: right;\">        50000</td><td style=\"text-align: right;\">0.0047595  </td><td style=\"text-align: right;\">          2</td><td style=\"text-align: right;\">                   3</td><td style=\"text-align: right;\">   300</td><td style=\"text-align: right;\">         5.10181</td><td style=\"text-align: right;\">         9.42</td></tr>\n",
       "<tr><td>obj_94148714</td><td>TERMINATED</td><td>127.0.0.1:101568</td><td style=\"text-align: right;\">          32</td><td style=\"text-align: right;\">         512</td><td style=\"text-align: right;\">0.0111969  </td><td style=\"text-align: right;\">        50000</td><td style=\"text-align: right;\">0.00485703 </td><td style=\"text-align: right;\">          2</td><td style=\"text-align: right;\">                   3</td><td style=\"text-align: right;\">   300</td><td style=\"text-align: right;\">         4.61576</td><td style=\"text-align: right;\">         9.32</td></tr>\n",
       "<tr><td>obj_ab42bc80</td><td>TERMINATED</td><td>127.0.0.1:61380 </td><td style=\"text-align: right;\">          32</td><td style=\"text-align: right;\">         512</td><td style=\"text-align: right;\">0.0492653  </td><td style=\"text-align: right;\">        50000</td><td style=\"text-align: right;\">0.00535579 </td><td style=\"text-align: right;\">         12</td><td style=\"text-align: right;\">                   1</td><td style=\"text-align: right;\">   300</td><td style=\"text-align: right;\">        13.971  </td><td style=\"text-align: right;\">         9.42</td></tr>\n",
       "<tr><td>obj_39f9be64</td><td>TERMINATED</td><td>127.0.0.1:69552 </td><td style=\"text-align: right;\">          32</td><td style=\"text-align: right;\">         512</td><td style=\"text-align: right;\">0.00955512 </td><td style=\"text-align: right;\">        50000</td><td style=\"text-align: right;\">0.00559552 </td><td style=\"text-align: right;\">         12</td><td style=\"text-align: right;\">                   1</td><td style=\"text-align: right;\">   400</td><td style=\"text-align: right;\">        27.0139 </td><td style=\"text-align: right;\">       131.04</td></tr>\n",
       "<tr><td>obj_3eb413e9</td><td>TERMINATED</td><td>127.0.0.1:14464 </td><td style=\"text-align: right;\">          32</td><td style=\"text-align: right;\">         512</td><td style=\"text-align: right;\">0.00579786 </td><td style=\"text-align: right;\">        50000</td><td style=\"text-align: right;\">0.00260229 </td><td style=\"text-align: right;\">         15</td><td style=\"text-align: right;\">                   9</td><td style=\"text-align: right;\">   300</td><td style=\"text-align: right;\">        19.3151 </td><td style=\"text-align: right;\">        16.54</td></tr>\n",
       "</tbody>\n",
       "</table>\n",
       "  </div>\n",
       "</div>\n",
       "<style>\n",
       ".tuneStatus {\n",
       "  color: var(--jp-ui-font-color1);\n",
       "}\n",
       ".tuneStatus .systemInfo {\n",
       "  display: flex;\n",
       "  flex-direction: column;\n",
       "}\n",
       ".tuneStatus td {\n",
       "  white-space: nowrap;\n",
       "}\n",
       ".tuneStatus .trialStatus {\n",
       "  display: flex;\n",
       "  flex-direction: column;\n",
       "}\n",
       ".tuneStatus h3 {\n",
       "  font-weight: bold;\n",
       "}\n",
       ".tuneStatus .hDivider {\n",
       "  border-bottom-width: var(--jp-border-width);\n",
       "  border-bottom-color: var(--jp-border-color0);\n",
       "  border-bottom-style: solid;\n",
       "}\n",
       ".tuneStatus .vDivider {\n",
       "  border-left-width: var(--jp-border-width);\n",
       "  border-left-color: var(--jp-border-color0);\n",
       "  border-left-style: solid;\n",
       "  margin: 0.5em 1em 0.5em 1em;\n",
       "}\n",
       "</style>\n"
      ],
      "text/plain": [
       "<IPython.core.display.HTML object>"
      ]
     },
     "metadata": {},
     "output_type": "display_data"
    },
    {
     "name": "stdout",
     "output_type": "stream",
     "text": [
      "\u001b[36m(obj pid=111280)\u001b[0m Episode 50, Average Score: 9.4\n",
      "\u001b[36m(obj pid=111280)\u001b[0m Episode 100, Average Score: 9.4\n",
      "\u001b[36m(obj pid=111280)\u001b[0m Episode 150, Average Score: 9.42\n",
      "\u001b[36m(obj pid=111280)\u001b[0m Episode 200, Average Score: 9.32\n"
     ]
    },
    {
     "name": "stderr",
     "output_type": "stream",
     "text": [
      "\u001b[36m(obj pid=111280)\u001b[0m C:\\Users\\Benedict\\AppData\\Local\\Temp\\ipykernel_95128\\135224036.py:90: UserWarning: Creating a tensor from a list of numpy.ndarrays is extremely slow. Please consider converting the list to a single numpy.ndarray with numpy.array() before converting to a tensor. (Triggered internally at C:\\actions-runner\\_work\\pytorch\\pytorch\\builder\\windows\\pytorch\\torch\\csrc\\utils\\tensor_new.cpp:281.)\n"
     ]
    },
    {
     "name": "stdout",
     "output_type": "stream",
     "text": [
      "\u001b[36m(obj pid=111280)\u001b[0m Episode 250, Average Score: 9.2\n",
      "\u001b[36m(obj pid=111280)\u001b[0m Episode 300, Average Score: 9.32\n",
      "\u001b[36m(obj pid=68456)\u001b[0m Episode 50, Average Score: 9.3\n",
      "\u001b[36m(obj pid=111280)\u001b[0m Episode 350, Average Score: 9.2\n"
     ]
    },
    {
     "name": "stderr",
     "output_type": "stream",
     "text": [
      "\u001b[36m(obj pid=68456)\u001b[0m C:\\Users\\Benedict\\AppData\\Local\\Temp\\ipykernel_95128\\135224036.py:90: UserWarning: Creating a tensor from a list of numpy.ndarrays is extremely slow. Please consider converting the list to a single numpy.ndarray with numpy.array() before converting to a tensor. (Triggered internally at C:\\actions-runner\\_work\\pytorch\\pytorch\\builder\\windows\\pytorch\\torch\\csrc\\utils\\tensor_new.cpp:281.)\n"
     ]
    },
    {
     "name": "stdout",
     "output_type": "stream",
     "text": [
      "\u001b[36m(obj pid=107296)\u001b[0m Episode 50, Average Score: 9.18\u001b[32m [repeated 4x across cluster] (Ray deduplicates logs by default. Set RAY_DEDUP_LOGS=0 to disable log deduplication, or see https://docs.ray.io/en/master/ray-observability/user-guides/configure-logging.html#log-deduplication for more options.)\u001b[0m\n"
     ]
    },
    {
     "name": "stderr",
     "output_type": "stream",
     "text": [
      "\u001b[36m(obj pid=107296)\u001b[0m C:\\Users\\Benedict\\AppData\\Local\\Temp\\ipykernel_95128\\135224036.py:90: UserWarning: Creating a tensor from a list of numpy.ndarrays is extremely slow. Please consider converting the list to a single numpy.ndarray with numpy.array() before converting to a tensor. (Triggered internally at C:\\actions-runner\\_work\\pytorch\\pytorch\\builder\\windows\\pytorch\\torch\\csrc\\utils\\tensor_new.cpp:281.)\n"
     ]
    },
    {
     "name": "stdout",
     "output_type": "stream",
     "text": [
      "\u001b[36m(obj pid=104656)\u001b[0m Episode 50, Average Score: 9.18\u001b[32m [repeated 7x across cluster]\u001b[0m\n"
     ]
    },
    {
     "name": "stderr",
     "output_type": "stream",
     "text": [
      "\u001b[36m(obj pid=104656)\u001b[0m C:\\Users\\Benedict\\AppData\\Local\\Temp\\ipykernel_95128\\135224036.py:90: UserWarning: Creating a tensor from a list of numpy.ndarrays is extremely slow. Please consider converting the list to a single numpy.ndarray with numpy.array() before converting to a tensor. (Triggered internally at C:\\actions-runner\\_work\\pytorch\\pytorch\\builder\\windows\\pytorch\\torch\\csrc\\utils\\tensor_new.cpp:281.)\n",
      "\u001b[36m(obj pid=103772)\u001b[0m C:\\Users\\Benedict\\AppData\\Local\\Temp\\ipykernel_95128\\135224036.py:90: UserWarning: Creating a tensor from a list of numpy.ndarrays is extremely slow. Please consider converting the list to a single numpy.ndarray with numpy.array() before converting to a tensor. (Triggered internally at C:\\actions-runner\\_work\\pytorch\\pytorch\\builder\\windows\\pytorch\\torch\\csrc\\utils\\tensor_new.cpp:281.)\n"
     ]
    },
    {
     "name": "stdout",
     "output_type": "stream",
     "text": [
      "\u001b[36m(obj pid=103772)\u001b[0m Episode 50, Average Score: 12.66\u001b[32m [repeated 10x across cluster]\u001b[0m\n",
      "\u001b[36m(obj pid=99904)\u001b[0m Episode 50, Average Score: 9.4\u001b[32m [repeated 6x across cluster]\u001b[0m\n"
     ]
    },
    {
     "name": "stderr",
     "output_type": "stream",
     "text": [
      "\u001b[36m(obj pid=99904)\u001b[0m C:\\Users\\Benedict\\AppData\\Local\\Temp\\ipykernel_95128\\135224036.py:90: UserWarning: Creating a tensor from a list of numpy.ndarrays is extremely slow. Please consider converting the list to a single numpy.ndarray with numpy.array() before converting to a tensor. (Triggered internally at C:\\actions-runner\\_work\\pytorch\\pytorch\\builder\\windows\\pytorch\\torch\\csrc\\utils\\tensor_new.cpp:281.)\n"
     ]
    },
    {
     "name": "stdout",
     "output_type": "stream",
     "text": [
      "\u001b[36m(obj pid=108552)\u001b[0m Episode 50, Average Score: 11.48\u001b[32m [repeated 6x across cluster]\u001b[0m\n"
     ]
    },
    {
     "name": "stderr",
     "output_type": "stream",
     "text": [
      "\u001b[36m(obj pid=108552)\u001b[0m C:\\Users\\Benedict\\AppData\\Local\\Temp\\ipykernel_95128\\135224036.py:90: UserWarning: Creating a tensor from a list of numpy.ndarrays is extremely slow. Please consider converting the list to a single numpy.ndarray with numpy.array() before converting to a tensor. (Triggered internally at C:\\actions-runner\\_work\\pytorch\\pytorch\\builder\\windows\\pytorch\\torch\\csrc\\utils\\tensor_new.cpp:281.)\n"
     ]
    },
    {
     "name": "stdout",
     "output_type": "stream",
     "text": [
      "\u001b[36m(obj pid=108552)\u001b[0m Episode 300, Average Score: 9.72\u001b[32m [repeated 5x across cluster]\u001b[0m\n"
     ]
    },
    {
     "name": "stderr",
     "output_type": "stream",
     "text": [
      "\u001b[36m(obj pid=82664)\u001b[0m C:\\Users\\Benedict\\AppData\\Local\\Temp\\ipykernel_95128\\135224036.py:90: UserWarning: Creating a tensor from a list of numpy.ndarrays is extremely slow. Please consider converting the list to a single numpy.ndarray with numpy.array() before converting to a tensor. (Triggered internally at C:\\actions-runner\\_work\\pytorch\\pytorch\\builder\\windows\\pytorch\\torch\\csrc\\utils\\tensor_new.cpp:281.)\n",
      "\u001b[36m(obj pid=90984)\u001b[0m C:\\Users\\Benedict\\AppData\\Local\\Temp\\ipykernel_95128\\135224036.py:90: UserWarning: Creating a tensor from a list of numpy.ndarrays is extremely slow. Please consider converting the list to a single numpy.ndarray with numpy.array() before converting to a tensor. (Triggered internally at C:\\actions-runner\\_work\\pytorch\\pytorch\\builder\\windows\\pytorch\\torch\\csrc\\utils\\tensor_new.cpp:281.)\n"
     ]
    },
    {
     "name": "stdout",
     "output_type": "stream",
     "text": [
      "\u001b[36m(obj pid=90984)\u001b[0m Episode 50, Average Score: 9.42\u001b[32m [repeated 7x across cluster]\u001b[0m\n",
      "\u001b[36m(obj pid=105840)\u001b[0m Episode 50, Average Score: 9.48\u001b[32m [repeated 6x across cluster]\u001b[0m\n"
     ]
    },
    {
     "name": "stderr",
     "output_type": "stream",
     "text": [
      "\u001b[36m(obj pid=105840)\u001b[0m C:\\Users\\Benedict\\AppData\\Local\\Temp\\ipykernel_95128\\135224036.py:90: UserWarning: Creating a tensor from a list of numpy.ndarrays is extremely slow. Please consider converting the list to a single numpy.ndarray with numpy.array() before converting to a tensor. (Triggered internally at C:\\actions-runner\\_work\\pytorch\\pytorch\\builder\\windows\\pytorch\\torch\\csrc\\utils\\tensor_new.cpp:281.)\n"
     ]
    },
    {
     "name": "stdout",
     "output_type": "stream",
     "text": [
      "\u001b[36m(obj pid=85556)\u001b[0m Episode 50, Average Score: 17.82\u001b[32m [repeated 5x across cluster]\u001b[0m\n"
     ]
    },
    {
     "name": "stderr",
     "output_type": "stream",
     "text": [
      "\u001b[36m(obj pid=85556)\u001b[0m C:\\Users\\Benedict\\AppData\\Local\\Temp\\ipykernel_95128\\135224036.py:90: UserWarning: Creating a tensor from a list of numpy.ndarrays is extremely slow. Please consider converting the list to a single numpy.ndarray with numpy.array() before converting to a tensor. (Triggered internally at C:\\actions-runner\\_work\\pytorch\\pytorch\\builder\\windows\\pytorch\\torch\\csrc\\utils\\tensor_new.cpp:281.)\n"
     ]
    },
    {
     "name": "stdout",
     "output_type": "stream",
     "text": [
      "\u001b[36m(obj pid=85556)\u001b[0m Episode 350, Average Score: 60.52\u001b[32m [repeated 7x across cluster]\u001b[0m\n"
     ]
    },
    {
     "name": "stderr",
     "output_type": "stream",
     "text": [
      "\u001b[36m(obj pid=56108)\u001b[0m C:\\Users\\Benedict\\AppData\\Local\\Temp\\ipykernel_95128\\135224036.py:90: UserWarning: Creating a tensor from a list of numpy.ndarrays is extremely slow. Please consider converting the list to a single numpy.ndarray with numpy.array() before converting to a tensor. (Triggered internally at C:\\actions-runner\\_work\\pytorch\\pytorch\\builder\\windows\\pytorch\\torch\\csrc\\utils\\tensor_new.cpp:281.)\n"
     ]
    },
    {
     "name": "stdout",
     "output_type": "stream",
     "text": [
      "\u001b[36m(obj pid=56108)\u001b[0m Episode 350, Average Score: 43.72\u001b[32m [repeated 8x across cluster]\u001b[0m\n"
     ]
    },
    {
     "name": "stderr",
     "output_type": "stream",
     "text": [
      "\u001b[36m(obj pid=106988)\u001b[0m C:\\Users\\Benedict\\AppData\\Local\\Temp\\ipykernel_95128\\135224036.py:90: UserWarning: Creating a tensor from a list of numpy.ndarrays is extremely slow. Please consider converting the list to a single numpy.ndarray with numpy.array() before converting to a tensor. (Triggered internally at C:\\actions-runner\\_work\\pytorch\\pytorch\\builder\\windows\\pytorch\\torch\\csrc\\utils\\tensor_new.cpp:281.)\n"
     ]
    },
    {
     "name": "stdout",
     "output_type": "stream",
     "text": [
      "\u001b[36m(obj pid=99096)\u001b[0m Episode 50, Average Score: 11.1\u001b[32m [repeated 7x across cluster]\u001b[0m\n"
     ]
    },
    {
     "name": "stderr",
     "output_type": "stream",
     "text": [
      "\u001b[36m(obj pid=99096)\u001b[0m C:\\Users\\Benedict\\AppData\\Local\\Temp\\ipykernel_95128\\135224036.py:90: UserWarning: Creating a tensor from a list of numpy.ndarrays is extremely slow. Please consider converting the list to a single numpy.ndarray with numpy.array() before converting to a tensor. (Triggered internally at C:\\actions-runner\\_work\\pytorch\\pytorch\\builder\\windows\\pytorch\\torch\\csrc\\utils\\tensor_new.cpp:281.)\n"
     ]
    },
    {
     "name": "stdout",
     "output_type": "stream",
     "text": [
      "\u001b[36m(obj pid=99096)\u001b[0m Episode 250, Average Score: 133.34\u001b[32m [repeated 7x across cluster]\u001b[0m\n",
      "\u001b[36m(obj pid=99096)\u001b[0m Episode 400, Average Score: 113.36\u001b[32m [repeated 9x across cluster]\u001b[0m\n",
      "\u001b[36m(obj pid=86936)\u001b[0m Episode 50, Average Score: 10.34\u001b[32m [repeated 7x across cluster]\u001b[0m\n"
     ]
    },
    {
     "name": "stderr",
     "output_type": "stream",
     "text": [
      "\u001b[36m(obj pid=86936)\u001b[0m C:\\Users\\Benedict\\AppData\\Local\\Temp\\ipykernel_95128\\135224036.py:90: UserWarning: Creating a tensor from a list of numpy.ndarrays is extremely slow. Please consider converting the list to a single numpy.ndarray with numpy.array() before converting to a tensor. (Triggered internally at C:\\actions-runner\\_work\\pytorch\\pytorch\\builder\\windows\\pytorch\\torch\\csrc\\utils\\tensor_new.cpp:281.)\n"
     ]
    },
    {
     "name": "stdout",
     "output_type": "stream",
     "text": [
      "\u001b[36m(obj pid=82764)\u001b[0m Episode 50, Average Score: 28.62\u001b[32m [repeated 6x across cluster]\u001b[0m\n",
      "\u001b[36m(obj pid=92508)\u001b[0m Episode 50, Average Score: 9.18\u001b[32m [repeated 4x across cluster]\u001b[0m\n"
     ]
    },
    {
     "name": "stderr",
     "output_type": "stream",
     "text": [
      "\u001b[36m(obj pid=92508)\u001b[0m C:\\Users\\Benedict\\AppData\\Local\\Temp\\ipykernel_95128\\135224036.py:90: UserWarning: Creating a tensor from a list of numpy.ndarrays is extremely slow. Please consider converting the list to a single numpy.ndarray with numpy.array() before converting to a tensor. (Triggered internally at C:\\actions-runner\\_work\\pytorch\\pytorch\\builder\\windows\\pytorch\\torch\\csrc\\utils\\tensor_new.cpp:281.)\u001b[32m [repeated 2x across cluster]\u001b[0m\n"
     ]
    },
    {
     "name": "stdout",
     "output_type": "stream",
     "text": [
      "\u001b[36m(obj pid=82764)\u001b[0m Episode 350, Average Score: 83.36\u001b[32m [repeated 7x across cluster]\u001b[0m\n"
     ]
    },
    {
     "name": "stderr",
     "output_type": "stream",
     "text": [
      "\u001b[36m(obj pid=68328)\u001b[0m C:\\Users\\Benedict\\AppData\\Local\\Temp\\ipykernel_95128\\135224036.py:90: UserWarning: Creating a tensor from a list of numpy.ndarrays is extremely slow. Please consider converting the list to a single numpy.ndarray with numpy.array() before converting to a tensor. (Triggered internally at C:\\actions-runner\\_work\\pytorch\\pytorch\\builder\\windows\\pytorch\\torch\\csrc\\utils\\tensor_new.cpp:281.)\n"
     ]
    },
    {
     "name": "stdout",
     "output_type": "stream",
     "text": [
      "\u001b[36m(obj pid=68328)\u001b[0m Episode 300, Average Score: 9.42\u001b[32m [repeated 8x across cluster]\u001b[0m\n"
     ]
    },
    {
     "name": "stderr",
     "output_type": "stream",
     "text": [
      "\u001b[36m(obj pid=69640)\u001b[0m C:\\Users\\Benedict\\AppData\\Local\\Temp\\ipykernel_95128\\135224036.py:90: UserWarning: Creating a tensor from a list of numpy.ndarrays is extremely slow. Please consider converting the list to a single numpy.ndarray with numpy.array() before converting to a tensor. (Triggered internally at C:\\actions-runner\\_work\\pytorch\\pytorch\\builder\\windows\\pytorch\\torch\\csrc\\utils\\tensor_new.cpp:281.)\n"
     ]
    },
    {
     "name": "stdout",
     "output_type": "stream",
     "text": [
      "\u001b[36m(obj pid=69640)\u001b[0m Episode 300, Average Score: 9.42\u001b[32m [repeated 6x across cluster]\u001b[0m\n"
     ]
    },
    {
     "name": "stderr",
     "output_type": "stream",
     "text": [
      "\u001b[36m(obj pid=31176)\u001b[0m C:\\Users\\Benedict\\AppData\\Local\\Temp\\ipykernel_95128\\135224036.py:90: UserWarning: Creating a tensor from a list of numpy.ndarrays is extremely slow. Please consider converting the list to a single numpy.ndarray with numpy.array() before converting to a tensor. (Triggered internally at C:\\actions-runner\\_work\\pytorch\\pytorch\\builder\\windows\\pytorch\\torch\\csrc\\utils\\tensor_new.cpp:281.)\n"
     ]
    },
    {
     "name": "stdout",
     "output_type": "stream",
     "text": [
      "\u001b[36m(obj pid=31176)\u001b[0m Episode 200, Average Score: 9.32\u001b[32m [repeated 4x across cluster]\u001b[0m\n"
     ]
    },
    {
     "name": "stderr",
     "output_type": "stream",
     "text": [
      "\u001b[36m(obj pid=108996)\u001b[0m C:\\Users\\Benedict\\AppData\\Local\\Temp\\ipykernel_95128\\135224036.py:90: UserWarning: Creating a tensor from a list of numpy.ndarrays is extremely slow. Please consider converting the list to a single numpy.ndarray with numpy.array() before converting to a tensor. (Triggered internally at C:\\actions-runner\\_work\\pytorch\\pytorch\\builder\\windows\\pytorch\\torch\\csrc\\utils\\tensor_new.cpp:281.)\n"
     ]
    },
    {
     "name": "stdout",
     "output_type": "stream",
     "text": [
      "\u001b[36m(obj pid=31176)\u001b[0m Episode 300, Average Score: 9.32\u001b[32m [repeated 5x across cluster]\u001b[0m\n"
     ]
    },
    {
     "name": "stderr",
     "output_type": "stream",
     "text": [
      "\u001b[36m(obj pid=108488)\u001b[0m C:\\Users\\Benedict\\AppData\\Local\\Temp\\ipykernel_95128\\135224036.py:90: UserWarning: Creating a tensor from a list of numpy.ndarrays is extremely slow. Please consider converting the list to a single numpy.ndarray with numpy.array() before converting to a tensor. (Triggered internally at C:\\actions-runner\\_work\\pytorch\\pytorch\\builder\\windows\\pytorch\\torch\\csrc\\utils\\tensor_new.cpp:281.)\n"
     ]
    },
    {
     "name": "stdout",
     "output_type": "stream",
     "text": [
      "\u001b[36m(obj pid=108488)\u001b[0m Episode 150, Average Score: 10.64\u001b[32m [repeated 5x across cluster]\u001b[0m\n"
     ]
    },
    {
     "name": "stderr",
     "output_type": "stream",
     "text": [
      "\u001b[36m(obj pid=111472)\u001b[0m C:\\Users\\Benedict\\AppData\\Local\\Temp\\ipykernel_95128\\135224036.py:90: UserWarning: Creating a tensor from a list of numpy.ndarrays is extremely slow. Please consider converting the list to a single numpy.ndarray with numpy.array() before converting to a tensor. (Triggered internally at C:\\actions-runner\\_work\\pytorch\\pytorch\\builder\\windows\\pytorch\\torch\\csrc\\utils\\tensor_new.cpp:281.)\n"
     ]
    },
    {
     "name": "stdout",
     "output_type": "stream",
     "text": [
      "\u001b[36m(obj pid=111472)\u001b[0m Episode 150, Average Score: 9.42\u001b[32m [repeated 5x across cluster]\u001b[0m\n"
     ]
    },
    {
     "name": "stderr",
     "output_type": "stream",
     "text": [
      "\u001b[36m(obj pid=108292)\u001b[0m C:\\Users\\Benedict\\AppData\\Local\\Temp\\ipykernel_95128\\135224036.py:90: UserWarning: Creating a tensor from a list of numpy.ndarrays is extremely slow. Please consider converting the list to a single numpy.ndarray with numpy.array() before converting to a tensor. (Triggered internally at C:\\actions-runner\\_work\\pytorch\\pytorch\\builder\\windows\\pytorch\\torch\\csrc\\utils\\tensor_new.cpp:281.)\n"
     ]
    },
    {
     "name": "stdout",
     "output_type": "stream",
     "text": [
      "\u001b[36m(obj pid=111472)\u001b[0m Episode 200, Average Score: 9.34\u001b[32m [repeated 3x across cluster]\u001b[0m\n",
      "\u001b[36m(obj pid=111472)\u001b[0m Episode 250, Average Score: 9.42\u001b[32m [repeated 5x across cluster]\u001b[0m\n"
     ]
    },
    {
     "name": "stderr",
     "output_type": "stream",
     "text": [
      "\u001b[36m(obj pid=102108)\u001b[0m C:\\Users\\Benedict\\AppData\\Local\\Temp\\ipykernel_95128\\135224036.py:90: UserWarning: Creating a tensor from a list of numpy.ndarrays is extremely slow. Please consider converting the list to a single numpy.ndarray with numpy.array() before converting to a tensor. (Triggered internally at C:\\actions-runner\\_work\\pytorch\\pytorch\\builder\\windows\\pytorch\\torch\\csrc\\utils\\tensor_new.cpp:281.)\n"
     ]
    },
    {
     "name": "stdout",
     "output_type": "stream",
     "text": [
      "\u001b[36m(obj pid=111472)\u001b[0m Episode 300, Average Score: 9.42\u001b[32m [repeated 7x across cluster]\u001b[0m\n"
     ]
    },
    {
     "name": "stderr",
     "output_type": "stream",
     "text": [
      "\u001b[36m(obj pid=107032)\u001b[0m C:\\Users\\Benedict\\AppData\\Local\\Temp\\ipykernel_95128\\135224036.py:90: UserWarning: Creating a tensor from a list of numpy.ndarrays is extremely slow. Please consider converting the list to a single numpy.ndarray with numpy.array() before converting to a tensor. (Triggered internally at C:\\actions-runner\\_work\\pytorch\\pytorch\\builder\\windows\\pytorch\\torch\\csrc\\utils\\tensor_new.cpp:281.)\n"
     ]
    },
    {
     "name": "stdout",
     "output_type": "stream",
     "text": [
      "\u001b[36m(obj pid=107032)\u001b[0m Episode 100, Average Score: 14.48\u001b[32m [repeated 8x across cluster]\u001b[0m\n"
     ]
    },
    {
     "name": "stderr",
     "output_type": "stream",
     "text": [
      "\u001b[36m(obj pid=109252)\u001b[0m C:\\Users\\Benedict\\AppData\\Local\\Temp\\ipykernel_95128\\135224036.py:90: UserWarning: Creating a tensor from a list of numpy.ndarrays is extremely slow. Please consider converting the list to a single numpy.ndarray with numpy.array() before converting to a tensor. (Triggered internally at C:\\actions-runner\\_work\\pytorch\\pytorch\\builder\\windows\\pytorch\\torch\\csrc\\utils\\tensor_new.cpp:281.)\n"
     ]
    },
    {
     "name": "stdout",
     "output_type": "stream",
     "text": [
      "\u001b[36m(obj pid=107032)\u001b[0m Episode 250, Average Score: 73.82\u001b[32m [repeated 5x across cluster]\u001b[0m\n",
      "\u001b[36m(obj pid=109252)\u001b[0m Episode 200, Average Score: 80.76\u001b[32m [repeated 5x across cluster]\u001b[0m\n"
     ]
    },
    {
     "name": "stderr",
     "output_type": "stream",
     "text": [
      "\u001b[36m(obj pid=105864)\u001b[0m C:\\Users\\Benedict\\AppData\\Local\\Temp\\ipykernel_95128\\135224036.py:90: UserWarning: Creating a tensor from a list of numpy.ndarrays is extremely slow. Please consider converting the list to a single numpy.ndarray with numpy.array() before converting to a tensor. (Triggered internally at C:\\actions-runner\\_work\\pytorch\\pytorch\\builder\\windows\\pytorch\\torch\\csrc\\utils\\tensor_new.cpp:281.)\n"
     ]
    },
    {
     "name": "stdout",
     "output_type": "stream",
     "text": [
      "\u001b[36m(obj pid=109252)\u001b[0m Episode 350, Average Score: 105.42\u001b[32m [repeated 10x across cluster]\u001b[0m\n"
     ]
    },
    {
     "name": "stderr",
     "output_type": "stream",
     "text": [
      "\u001b[36m(obj pid=107072)\u001b[0m C:\\Users\\Benedict\\AppData\\Local\\Temp\\ipykernel_95128\\135224036.py:90: UserWarning: Creating a tensor from a list of numpy.ndarrays is extremely slow. Please consider converting the list to a single numpy.ndarray with numpy.array() before converting to a tensor. (Triggered internally at C:\\actions-runner\\_work\\pytorch\\pytorch\\builder\\windows\\pytorch\\torch\\csrc\\utils\\tensor_new.cpp:281.)\n"
     ]
    },
    {
     "name": "stdout",
     "output_type": "stream",
     "text": [
      "\u001b[36m(obj pid=107072)\u001b[0m Episode 300, Average Score: 9.42\u001b[32m [repeated 8x across cluster]\u001b[0m\n"
     ]
    },
    {
     "name": "stderr",
     "output_type": "stream",
     "text": [
      "\u001b[36m(obj pid=108232)\u001b[0m C:\\Users\\Benedict\\AppData\\Local\\Temp\\ipykernel_95128\\135224036.py:90: UserWarning: Creating a tensor from a list of numpy.ndarrays is extremely slow. Please consider converting the list to a single numpy.ndarray with numpy.array() before converting to a tensor. (Triggered internally at C:\\actions-runner\\_work\\pytorch\\pytorch\\builder\\windows\\pytorch\\torch\\csrc\\utils\\tensor_new.cpp:281.)\n"
     ]
    },
    {
     "name": "stdout",
     "output_type": "stream",
     "text": [
      "\u001b[36m(obj pid=108232)\u001b[0m Episode 200, Average Score: 30.42\u001b[32m [repeated 4x across cluster]\u001b[0m\n"
     ]
    },
    {
     "name": "stderr",
     "output_type": "stream",
     "text": [
      "\u001b[36m(obj pid=69812)\u001b[0m C:\\Users\\Benedict\\AppData\\Local\\Temp\\ipykernel_95128\\135224036.py:90: UserWarning: Creating a tensor from a list of numpy.ndarrays is extremely slow. Please consider converting the list to a single numpy.ndarray with numpy.array() before converting to a tensor. (Triggered internally at C:\\actions-runner\\_work\\pytorch\\pytorch\\builder\\windows\\pytorch\\torch\\csrc\\utils\\tensor_new.cpp:281.)\n"
     ]
    },
    {
     "name": "stdout",
     "output_type": "stream",
     "text": [
      "\u001b[36m(obj pid=69812)\u001b[0m Episode 250, Average Score: 9.2\u001b[32m [repeated 8x across cluster]\u001b[0m\n"
     ]
    },
    {
     "name": "stderr",
     "output_type": "stream",
     "text": [
      "\u001b[36m(obj pid=76424)\u001b[0m C:\\Users\\Benedict\\AppData\\Local\\Temp\\ipykernel_95128\\135224036.py:90: UserWarning: Creating a tensor from a list of numpy.ndarrays is extremely slow. Please consider converting the list to a single numpy.ndarray with numpy.array() before converting to a tensor. (Triggered internally at C:\\actions-runner\\_work\\pytorch\\pytorch\\builder\\windows\\pytorch\\torch\\csrc\\utils\\tensor_new.cpp:281.)\n"
     ]
    },
    {
     "name": "stdout",
     "output_type": "stream",
     "text": [
      "\u001b[36m(obj pid=76424)\u001b[0m Episode 200, Average Score: 46.88\u001b[32m [repeated 6x across cluster]\u001b[0m\n"
     ]
    },
    {
     "name": "stderr",
     "output_type": "stream",
     "text": [
      "\u001b[36m(obj pid=95828)\u001b[0m C:\\Users\\Benedict\\AppData\\Local\\Temp\\ipykernel_95128\\135224036.py:90: UserWarning: Creating a tensor from a list of numpy.ndarrays is extremely slow. Please consider converting the list to a single numpy.ndarray with numpy.array() before converting to a tensor. (Triggered internally at C:\\actions-runner\\_work\\pytorch\\pytorch\\builder\\windows\\pytorch\\torch\\csrc\\utils\\tensor_new.cpp:281.)\n"
     ]
    },
    {
     "name": "stdout",
     "output_type": "stream",
     "text": [
      "\u001b[36m(obj pid=95828)\u001b[0m Episode 200, Average Score: 9.34\u001b[32m [repeated 6x across cluster]\u001b[0m\n"
     ]
    },
    {
     "name": "stderr",
     "output_type": "stream",
     "text": [
      "\u001b[36m(obj pid=105832)\u001b[0m C:\\Users\\Benedict\\AppData\\Local\\Temp\\ipykernel_95128\\135224036.py:90: UserWarning: Creating a tensor from a list of numpy.ndarrays is extremely slow. Please consider converting the list to a single numpy.ndarray with numpy.array() before converting to a tensor. (Triggered internally at C:\\actions-runner\\_work\\pytorch\\pytorch\\builder\\windows\\pytorch\\torch\\csrc\\utils\\tensor_new.cpp:281.)\n"
     ]
    },
    {
     "name": "stdout",
     "output_type": "stream",
     "text": [
      "\u001b[36m(obj pid=105832)\u001b[0m Episode 200, Average Score: 9.32\u001b[32m [repeated 8x across cluster]\u001b[0m\n"
     ]
    },
    {
     "name": "stderr",
     "output_type": "stream",
     "text": [
      "\u001b[36m(obj pid=107964)\u001b[0m C:\\Users\\Benedict\\AppData\\Local\\Temp\\ipykernel_95128\\135224036.py:90: UserWarning: Creating a tensor from a list of numpy.ndarrays is extremely slow. Please consider converting the list to a single numpy.ndarray with numpy.array() before converting to a tensor. (Triggered internally at C:\\actions-runner\\_work\\pytorch\\pytorch\\builder\\windows\\pytorch\\torch\\csrc\\utils\\tensor_new.cpp:281.)\n"
     ]
    },
    {
     "name": "stdout",
     "output_type": "stream",
     "text": [
      "\u001b[36m(obj pid=107964)\u001b[0m Episode 200, Average Score: 9.32\u001b[32m [repeated 6x across cluster]\u001b[0m\n"
     ]
    },
    {
     "name": "stderr",
     "output_type": "stream",
     "text": [
      "\u001b[36m(obj pid=51972)\u001b[0m C:\\Users\\Benedict\\AppData\\Local\\Temp\\ipykernel_95128\\135224036.py:90: UserWarning: Creating a tensor from a list of numpy.ndarrays is extremely slow. Please consider converting the list to a single numpy.ndarray with numpy.array() before converting to a tensor. (Triggered internally at C:\\actions-runner\\_work\\pytorch\\pytorch\\builder\\windows\\pytorch\\torch\\csrc\\utils\\tensor_new.cpp:281.)\n"
     ]
    },
    {
     "name": "stdout",
     "output_type": "stream",
     "text": [
      "\u001b[36m(obj pid=51972)\u001b[0m Episode 200, Average Score: 9.84\u001b[32m [repeated 6x across cluster]\u001b[0m\n"
     ]
    },
    {
     "name": "stderr",
     "output_type": "stream",
     "text": [
      "\u001b[36m(obj pid=18136)\u001b[0m C:\\Users\\Benedict\\AppData\\Local\\Temp\\ipykernel_95128\\135224036.py:90: UserWarning: Creating a tensor from a list of numpy.ndarrays is extremely slow. Please consider converting the list to a single numpy.ndarray with numpy.array() before converting to a tensor. (Triggered internally at C:\\actions-runner\\_work\\pytorch\\pytorch\\builder\\windows\\pytorch\\torch\\csrc\\utils\\tensor_new.cpp:281.)\n"
     ]
    },
    {
     "name": "stdout",
     "output_type": "stream",
     "text": [
      "\u001b[36m(obj pid=18136)\u001b[0m Episode 200, Average Score: 9.32\u001b[32m [repeated 6x across cluster]\u001b[0m\n"
     ]
    },
    {
     "name": "stderr",
     "output_type": "stream",
     "text": [
      "\u001b[36m(obj pid=86188)\u001b[0m C:\\Users\\Benedict\\AppData\\Local\\Temp\\ipykernel_95128\\135224036.py:90: UserWarning: Creating a tensor from a list of numpy.ndarrays is extremely slow. Please consider converting the list to a single numpy.ndarray with numpy.array() before converting to a tensor. (Triggered internally at C:\\actions-runner\\_work\\pytorch\\pytorch\\builder\\windows\\pytorch\\torch\\csrc\\utils\\tensor_new.cpp:281.)\n"
     ]
    },
    {
     "name": "stdout",
     "output_type": "stream",
     "text": [
      "\u001b[36m(obj pid=86188)\u001b[0m Episode 200, Average Score: 9.32\u001b[32m [repeated 6x across cluster]\u001b[0m\n"
     ]
    },
    {
     "name": "stderr",
     "output_type": "stream",
     "text": [
      "\u001b[36m(obj pid=69004)\u001b[0m C:\\Users\\Benedict\\AppData\\Local\\Temp\\ipykernel_95128\\135224036.py:90: UserWarning: Creating a tensor from a list of numpy.ndarrays is extremely slow. Please consider converting the list to a single numpy.ndarray with numpy.array() before converting to a tensor. (Triggered internally at C:\\actions-runner\\_work\\pytorch\\pytorch\\builder\\windows\\pytorch\\torch\\csrc\\utils\\tensor_new.cpp:281.)\n"
     ]
    },
    {
     "name": "stdout",
     "output_type": "stream",
     "text": [
      "\u001b[36m(obj pid=69004)\u001b[0m Episode 200, Average Score: 9.32\u001b[32m [repeated 6x across cluster]\u001b[0m\n"
     ]
    },
    {
     "name": "stderr",
     "output_type": "stream",
     "text": [
      "\u001b[36m(obj pid=110352)\u001b[0m C:\\Users\\Benedict\\AppData\\Local\\Temp\\ipykernel_95128\\135224036.py:90: UserWarning: Creating a tensor from a list of numpy.ndarrays is extremely slow. Please consider converting the list to a single numpy.ndarray with numpy.array() before converting to a tensor. (Triggered internally at C:\\actions-runner\\_work\\pytorch\\pytorch\\builder\\windows\\pytorch\\torch\\csrc\\utils\\tensor_new.cpp:281.)\n"
     ]
    },
    {
     "name": "stdout",
     "output_type": "stream",
     "text": [
      "\u001b[36m(obj pid=110352)\u001b[0m Episode 200, Average Score: 9.32\u001b[32m [repeated 6x across cluster]\u001b[0m\n"
     ]
    },
    {
     "name": "stderr",
     "output_type": "stream",
     "text": [
      "\u001b[36m(obj pid=84216)\u001b[0m C:\\Users\\Benedict\\AppData\\Local\\Temp\\ipykernel_95128\\135224036.py:90: UserWarning: Creating a tensor from a list of numpy.ndarrays is extremely slow. Please consider converting the list to a single numpy.ndarray with numpy.array() before converting to a tensor. (Triggered internally at C:\\actions-runner\\_work\\pytorch\\pytorch\\builder\\windows\\pytorch\\torch\\csrc\\utils\\tensor_new.cpp:281.)\n"
     ]
    },
    {
     "name": "stdout",
     "output_type": "stream",
     "text": [
      "\u001b[36m(obj pid=84216)\u001b[0m Episode 100, Average Score: 14.28\u001b[32m [repeated 4x across cluster]\u001b[0m\n"
     ]
    },
    {
     "name": "stderr",
     "output_type": "stream",
     "text": [
      "\u001b[36m(obj pid=111944)\u001b[0m C:\\Users\\Benedict\\AppData\\Local\\Temp\\ipykernel_95128\\135224036.py:90: UserWarning: Creating a tensor from a list of numpy.ndarrays is extremely slow. Please consider converting the list to a single numpy.ndarray with numpy.array() before converting to a tensor. (Triggered internally at C:\\actions-runner\\_work\\pytorch\\pytorch\\builder\\windows\\pytorch\\torch\\csrc\\utils\\tensor_new.cpp:281.)\n"
     ]
    },
    {
     "name": "stdout",
     "output_type": "stream",
     "text": [
      "\u001b[36m(obj pid=111944)\u001b[0m Episode 150, Average Score: 9.36\u001b[32m [repeated 6x across cluster]\u001b[0m\n"
     ]
    },
    {
     "name": "stderr",
     "output_type": "stream",
     "text": [
      "\u001b[36m(obj pid=112120)\u001b[0m C:\\Users\\Benedict\\AppData\\Local\\Temp\\ipykernel_95128\\135224036.py:90: UserWarning: Creating a tensor from a list of numpy.ndarrays is extremely slow. Please consider converting the list to a single numpy.ndarray with numpy.array() before converting to a tensor. (Triggered internally at C:\\actions-runner\\_work\\pytorch\\pytorch\\builder\\windows\\pytorch\\torch\\csrc\\utils\\tensor_new.cpp:281.)\n"
     ]
    },
    {
     "name": "stdout",
     "output_type": "stream",
     "text": [
      "\u001b[36m(obj pid=84216)\u001b[0m Episode 400, Average Score: 165.26\u001b[32m [repeated 8x across cluster]\u001b[0m\n",
      "\u001b[36m(obj pid=78324)\u001b[0m Episode 50, Average Score: 9.5\u001b[32m [repeated 5x across cluster]\u001b[0m\n"
     ]
    },
    {
     "name": "stderr",
     "output_type": "stream",
     "text": [
      "\u001b[36m(obj pid=78324)\u001b[0m C:\\Users\\Benedict\\AppData\\Local\\Temp\\ipykernel_95128\\135224036.py:90: UserWarning: Creating a tensor from a list of numpy.ndarrays is extremely slow. Please consider converting the list to a single numpy.ndarray with numpy.array() before converting to a tensor. (Triggered internally at C:\\actions-runner\\_work\\pytorch\\pytorch\\builder\\windows\\pytorch\\torch\\csrc\\utils\\tensor_new.cpp:281.)\n"
     ]
    },
    {
     "name": "stdout",
     "output_type": "stream",
     "text": [
      "\u001b[36m(obj pid=102596)\u001b[0m Episode 50, Average Score: 11.52\u001b[32m [repeated 5x across cluster]\u001b[0m\n"
     ]
    },
    {
     "name": "stderr",
     "output_type": "stream",
     "text": [
      "\u001b[36m(obj pid=102596)\u001b[0m C:\\Users\\Benedict\\AppData\\Local\\Temp\\ipykernel_95128\\135224036.py:90: UserWarning: Creating a tensor from a list of numpy.ndarrays is extremely slow. Please consider converting the list to a single numpy.ndarray with numpy.array() before converting to a tensor. (Triggered internally at C:\\actions-runner\\_work\\pytorch\\pytorch\\builder\\windows\\pytorch\\torch\\csrc\\utils\\tensor_new.cpp:281.)\n"
     ]
    },
    {
     "name": "stdout",
     "output_type": "stream",
     "text": [
      "\u001b[36m(obj pid=2528)\u001b[0m Episode 50, Average Score: 10.7\u001b[32m [repeated 9x across cluster]\u001b[0m\n"
     ]
    },
    {
     "name": "stderr",
     "output_type": "stream",
     "text": [
      "\u001b[36m(obj pid=2528)\u001b[0m C:\\Users\\Benedict\\AppData\\Local\\Temp\\ipykernel_95128\\135224036.py:90: UserWarning: Creating a tensor from a list of numpy.ndarrays is extremely slow. Please consider converting the list to a single numpy.ndarray with numpy.array() before converting to a tensor. (Triggered internally at C:\\actions-runner\\_work\\pytorch\\pytorch\\builder\\windows\\pytorch\\torch\\csrc\\utils\\tensor_new.cpp:281.)\n"
     ]
    },
    {
     "name": "stdout",
     "output_type": "stream",
     "text": [
      "\u001b[36m(obj pid=109860)\u001b[0m Episode 50, Average Score: 9.34\u001b[32m [repeated 6x across cluster]\u001b[0m\n"
     ]
    },
    {
     "name": "stderr",
     "output_type": "stream",
     "text": [
      "\u001b[36m(obj pid=109860)\u001b[0m C:\\Users\\Benedict\\AppData\\Local\\Temp\\ipykernel_95128\\135224036.py:90: UserWarning: Creating a tensor from a list of numpy.ndarrays is extremely slow. Please consider converting the list to a single numpy.ndarray with numpy.array() before converting to a tensor. (Triggered internally at C:\\actions-runner\\_work\\pytorch\\pytorch\\builder\\windows\\pytorch\\torch\\csrc\\utils\\tensor_new.cpp:281.)\n"
     ]
    },
    {
     "name": "stdout",
     "output_type": "stream",
     "text": [
      "\u001b[36m(obj pid=50864)\u001b[0m Episode 50, Average Score: 9.18\u001b[32m [repeated 8x across cluster]\u001b[0m\n",
      "\u001b[36m(obj pid=107032)\u001b[0m Episode 50, Average Score: 9.42\u001b[32m [repeated 6x across cluster]\u001b[0m\n",
      "\u001b[36m(obj pid=54060)\u001b[0m Episode 50, Average Score: 9.18\u001b[32m [repeated 6x across cluster]\u001b[0m\n"
     ]
    },
    {
     "name": "stderr",
     "output_type": "stream",
     "text": [
      "\u001b[36m(obj pid=54060)\u001b[0m C:\\Users\\Benedict\\AppData\\Local\\Temp\\ipykernel_95128\\135224036.py:90: UserWarning: Creating a tensor from a list of numpy.ndarrays is extremely slow. Please consider converting the list to a single numpy.ndarray with numpy.array() before converting to a tensor. (Triggered internally at C:\\actions-runner\\_work\\pytorch\\pytorch\\builder\\windows\\pytorch\\torch\\csrc\\utils\\tensor_new.cpp:281.)\n"
     ]
    },
    {
     "name": "stdout",
     "output_type": "stream",
     "text": [
      "\u001b[36m(obj pid=76680)\u001b[0m Episode 50, Average Score: 9.54\u001b[32m [repeated 5x across cluster]\u001b[0m\n"
     ]
    },
    {
     "name": "stderr",
     "output_type": "stream",
     "text": [
      "\u001b[36m(obj pid=76680)\u001b[0m C:\\Users\\Benedict\\AppData\\Local\\Temp\\ipykernel_95128\\135224036.py:90: UserWarning: Creating a tensor from a list of numpy.ndarrays is extremely slow. Please consider converting the list to a single numpy.ndarray with numpy.array() before converting to a tensor. (Triggered internally at C:\\actions-runner\\_work\\pytorch\\pytorch\\builder\\windows\\pytorch\\torch\\csrc\\utils\\tensor_new.cpp:281.)\n"
     ]
    },
    {
     "name": "stdout",
     "output_type": "stream",
     "text": [
      "\u001b[36m(obj pid=76680)\u001b[0m Episode 250, Average Score: 17.16\u001b[32m [repeated 5x across cluster]\u001b[0m\n"
     ]
    },
    {
     "name": "stderr",
     "output_type": "stream",
     "text": [
      "\u001b[36m(obj pid=107356)\u001b[0m C:\\Users\\Benedict\\AppData\\Local\\Temp\\ipykernel_95128\\135224036.py:90: UserWarning: Creating a tensor from a list of numpy.ndarrays is extremely slow. Please consider converting the list to a single numpy.ndarray with numpy.array() before converting to a tensor. (Triggered internally at C:\\actions-runner\\_work\\pytorch\\pytorch\\builder\\windows\\pytorch\\torch\\csrc\\utils\\tensor_new.cpp:281.)\n"
     ]
    },
    {
     "name": "stdout",
     "output_type": "stream",
     "text": [
      "\u001b[36m(obj pid=107356)\u001b[0m Episode 200, Average Score: 9.32\u001b[32m [repeated 5x across cluster]\u001b[0m\n"
     ]
    },
    {
     "name": "stderr",
     "output_type": "stream",
     "text": [
      "\u001b[36m(obj pid=111708)\u001b[0m C:\\Users\\Benedict\\AppData\\Local\\Temp\\ipykernel_95128\\135224036.py:90: UserWarning: Creating a tensor from a list of numpy.ndarrays is extremely slow. Please consider converting the list to a single numpy.ndarray with numpy.array() before converting to a tensor. (Triggered internally at C:\\actions-runner\\_work\\pytorch\\pytorch\\builder\\windows\\pytorch\\torch\\csrc\\utils\\tensor_new.cpp:281.)\n"
     ]
    },
    {
     "name": "stdout",
     "output_type": "stream",
     "text": [
      "\u001b[36m(obj pid=111708)\u001b[0m Episode 150, Average Score: 11.32\u001b[32m [repeated 5x across cluster]\u001b[0m\n"
     ]
    },
    {
     "name": "stderr",
     "output_type": "stream",
     "text": [
      "\u001b[36m(obj pid=62564)\u001b[0m C:\\Users\\Benedict\\AppData\\Local\\Temp\\ipykernel_95128\\135224036.py:90: UserWarning: Creating a tensor from a list of numpy.ndarrays is extremely slow. Please consider converting the list to a single numpy.ndarray with numpy.array() before converting to a tensor. (Triggered internally at C:\\actions-runner\\_work\\pytorch\\pytorch\\builder\\windows\\pytorch\\torch\\csrc\\utils\\tensor_new.cpp:281.)\n"
     ]
    },
    {
     "name": "stdout",
     "output_type": "stream",
     "text": [
      "\u001b[36m(obj pid=62564)\u001b[0m Episode 150, Average Score: 9.42\u001b[32m [repeated 6x across cluster]\u001b[0m\n"
     ]
    },
    {
     "name": "stderr",
     "output_type": "stream",
     "text": [
      "\u001b[36m(obj pid=66540)\u001b[0m C:\\Users\\Benedict\\AppData\\Local\\Temp\\ipykernel_95128\\135224036.py:90: UserWarning: Creating a tensor from a list of numpy.ndarrays is extremely slow. Please consider converting the list to a single numpy.ndarray with numpy.array() before converting to a tensor. (Triggered internally at C:\\actions-runner\\_work\\pytorch\\pytorch\\builder\\windows\\pytorch\\torch\\csrc\\utils\\tensor_new.cpp:281.)\n"
     ]
    },
    {
     "name": "stdout",
     "output_type": "stream",
     "text": [
      "\u001b[36m(obj pid=66540)\u001b[0m Episode 100, Average Score: 16.64\u001b[32m [repeated 5x across cluster]\u001b[0m\n"
     ]
    },
    {
     "name": "stderr",
     "output_type": "stream",
     "text": [
      "\u001b[36m(obj pid=68800)\u001b[0m C:\\Users\\Benedict\\AppData\\Local\\Temp\\ipykernel_95128\\135224036.py:90: UserWarning: Creating a tensor from a list of numpy.ndarrays is extremely slow. Please consider converting the list to a single numpy.ndarray with numpy.array() before converting to a tensor. (Triggered internally at C:\\actions-runner\\_work\\pytorch\\pytorch\\builder\\windows\\pytorch\\torch\\csrc\\utils\\tensor_new.cpp:281.)\n"
     ]
    },
    {
     "name": "stdout",
     "output_type": "stream",
     "text": [
      "\u001b[36m(obj pid=68800)\u001b[0m Episode 150, Average Score: 9.42\u001b[32m [repeated 7x across cluster]\u001b[0m\n"
     ]
    },
    {
     "name": "stderr",
     "output_type": "stream",
     "text": [
      "\u001b[36m(obj pid=1176)\u001b[0m C:\\Users\\Benedict\\AppData\\Local\\Temp\\ipykernel_95128\\135224036.py:90: UserWarning: Creating a tensor from a list of numpy.ndarrays is extremely slow. Please consider converting the list to a single numpy.ndarray with numpy.array() before converting to a tensor. (Triggered internally at C:\\actions-runner\\_work\\pytorch\\pytorch\\builder\\windows\\pytorch\\torch\\csrc\\utils\\tensor_new.cpp:281.)\n"
     ]
    },
    {
     "name": "stdout",
     "output_type": "stream",
     "text": [
      "\u001b[36m(obj pid=1176)\u001b[0m Episode 150, Average Score: 9.36\u001b[32m [repeated 6x across cluster]\u001b[0m\n"
     ]
    },
    {
     "name": "stderr",
     "output_type": "stream",
     "text": [
      "\u001b[36m(obj pid=110684)\u001b[0m C:\\Users\\Benedict\\AppData\\Local\\Temp\\ipykernel_95128\\135224036.py:90: UserWarning: Creating a tensor from a list of numpy.ndarrays is extremely slow. Please consider converting the list to a single numpy.ndarray with numpy.array() before converting to a tensor. (Triggered internally at C:\\actions-runner\\_work\\pytorch\\pytorch\\builder\\windows\\pytorch\\torch\\csrc\\utils\\tensor_new.cpp:281.)\n"
     ]
    },
    {
     "name": "stdout",
     "output_type": "stream",
     "text": [
      "\u001b[36m(obj pid=1176)\u001b[0m Episode 300, Average Score: 43.7\u001b[32m [repeated 3x across cluster]\u001b[0m\n",
      "\u001b[36m(obj pid=110684)\u001b[0m Episode 200, Average Score: 74.48\u001b[32m [repeated 6x across cluster]\u001b[0m\n"
     ]
    },
    {
     "name": "stderr",
     "output_type": "stream",
     "text": [
      "\u001b[36m(obj pid=105368)\u001b[0m C:\\Users\\Benedict\\AppData\\Local\\Temp\\ipykernel_95128\\135224036.py:90: UserWarning: Creating a tensor from a list of numpy.ndarrays is extremely slow. Please consider converting the list to a single numpy.ndarray with numpy.array() before converting to a tensor. (Triggered internally at C:\\actions-runner\\_work\\pytorch\\pytorch\\builder\\windows\\pytorch\\torch\\csrc\\utils\\tensor_new.cpp:281.)\n"
     ]
    },
    {
     "name": "stdout",
     "output_type": "stream",
     "text": [
      "\u001b[36m(obj pid=110684)\u001b[0m Episode 350, Average Score: 125.14\u001b[32m [repeated 5x across cluster]\u001b[0m\n",
      "\u001b[36m(obj pid=112044)\u001b[0m Episode 50, Average Score: 9.4\u001b[32m [repeated 3x across cluster]\u001b[0m\n"
     ]
    },
    {
     "name": "stderr",
     "output_type": "stream",
     "text": [
      "\u001b[36m(obj pid=112044)\u001b[0m C:\\Users\\Benedict\\AppData\\Local\\Temp\\ipykernel_95128\\135224036.py:90: UserWarning: Creating a tensor from a list of numpy.ndarrays is extremely slow. Please consider converting the list to a single numpy.ndarray with numpy.array() before converting to a tensor. (Triggered internally at C:\\actions-runner\\_work\\pytorch\\pytorch\\builder\\windows\\pytorch\\torch\\csrc\\utils\\tensor_new.cpp:281.)\n"
     ]
    },
    {
     "name": "stdout",
     "output_type": "stream",
     "text": [
      "\u001b[36m(obj pid=105368)\u001b[0m Episode 250, Average Score: 9.2\u001b[32m [repeated 3x across cluster]\u001b[0m\n"
     ]
    },
    {
     "name": "stderr",
     "output_type": "stream",
     "text": [
      "\u001b[36m(obj pid=58068)\u001b[0m C:\\Users\\Benedict\\AppData\\Local\\Temp\\ipykernel_95128\\135224036.py:90: UserWarning: Creating a tensor from a list of numpy.ndarrays is extremely slow. Please consider converting the list to a single numpy.ndarray with numpy.array() before converting to a tensor. (Triggered internally at C:\\actions-runner\\_work\\pytorch\\pytorch\\builder\\windows\\pytorch\\torch\\csrc\\utils\\tensor_new.cpp:281.)\n"
     ]
    },
    {
     "name": "stdout",
     "output_type": "stream",
     "text": [
      "\u001b[36m(obj pid=58068)\u001b[0m Episode 100, Average Score: 9.44\u001b[32m [repeated 5x across cluster]\u001b[0m\n",
      "\u001b[36m(obj pid=58068)\u001b[0m Episode 200, Average Score: 15.6\u001b[32m [repeated 10x across cluster]\u001b[0m\n"
     ]
    },
    {
     "name": "stderr",
     "output_type": "stream",
     "text": [
      "\u001b[36m(obj pid=100856)\u001b[0m C:\\Users\\Benedict\\AppData\\Local\\Temp\\ipykernel_95128\\135224036.py:90: UserWarning: Creating a tensor from a list of numpy.ndarrays is extremely slow. Please consider converting the list to a single numpy.ndarray with numpy.array() before converting to a tensor. (Triggered internally at C:\\actions-runner\\_work\\pytorch\\pytorch\\builder\\windows\\pytorch\\torch\\csrc\\utils\\tensor_new.cpp:281.)\n"
     ]
    },
    {
     "name": "stdout",
     "output_type": "stream",
     "text": [
      "\u001b[36m(obj pid=100856)\u001b[0m Episode 200, Average Score: 30.78\u001b[32m [repeated 5x across cluster]\u001b[0m\n"
     ]
    },
    {
     "name": "stderr",
     "output_type": "stream",
     "text": [
      "\u001b[36m(obj pid=108832)\u001b[0m C:\\Users\\Benedict\\AppData\\Local\\Temp\\ipykernel_95128\\135224036.py:90: UserWarning: Creating a tensor from a list of numpy.ndarrays is extremely slow. Please consider converting the list to a single numpy.ndarray with numpy.array() before converting to a tensor. (Triggered internally at C:\\actions-runner\\_work\\pytorch\\pytorch\\builder\\windows\\pytorch\\torch\\csrc\\utils\\tensor_new.cpp:281.)\n"
     ]
    },
    {
     "name": "stdout",
     "output_type": "stream",
     "text": [
      "\u001b[36m(obj pid=58068)\u001b[0m Episode 350, Average Score: 23.44\u001b[32m [repeated 7x across cluster]\u001b[0m\n"
     ]
    },
    {
     "name": "stderr",
     "output_type": "stream",
     "text": [
      "\u001b[36m(obj pid=111292)\u001b[0m C:\\Users\\Benedict\\AppData\\Local\\Temp\\ipykernel_95128\\135224036.py:90: UserWarning: Creating a tensor from a list of numpy.ndarrays is extremely slow. Please consider converting the list to a single numpy.ndarray with numpy.array() before converting to a tensor. (Triggered internally at C:\\actions-runner\\_work\\pytorch\\pytorch\\builder\\windows\\pytorch\\torch\\csrc\\utils\\tensor_new.cpp:281.)\n"
     ]
    },
    {
     "name": "stdout",
     "output_type": "stream",
     "text": [
      "\u001b[36m(obj pid=111292)\u001b[0m Episode 150, Average Score: 11.46\u001b[32m [repeated 9x across cluster]\u001b[0m\n"
     ]
    },
    {
     "name": "stderr",
     "output_type": "stream",
     "text": [
      "\u001b[36m(obj pid=37856)\u001b[0m C:\\Users\\Benedict\\AppData\\Local\\Temp\\ipykernel_95128\\135224036.py:90: UserWarning: Creating a tensor from a list of numpy.ndarrays is extremely slow. Please consider converting the list to a single numpy.ndarray with numpy.array() before converting to a tensor. (Triggered internally at C:\\actions-runner\\_work\\pytorch\\pytorch\\builder\\windows\\pytorch\\torch\\csrc\\utils\\tensor_new.cpp:281.)\n"
     ]
    },
    {
     "name": "stdout",
     "output_type": "stream",
     "text": [
      "\u001b[36m(obj pid=37856)\u001b[0m Episode 50, Average Score: 9.64\u001b[32m [repeated 3x across cluster]\u001b[0m\n",
      "\u001b[36m(obj pid=97188)\u001b[0m Episode 50, Average Score: 9.4\u001b[32m [repeated 7x across cluster]\u001b[0m\n"
     ]
    },
    {
     "name": "stderr",
     "output_type": "stream",
     "text": [
      "\u001b[36m(obj pid=97188)\u001b[0m C:\\Users\\Benedict\\AppData\\Local\\Temp\\ipykernel_95128\\135224036.py:90: UserWarning: Creating a tensor from a list of numpy.ndarrays is extremely slow. Please consider converting the list to a single numpy.ndarray with numpy.array() before converting to a tensor. (Triggered internally at C:\\actions-runner\\_work\\pytorch\\pytorch\\builder\\windows\\pytorch\\torch\\csrc\\utils\\tensor_new.cpp:281.)\n"
     ]
    },
    {
     "name": "stdout",
     "output_type": "stream",
     "text": [
      "\u001b[36m(obj pid=105708)\u001b[0m Episode 50, Average Score: 9.68\u001b[32m [repeated 5x across cluster]\u001b[0m\n"
     ]
    },
    {
     "name": "stderr",
     "output_type": "stream",
     "text": [
      "\u001b[36m(obj pid=105708)\u001b[0m C:\\Users\\Benedict\\AppData\\Local\\Temp\\ipykernel_95128\\135224036.py:90: UserWarning: Creating a tensor from a list of numpy.ndarrays is extremely slow. Please consider converting the list to a single numpy.ndarray with numpy.array() before converting to a tensor. (Triggered internally at C:\\actions-runner\\_work\\pytorch\\pytorch\\builder\\windows\\pytorch\\torch\\csrc\\utils\\tensor_new.cpp:281.)\n"
     ]
    },
    {
     "name": "stdout",
     "output_type": "stream",
     "text": [
      "\u001b[36m(obj pid=105708)\u001b[0m Episode 300, Average Score: 11.72\u001b[32m [repeated 8x across cluster]\u001b[0m\n"
     ]
    },
    {
     "name": "stderr",
     "output_type": "stream",
     "text": [
      "\u001b[36m(obj pid=111852)\u001b[0m C:\\Users\\Benedict\\AppData\\Local\\Temp\\ipykernel_95128\\135224036.py:90: UserWarning: Creating a tensor from a list of numpy.ndarrays is extremely slow. Please consider converting the list to a single numpy.ndarray with numpy.array() before converting to a tensor. (Triggered internally at C:\\actions-runner\\_work\\pytorch\\pytorch\\builder\\windows\\pytorch\\torch\\csrc\\utils\\tensor_new.cpp:281.)\n"
     ]
    },
    {
     "name": "stdout",
     "output_type": "stream",
     "text": [
      "\u001b[36m(obj pid=111852)\u001b[0m Episode 300, Average Score: 9.32\u001b[32m [repeated 6x across cluster]\u001b[0m\n"
     ]
    },
    {
     "name": "stderr",
     "output_type": "stream",
     "text": [
      "\u001b[36m(obj pid=28548)\u001b[0m C:\\Users\\Benedict\\AppData\\Local\\Temp\\ipykernel_95128\\135224036.py:90: UserWarning: Creating a tensor from a list of numpy.ndarrays is extremely slow. Please consider converting the list to a single numpy.ndarray with numpy.array() before converting to a tensor. (Triggered internally at C:\\actions-runner\\_work\\pytorch\\pytorch\\builder\\windows\\pytorch\\torch\\csrc\\utils\\tensor_new.cpp:281.)\n",
      "\u001b[36m(obj pid=70220)\u001b[0m C:\\Users\\Benedict\\AppData\\Local\\Temp\\ipykernel_95128\\135224036.py:90: UserWarning: Creating a tensor from a list of numpy.ndarrays is extremely slow. Please consider converting the list to a single numpy.ndarray with numpy.array() before converting to a tensor. (Triggered internally at C:\\actions-runner\\_work\\pytorch\\pytorch\\builder\\windows\\pytorch\\torch\\csrc\\utils\\tensor_new.cpp:281.)\n"
     ]
    },
    {
     "name": "stdout",
     "output_type": "stream",
     "text": [
      "\u001b[36m(obj pid=70220)\u001b[0m Episode 50, Average Score: 23.58\u001b[32m [repeated 7x across cluster]\u001b[0m\n",
      "\u001b[36m(obj pid=70220)\u001b[0m Episode 250, Average Score: 41.06\u001b[32m [repeated 4x across cluster]\u001b[0m\n"
     ]
    },
    {
     "name": "stderr",
     "output_type": "stream",
     "text": [
      "\u001b[36m(obj pid=106292)\u001b[0m C:\\Users\\Benedict\\AppData\\Local\\Temp\\ipykernel_95128\\135224036.py:90: UserWarning: Creating a tensor from a list of numpy.ndarrays is extremely slow. Please consider converting the list to a single numpy.ndarray with numpy.array() before converting to a tensor. (Triggered internally at C:\\actions-runner\\_work\\pytorch\\pytorch\\builder\\windows\\pytorch\\torch\\csrc\\utils\\tensor_new.cpp:281.)\n"
     ]
    },
    {
     "name": "stdout",
     "output_type": "stream",
     "text": [
      "\u001b[36m(obj pid=106292)\u001b[0m Episode 200, Average Score: 41.96\u001b[32m [repeated 7x across cluster]\u001b[0m\n"
     ]
    },
    {
     "name": "stderr",
     "output_type": "stream",
     "text": [
      "\u001b[36m(obj pid=52568)\u001b[0m C:\\Users\\Benedict\\AppData\\Local\\Temp\\ipykernel_95128\\135224036.py:90: UserWarning: Creating a tensor from a list of numpy.ndarrays is extremely slow. Please consider converting the list to a single numpy.ndarray with numpy.array() before converting to a tensor. (Triggered internally at C:\\actions-runner\\_work\\pytorch\\pytorch\\builder\\windows\\pytorch\\torch\\csrc\\utils\\tensor_new.cpp:281.)\n"
     ]
    },
    {
     "name": "stdout",
     "output_type": "stream",
     "text": [
      "\u001b[36m(obj pid=52568)\u001b[0m Episode 250, Average Score: 9.2\u001b[32m [repeated 8x across cluster]\u001b[0m\n"
     ]
    },
    {
     "name": "stderr",
     "output_type": "stream",
     "text": [
      "\u001b[36m(obj pid=33448)\u001b[0m C:\\Users\\Benedict\\AppData\\Local\\Temp\\ipykernel_95128\\135224036.py:90: UserWarning: Creating a tensor from a list of numpy.ndarrays is extremely slow. Please consider converting the list to a single numpy.ndarray with numpy.array() before converting to a tensor. (Triggered internally at C:\\actions-runner\\_work\\pytorch\\pytorch\\builder\\windows\\pytorch\\torch\\csrc\\utils\\tensor_new.cpp:281.)\n"
     ]
    },
    {
     "name": "stdout",
     "output_type": "stream",
     "text": [
      "\u001b[36m(obj pid=33448)\u001b[0m Episode 250, Average Score: 9.42\u001b[32m [repeated 7x across cluster]\u001b[0m\n"
     ]
    },
    {
     "name": "stderr",
     "output_type": "stream",
     "text": [
      "\u001b[36m(obj pid=26432)\u001b[0m C:\\Users\\Benedict\\AppData\\Local\\Temp\\ipykernel_95128\\135224036.py:90: UserWarning: Creating a tensor from a list of numpy.ndarrays is extremely slow. Please consider converting the list to a single numpy.ndarray with numpy.array() before converting to a tensor. (Triggered internally at C:\\actions-runner\\_work\\pytorch\\pytorch\\builder\\windows\\pytorch\\torch\\csrc\\utils\\tensor_new.cpp:281.)\n"
     ]
    },
    {
     "name": "stdout",
     "output_type": "stream",
     "text": [
      "\u001b[36m(obj pid=26432)\u001b[0m Episode 200, Average Score: 55.32\u001b[32m [repeated 5x across cluster]\u001b[0m\n"
     ]
    },
    {
     "name": "stderr",
     "output_type": "stream",
     "text": [
      "\u001b[36m(obj pid=70576)\u001b[0m C:\\Users\\Benedict\\AppData\\Local\\Temp\\ipykernel_95128\\135224036.py:90: UserWarning: Creating a tensor from a list of numpy.ndarrays is extremely slow. Please consider converting the list to a single numpy.ndarray with numpy.array() before converting to a tensor. (Triggered internally at C:\\actions-runner\\_work\\pytorch\\pytorch\\builder\\windows\\pytorch\\torch\\csrc\\utils\\tensor_new.cpp:281.)\n"
     ]
    },
    {
     "name": "stdout",
     "output_type": "stream",
     "text": [
      "\u001b[36m(obj pid=70576)\u001b[0m Episode 250, Average Score: 10.94\u001b[32m [repeated 7x across cluster]\u001b[0m\n",
      "\u001b[36m(obj pid=47344)\u001b[0m Episode 50, Average Score: 10.24\u001b[32m [repeated 10x across cluster]\u001b[0m\n"
     ]
    },
    {
     "name": "stderr",
     "output_type": "stream",
     "text": [
      "\u001b[36m(obj pid=47344)\u001b[0m C:\\Users\\Benedict\\AppData\\Local\\Temp\\ipykernel_95128\\135224036.py:90: UserWarning: Creating a tensor from a list of numpy.ndarrays is extremely slow. Please consider converting the list to a single numpy.ndarray with numpy.array() before converting to a tensor. (Triggered internally at C:\\actions-runner\\_work\\pytorch\\pytorch\\builder\\windows\\pytorch\\torch\\csrc\\utils\\tensor_new.cpp:281.)\n"
     ]
    },
    {
     "name": "stdout",
     "output_type": "stream",
     "text": [
      "\u001b[36m(obj pid=47344)\u001b[0m Episode 300, Average Score: 21.66\u001b[32m [repeated 5x across cluster]\u001b[0m\n"
     ]
    },
    {
     "name": "stderr",
     "output_type": "stream",
     "text": [
      "\u001b[36m(obj pid=63192)\u001b[0m C:\\Users\\Benedict\\AppData\\Local\\Temp\\ipykernel_95128\\135224036.py:90: UserWarning: Creating a tensor from a list of numpy.ndarrays is extremely slow. Please consider converting the list to a single numpy.ndarray with numpy.array() before converting to a tensor. (Triggered internally at C:\\actions-runner\\_work\\pytorch\\pytorch\\builder\\windows\\pytorch\\torch\\csrc\\utils\\tensor_new.cpp:281.)\n"
     ]
    },
    {
     "name": "stdout",
     "output_type": "stream",
     "text": [
      "\u001b[36m(obj pid=105108)\u001b[0m Episode 50, Average Score: 9.2\u001b[32m [repeated 7x across cluster]\u001b[0m\n"
     ]
    },
    {
     "name": "stderr",
     "output_type": "stream",
     "text": [
      "\u001b[36m(obj pid=105108)\u001b[0m C:\\Users\\Benedict\\AppData\\Local\\Temp\\ipykernel_95128\\135224036.py:90: UserWarning: Creating a tensor from a list of numpy.ndarrays is extremely slow. Please consider converting the list to a single numpy.ndarray with numpy.array() before converting to a tensor. (Triggered internally at C:\\actions-runner\\_work\\pytorch\\pytorch\\builder\\windows\\pytorch\\torch\\csrc\\utils\\tensor_new.cpp:281.)\n"
     ]
    },
    {
     "name": "stdout",
     "output_type": "stream",
     "text": [
      "\u001b[36m(obj pid=71160)\u001b[0m Episode 50, Average Score: 10.0\u001b[32m [repeated 6x across cluster]\u001b[0m\n"
     ]
    },
    {
     "name": "stderr",
     "output_type": "stream",
     "text": [
      "\u001b[36m(obj pid=71160)\u001b[0m C:\\Users\\Benedict\\AppData\\Local\\Temp\\ipykernel_95128\\135224036.py:90: UserWarning: Creating a tensor from a list of numpy.ndarrays is extremely slow. Please consider converting the list to a single numpy.ndarray with numpy.array() before converting to a tensor. (Triggered internally at C:\\actions-runner\\_work\\pytorch\\pytorch\\builder\\windows\\pytorch\\torch\\csrc\\utils\\tensor_new.cpp:281.)\n"
     ]
    },
    {
     "name": "stdout",
     "output_type": "stream",
     "text": [
      "\u001b[36m(obj pid=71160)\u001b[0m Episode 400, Average Score: 56.62\u001b[32m [repeated 7x across cluster]\u001b[0m\n"
     ]
    },
    {
     "name": "stderr",
     "output_type": "stream",
     "text": [
      "\u001b[36m(obj pid=24880)\u001b[0m C:\\Users\\Benedict\\AppData\\Local\\Temp\\ipykernel_95128\\135224036.py:90: UserWarning: Creating a tensor from a list of numpy.ndarrays is extremely slow. Please consider converting the list to a single numpy.ndarray with numpy.array() before converting to a tensor. (Triggered internally at C:\\actions-runner\\_work\\pytorch\\pytorch\\builder\\windows\\pytorch\\torch\\csrc\\utils\\tensor_new.cpp:281.)\n"
     ]
    },
    {
     "name": "stdout",
     "output_type": "stream",
     "text": [
      "\u001b[36m(obj pid=24880)\u001b[0m Episode 350, Average Score: 89.78\u001b[32m [repeated 7x across cluster]\u001b[0m\n"
     ]
    },
    {
     "name": "stderr",
     "output_type": "stream",
     "text": [
      "\u001b[36m(obj pid=63584)\u001b[0m C:\\Users\\Benedict\\AppData\\Local\\Temp\\ipykernel_95128\\135224036.py:90: UserWarning: Creating a tensor from a list of numpy.ndarrays is extremely slow. Please consider converting the list to a single numpy.ndarray with numpy.array() before converting to a tensor. (Triggered internally at C:\\actions-runner\\_work\\pytorch\\pytorch\\builder\\windows\\pytorch\\torch\\csrc\\utils\\tensor_new.cpp:281.)\n"
     ]
    },
    {
     "name": "stdout",
     "output_type": "stream",
     "text": [
      "\u001b[36m(obj pid=68632)\u001b[0m Episode 50, Average Score: 24.9\u001b[32m [repeated 8x across cluster]\u001b[0m\n"
     ]
    },
    {
     "name": "stderr",
     "output_type": "stream",
     "text": [
      "\u001b[36m(obj pid=68632)\u001b[0m C:\\Users\\Benedict\\AppData\\Local\\Temp\\ipykernel_95128\\135224036.py:90: UserWarning: Creating a tensor from a list of numpy.ndarrays is extremely slow. Please consider converting the list to a single numpy.ndarray with numpy.array() before converting to a tensor. (Triggered internally at C:\\actions-runner\\_work\\pytorch\\pytorch\\builder\\windows\\pytorch\\torch\\csrc\\utils\\tensor_new.cpp:281.)\n"
     ]
    },
    {
     "name": "stdout",
     "output_type": "stream",
     "text": [
      "\u001b[36m(obj pid=108676)\u001b[0m Episode 50, Average Score: 9.3\u001b[32m [repeated 5x across cluster]\u001b[0m\n",
      "\u001b[36m(obj pid=22180)\u001b[0m Episode 50, Average Score: 9.4\u001b[32m [repeated 7x across cluster]\u001b[0m\n"
     ]
    },
    {
     "name": "stderr",
     "output_type": "stream",
     "text": [
      "\u001b[36m(obj pid=22180)\u001b[0m C:\\Users\\Benedict\\AppData\\Local\\Temp\\ipykernel_95128\\135224036.py:90: UserWarning: Creating a tensor from a list of numpy.ndarrays is extremely slow. Please consider converting the list to a single numpy.ndarray with numpy.array() before converting to a tensor. (Triggered internally at C:\\actions-runner\\_work\\pytorch\\pytorch\\builder\\windows\\pytorch\\torch\\csrc\\utils\\tensor_new.cpp:281.)\n"
     ]
    },
    {
     "name": "stdout",
     "output_type": "stream",
     "text": [
      "\u001b[36m(obj pid=109724)\u001b[0m Episode 50, Average Score: 21.68\u001b[32m [repeated 6x across cluster]\u001b[0m\n",
      "\u001b[36m(obj pid=109724)\u001b[0m Episode 250, Average Score: 27.86\u001b[32m [repeated 4x across cluster]\u001b[0m\n"
     ]
    },
    {
     "name": "stderr",
     "output_type": "stream",
     "text": [
      "\u001b[36m(obj pid=106100)\u001b[0m C:\\Users\\Benedict\\AppData\\Local\\Temp\\ipykernel_95128\\135224036.py:90: UserWarning: Creating a tensor from a list of numpy.ndarrays is extremely slow. Please consider converting the list to a single numpy.ndarray with numpy.array() before converting to a tensor. (Triggered internally at C:\\actions-runner\\_work\\pytorch\\pytorch\\builder\\windows\\pytorch\\torch\\csrc\\utils\\tensor_new.cpp:281.)\u001b[32m [repeated 2x across cluster]\u001b[0m\n"
     ]
    },
    {
     "name": "stdout",
     "output_type": "stream",
     "text": [
      "\u001b[36m(obj pid=106100)\u001b[0m Episode 250, Average Score: 14.62\u001b[32m [repeated 6x across cluster]\u001b[0m\n"
     ]
    },
    {
     "name": "stderr",
     "output_type": "stream",
     "text": [
      "\u001b[36m(obj pid=104196)\u001b[0m C:\\Users\\Benedict\\AppData\\Local\\Temp\\ipykernel_95128\\135224036.py:90: UserWarning: Creating a tensor from a list of numpy.ndarrays is extremely slow. Please consider converting the list to a single numpy.ndarray with numpy.array() before converting to a tensor. (Triggered internally at C:\\actions-runner\\_work\\pytorch\\pytorch\\builder\\windows\\pytorch\\torch\\csrc\\utils\\tensor_new.cpp:281.)\n"
     ]
    },
    {
     "name": "stdout",
     "output_type": "stream",
     "text": [
      "\u001b[36m(obj pid=104196)\u001b[0m Episode 300, Average Score: 9.42\u001b[32m [repeated 7x across cluster]\u001b[0m\n"
     ]
    },
    {
     "name": "stderr",
     "output_type": "stream",
     "text": [
      "\u001b[36m(obj pid=44344)\u001b[0m C:\\Users\\Benedict\\AppData\\Local\\Temp\\ipykernel_95128\\135224036.py:90: UserWarning: Creating a tensor from a list of numpy.ndarrays is extremely slow. Please consider converting the list to a single numpy.ndarray with numpy.array() before converting to a tensor. (Triggered internally at C:\\actions-runner\\_work\\pytorch\\pytorch\\builder\\windows\\pytorch\\torch\\csrc\\utils\\tensor_new.cpp:281.)\n"
     ]
    },
    {
     "name": "stdout",
     "output_type": "stream",
     "text": [
      "\u001b[36m(obj pid=44344)\u001b[0m Episode 250, Average Score: 9.42\u001b[32m [repeated 5x across cluster]\u001b[0m\n"
     ]
    },
    {
     "name": "stderr",
     "output_type": "stream",
     "text": [
      "\u001b[36m(obj pid=24176)\u001b[0m C:\\Users\\Benedict\\AppData\\Local\\Temp\\ipykernel_95128\\135224036.py:90: UserWarning: Creating a tensor from a list of numpy.ndarrays is extremely slow. Please consider converting the list to a single numpy.ndarray with numpy.array() before converting to a tensor. (Triggered internally at C:\\actions-runner\\_work\\pytorch\\pytorch\\builder\\windows\\pytorch\\torch\\csrc\\utils\\tensor_new.cpp:281.)\n"
     ]
    },
    {
     "name": "stdout",
     "output_type": "stream",
     "text": [
      "\u001b[36m(obj pid=106988)\u001b[0m Episode 50, Average Score: 9.18\u001b[32m [repeated 8x across cluster]\u001b[0m\n"
     ]
    },
    {
     "name": "stderr",
     "output_type": "stream",
     "text": [
      "\u001b[36m(obj pid=106988)\u001b[0m C:\\Users\\Benedict\\AppData\\Local\\Temp\\ipykernel_95128\\135224036.py:90: UserWarning: Creating a tensor from a list of numpy.ndarrays is extremely slow. Please consider converting the list to a single numpy.ndarray with numpy.array() before converting to a tensor. (Triggered internally at C:\\actions-runner\\_work\\pytorch\\pytorch\\builder\\windows\\pytorch\\torch\\csrc\\utils\\tensor_new.cpp:281.)\n"
     ]
    },
    {
     "name": "stdout",
     "output_type": "stream",
     "text": [
      "\u001b[36m(obj pid=105904)\u001b[0m Episode 50, Average Score: 9.38\u001b[32m [repeated 6x across cluster]\u001b[0m\n"
     ]
    },
    {
     "name": "stderr",
     "output_type": "stream",
     "text": [
      "\u001b[36m(obj pid=105904)\u001b[0m C:\\Users\\Benedict\\AppData\\Local\\Temp\\ipykernel_95128\\135224036.py:90: UserWarning: Creating a tensor from a list of numpy.ndarrays is extremely slow. Please consider converting the list to a single numpy.ndarray with numpy.array() before converting to a tensor. (Triggered internally at C:\\actions-runner\\_work\\pytorch\\pytorch\\builder\\windows\\pytorch\\torch\\csrc\\utils\\tensor_new.cpp:281.)\n"
     ]
    },
    {
     "name": "stdout",
     "output_type": "stream",
     "text": [
      "\u001b[36m(obj pid=100856)\u001b[0m Episode 50, Average Score: 10.18\u001b[32m [repeated 6x across cluster]\u001b[0m\n"
     ]
    },
    {
     "name": "stderr",
     "output_type": "stream",
     "text": [
      "\u001b[36m(obj pid=100856)\u001b[0m C:\\Users\\Benedict\\AppData\\Local\\Temp\\ipykernel_95128\\135224036.py:90: UserWarning: Creating a tensor from a list of numpy.ndarrays is extremely slow. Please consider converting the list to a single numpy.ndarray with numpy.array() before converting to a tensor. (Triggered internally at C:\\actions-runner\\_work\\pytorch\\pytorch\\builder\\windows\\pytorch\\torch\\csrc\\utils\\tensor_new.cpp:281.)\n"
     ]
    },
    {
     "name": "stdout",
     "output_type": "stream",
     "text": [
      "\u001b[36m(obj pid=100856)\u001b[0m Episode 400, Average Score: 76.96\u001b[32m [repeated 7x across cluster]\u001b[0m\n"
     ]
    },
    {
     "name": "stderr",
     "output_type": "stream",
     "text": [
      "\u001b[36m(obj pid=71460)\u001b[0m C:\\Users\\Benedict\\AppData\\Local\\Temp\\ipykernel_95128\\135224036.py:90: UserWarning: Creating a tensor from a list of numpy.ndarrays is extremely slow. Please consider converting the list to a single numpy.ndarray with numpy.array() before converting to a tensor. (Triggered internally at C:\\actions-runner\\_work\\pytorch\\pytorch\\builder\\windows\\pytorch\\torch\\csrc\\utils\\tensor_new.cpp:281.)\n"
     ]
    },
    {
     "name": "stdout",
     "output_type": "stream",
     "text": [
      "\u001b[36m(obj pid=50012)\u001b[0m Episode 50, Average Score: 9.34\u001b[32m [repeated 7x across cluster]\u001b[0m\n"
     ]
    },
    {
     "name": "stderr",
     "output_type": "stream",
     "text": [
      "\u001b[36m(obj pid=50012)\u001b[0m C:\\Users\\Benedict\\AppData\\Local\\Temp\\ipykernel_95128\\135224036.py:90: UserWarning: Creating a tensor from a list of numpy.ndarrays is extremely slow. Please consider converting the list to a single numpy.ndarray with numpy.array() before converting to a tensor. (Triggered internally at C:\\actions-runner\\_work\\pytorch\\pytorch\\builder\\windows\\pytorch\\torch\\csrc\\utils\\tensor_new.cpp:281.)\n"
     ]
    },
    {
     "name": "stdout",
     "output_type": "stream",
     "text": [
      "\u001b[36m(obj pid=50012)\u001b[0m Episode 400, Average Score: 253.76\u001b[32m [repeated 7x across cluster]\u001b[0m\n"
     ]
    },
    {
     "name": "stderr",
     "output_type": "stream",
     "text": [
      "\u001b[36m(obj pid=106876)\u001b[0m C:\\Users\\Benedict\\AppData\\Local\\Temp\\ipykernel_95128\\135224036.py:90: UserWarning: Creating a tensor from a list of numpy.ndarrays is extremely slow. Please consider converting the list to a single numpy.ndarray with numpy.array() before converting to a tensor. (Triggered internally at C:\\actions-runner\\_work\\pytorch\\pytorch\\builder\\windows\\pytorch\\torch\\csrc\\utils\\tensor_new.cpp:281.)\n"
     ]
    },
    {
     "name": "stdout",
     "output_type": "stream",
     "text": [
      "\u001b[36m(obj pid=106876)\u001b[0m Episode 300, Average Score: 59.0\u001b[32m [repeated 6x across cluster]\u001b[0m\n"
     ]
    },
    {
     "name": "stderr",
     "output_type": "stream",
     "text": [
      "\u001b[36m(obj pid=107964)\u001b[0m C:\\Users\\Benedict\\AppData\\Local\\Temp\\ipykernel_95128\\135224036.py:90: UserWarning: Creating a tensor from a list of numpy.ndarrays is extremely slow. Please consider converting the list to a single numpy.ndarray with numpy.array() before converting to a tensor. (Triggered internally at C:\\actions-runner\\_work\\pytorch\\pytorch\\builder\\windows\\pytorch\\torch\\csrc\\utils\\tensor_new.cpp:281.)\n"
     ]
    },
    {
     "name": "stdout",
     "output_type": "stream",
     "text": [
      "\u001b[36m(obj pid=107964)\u001b[0m Episode 250, Average Score: 9.2\u001b[32m [repeated 7x across cluster]\u001b[0m\n"
     ]
    },
    {
     "name": "stderr",
     "output_type": "stream",
     "text": [
      "\u001b[36m(obj pid=111576)\u001b[0m C:\\Users\\Benedict\\AppData\\Local\\Temp\\ipykernel_95128\\135224036.py:90: UserWarning: Creating a tensor from a list of numpy.ndarrays is extremely slow. Please consider converting the list to a single numpy.ndarray with numpy.array() before converting to a tensor. (Triggered internally at C:\\actions-runner\\_work\\pytorch\\pytorch\\builder\\windows\\pytorch\\torch\\csrc\\utils\\tensor_new.cpp:281.)\n"
     ]
    },
    {
     "name": "stdout",
     "output_type": "stream",
     "text": [
      "\u001b[36m(obj pid=111576)\u001b[0m Episode 250, Average Score: 62.5\u001b[32m [repeated 6x across cluster]\u001b[0m\n"
     ]
    },
    {
     "name": "stderr",
     "output_type": "stream",
     "text": [
      "\u001b[36m(obj pid=112460)\u001b[0m C:\\Users\\Benedict\\AppData\\Local\\Temp\\ipykernel_95128\\135224036.py:90: UserWarning: Creating a tensor from a list of numpy.ndarrays is extremely slow. Please consider converting the list to a single numpy.ndarray with numpy.array() before converting to a tensor. (Triggered internally at C:\\actions-runner\\_work\\pytorch\\pytorch\\builder\\windows\\pytorch\\torch\\csrc\\utils\\tensor_new.cpp:281.)\n"
     ]
    },
    {
     "name": "stdout",
     "output_type": "stream",
     "text": [
      "\u001b[36m(obj pid=112460)\u001b[0m Episode 200, Average Score: 21.96\u001b[32m [repeated 7x across cluster]\u001b[0m\n"
     ]
    },
    {
     "name": "stderr",
     "output_type": "stream",
     "text": [
      "\u001b[36m(obj pid=48348)\u001b[0m C:\\Users\\Benedict\\AppData\\Local\\Temp\\ipykernel_95128\\135224036.py:90: UserWarning: Creating a tensor from a list of numpy.ndarrays is extremely slow. Please consider converting the list to a single numpy.ndarray with numpy.array() before converting to a tensor. (Triggered internally at C:\\actions-runner\\_work\\pytorch\\pytorch\\builder\\windows\\pytorch\\torch\\csrc\\utils\\tensor_new.cpp:281.)\n"
     ]
    },
    {
     "name": "stdout",
     "output_type": "stream",
     "text": [
      "\u001b[36m(obj pid=48348)\u001b[0m Episode 150, Average Score: 16.86\u001b[32m [repeated 5x across cluster]\u001b[0m\n"
     ]
    },
    {
     "name": "stderr",
     "output_type": "stream",
     "text": [
      "\u001b[36m(obj pid=106184)\u001b[0m C:\\Users\\Benedict\\AppData\\Local\\Temp\\ipykernel_95128\\135224036.py:90: UserWarning: Creating a tensor from a list of numpy.ndarrays is extremely slow. Please consider converting the list to a single numpy.ndarray with numpy.array() before converting to a tensor. (Triggered internally at C:\\actions-runner\\_work\\pytorch\\pytorch\\builder\\windows\\pytorch\\torch\\csrc\\utils\\tensor_new.cpp:281.)\n"
     ]
    },
    {
     "name": "stdout",
     "output_type": "stream",
     "text": [
      "\u001b[36m(obj pid=106184)\u001b[0m Episode 200, Average Score: 9.34\u001b[32m [repeated 8x across cluster]\u001b[0m\n"
     ]
    },
    {
     "name": "stderr",
     "output_type": "stream",
     "text": [
      "\u001b[36m(obj pid=108032)\u001b[0m C:\\Users\\Benedict\\AppData\\Local\\Temp\\ipykernel_95128\\135224036.py:90: UserWarning: Creating a tensor from a list of numpy.ndarrays is extremely slow. Please consider converting the list to a single numpy.ndarray with numpy.array() before converting to a tensor. (Triggered internally at C:\\actions-runner\\_work\\pytorch\\pytorch\\builder\\windows\\pytorch\\torch\\csrc\\utils\\tensor_new.cpp:281.)\n"
     ]
    },
    {
     "name": "stdout",
     "output_type": "stream",
     "text": [
      "\u001b[36m(obj pid=108032)\u001b[0m Episode 100, Average Score: 9.4\u001b[32m [repeated 6x across cluster]\u001b[0m\n"
     ]
    },
    {
     "name": "stderr",
     "output_type": "stream",
     "text": [
      "\u001b[36m(obj pid=111344)\u001b[0m C:\\Users\\Benedict\\AppData\\Local\\Temp\\ipykernel_95128\\135224036.py:90: UserWarning: Creating a tensor from a list of numpy.ndarrays is extremely slow. Please consider converting the list to a single numpy.ndarray with numpy.array() before converting to a tensor. (Triggered internally at C:\\actions-runner\\_work\\pytorch\\pytorch\\builder\\windows\\pytorch\\torch\\csrc\\utils\\tensor_new.cpp:281.)\n"
     ]
    },
    {
     "name": "stdout",
     "output_type": "stream",
     "text": [
      "\u001b[36m(obj pid=108032)\u001b[0m Episode 400, Average Score: 74.24\u001b[32m [repeated 7x across cluster]\u001b[0m\n",
      "\u001b[36m(obj pid=111344)\u001b[0m Episode 200, Average Score: 59.18\u001b[32m [repeated 4x across cluster]\u001b[0m\n"
     ]
    },
    {
     "name": "stderr",
     "output_type": "stream",
     "text": [
      "\u001b[36m(obj pid=70112)\u001b[0m C:\\Users\\Benedict\\AppData\\Local\\Temp\\ipykernel_95128\\135224036.py:90: UserWarning: Creating a tensor from a list of numpy.ndarrays is extremely slow. Please consider converting the list to a single numpy.ndarray with numpy.array() before converting to a tensor. (Triggered internally at C:\\actions-runner\\_work\\pytorch\\pytorch\\builder\\windows\\pytorch\\torch\\csrc\\utils\\tensor_new.cpp:281.)\n"
     ]
    },
    {
     "name": "stdout",
     "output_type": "stream",
     "text": [
      "\u001b[36m(obj pid=103236)\u001b[0m Episode 50, Average Score: 9.6\u001b[32m [repeated 9x across cluster]\u001b[0m\n"
     ]
    },
    {
     "name": "stderr",
     "output_type": "stream",
     "text": [
      "\u001b[36m(obj pid=103236)\u001b[0m C:\\Users\\Benedict\\AppData\\Local\\Temp\\ipykernel_95128\\135224036.py:90: UserWarning: Creating a tensor from a list of numpy.ndarrays is extremely slow. Please consider converting the list to a single numpy.ndarray with numpy.array() before converting to a tensor. (Triggered internally at C:\\actions-runner\\_work\\pytorch\\pytorch\\builder\\windows\\pytorch\\torch\\csrc\\utils\\tensor_new.cpp:281.)\n"
     ]
    },
    {
     "name": "stdout",
     "output_type": "stream",
     "text": [
      "\u001b[36m(obj pid=103236)\u001b[0m Episode 300, Average Score: 54.66\u001b[32m [repeated 7x across cluster]\u001b[0m\n"
     ]
    },
    {
     "name": "stderr",
     "output_type": "stream",
     "text": [
      "\u001b[36m(obj pid=104148)\u001b[0m C:\\Users\\Benedict\\AppData\\Local\\Temp\\ipykernel_95128\\135224036.py:90: UserWarning: Creating a tensor from a list of numpy.ndarrays is extremely slow. Please consider converting the list to a single numpy.ndarray with numpy.array() before converting to a tensor. (Triggered internally at C:\\actions-runner\\_work\\pytorch\\pytorch\\builder\\windows\\pytorch\\torch\\csrc\\utils\\tensor_new.cpp:281.)\n"
     ]
    },
    {
     "name": "stdout",
     "output_type": "stream",
     "text": [
      "\u001b[36m(obj pid=103236)\u001b[0m Episode 400, Average Score: 143.9\u001b[32m [repeated 7x across cluster]\u001b[0m\n"
     ]
    },
    {
     "name": "stderr",
     "output_type": "stream",
     "text": [
      "\u001b[36m(obj pid=110168)\u001b[0m C:\\Users\\Benedict\\AppData\\Local\\Temp\\ipykernel_95128\\135224036.py:90: UserWarning: Creating a tensor from a list of numpy.ndarrays is extremely slow. Please consider converting the list to a single numpy.ndarray with numpy.array() before converting to a tensor. (Triggered internally at C:\\actions-runner\\_work\\pytorch\\pytorch\\builder\\windows\\pytorch\\torch\\csrc\\utils\\tensor_new.cpp:281.)\n"
     ]
    },
    {
     "name": "stdout",
     "output_type": "stream",
     "text": [
      "\u001b[36m(obj pid=110168)\u001b[0m Episode 250, Average Score: 9.42\u001b[32m [repeated 6x across cluster]\u001b[0m\n"
     ]
    },
    {
     "name": "stderr",
     "output_type": "stream",
     "text": [
      "\u001b[36m(obj pid=36784)\u001b[0m C:\\Users\\Benedict\\AppData\\Local\\Temp\\ipykernel_95128\\135224036.py:90: UserWarning: Creating a tensor from a list of numpy.ndarrays is extremely slow. Please consider converting the list to a single numpy.ndarray with numpy.array() before converting to a tensor. (Triggered internally at C:\\actions-runner\\_work\\pytorch\\pytorch\\builder\\windows\\pytorch\\torch\\csrc\\utils\\tensor_new.cpp:281.)\n"
     ]
    },
    {
     "name": "stdout",
     "output_type": "stream",
     "text": [
      "\u001b[36m(obj pid=36784)\u001b[0m Episode 250, Average Score: 9.42\u001b[32m [repeated 6x across cluster]\u001b[0m\n"
     ]
    },
    {
     "name": "stderr",
     "output_type": "stream",
     "text": [
      "\u001b[36m(obj pid=8456)\u001b[0m C:\\Users\\Benedict\\AppData\\Local\\Temp\\ipykernel_95128\\135224036.py:90: UserWarning: Creating a tensor from a list of numpy.ndarrays is extremely slow. Please consider converting the list to a single numpy.ndarray with numpy.array() before converting to a tensor. (Triggered internally at C:\\actions-runner\\_work\\pytorch\\pytorch\\builder\\windows\\pytorch\\torch\\csrc\\utils\\tensor_new.cpp:281.)\n"
     ]
    },
    {
     "name": "stdout",
     "output_type": "stream",
     "text": [
      "\u001b[36m(obj pid=8456)\u001b[0m Episode 250, Average Score: 9.22\u001b[32m [repeated 6x across cluster]\u001b[0m\n"
     ]
    },
    {
     "name": "stderr",
     "output_type": "stream",
     "text": [
      "\u001b[36m(obj pid=102720)\u001b[0m C:\\Users\\Benedict\\AppData\\Local\\Temp\\ipykernel_95128\\135224036.py:90: UserWarning: Creating a tensor from a list of numpy.ndarrays is extremely slow. Please consider converting the list to a single numpy.ndarray with numpy.array() before converting to a tensor. (Triggered internally at C:\\actions-runner\\_work\\pytorch\\pytorch\\builder\\windows\\pytorch\\torch\\csrc\\utils\\tensor_new.cpp:281.)\n"
     ]
    },
    {
     "name": "stdout",
     "output_type": "stream",
     "text": [
      "\u001b[36m(obj pid=102720)\u001b[0m Episode 250, Average Score: 39.2\u001b[32m [repeated 6x across cluster]\u001b[0m\n"
     ]
    },
    {
     "name": "stderr",
     "output_type": "stream",
     "text": [
      "\u001b[36m(obj pid=67548)\u001b[0m C:\\Users\\Benedict\\AppData\\Local\\Temp\\ipykernel_95128\\135224036.py:90: UserWarning: Creating a tensor from a list of numpy.ndarrays is extremely slow. Please consider converting the list to a single numpy.ndarray with numpy.array() before converting to a tensor. (Triggered internally at C:\\actions-runner\\_work\\pytorch\\pytorch\\builder\\windows\\pytorch\\torch\\csrc\\utils\\tensor_new.cpp:281.)\n"
     ]
    },
    {
     "name": "stdout",
     "output_type": "stream",
     "text": [
      "\u001b[36m(obj pid=67548)\u001b[0m Episode 250, Average Score: 9.42\u001b[32m [repeated 7x across cluster]\u001b[0m\n"
     ]
    },
    {
     "name": "stderr",
     "output_type": "stream",
     "text": [
      "\u001b[36m(obj pid=88172)\u001b[0m C:\\Users\\Benedict\\AppData\\Local\\Temp\\ipykernel_95128\\135224036.py:90: UserWarning: Creating a tensor from a list of numpy.ndarrays is extremely slow. Please consider converting the list to a single numpy.ndarray with numpy.array() before converting to a tensor. (Triggered internally at C:\\actions-runner\\_work\\pytorch\\pytorch\\builder\\windows\\pytorch\\torch\\csrc\\utils\\tensor_new.cpp:281.)\n"
     ]
    },
    {
     "name": "stdout",
     "output_type": "stream",
     "text": [
      "\u001b[36m(obj pid=88172)\u001b[0m Episode 250, Average Score: 9.42\u001b[32m [repeated 7x across cluster]\u001b[0m\n"
     ]
    },
    {
     "name": "stderr",
     "output_type": "stream",
     "text": [
      "\u001b[36m(obj pid=90220)\u001b[0m C:\\Users\\Benedict\\AppData\\Local\\Temp\\ipykernel_95128\\135224036.py:90: UserWarning: Creating a tensor from a list of numpy.ndarrays is extremely slow. Please consider converting the list to a single numpy.ndarray with numpy.array() before converting to a tensor. (Triggered internally at C:\\actions-runner\\_work\\pytorch\\pytorch\\builder\\windows\\pytorch\\torch\\csrc\\utils\\tensor_new.cpp:281.)\n"
     ]
    },
    {
     "name": "stdout",
     "output_type": "stream",
     "text": [
      "\u001b[36m(obj pid=90220)\u001b[0m Episode 200, Average Score: 22.12\u001b[32m [repeated 5x across cluster]\u001b[0m\n"
     ]
    },
    {
     "name": "stderr",
     "output_type": "stream",
     "text": [
      "\u001b[36m(obj pid=109876)\u001b[0m C:\\Users\\Benedict\\AppData\\Local\\Temp\\ipykernel_95128\\135224036.py:90: UserWarning: Creating a tensor from a list of numpy.ndarrays is extremely slow. Please consider converting the list to a single numpy.ndarray with numpy.array() before converting to a tensor. (Triggered internally at C:\\actions-runner\\_work\\pytorch\\pytorch\\builder\\windows\\pytorch\\torch\\csrc\\utils\\tensor_new.cpp:281.)\n"
     ]
    },
    {
     "name": "stdout",
     "output_type": "stream",
     "text": [
      "\u001b[36m(obj pid=90220)\u001b[0m Episode 350, Average Score: 70.7\u001b[32m [repeated 6x across cluster]\u001b[0m\n"
     ]
    },
    {
     "name": "stderr",
     "output_type": "stream",
     "text": [
      "\u001b[36m(obj pid=86248)\u001b[0m C:\\Users\\Benedict\\AppData\\Local\\Temp\\ipykernel_95128\\135224036.py:90: UserWarning: Creating a tensor from a list of numpy.ndarrays is extremely slow. Please consider converting the list to a single numpy.ndarray with numpy.array() before converting to a tensor. (Triggered internally at C:\\actions-runner\\_work\\pytorch\\pytorch\\builder\\windows\\pytorch\\torch\\csrc\\utils\\tensor_new.cpp:281.)\n"
     ]
    },
    {
     "name": "stdout",
     "output_type": "stream",
     "text": [
      "\u001b[36m(obj pid=86248)\u001b[0m Episode 150, Average Score: 9.36\u001b[32m [repeated 7x across cluster]\u001b[0m\n"
     ]
    },
    {
     "name": "stderr",
     "output_type": "stream",
     "text": [
      "\u001b[36m(obj pid=105132)\u001b[0m C:\\Users\\Benedict\\AppData\\Local\\Temp\\ipykernel_95128\\135224036.py:90: UserWarning: Creating a tensor from a list of numpy.ndarrays is extremely slow. Please consider converting the list to a single numpy.ndarray with numpy.array() before converting to a tensor. (Triggered internally at C:\\actions-runner\\_work\\pytorch\\pytorch\\builder\\windows\\pytorch\\torch\\csrc\\utils\\tensor_new.cpp:281.)\n"
     ]
    },
    {
     "name": "stdout",
     "output_type": "stream",
     "text": [
      "\u001b[36m(obj pid=105132)\u001b[0m Episode 100, Average Score: 15.36\u001b[32m [repeated 7x across cluster]\u001b[0m\n",
      "\u001b[36m(obj pid=105212)\u001b[0m Episode 150, Average Score: 9.36\u001b[32m [repeated 6x across cluster]\u001b[0m\n"
     ]
    },
    {
     "name": "stderr",
     "output_type": "stream",
     "text": [
      "\u001b[36m(obj pid=105212)\u001b[0m C:\\Users\\Benedict\\AppData\\Local\\Temp\\ipykernel_95128\\135224036.py:90: UserWarning: Creating a tensor from a list of numpy.ndarrays is extremely slow. Please consider converting the list to a single numpy.ndarray with numpy.array() before converting to a tensor. (Triggered internally at C:\\actions-runner\\_work\\pytorch\\pytorch\\builder\\windows\\pytorch\\torch\\csrc\\utils\\tensor_new.cpp:281.)\n"
     ]
    },
    {
     "name": "stdout",
     "output_type": "stream",
     "text": [
      "\u001b[36m(obj pid=111164)\u001b[0m Episode 50, Average Score: 9.4\u001b[32m [repeated 6x across cluster]\u001b[0m\n"
     ]
    },
    {
     "name": "stderr",
     "output_type": "stream",
     "text": [
      "\u001b[36m(obj pid=111164)\u001b[0m C:\\Users\\Benedict\\AppData\\Local\\Temp\\ipykernel_95128\\135224036.py:90: UserWarning: Creating a tensor from a list of numpy.ndarrays is extremely slow. Please consider converting the list to a single numpy.ndarray with numpy.array() before converting to a tensor. (Triggered internally at C:\\actions-runner\\_work\\pytorch\\pytorch\\builder\\windows\\pytorch\\torch\\csrc\\utils\\tensor_new.cpp:281.)\n"
     ]
    },
    {
     "name": "stdout",
     "output_type": "stream",
     "text": [
      "\u001b[36m(obj pid=111164)\u001b[0m Episode 300, Average Score: 10.06\u001b[32m [repeated 6x across cluster]\u001b[0m\n"
     ]
    },
    {
     "name": "stderr",
     "output_type": "stream",
     "text": [
      "\u001b[36m(obj pid=103460)\u001b[0m C:\\Users\\Benedict\\AppData\\Local\\Temp\\ipykernel_95128\\135224036.py:90: UserWarning: Creating a tensor from a list of numpy.ndarrays is extremely slow. Please consider converting the list to a single numpy.ndarray with numpy.array() before converting to a tensor. (Triggered internally at C:\\actions-runner\\_work\\pytorch\\pytorch\\builder\\windows\\pytorch\\torch\\csrc\\utils\\tensor_new.cpp:281.)\n"
     ]
    },
    {
     "name": "stdout",
     "output_type": "stream",
     "text": [
      "\u001b[36m(obj pid=103460)\u001b[0m Episode 100, Average Score: 25.08\u001b[32m [repeated 2x across cluster]\u001b[0m\n"
     ]
    },
    {
     "name": "stderr",
     "output_type": "stream",
     "text": [
      "\u001b[36m(obj pid=97164)\u001b[0m C:\\Users\\Benedict\\AppData\\Local\\Temp\\ipykernel_95128\\135224036.py:90: UserWarning: Creating a tensor from a list of numpy.ndarrays is extremely slow. Please consider converting the list to a single numpy.ndarray with numpy.array() before converting to a tensor. (Triggered internally at C:\\actions-runner\\_work\\pytorch\\pytorch\\builder\\windows\\pytorch\\torch\\csrc\\utils\\tensor_new.cpp:281.)\n"
     ]
    },
    {
     "name": "stdout",
     "output_type": "stream",
     "text": [
      "\u001b[36m(obj pid=103460)\u001b[0m Episode 150, Average Score: 58.1\u001b[32m [repeated 4x across cluster]\u001b[0m\n"
     ]
    },
    {
     "name": "stderr",
     "output_type": "stream",
     "text": [
      "\u001b[36m(obj pid=105672)\u001b[0m C:\\Users\\Benedict\\AppData\\Local\\Temp\\ipykernel_95128\\135224036.py:90: UserWarning: Creating a tensor from a list of numpy.ndarrays is extremely slow. Please consider converting the list to a single numpy.ndarray with numpy.array() before converting to a tensor. (Triggered internally at C:\\actions-runner\\_work\\pytorch\\pytorch\\builder\\windows\\pytorch\\torch\\csrc\\utils\\tensor_new.cpp:281.)\n"
     ]
    },
    {
     "name": "stdout",
     "output_type": "stream",
     "text": [
      "\u001b[36m(obj pid=105672)\u001b[0m Episode 150, Average Score: 9.42\u001b[32m [repeated 4x across cluster]\u001b[0m\n",
      "\u001b[36m(obj pid=97164)\u001b[0m Episode 250, Average Score: 28.56\u001b[32m [repeated 4x across cluster]\u001b[0m\n"
     ]
    },
    {
     "name": "stderr",
     "output_type": "stream",
     "text": [
      "\u001b[36m(obj pid=8496)\u001b[0m C:\\Users\\Benedict\\AppData\\Local\\Temp\\ipykernel_95128\\135224036.py:90: UserWarning: Creating a tensor from a list of numpy.ndarrays is extremely slow. Please consider converting the list to a single numpy.ndarray with numpy.array() before converting to a tensor. (Triggered internally at C:\\actions-runner\\_work\\pytorch\\pytorch\\builder\\windows\\pytorch\\torch\\csrc\\utils\\tensor_new.cpp:281.)\n"
     ]
    },
    {
     "name": "stdout",
     "output_type": "stream",
     "text": [
      "\u001b[36m(obj pid=97164)\u001b[0m Episode 300, Average Score: 46.84\u001b[32m [repeated 6x across cluster]\u001b[0m\n"
     ]
    },
    {
     "name": "stderr",
     "output_type": "stream",
     "text": [
      "\u001b[36m(obj pid=102984)\u001b[0m C:\\Users\\Benedict\\AppData\\Local\\Temp\\ipykernel_95128\\135224036.py:90: UserWarning: Creating a tensor from a list of numpy.ndarrays is extremely slow. Please consider converting the list to a single numpy.ndarray with numpy.array() before converting to a tensor. (Triggered internally at C:\\actions-runner\\_work\\pytorch\\pytorch\\builder\\windows\\pytorch\\torch\\csrc\\utils\\tensor_new.cpp:281.)\n"
     ]
    },
    {
     "name": "stdout",
     "output_type": "stream",
     "text": [
      "\u001b[36m(obj pid=97164)\u001b[0m Episode 350, Average Score: 38.86\u001b[32m [repeated 7x across cluster]\u001b[0m\n",
      "\u001b[36m(obj pid=97164)\u001b[0m Episode 400, Average Score: 40.34\u001b[32m [repeated 4x across cluster]\u001b[0m\n"
     ]
    },
    {
     "name": "stderr",
     "output_type": "stream",
     "text": [
      "\u001b[36m(obj pid=108652)\u001b[0m C:\\Users\\Benedict\\AppData\\Local\\Temp\\ipykernel_95128\\135224036.py:90: UserWarning: Creating a tensor from a list of numpy.ndarrays is extremely slow. Please consider converting the list to a single numpy.ndarray with numpy.array() before converting to a tensor. (Triggered internally at C:\\actions-runner\\_work\\pytorch\\pytorch\\builder\\windows\\pytorch\\torch\\csrc\\utils\\tensor_new.cpp:281.)\n"
     ]
    },
    {
     "name": "stdout",
     "output_type": "stream",
     "text": [
      "\u001b[36m(obj pid=103460)\u001b[0m Solved at Episode 357\n",
      "\u001b[36m(obj pid=108652)\u001b[0m Episode 200, Average Score: 12.22\u001b[32m [repeated 6x across cluster]\u001b[0m\n"
     ]
    },
    {
     "name": "stderr",
     "output_type": "stream",
     "text": [
      "\u001b[36m(obj pid=71804)\u001b[0m C:\\Users\\Benedict\\AppData\\Local\\Temp\\ipykernel_95128\\135224036.py:90: UserWarning: Creating a tensor from a list of numpy.ndarrays is extremely slow. Please consider converting the list to a single numpy.ndarray with numpy.array() before converting to a tensor. (Triggered internally at C:\\actions-runner\\_work\\pytorch\\pytorch\\builder\\windows\\pytorch\\torch\\csrc\\utils\\tensor_new.cpp:281.)\n"
     ]
    },
    {
     "name": "stdout",
     "output_type": "stream",
     "text": [
      "\u001b[36m(obj pid=71804)\u001b[0m Episode 250, Average Score: 9.42\u001b[32m [repeated 7x across cluster]\u001b[0m\n"
     ]
    },
    {
     "name": "stderr",
     "output_type": "stream",
     "text": [
      "\u001b[36m(obj pid=111400)\u001b[0m C:\\Users\\Benedict\\AppData\\Local\\Temp\\ipykernel_95128\\135224036.py:90: UserWarning: Creating a tensor from a list of numpy.ndarrays is extremely slow. Please consider converting the list to a single numpy.ndarray with numpy.array() before converting to a tensor. (Triggered internally at C:\\actions-runner\\_work\\pytorch\\pytorch\\builder\\windows\\pytorch\\torch\\csrc\\utils\\tensor_new.cpp:281.)\n"
     ]
    },
    {
     "name": "stdout",
     "output_type": "stream",
     "text": [
      "\u001b[36m(obj pid=111400)\u001b[0m Episode 150, Average Score: 9.36\u001b[32m [repeated 6x across cluster]\u001b[0m\n"
     ]
    },
    {
     "name": "stderr",
     "output_type": "stream",
     "text": [
      "\u001b[36m(obj pid=70280)\u001b[0m C:\\Users\\Benedict\\AppData\\Local\\Temp\\ipykernel_95128\\135224036.py:90: UserWarning: Creating a tensor from a list of numpy.ndarrays is extremely slow. Please consider converting the list to a single numpy.ndarray with numpy.array() before converting to a tensor. (Triggered internally at C:\\actions-runner\\_work\\pytorch\\pytorch\\builder\\windows\\pytorch\\torch\\csrc\\utils\\tensor_new.cpp:281.)\n"
     ]
    },
    {
     "name": "stdout",
     "output_type": "stream",
     "text": [
      "\u001b[36m(obj pid=70280)\u001b[0m Episode 200, Average Score: 11.04\u001b[32m [repeated 5x across cluster]\u001b[0m\n"
     ]
    },
    {
     "name": "stderr",
     "output_type": "stream",
     "text": [
      "\u001b[36m(obj pid=13964)\u001b[0m C:\\Users\\Benedict\\AppData\\Local\\Temp\\ipykernel_95128\\135224036.py:90: UserWarning: Creating a tensor from a list of numpy.ndarrays is extremely slow. Please consider converting the list to a single numpy.ndarray with numpy.array() before converting to a tensor. (Triggered internally at C:\\actions-runner\\_work\\pytorch\\pytorch\\builder\\windows\\pytorch\\torch\\csrc\\utils\\tensor_new.cpp:281.)\n"
     ]
    },
    {
     "name": "stdout",
     "output_type": "stream",
     "text": [
      "\u001b[36m(obj pid=13964)\u001b[0m Episode 250, Average Score: 18.02\u001b[32m [repeated 8x across cluster]\u001b[0m\n",
      "\u001b[36m(obj pid=70440)\u001b[0m Episode 50, Average Score: 32.9\u001b[32m [repeated 2x across cluster]\u001b[0m\n"
     ]
    },
    {
     "name": "stderr",
     "output_type": "stream",
     "text": [
      "\u001b[36m(obj pid=70440)\u001b[0m C:\\Users\\Benedict\\AppData\\Local\\Temp\\ipykernel_95128\\135224036.py:90: UserWarning: Creating a tensor from a list of numpy.ndarrays is extremely slow. Please consider converting the list to a single numpy.ndarray with numpy.array() before converting to a tensor. (Triggered internally at C:\\actions-runner\\_work\\pytorch\\pytorch\\builder\\windows\\pytorch\\torch\\csrc\\utils\\tensor_new.cpp:281.)\n"
     ]
    },
    {
     "name": "stdout",
     "output_type": "stream",
     "text": [
      "\u001b[36m(obj pid=48532)\u001b[0m Episode 50, Average Score: 9.2\u001b[32m [repeated 4x across cluster]\u001b[0m\n",
      "\u001b[36m(obj pid=70440)\u001b[0m Episode 200, Average Score: 9.32\u001b[32m [repeated 6x across cluster]\u001b[0m\n"
     ]
    },
    {
     "name": "stderr",
     "output_type": "stream",
     "text": [
      "\u001b[36m(obj pid=70892)\u001b[0m C:\\Users\\Benedict\\AppData\\Local\\Temp\\ipykernel_95128\\135224036.py:90: UserWarning: Creating a tensor from a list of numpy.ndarrays is extremely slow. Please consider converting the list to a single numpy.ndarray with numpy.array() before converting to a tensor. (Triggered internally at C:\\actions-runner\\_work\\pytorch\\pytorch\\builder\\windows\\pytorch\\torch\\csrc\\utils\\tensor_new.cpp:281.)\n"
     ]
    },
    {
     "name": "stdout",
     "output_type": "stream",
     "text": [
      "\u001b[36m(obj pid=70892)\u001b[0m Episode 200, Average Score: 9.44\u001b[32m [repeated 4x across cluster]\u001b[0m\n"
     ]
    },
    {
     "name": "stderr",
     "output_type": "stream",
     "text": [
      "\u001b[36m(obj pid=77044)\u001b[0m C:\\Users\\Benedict\\AppData\\Local\\Temp\\ipykernel_95128\\135224036.py:90: UserWarning: Creating a tensor from a list of numpy.ndarrays is extremely slow. Please consider converting the list to a single numpy.ndarray with numpy.array() before converting to a tensor. (Triggered internally at C:\\actions-runner\\_work\\pytorch\\pytorch\\builder\\windows\\pytorch\\torch\\csrc\\utils\\tensor_new.cpp:281.)\n"
     ]
    },
    {
     "name": "stdout",
     "output_type": "stream",
     "text": [
      "\u001b[36m(obj pid=77044)\u001b[0m Episode 250, Average Score: 9.2\u001b[32m [repeated 8x across cluster]\u001b[0m\n"
     ]
    },
    {
     "name": "stderr",
     "output_type": "stream",
     "text": [
      "\u001b[36m(obj pid=75720)\u001b[0m C:\\Users\\Benedict\\AppData\\Local\\Temp\\ipykernel_95128\\135224036.py:90: UserWarning: Creating a tensor from a list of numpy.ndarrays is extremely slow. Please consider converting the list to a single numpy.ndarray with numpy.array() before converting to a tensor. (Triggered internally at C:\\actions-runner\\_work\\pytorch\\pytorch\\builder\\windows\\pytorch\\torch\\csrc\\utils\\tensor_new.cpp:281.)\n"
     ]
    },
    {
     "name": "stdout",
     "output_type": "stream",
     "text": [
      "\u001b[36m(obj pid=75720)\u001b[0m Episode 250, Average Score: 9.42\u001b[32m [repeated 6x across cluster]\u001b[0m\n"
     ]
    },
    {
     "name": "stderr",
     "output_type": "stream",
     "text": [
      "\u001b[36m(obj pid=8916)\u001b[0m C:\\Users\\Benedict\\AppData\\Local\\Temp\\ipykernel_95128\\135224036.py:90: UserWarning: Creating a tensor from a list of numpy.ndarrays is extremely slow. Please consider converting the list to a single numpy.ndarray with numpy.array() before converting to a tensor. (Triggered internally at C:\\actions-runner\\_work\\pytorch\\pytorch\\builder\\windows\\pytorch\\torch\\csrc\\utils\\tensor_new.cpp:281.)\n"
     ]
    },
    {
     "name": "stdout",
     "output_type": "stream",
     "text": [
      "\u001b[36m(obj pid=8916)\u001b[0m Episode 100, Average Score: 11.32\u001b[32m [repeated 4x across cluster]\u001b[0m\n"
     ]
    },
    {
     "name": "stderr",
     "output_type": "stream",
     "text": [
      "\u001b[36m(obj pid=102940)\u001b[0m C:\\Users\\Benedict\\AppData\\Local\\Temp\\ipykernel_95128\\135224036.py:90: UserWarning: Creating a tensor from a list of numpy.ndarrays is extremely slow. Please consider converting the list to a single numpy.ndarray with numpy.array() before converting to a tensor. (Triggered internally at C:\\actions-runner\\_work\\pytorch\\pytorch\\builder\\windows\\pytorch\\torch\\csrc\\utils\\tensor_new.cpp:281.)\n"
     ]
    },
    {
     "name": "stdout",
     "output_type": "stream",
     "text": [
      "\u001b[36m(obj pid=8916)\u001b[0m Episode 250, Average Score: 15.66\u001b[32m [repeated 7x across cluster]\u001b[0m\n",
      "\u001b[36m(obj pid=56812)\u001b[0m Episode 100, Average Score: 9.34\u001b[32m [repeated 6x across cluster]\u001b[0m\n"
     ]
    },
    {
     "name": "stderr",
     "output_type": "stream",
     "text": [
      "\u001b[36m(obj pid=56812)\u001b[0m C:\\Users\\Benedict\\AppData\\Local\\Temp\\ipykernel_95128\\135224036.py:90: UserWarning: Creating a tensor from a list of numpy.ndarrays is extremely slow. Please consider converting the list to a single numpy.ndarray with numpy.array() before converting to a tensor. (Triggered internally at C:\\actions-runner\\_work\\pytorch\\pytorch\\builder\\windows\\pytorch\\torch\\csrc\\utils\\tensor_new.cpp:281.)\n"
     ]
    },
    {
     "name": "stdout",
     "output_type": "stream",
     "text": [
      "\u001b[36m(obj pid=56812)\u001b[0m Episode 250, Average Score: 9.42\u001b[32m [repeated 4x across cluster]\u001b[0m\n"
     ]
    },
    {
     "name": "stderr",
     "output_type": "stream",
     "text": [
      "\u001b[36m(obj pid=107352)\u001b[0m C:\\Users\\Benedict\\AppData\\Local\\Temp\\ipykernel_95128\\135224036.py:90: UserWarning: Creating a tensor from a list of numpy.ndarrays is extremely slow. Please consider converting the list to a single numpy.ndarray with numpy.array() before converting to a tensor. (Triggered internally at C:\\actions-runner\\_work\\pytorch\\pytorch\\builder\\windows\\pytorch\\torch\\csrc\\utils\\tensor_new.cpp:281.)\n"
     ]
    },
    {
     "name": "stdout",
     "output_type": "stream",
     "text": [
      "\u001b[36m(obj pid=107352)\u001b[0m Episode 250, Average Score: 48.1\u001b[32m [repeated 6x across cluster]\u001b[0m\n"
     ]
    },
    {
     "name": "stderr",
     "output_type": "stream",
     "text": [
      "\u001b[36m(obj pid=108916)\u001b[0m C:\\Users\\Benedict\\AppData\\Local\\Temp\\ipykernel_95128\\135224036.py:90: UserWarning: Creating a tensor from a list of numpy.ndarrays is extremely slow. Please consider converting the list to a single numpy.ndarray with numpy.array() before converting to a tensor. (Triggered internally at C:\\actions-runner\\_work\\pytorch\\pytorch\\builder\\windows\\pytorch\\torch\\csrc\\utils\\tensor_new.cpp:281.)\n"
     ]
    },
    {
     "name": "stdout",
     "output_type": "stream",
     "text": [
      "\u001b[36m(obj pid=107352)\u001b[0m Episode 350, Average Score: 80.24\u001b[32m [repeated 6x across cluster]\u001b[0m\n"
     ]
    },
    {
     "name": "stderr",
     "output_type": "stream",
     "text": [
      "\u001b[36m(obj pid=80952)\u001b[0m C:\\Users\\Benedict\\AppData\\Local\\Temp\\ipykernel_95128\\135224036.py:90: UserWarning: Creating a tensor from a list of numpy.ndarrays is extremely slow. Please consider converting the list to a single numpy.ndarray with numpy.array() before converting to a tensor. (Triggered internally at C:\\actions-runner\\_work\\pytorch\\pytorch\\builder\\windows\\pytorch\\torch\\csrc\\utils\\tensor_new.cpp:281.)\n"
     ]
    },
    {
     "name": "stdout",
     "output_type": "stream",
     "text": [
      "\u001b[36m(obj pid=80952)\u001b[0m Episode 200, Average Score: 34.0\u001b[32m [repeated 7x across cluster]\u001b[0m\n"
     ]
    },
    {
     "name": "stderr",
     "output_type": "stream",
     "text": [
      "\u001b[36m(obj pid=108832)\u001b[0m C:\\Users\\Benedict\\AppData\\Local\\Temp\\ipykernel_95128\\135224036.py:90: UserWarning: Creating a tensor from a list of numpy.ndarrays is extremely slow. Please consider converting the list to a single numpy.ndarray with numpy.array() before converting to a tensor. (Triggered internally at C:\\actions-runner\\_work\\pytorch\\pytorch\\builder\\windows\\pytorch\\torch\\csrc\\utils\\tensor_new.cpp:281.)\n"
     ]
    },
    {
     "name": "stdout",
     "output_type": "stream",
     "text": [
      "\u001b[36m(obj pid=108832)\u001b[0m Episode 200, Average Score: 40.96\u001b[32m [repeated 6x across cluster]\u001b[0m\n"
     ]
    },
    {
     "name": "stderr",
     "output_type": "stream",
     "text": [
      "\u001b[36m(obj pid=111436)\u001b[0m C:\\Users\\Benedict\\AppData\\Local\\Temp\\ipykernel_95128\\135224036.py:90: UserWarning: Creating a tensor from a list of numpy.ndarrays is extremely slow. Please consider converting the list to a single numpy.ndarray with numpy.array() before converting to a tensor. (Triggered internally at C:\\actions-runner\\_work\\pytorch\\pytorch\\builder\\windows\\pytorch\\torch\\csrc\\utils\\tensor_new.cpp:281.)\n"
     ]
    },
    {
     "name": "stdout",
     "output_type": "stream",
     "text": [
      "\u001b[36m(obj pid=111436)\u001b[0m Episode 200, Average Score: 10.38\u001b[32m [repeated 8x across cluster]\u001b[0m\n"
     ]
    },
    {
     "name": "stderr",
     "output_type": "stream",
     "text": [
      "\u001b[36m(obj pid=105840)\u001b[0m C:\\Users\\Benedict\\AppData\\Local\\Temp\\ipykernel_95128\\135224036.py:90: UserWarning: Creating a tensor from a list of numpy.ndarrays is extremely slow. Please consider converting the list to a single numpy.ndarray with numpy.array() before converting to a tensor. (Triggered internally at C:\\actions-runner\\_work\\pytorch\\pytorch\\builder\\windows\\pytorch\\torch\\csrc\\utils\\tensor_new.cpp:281.)\n"
     ]
    },
    {
     "name": "stdout",
     "output_type": "stream",
     "text": [
      "\u001b[36m(obj pid=105840)\u001b[0m Episode 150, Average Score: 9.86\u001b[32m [repeated 7x across cluster]\u001b[0m\n"
     ]
    },
    {
     "name": "stderr",
     "output_type": "stream",
     "text": [
      "\u001b[36m(obj pid=108144)\u001b[0m C:\\Users\\Benedict\\AppData\\Local\\Temp\\ipykernel_95128\\135224036.py:90: UserWarning: Creating a tensor from a list of numpy.ndarrays is extremely slow. Please consider converting the list to a single numpy.ndarray with numpy.array() before converting to a tensor. (Triggered internally at C:\\actions-runner\\_work\\pytorch\\pytorch\\builder\\windows\\pytorch\\torch\\csrc\\utils\\tensor_new.cpp:281.)\n"
     ]
    },
    {
     "name": "stdout",
     "output_type": "stream",
     "text": [
      "\u001b[36m(obj pid=105840)\u001b[0m Episode 300, Average Score: 46.14\u001b[32m [repeated 5x across cluster]\u001b[0m\n",
      "\u001b[36m(obj pid=108144)\u001b[0m Episode 300, Average Score: 9.42\u001b[32m [repeated 6x across cluster]\u001b[0m\n"
     ]
    },
    {
     "name": "stderr",
     "output_type": "stream",
     "text": [
      "\u001b[36m(obj pid=111448)\u001b[0m C:\\Users\\Benedict\\AppData\\Local\\Temp\\ipykernel_95128\\135224036.py:90: UserWarning: Creating a tensor from a list of numpy.ndarrays is extremely slow. Please consider converting the list to a single numpy.ndarray with numpy.array() before converting to a tensor. (Triggered internally at C:\\actions-runner\\_work\\pytorch\\pytorch\\builder\\windows\\pytorch\\torch\\csrc\\utils\\tensor_new.cpp:281.)\n"
     ]
    },
    {
     "name": "stdout",
     "output_type": "stream",
     "text": [
      "\u001b[36m(obj pid=112528)\u001b[0m Episode 50, Average Score: 9.18\u001b[32m [repeated 6x across cluster]\u001b[0m\n"
     ]
    },
    {
     "name": "stderr",
     "output_type": "stream",
     "text": [
      "\u001b[36m(obj pid=112528)\u001b[0m C:\\Users\\Benedict\\AppData\\Local\\Temp\\ipykernel_95128\\135224036.py:90: UserWarning: Creating a tensor from a list of numpy.ndarrays is extremely slow. Please consider converting the list to a single numpy.ndarray with numpy.array() before converting to a tensor. (Triggered internally at C:\\actions-runner\\_work\\pytorch\\pytorch\\builder\\windows\\pytorch\\torch\\csrc\\utils\\tensor_new.cpp:281.)\n"
     ]
    },
    {
     "name": "stdout",
     "output_type": "stream",
     "text": [
      "\u001b[36m(obj pid=112528)\u001b[0m Episode 300, Average Score: 16.7\u001b[32m [repeated 8x across cluster]\u001b[0m\n"
     ]
    },
    {
     "name": "stderr",
     "output_type": "stream",
     "text": [
      "\u001b[36m(obj pid=7268)\u001b[0m C:\\Users\\Benedict\\AppData\\Local\\Temp\\ipykernel_95128\\135224036.py:90: UserWarning: Creating a tensor from a list of numpy.ndarrays is extremely slow. Please consider converting the list to a single numpy.ndarray with numpy.array() before converting to a tensor. (Triggered internally at C:\\actions-runner\\_work\\pytorch\\pytorch\\builder\\windows\\pytorch\\torch\\csrc\\utils\\tensor_new.cpp:281.)\n"
     ]
    },
    {
     "name": "stdout",
     "output_type": "stream",
     "text": [
      "\u001b[36m(obj pid=105244)\u001b[0m Episode 50, Average Score: 9.18\u001b[32m [repeated 6x across cluster]\u001b[0m\n"
     ]
    },
    {
     "name": "stderr",
     "output_type": "stream",
     "text": [
      "\u001b[36m(obj pid=105244)\u001b[0m C:\\Users\\Benedict\\AppData\\Local\\Temp\\ipykernel_95128\\135224036.py:90: UserWarning: Creating a tensor from a list of numpy.ndarrays is extremely slow. Please consider converting the list to a single numpy.ndarray with numpy.array() before converting to a tensor. (Triggered internally at C:\\actions-runner\\_work\\pytorch\\pytorch\\builder\\windows\\pytorch\\torch\\csrc\\utils\\tensor_new.cpp:281.)\n"
     ]
    },
    {
     "name": "stdout",
     "output_type": "stream",
     "text": [
      "\u001b[36m(obj pid=105244)\u001b[0m Episode 300, Average Score: 9.42\u001b[32m [repeated 6x across cluster]\u001b[0m\n"
     ]
    },
    {
     "name": "stderr",
     "output_type": "stream",
     "text": [
      "\u001b[36m(obj pid=110896)\u001b[0m C:\\Users\\Benedict\\AppData\\Local\\Temp\\ipykernel_95128\\135224036.py:90: UserWarning: Creating a tensor from a list of numpy.ndarrays is extremely slow. Please consider converting the list to a single numpy.ndarray with numpy.array() before converting to a tensor. (Triggered internally at C:\\actions-runner\\_work\\pytorch\\pytorch\\builder\\windows\\pytorch\\torch\\csrc\\utils\\tensor_new.cpp:281.)\n"
     ]
    },
    {
     "name": "stdout",
     "output_type": "stream",
     "text": [
      "\u001b[36m(obj pid=110896)\u001b[0m Episode 400, Average Score: 147.26\u001b[32m [repeated 8x across cluster]\u001b[0m\n"
     ]
    },
    {
     "name": "stderr",
     "output_type": "stream",
     "text": [
      "\u001b[36m(obj pid=49500)\u001b[0m C:\\Users\\Benedict\\AppData\\Local\\Temp\\ipykernel_95128\\135224036.py:90: UserWarning: Creating a tensor from a list of numpy.ndarrays is extremely slow. Please consider converting the list to a single numpy.ndarray with numpy.array() before converting to a tensor. (Triggered internally at C:\\actions-runner\\_work\\pytorch\\pytorch\\builder\\windows\\pytorch\\torch\\csrc\\utils\\tensor_new.cpp:281.)\n"
     ]
    },
    {
     "name": "stdout",
     "output_type": "stream",
     "text": [
      "\u001b[36m(obj pid=49500)\u001b[0m Episode 350, Average Score: 83.96\u001b[32m [repeated 7x across cluster]\u001b[0m\n"
     ]
    },
    {
     "name": "stderr",
     "output_type": "stream",
     "text": [
      "\u001b[36m(obj pid=52512)\u001b[0m C:\\Users\\Benedict\\AppData\\Local\\Temp\\ipykernel_95128\\135224036.py:90: UserWarning: Creating a tensor from a list of numpy.ndarrays is extremely slow. Please consider converting the list to a single numpy.ndarray with numpy.array() before converting to a tensor. (Triggered internally at C:\\actions-runner\\_work\\pytorch\\pytorch\\builder\\windows\\pytorch\\torch\\csrc\\utils\\tensor_new.cpp:281.)\n"
     ]
    },
    {
     "name": "stdout",
     "output_type": "stream",
     "text": [
      "\u001b[36m(obj pid=52512)\u001b[0m Episode 50, Average Score: 9.4\u001b[32m [repeated 8x across cluster]\u001b[0m\n"
     ]
    },
    {
     "name": "stderr",
     "output_type": "stream",
     "text": [
      "\u001b[36m(obj pid=97656)\u001b[0m C:\\Users\\Benedict\\AppData\\Local\\Temp\\ipykernel_95128\\135224036.py:90: UserWarning: Creating a tensor from a list of numpy.ndarrays is extremely slow. Please consider converting the list to a single numpy.ndarray with numpy.array() before converting to a tensor. (Triggered internally at C:\\actions-runner\\_work\\pytorch\\pytorch\\builder\\windows\\pytorch\\torch\\csrc\\utils\\tensor_new.cpp:281.)\n"
     ]
    },
    {
     "name": "stdout",
     "output_type": "stream",
     "text": [
      "\u001b[36m(obj pid=97656)\u001b[0m Episode 50, Average Score: 23.88\u001b[32m [repeated 6x across cluster]\u001b[0m\n",
      "\u001b[36m(obj pid=97656)\u001b[0m Episode 350, Average Score: 146.68\u001b[32m [repeated 6x across cluster]\u001b[0m\n"
     ]
    },
    {
     "name": "stderr",
     "output_type": "stream",
     "text": [
      "\u001b[36m(obj pid=112504)\u001b[0m C:\\Users\\Benedict\\AppData\\Local\\Temp\\ipykernel_95128\\135224036.py:90: UserWarning: Creating a tensor from a list of numpy.ndarrays is extremely slow. Please consider converting the list to a single numpy.ndarray with numpy.array() before converting to a tensor. (Triggered internally at C:\\actions-runner\\_work\\pytorch\\pytorch\\builder\\windows\\pytorch\\torch\\csrc\\utils\\tensor_new.cpp:281.)\n"
     ]
    },
    {
     "name": "stdout",
     "output_type": "stream",
     "text": [
      "\u001b[36m(obj pid=112504)\u001b[0m Episode 350, Average Score: 74.8\u001b[32m [repeated 8x across cluster]\u001b[0m\n"
     ]
    },
    {
     "name": "stderr",
     "output_type": "stream",
     "text": [
      "\u001b[36m(obj pid=76228)\u001b[0m C:\\Users\\Benedict\\AppData\\Local\\Temp\\ipykernel_95128\\135224036.py:90: UserWarning: Creating a tensor from a list of numpy.ndarrays is extremely slow. Please consider converting the list to a single numpy.ndarray with numpy.array() before converting to a tensor. (Triggered internally at C:\\actions-runner\\_work\\pytorch\\pytorch\\builder\\windows\\pytorch\\torch\\csrc\\utils\\tensor_new.cpp:281.)\n",
      "\u001b[36m(obj pid=13128)\u001b[0m C:\\Users\\Benedict\\AppData\\Local\\Temp\\ipykernel_95128\\135224036.py:90: UserWarning: Creating a tensor from a list of numpy.ndarrays is extremely slow. Please consider converting the list to a single numpy.ndarray with numpy.array() before converting to a tensor. (Triggered internally at C:\\actions-runner\\_work\\pytorch\\pytorch\\builder\\windows\\pytorch\\torch\\csrc\\utils\\tensor_new.cpp:281.)\n"
     ]
    },
    {
     "name": "stdout",
     "output_type": "stream",
     "text": [
      "\u001b[36m(obj pid=13128)\u001b[0m Episode 50, Average Score: 9.18\u001b[32m [repeated 8x across cluster]\u001b[0m\n"
     ]
    },
    {
     "name": "stderr",
     "output_type": "stream",
     "text": [
      "\u001b[36m(obj pid=105172)\u001b[0m C:\\Users\\Benedict\\AppData\\Local\\Temp\\ipykernel_95128\\135224036.py:90: UserWarning: Creating a tensor from a list of numpy.ndarrays is extremely slow. Please consider converting the list to a single numpy.ndarray with numpy.array() before converting to a tensor. (Triggered internally at C:\\actions-runner\\_work\\pytorch\\pytorch\\builder\\windows\\pytorch\\torch\\csrc\\utils\\tensor_new.cpp:281.)\n"
     ]
    },
    {
     "name": "stdout",
     "output_type": "stream",
     "text": [
      "\u001b[36m(obj pid=105172)\u001b[0m Episode 50, Average Score: 9.82\u001b[32m [repeated 6x across cluster]\u001b[0m\n"
     ]
    },
    {
     "name": "stderr",
     "output_type": "stream",
     "text": [
      "\u001b[36m(obj pid=104212)\u001b[0m C:\\Users\\Benedict\\AppData\\Local\\Temp\\ipykernel_95128\\135224036.py:90: UserWarning: Creating a tensor from a list of numpy.ndarrays is extremely slow. Please consider converting the list to a single numpy.ndarray with numpy.array() before converting to a tensor. (Triggered internally at C:\\actions-runner\\_work\\pytorch\\pytorch\\builder\\windows\\pytorch\\torch\\csrc\\utils\\tensor_new.cpp:281.)\n"
     ]
    },
    {
     "name": "stdout",
     "output_type": "stream",
     "text": [
      "\u001b[36m(obj pid=104212)\u001b[0m Episode 50, Average Score: 22.68\u001b[32m [repeated 8x across cluster]\u001b[0m\n",
      "\u001b[36m(obj pid=104212)\u001b[0m Episode 400, Average Score: 88.72\u001b[32m [repeated 7x across cluster]\u001b[0m\n"
     ]
    },
    {
     "name": "stderr",
     "output_type": "stream",
     "text": [
      "\u001b[36m(obj pid=110776)\u001b[0m C:\\Users\\Benedict\\AppData\\Local\\Temp\\ipykernel_95128\\135224036.py:90: UserWarning: Creating a tensor from a list of numpy.ndarrays is extremely slow. Please consider converting the list to a single numpy.ndarray with numpy.array() before converting to a tensor. (Triggered internally at C:\\actions-runner\\_work\\pytorch\\pytorch\\builder\\windows\\pytorch\\torch\\csrc\\utils\\tensor_new.cpp:281.)\n"
     ]
    },
    {
     "name": "stdout",
     "output_type": "stream",
     "text": [
      "\u001b[36m(obj pid=110776)\u001b[0m Episode 350, Average Score: 66.88\u001b[32m [repeated 7x across cluster]\u001b[0m\n"
     ]
    },
    {
     "name": "stderr",
     "output_type": "stream",
     "text": [
      "\u001b[36m(obj pid=96940)\u001b[0m C:\\Users\\Benedict\\AppData\\Local\\Temp\\ipykernel_95128\\135224036.py:90: UserWarning: Creating a tensor from a list of numpy.ndarrays is extremely slow. Please consider converting the list to a single numpy.ndarray with numpy.array() before converting to a tensor. (Triggered internally at C:\\actions-runner\\_work\\pytorch\\pytorch\\builder\\windows\\pytorch\\torch\\csrc\\utils\\tensor_new.cpp:281.)\n",
      "\u001b[36m(obj pid=22180)\u001b[0m C:\\Users\\Benedict\\AppData\\Local\\Temp\\ipykernel_95128\\135224036.py:90: UserWarning: Creating a tensor from a list of numpy.ndarrays is extremely slow. Please consider converting the list to a single numpy.ndarray with numpy.array() before converting to a tensor. (Triggered internally at C:\\actions-runner\\_work\\pytorch\\pytorch\\builder\\windows\\pytorch\\torch\\csrc\\utils\\tensor_new.cpp:281.)\n"
     ]
    },
    {
     "name": "stdout",
     "output_type": "stream",
     "text": [
      "\u001b[36m(obj pid=22180)\u001b[0m Episode 50, Average Score: 9.4\u001b[32m [repeated 8x across cluster]\u001b[0m\n",
      "\u001b[36m(obj pid=109272)\u001b[0m Episode 50, Average Score: 9.18\u001b[32m [repeated 6x across cluster]\u001b[0m\n"
     ]
    },
    {
     "name": "stderr",
     "output_type": "stream",
     "text": [
      "\u001b[36m(obj pid=109272)\u001b[0m C:\\Users\\Benedict\\AppData\\Local\\Temp\\ipykernel_95128\\135224036.py:90: UserWarning: Creating a tensor from a list of numpy.ndarrays is extremely slow. Please consider converting the list to a single numpy.ndarray with numpy.array() before converting to a tensor. (Triggered internally at C:\\actions-runner\\_work\\pytorch\\pytorch\\builder\\windows\\pytorch\\torch\\csrc\\utils\\tensor_new.cpp:281.)\n"
     ]
    },
    {
     "name": "stdout",
     "output_type": "stream",
     "text": [
      "\u001b[36m(obj pid=37856)\u001b[0m Episode 50, Average Score: 9.18\u001b[32m [repeated 5x across cluster]\u001b[0m\n"
     ]
    },
    {
     "name": "stderr",
     "output_type": "stream",
     "text": [
      "\u001b[36m(obj pid=37856)\u001b[0m C:\\Users\\Benedict\\AppData\\Local\\Temp\\ipykernel_95128\\135224036.py:90: UserWarning: Creating a tensor from a list of numpy.ndarrays is extremely slow. Please consider converting the list to a single numpy.ndarray with numpy.array() before converting to a tensor. (Triggered internally at C:\\actions-runner\\_work\\pytorch\\pytorch\\builder\\windows\\pytorch\\torch\\csrc\\utils\\tensor_new.cpp:281.)\n"
     ]
    },
    {
     "name": "stdout",
     "output_type": "stream",
     "text": [
      "\u001b[36m(obj pid=112292)\u001b[0m Episode 50, Average Score: 9.4\u001b[32m [repeated 6x across cluster]\u001b[0m\n"
     ]
    },
    {
     "name": "stderr",
     "output_type": "stream",
     "text": [
      "\u001b[36m(obj pid=112292)\u001b[0m C:\\Users\\Benedict\\AppData\\Local\\Temp\\ipykernel_95128\\135224036.py:90: UserWarning: Creating a tensor from a list of numpy.ndarrays is extremely slow. Please consider converting the list to a single numpy.ndarray with numpy.array() before converting to a tensor. (Triggered internally at C:\\actions-runner\\_work\\pytorch\\pytorch\\builder\\windows\\pytorch\\torch\\csrc\\utils\\tensor_new.cpp:281.)\n"
     ]
    },
    {
     "name": "stdout",
     "output_type": "stream",
     "text": [
      "\u001b[36m(obj pid=32404)\u001b[0m Episode 50, Average Score: 9.4\u001b[32m [repeated 6x across cluster]\u001b[0m\n"
     ]
    },
    {
     "name": "stderr",
     "output_type": "stream",
     "text": [
      "\u001b[36m(obj pid=32404)\u001b[0m C:\\Users\\Benedict\\AppData\\Local\\Temp\\ipykernel_95128\\135224036.py:90: UserWarning: Creating a tensor from a list of numpy.ndarrays is extremely slow. Please consider converting the list to a single numpy.ndarray with numpy.array() before converting to a tensor. (Triggered internally at C:\\actions-runner\\_work\\pytorch\\pytorch\\builder\\windows\\pytorch\\torch\\csrc\\utils\\tensor_new.cpp:281.)\n"
     ]
    },
    {
     "name": "stdout",
     "output_type": "stream",
     "text": [
      "\u001b[36m(obj pid=17744)\u001b[0m Episode 50, Average Score: 9.18\u001b[32m [repeated 6x across cluster]\u001b[0m\n"
     ]
    },
    {
     "name": "stderr",
     "output_type": "stream",
     "text": [
      "\u001b[36m(obj pid=17744)\u001b[0m C:\\Users\\Benedict\\AppData\\Local\\Temp\\ipykernel_95128\\135224036.py:90: UserWarning: Creating a tensor from a list of numpy.ndarrays is extremely slow. Please consider converting the list to a single numpy.ndarray with numpy.array() before converting to a tensor. (Triggered internally at C:\\actions-runner\\_work\\pytorch\\pytorch\\builder\\windows\\pytorch\\torch\\csrc\\utils\\tensor_new.cpp:281.)\n"
     ]
    },
    {
     "name": "stdout",
     "output_type": "stream",
     "text": [
      "\u001b[36m(obj pid=58348)\u001b[0m Episode 50, Average Score: 9.54\u001b[32m [repeated 7x across cluster]\u001b[0m\n"
     ]
    },
    {
     "name": "stderr",
     "output_type": "stream",
     "text": [
      "\u001b[36m(obj pid=52496)\u001b[0m C:\\Users\\Benedict\\AppData\\Local\\Temp\\ipykernel_95128\\135224036.py:90: UserWarning: Creating a tensor from a list of numpy.ndarrays is extremely slow. Please consider converting the list to a single numpy.ndarray with numpy.array() before converting to a tensor. (Triggered internally at C:\\actions-runner\\_work\\pytorch\\pytorch\\builder\\windows\\pytorch\\torch\\csrc\\utils\\tensor_new.cpp:281.)\n"
     ]
    },
    {
     "name": "stdout",
     "output_type": "stream",
     "text": [
      "\u001b[36m(obj pid=52496)\u001b[0m Episode 50, Average Score: 9.68\u001b[32m [repeated 6x across cluster]\u001b[0m\n",
      "\u001b[36m(obj pid=52496)\u001b[0m Episode 250, Average Score: 9.2\u001b[32m [repeated 4x across cluster]\u001b[0m\n"
     ]
    },
    {
     "name": "stderr",
     "output_type": "stream",
     "text": [
      "\u001b[36m(obj pid=48836)\u001b[0m C:\\Users\\Benedict\\AppData\\Local\\Temp\\ipykernel_95128\\135224036.py:90: UserWarning: Creating a tensor from a list of numpy.ndarrays is extremely slow. Please consider converting the list to a single numpy.ndarray with numpy.array() before converting to a tensor. (Triggered internally at C:\\actions-runner\\_work\\pytorch\\pytorch\\builder\\windows\\pytorch\\torch\\csrc\\utils\\tensor_new.cpp:281.)\n"
     ]
    },
    {
     "name": "stdout",
     "output_type": "stream",
     "text": [
      "\u001b[36m(obj pid=48836)\u001b[0m Episode 200, Average Score: 18.7\u001b[32m [repeated 5x across cluster]\u001b[0m\n"
     ]
    },
    {
     "name": "stderr",
     "output_type": "stream",
     "text": [
      "\u001b[36m(obj pid=8456)\u001b[0m C:\\Users\\Benedict\\AppData\\Local\\Temp\\ipykernel_95128\\135224036.py:90: UserWarning: Creating a tensor from a list of numpy.ndarrays is extremely slow. Please consider converting the list to a single numpy.ndarray with numpy.array() before converting to a tensor. (Triggered internally at C:\\actions-runner\\_work\\pytorch\\pytorch\\builder\\windows\\pytorch\\torch\\csrc\\utils\\tensor_new.cpp:281.)\n"
     ]
    },
    {
     "name": "stdout",
     "output_type": "stream",
     "text": [
      "\u001b[36m(obj pid=48836)\u001b[0m Episode 350, Average Score: 53.72\u001b[32m [repeated 7x across cluster]\u001b[0m\n"
     ]
    },
    {
     "name": "stderr",
     "output_type": "stream",
     "text": [
      "\u001b[36m(obj pid=108756)\u001b[0m C:\\Users\\Benedict\\AppData\\Local\\Temp\\ipykernel_95128\\135224036.py:90: UserWarning: Creating a tensor from a list of numpy.ndarrays is extremely slow. Please consider converting the list to a single numpy.ndarray with numpy.array() before converting to a tensor. (Triggered internally at C:\\actions-runner\\_work\\pytorch\\pytorch\\builder\\windows\\pytorch\\torch\\csrc\\utils\\tensor_new.cpp:281.)\n"
     ]
    },
    {
     "name": "stdout",
     "output_type": "stream",
     "text": [
      "\u001b[36m(obj pid=108756)\u001b[0m Episode 200, Average Score: 9.4\u001b[32m [repeated 6x across cluster]\u001b[0m\n"
     ]
    },
    {
     "name": "stderr",
     "output_type": "stream",
     "text": [
      "\u001b[36m(obj pid=110388)\u001b[0m C:\\Users\\Benedict\\AppData\\Local\\Temp\\ipykernel_95128\\135224036.py:90: UserWarning: Creating a tensor from a list of numpy.ndarrays is extremely slow. Please consider converting the list to a single numpy.ndarray with numpy.array() before converting to a tensor. (Triggered internally at C:\\actions-runner\\_work\\pytorch\\pytorch\\builder\\windows\\pytorch\\torch\\csrc\\utils\\tensor_new.cpp:281.)\n"
     ]
    },
    {
     "name": "stdout",
     "output_type": "stream",
     "text": [
      "\u001b[36m(obj pid=8456)\u001b[0m Episode 300, Average Score: 11.38\u001b[32m [repeated 4x across cluster]\u001b[0m\n",
      "\u001b[36m(obj pid=110388)\u001b[0m Episode 200, Average Score: 9.18\u001b[32m [repeated 3x across cluster]\u001b[0m\n"
     ]
    },
    {
     "name": "stderr",
     "output_type": "stream",
     "text": [
      "\u001b[36m(obj pid=18548)\u001b[0m C:\\Users\\Benedict\\AppData\\Local\\Temp\\ipykernel_95128\\135224036.py:90: UserWarning: Creating a tensor from a list of numpy.ndarrays is extremely slow. Please consider converting the list to a single numpy.ndarray with numpy.array() before converting to a tensor. (Triggered internally at C:\\actions-runner\\_work\\pytorch\\pytorch\\builder\\windows\\pytorch\\torch\\csrc\\utils\\tensor_new.cpp:281.)\n"
     ]
    },
    {
     "name": "stdout",
     "output_type": "stream",
     "text": [
      "\u001b[36m(obj pid=18548)\u001b[0m Episode 250, Average Score: 9.2\u001b[32m [repeated 7x across cluster]\u001b[0m\n"
     ]
    },
    {
     "name": "stderr",
     "output_type": "stream",
     "text": [
      "\u001b[36m(obj pid=102524)\u001b[0m C:\\Users\\Benedict\\AppData\\Local\\Temp\\ipykernel_95128\\135224036.py:90: UserWarning: Creating a tensor from a list of numpy.ndarrays is extremely slow. Please consider converting the list to a single numpy.ndarray with numpy.array() before converting to a tensor. (Triggered internally at C:\\actions-runner\\_work\\pytorch\\pytorch\\builder\\windows\\pytorch\\torch\\csrc\\utils\\tensor_new.cpp:281.)\n"
     ]
    },
    {
     "name": "stdout",
     "output_type": "stream",
     "text": [
      "\u001b[36m(obj pid=102524)\u001b[0m Episode 200, Average Score: 10.98\u001b[32m [repeated 5x across cluster]\u001b[0m\n"
     ]
    },
    {
     "name": "stderr",
     "output_type": "stream",
     "text": [
      "\u001b[36m(obj pid=70332)\u001b[0m C:\\Users\\Benedict\\AppData\\Local\\Temp\\ipykernel_95128\\135224036.py:90: UserWarning: Creating a tensor from a list of numpy.ndarrays is extremely slow. Please consider converting the list to a single numpy.ndarray with numpy.array() before converting to a tensor. (Triggered internally at C:\\actions-runner\\_work\\pytorch\\pytorch\\builder\\windows\\pytorch\\torch\\csrc\\utils\\tensor_new.cpp:281.)\n"
     ]
    },
    {
     "name": "stdout",
     "output_type": "stream",
     "text": [
      "\u001b[36m(obj pid=70332)\u001b[0m Episode 200, Average Score: 20.22\u001b[32m [repeated 6x across cluster]\u001b[0m\n"
     ]
    },
    {
     "name": "stderr",
     "output_type": "stream",
     "text": [
      "\u001b[36m(obj pid=76444)\u001b[0m C:\\Users\\Benedict\\AppData\\Local\\Temp\\ipykernel_95128\\135224036.py:90: UserWarning: Creating a tensor from a list of numpy.ndarrays is extremely slow. Please consider converting the list to a single numpy.ndarray with numpy.array() before converting to a tensor. (Triggered internally at C:\\actions-runner\\_work\\pytorch\\pytorch\\builder\\windows\\pytorch\\torch\\csrc\\utils\\tensor_new.cpp:281.)\n"
     ]
    },
    {
     "name": "stdout",
     "output_type": "stream",
     "text": [
      "\u001b[36m(obj pid=76444)\u001b[0m Episode 200, Average Score: 9.34\u001b[32m [repeated 6x across cluster]\u001b[0m\n"
     ]
    },
    {
     "name": "stderr",
     "output_type": "stream",
     "text": [
      "\u001b[36m(obj pid=101984)\u001b[0m C:\\Users\\Benedict\\AppData\\Local\\Temp\\ipykernel_95128\\135224036.py:90: UserWarning: Creating a tensor from a list of numpy.ndarrays is extremely slow. Please consider converting the list to a single numpy.ndarray with numpy.array() before converting to a tensor. (Triggered internally at C:\\actions-runner\\_work\\pytorch\\pytorch\\builder\\windows\\pytorch\\torch\\csrc\\utils\\tensor_new.cpp:281.)\n"
     ]
    },
    {
     "name": "stdout",
     "output_type": "stream",
     "text": [
      "\u001b[36m(obj pid=101984)\u001b[0m Episode 150, Average Score: 9.94\u001b[32m [repeated 7x across cluster]\u001b[0m\n",
      "\u001b[36m(obj pid=22208)\u001b[0m Episode 50, Average Score: 9.62\u001b[32m [repeated 3x across cluster]\u001b[0m\n"
     ]
    },
    {
     "name": "stderr",
     "output_type": "stream",
     "text": [
      "\u001b[36m(obj pid=22208)\u001b[0m C:\\Users\\Benedict\\AppData\\Local\\Temp\\ipykernel_95128\\135224036.py:90: UserWarning: Creating a tensor from a list of numpy.ndarrays is extremely slow. Please consider converting the list to a single numpy.ndarray with numpy.array() before converting to a tensor. (Triggered internally at C:\\actions-runner\\_work\\pytorch\\pytorch\\builder\\windows\\pytorch\\torch\\csrc\\utils\\tensor_new.cpp:281.)\n"
     ]
    },
    {
     "name": "stdout",
     "output_type": "stream",
     "text": [
      "\u001b[36m(obj pid=101984)\u001b[0m Episode 400, Average Score: 113.86\u001b[32m [repeated 7x across cluster]\u001b[0m\n"
     ]
    },
    {
     "name": "stderr",
     "output_type": "stream",
     "text": [
      "\u001b[36m(obj pid=84752)\u001b[0m C:\\Users\\Benedict\\AppData\\Local\\Temp\\ipykernel_95128\\135224036.py:90: UserWarning: Creating a tensor from a list of numpy.ndarrays is extremely slow. Please consider converting the list to a single numpy.ndarray with numpy.array() before converting to a tensor. (Triggered internally at C:\\actions-runner\\_work\\pytorch\\pytorch\\builder\\windows\\pytorch\\torch\\csrc\\utils\\tensor_new.cpp:281.)\n"
     ]
    },
    {
     "name": "stdout",
     "output_type": "stream",
     "text": [
      "\u001b[36m(obj pid=84752)\u001b[0m Episode 250, Average Score: 30.62\u001b[32m [repeated 6x across cluster]\u001b[0m\n"
     ]
    },
    {
     "name": "stderr",
     "output_type": "stream",
     "text": [
      "\u001b[36m(obj pid=112228)\u001b[0m C:\\Users\\Benedict\\AppData\\Local\\Temp\\ipykernel_95128\\135224036.py:90: UserWarning: Creating a tensor from a list of numpy.ndarrays is extremely slow. Please consider converting the list to a single numpy.ndarray with numpy.array() before converting to a tensor. (Triggered internally at C:\\actions-runner\\_work\\pytorch\\pytorch\\builder\\windows\\pytorch\\torch\\csrc\\utils\\tensor_new.cpp:281.)\n"
     ]
    },
    {
     "name": "stdout",
     "output_type": "stream",
     "text": [
      "\u001b[36m(obj pid=112228)\u001b[0m Episode 250, Average Score: 9.42\u001b[32m [repeated 7x across cluster]\u001b[0m\n"
     ]
    },
    {
     "name": "stderr",
     "output_type": "stream",
     "text": [
      "\u001b[36m(obj pid=71156)\u001b[0m C:\\Users\\Benedict\\AppData\\Local\\Temp\\ipykernel_95128\\135224036.py:90: UserWarning: Creating a tensor from a list of numpy.ndarrays is extremely slow. Please consider converting the list to a single numpy.ndarray with numpy.array() before converting to a tensor. (Triggered internally at C:\\actions-runner\\_work\\pytorch\\pytorch\\builder\\windows\\pytorch\\torch\\csrc\\utils\\tensor_new.cpp:281.)\n"
     ]
    },
    {
     "name": "stdout",
     "output_type": "stream",
     "text": [
      "\u001b[36m(obj pid=71156)\u001b[0m Episode 200, Average Score: 34.66\u001b[32m [repeated 6x across cluster]\u001b[0m\n"
     ]
    },
    {
     "name": "stderr",
     "output_type": "stream",
     "text": [
      "\u001b[36m(obj pid=96732)\u001b[0m C:\\Users\\Benedict\\AppData\\Local\\Temp\\ipykernel_95128\\135224036.py:90: UserWarning: Creating a tensor from a list of numpy.ndarrays is extremely slow. Please consider converting the list to a single numpy.ndarray with numpy.array() before converting to a tensor. (Triggered internally at C:\\actions-runner\\_work\\pytorch\\pytorch\\builder\\windows\\pytorch\\torch\\csrc\\utils\\tensor_new.cpp:281.)\n"
     ]
    },
    {
     "name": "stdout",
     "output_type": "stream",
     "text": [
      "\u001b[36m(obj pid=96732)\u001b[0m Episode 200, Average Score: 9.32\u001b[32m [repeated 6x across cluster]\u001b[0m\n"
     ]
    },
    {
     "name": "stderr",
     "output_type": "stream",
     "text": [
      "\u001b[36m(obj pid=82196)\u001b[0m C:\\Users\\Benedict\\AppData\\Local\\Temp\\ipykernel_95128\\135224036.py:90: UserWarning: Creating a tensor from a list of numpy.ndarrays is extremely slow. Please consider converting the list to a single numpy.ndarray with numpy.array() before converting to a tensor. (Triggered internally at C:\\actions-runner\\_work\\pytorch\\pytorch\\builder\\windows\\pytorch\\torch\\csrc\\utils\\tensor_new.cpp:281.)\n"
     ]
    },
    {
     "name": "stdout",
     "output_type": "stream",
     "text": [
      "\u001b[36m(obj pid=82196)\u001b[0m Episode 150, Average Score: 9.42\u001b[32m [repeated 7x across cluster]\u001b[0m\n",
      "\u001b[36m(obj pid=82196)\u001b[0m Episode 300, Average Score: 9.32\u001b[32m [repeated 3x across cluster]\u001b[0m\n"
     ]
    },
    {
     "name": "stderr",
     "output_type": "stream",
     "text": [
      "\u001b[36m(obj pid=107744)\u001b[0m C:\\Users\\Benedict\\AppData\\Local\\Temp\\ipykernel_95128\\135224036.py:90: UserWarning: Creating a tensor from a list of numpy.ndarrays is extremely slow. Please consider converting the list to a single numpy.ndarray with numpy.array() before converting to a tensor. (Triggered internally at C:\\actions-runner\\_work\\pytorch\\pytorch\\builder\\windows\\pytorch\\torch\\csrc\\utils\\tensor_new.cpp:281.)\n"
     ]
    },
    {
     "name": "stdout",
     "output_type": "stream",
     "text": [
      "\u001b[36m(obj pid=102760)\u001b[0m Episode 50, Average Score: 9.54\u001b[32m [repeated 6x across cluster]\u001b[0m\n"
     ]
    },
    {
     "name": "stderr",
     "output_type": "stream",
     "text": [
      "\u001b[36m(obj pid=102760)\u001b[0m C:\\Users\\Benedict\\AppData\\Local\\Temp\\ipykernel_95128\\135224036.py:90: UserWarning: Creating a tensor from a list of numpy.ndarrays is extremely slow. Please consider converting the list to a single numpy.ndarray with numpy.array() before converting to a tensor. (Triggered internally at C:\\actions-runner\\_work\\pytorch\\pytorch\\builder\\windows\\pytorch\\torch\\csrc\\utils\\tensor_new.cpp:281.)\n"
     ]
    },
    {
     "name": "stdout",
     "output_type": "stream",
     "text": [
      "\u001b[36m(obj pid=107744)\u001b[0m Episode 400, Average Score: 135.48\u001b[32m [repeated 7x across cluster]\u001b[0m\n"
     ]
    },
    {
     "name": "stderr",
     "output_type": "stream",
     "text": [
      "\u001b[36m(obj pid=107540)\u001b[0m C:\\Users\\Benedict\\AppData\\Local\\Temp\\ipykernel_95128\\135224036.py:90: UserWarning: Creating a tensor from a list of numpy.ndarrays is extremely slow. Please consider converting the list to a single numpy.ndarray with numpy.array() before converting to a tensor. (Triggered internally at C:\\actions-runner\\_work\\pytorch\\pytorch\\builder\\windows\\pytorch\\torch\\csrc\\utils\\tensor_new.cpp:281.)\n"
     ]
    },
    {
     "name": "stdout",
     "output_type": "stream",
     "text": [
      "\u001b[36m(obj pid=107540)\u001b[0m Episode 250, Average Score: 42.56\u001b[32m [repeated 7x across cluster]\u001b[0m\n"
     ]
    },
    {
     "name": "stderr",
     "output_type": "stream",
     "text": [
      "\u001b[36m(obj pid=68520)\u001b[0m C:\\Users\\Benedict\\AppData\\Local\\Temp\\ipykernel_95128\\135224036.py:90: UserWarning: Creating a tensor from a list of numpy.ndarrays is extremely slow. Please consider converting the list to a single numpy.ndarray with numpy.array() before converting to a tensor. (Triggered internally at C:\\actions-runner\\_work\\pytorch\\pytorch\\builder\\windows\\pytorch\\torch\\csrc\\utils\\tensor_new.cpp:281.)\n"
     ]
    },
    {
     "name": "stdout",
     "output_type": "stream",
     "text": [
      "\u001b[36m(obj pid=107540)\u001b[0m Episode 350, Average Score: 181.6\u001b[32m [repeated 7x across cluster]\u001b[0m\n"
     ]
    },
    {
     "name": "stderr",
     "output_type": "stream",
     "text": [
      "\u001b[36m(obj pid=110780)\u001b[0m C:\\Users\\Benedict\\AppData\\Local\\Temp\\ipykernel_95128\\135224036.py:90: UserWarning: Creating a tensor from a list of numpy.ndarrays is extremely slow. Please consider converting the list to a single numpy.ndarray with numpy.array() before converting to a tensor. (Triggered internally at C:\\actions-runner\\_work\\pytorch\\pytorch\\builder\\windows\\pytorch\\torch\\csrc\\utils\\tensor_new.cpp:281.)\n"
     ]
    },
    {
     "name": "stdout",
     "output_type": "stream",
     "text": [
      "\u001b[36m(obj pid=110780)\u001b[0m Episode 200, Average Score: 9.34\u001b[32m [repeated 7x across cluster]\u001b[0m\n"
     ]
    },
    {
     "name": "stderr",
     "output_type": "stream",
     "text": [
      "\u001b[36m(obj pid=60592)\u001b[0m C:\\Users\\Benedict\\AppData\\Local\\Temp\\ipykernel_95128\\135224036.py:90: UserWarning: Creating a tensor from a list of numpy.ndarrays is extremely slow. Please consider converting the list to a single numpy.ndarray with numpy.array() before converting to a tensor. (Triggered internally at C:\\actions-runner\\_work\\pytorch\\pytorch\\builder\\windows\\pytorch\\torch\\csrc\\utils\\tensor_new.cpp:281.)\n"
     ]
    },
    {
     "name": "stdout",
     "output_type": "stream",
     "text": [
      "\u001b[36m(obj pid=60592)\u001b[0m Episode 200, Average Score: 53.36\u001b[32m [repeated 6x across cluster]\u001b[0m\n"
     ]
    },
    {
     "name": "stderr",
     "output_type": "stream",
     "text": [
      "\u001b[36m(obj pid=106352)\u001b[0m C:\\Users\\Benedict\\AppData\\Local\\Temp\\ipykernel_95128\\135224036.py:90: UserWarning: Creating a tensor from a list of numpy.ndarrays is extremely slow. Please consider converting the list to a single numpy.ndarray with numpy.array() before converting to a tensor. (Triggered internally at C:\\actions-runner\\_work\\pytorch\\pytorch\\builder\\windows\\pytorch\\torch\\csrc\\utils\\tensor_new.cpp:281.)\n"
     ]
    },
    {
     "name": "stdout",
     "output_type": "stream",
     "text": [
      "\u001b[36m(obj pid=60592)\u001b[0m Episode 350, Average Score: 59.38\u001b[32m [repeated 6x across cluster]\u001b[0m\n",
      "\u001b[36m(obj pid=35816)\u001b[0m Episode 50, Average Score: 9.54\u001b[32m [repeated 11x across cluster]\u001b[0m\n",
      "\u001b[36m(obj pid=18916)\u001b[0m Episode 50, Average Score: 9.18\u001b[32m [repeated 6x across cluster]\u001b[0m\n"
     ]
    },
    {
     "name": "stderr",
     "output_type": "stream",
     "text": [
      "\u001b[36m(obj pid=18916)\u001b[0m C:\\Users\\Benedict\\AppData\\Local\\Temp\\ipykernel_95128\\135224036.py:90: UserWarning: Creating a tensor from a list of numpy.ndarrays is extremely slow. Please consider converting the list to a single numpy.ndarray with numpy.array() before converting to a tensor. (Triggered internally at C:\\actions-runner\\_work\\pytorch\\pytorch\\builder\\windows\\pytorch\\torch\\csrc\\utils\\tensor_new.cpp:281.)\n"
     ]
    },
    {
     "name": "stdout",
     "output_type": "stream",
     "text": [
      "\u001b[36m(obj pid=18916)\u001b[0m Episode 300, Average Score: 9.42\u001b[32m [repeated 5x across cluster]\u001b[0m\n"
     ]
    },
    {
     "name": "stderr",
     "output_type": "stream",
     "text": [
      "\u001b[36m(obj pid=90284)\u001b[0m C:\\Users\\Benedict\\AppData\\Local\\Temp\\ipykernel_95128\\135224036.py:90: UserWarning: Creating a tensor from a list of numpy.ndarrays is extremely slow. Please consider converting the list to a single numpy.ndarray with numpy.array() before converting to a tensor. (Triggered internally at C:\\actions-runner\\_work\\pytorch\\pytorch\\builder\\windows\\pytorch\\torch\\csrc\\utils\\tensor_new.cpp:281.)\n"
     ]
    },
    {
     "name": "stdout",
     "output_type": "stream",
     "text": [
      "\u001b[36m(obj pid=90284)\u001b[0m Episode 300, Average Score: 9.32\u001b[32m [repeated 6x across cluster]\u001b[0m\n"
     ]
    },
    {
     "name": "stderr",
     "output_type": "stream",
     "text": [
      "\u001b[36m(obj pid=68792)\u001b[0m C:\\Users\\Benedict\\AppData\\Local\\Temp\\ipykernel_95128\\135224036.py:90: UserWarning: Creating a tensor from a list of numpy.ndarrays is extremely slow. Please consider converting the list to a single numpy.ndarray with numpy.array() before converting to a tensor. (Triggered internally at C:\\actions-runner\\_work\\pytorch\\pytorch\\builder\\windows\\pytorch\\torch\\csrc\\utils\\tensor_new.cpp:281.)\n"
     ]
    },
    {
     "name": "stdout",
     "output_type": "stream",
     "text": [
      "\u001b[36m(obj pid=68792)\u001b[0m Episode 300, Average Score: 9.32\u001b[32m [repeated 6x across cluster]\u001b[0m\n"
     ]
    },
    {
     "name": "stderr",
     "output_type": "stream",
     "text": [
      "\u001b[36m(obj pid=103608)\u001b[0m C:\\Users\\Benedict\\AppData\\Local\\Temp\\ipykernel_95128\\135224036.py:90: UserWarning: Creating a tensor from a list of numpy.ndarrays is extremely slow. Please consider converting the list to a single numpy.ndarray with numpy.array() before converting to a tensor. (Triggered internally at C:\\actions-runner\\_work\\pytorch\\pytorch\\builder\\windows\\pytorch\\torch\\csrc\\utils\\tensor_new.cpp:281.)\n",
      "\u001b[36m(obj pid=109108)\u001b[0m C:\\Users\\Benedict\\AppData\\Local\\Temp\\ipykernel_95128\\135224036.py:90: UserWarning: Creating a tensor from a list of numpy.ndarrays is extremely slow. Please consider converting the list to a single numpy.ndarray with numpy.array() before converting to a tensor. (Triggered internally at C:\\actions-runner\\_work\\pytorch\\pytorch\\builder\\windows\\pytorch\\torch\\csrc\\utils\\tensor_new.cpp:281.)\n"
     ]
    },
    {
     "name": "stdout",
     "output_type": "stream",
     "text": [
      "\u001b[36m(obj pid=103608)\u001b[0m Episode 300, Average Score: 83.1\u001b[32m [repeated 6x across cluster]\u001b[0m\n",
      "\u001b[36m(obj pid=103608)\u001b[0m Episode 400, Average Score: 122.12\u001b[32m [repeated 8x across cluster]\u001b[0m\n"
     ]
    },
    {
     "name": "stderr",
     "output_type": "stream",
     "text": [
      "\u001b[36m(obj pid=21888)\u001b[0m C:\\Users\\Benedict\\AppData\\Local\\Temp\\ipykernel_95128\\135224036.py:90: UserWarning: Creating a tensor from a list of numpy.ndarrays is extremely slow. Please consider converting the list to a single numpy.ndarray with numpy.array() before converting to a tensor. (Triggered internally at C:\\actions-runner\\_work\\pytorch\\pytorch\\builder\\windows\\pytorch\\torch\\csrc\\utils\\tensor_new.cpp:281.)\n",
      "\u001b[36m(obj pid=109812)\u001b[0m C:\\Users\\Benedict\\AppData\\Local\\Temp\\ipykernel_95128\\135224036.py:90: UserWarning: Creating a tensor from a list of numpy.ndarrays is extremely slow. Please consider converting the list to a single numpy.ndarray with numpy.array() before converting to a tensor. (Triggered internally at C:\\actions-runner\\_work\\pytorch\\pytorch\\builder\\windows\\pytorch\\torch\\csrc\\utils\\tensor_new.cpp:281.)\n"
     ]
    },
    {
     "name": "stdout",
     "output_type": "stream",
     "text": [
      "\u001b[36m(obj pid=109812)\u001b[0m Episode 50, Average Score: 9.42\u001b[32m [repeated 9x across cluster]\u001b[0m\n",
      "\u001b[36m(obj pid=101528)\u001b[0m Episode 50, Average Score: 9.54\u001b[32m [repeated 6x across cluster]\u001b[0m\n"
     ]
    },
    {
     "name": "stderr",
     "output_type": "stream",
     "text": [
      "\u001b[36m(obj pid=101528)\u001b[0m C:\\Users\\Benedict\\AppData\\Local\\Temp\\ipykernel_95128\\135224036.py:90: UserWarning: Creating a tensor from a list of numpy.ndarrays is extremely slow. Please consider converting the list to a single numpy.ndarray with numpy.array() before converting to a tensor. (Triggered internally at C:\\actions-runner\\_work\\pytorch\\pytorch\\builder\\windows\\pytorch\\torch\\csrc\\utils\\tensor_new.cpp:281.)\n"
     ]
    },
    {
     "name": "stdout",
     "output_type": "stream",
     "text": [
      "\u001b[36m(obj pid=99228)\u001b[0m Episode 50, Average Score: 9.4\u001b[32m [repeated 6x across cluster]\u001b[0m\n"
     ]
    },
    {
     "name": "stderr",
     "output_type": "stream",
     "text": [
      "\u001b[36m(obj pid=99228)\u001b[0m C:\\Users\\Benedict\\AppData\\Local\\Temp\\ipykernel_95128\\135224036.py:90: UserWarning: Creating a tensor from a list of numpy.ndarrays is extremely slow. Please consider converting the list to a single numpy.ndarray with numpy.array() before converting to a tensor. (Triggered internally at C:\\actions-runner\\_work\\pytorch\\pytorch\\builder\\windows\\pytorch\\torch\\csrc\\utils\\tensor_new.cpp:281.)\n"
     ]
    },
    {
     "name": "stdout",
     "output_type": "stream",
     "text": [
      "\u001b[36m(obj pid=41780)\u001b[0m Episode 50, Average Score: 9.3\u001b[32m [repeated 6x across cluster]\u001b[0m\n"
     ]
    },
    {
     "name": "stderr",
     "output_type": "stream",
     "text": [
      "\u001b[36m(obj pid=41780)\u001b[0m C:\\Users\\Benedict\\AppData\\Local\\Temp\\ipykernel_95128\\135224036.py:90: UserWarning: Creating a tensor from a list of numpy.ndarrays is extremely slow. Please consider converting the list to a single numpy.ndarray with numpy.array() before converting to a tensor. (Triggered internally at C:\\actions-runner\\_work\\pytorch\\pytorch\\builder\\windows\\pytorch\\torch\\csrc\\utils\\tensor_new.cpp:281.)\n"
     ]
    },
    {
     "name": "stdout",
     "output_type": "stream",
     "text": [
      "\u001b[36m(obj pid=41780)\u001b[0m Episode 300, Average Score: 187.98\u001b[32m [repeated 5x across cluster]\u001b[0m\n"
     ]
    },
    {
     "name": "stderr",
     "output_type": "stream",
     "text": [
      "\u001b[36m(obj pid=31656)\u001b[0m C:\\Users\\Benedict\\AppData\\Local\\Temp\\ipykernel_95128\\135224036.py:90: UserWarning: Creating a tensor from a list of numpy.ndarrays is extremely slow. Please consider converting the list to a single numpy.ndarray with numpy.array() before converting to a tensor. (Triggered internally at C:\\actions-runner\\_work\\pytorch\\pytorch\\builder\\windows\\pytorch\\torch\\csrc\\utils\\tensor_new.cpp:281.)\n"
     ]
    },
    {
     "name": "stdout",
     "output_type": "stream",
     "text": [
      "\u001b[36m(obj pid=110208)\u001b[0m Episode 50, Average Score: 9.4\u001b[32m [repeated 8x across cluster]\u001b[0m\n"
     ]
    },
    {
     "name": "stderr",
     "output_type": "stream",
     "text": [
      "\u001b[36m(obj pid=110208)\u001b[0m C:\\Users\\Benedict\\AppData\\Local\\Temp\\ipykernel_95128\\135224036.py:90: UserWarning: Creating a tensor from a list of numpy.ndarrays is extremely slow. Please consider converting the list to a single numpy.ndarray with numpy.array() before converting to a tensor. (Triggered internally at C:\\actions-runner\\_work\\pytorch\\pytorch\\builder\\windows\\pytorch\\torch\\csrc\\utils\\tensor_new.cpp:281.)\n"
     ]
    },
    {
     "name": "stdout",
     "output_type": "stream",
     "text": [
      "\u001b[36m(obj pid=31656)\u001b[0m Episode 400, Average Score: 85.36\u001b[32m [repeated 7x across cluster]\u001b[0m\n"
     ]
    },
    {
     "name": "stderr",
     "output_type": "stream",
     "text": [
      "\u001b[36m(obj pid=77416)\u001b[0m C:\\Users\\Benedict\\AppData\\Local\\Temp\\ipykernel_95128\\135224036.py:90: UserWarning: Creating a tensor from a list of numpy.ndarrays is extremely slow. Please consider converting the list to a single numpy.ndarray with numpy.array() before converting to a tensor. (Triggered internally at C:\\actions-runner\\_work\\pytorch\\pytorch\\builder\\windows\\pytorch\\torch\\csrc\\utils\\tensor_new.cpp:281.)\n"
     ]
    },
    {
     "name": "stdout",
     "output_type": "stream",
     "text": [
      "\u001b[36m(obj pid=107208)\u001b[0m Episode 50, Average Score: 9.58\u001b[32m [repeated 8x across cluster]\u001b[0m\n"
     ]
    },
    {
     "name": "stderr",
     "output_type": "stream",
     "text": [
      "\u001b[36m(obj pid=107208)\u001b[0m C:\\Users\\Benedict\\AppData\\Local\\Temp\\ipykernel_95128\\135224036.py:90: UserWarning: Creating a tensor from a list of numpy.ndarrays is extremely slow. Please consider converting the list to a single numpy.ndarray with numpy.array() before converting to a tensor. (Triggered internally at C:\\actions-runner\\_work\\pytorch\\pytorch\\builder\\windows\\pytorch\\torch\\csrc\\utils\\tensor_new.cpp:281.)\n"
     ]
    },
    {
     "name": "stdout",
     "output_type": "stream",
     "text": [
      "\u001b[36m(obj pid=107208)\u001b[0m Episode 300, Average Score: 47.74\u001b[32m [repeated 5x across cluster]\u001b[0m\n"
     ]
    },
    {
     "name": "stderr",
     "output_type": "stream",
     "text": [
      "\u001b[36m(obj pid=7652)\u001b[0m C:\\Users\\Benedict\\AppData\\Local\\Temp\\ipykernel_95128\\135224036.py:90: UserWarning: Creating a tensor from a list of numpy.ndarrays is extremely slow. Please consider converting the list to a single numpy.ndarray with numpy.array() before converting to a tensor. (Triggered internally at C:\\actions-runner\\_work\\pytorch\\pytorch\\builder\\windows\\pytorch\\torch\\csrc\\utils\\tensor_new.cpp:281.)\n"
     ]
    },
    {
     "name": "stdout",
     "output_type": "stream",
     "text": [
      "\u001b[36m(obj pid=7652)\u001b[0m Episode 200, Average Score: 39.06\u001b[32m [repeated 6x across cluster]\u001b[0m\n"
     ]
    },
    {
     "name": "stderr",
     "output_type": "stream",
     "text": [
      "\u001b[36m(obj pid=103240)\u001b[0m C:\\Users\\Benedict\\AppData\\Local\\Temp\\ipykernel_95128\\135224036.py:90: UserWarning: Creating a tensor from a list of numpy.ndarrays is extremely slow. Please consider converting the list to a single numpy.ndarray with numpy.array() before converting to a tensor. (Triggered internally at C:\\actions-runner\\_work\\pytorch\\pytorch\\builder\\windows\\pytorch\\torch\\csrc\\utils\\tensor_new.cpp:281.)\n"
     ]
    },
    {
     "name": "stdout",
     "output_type": "stream",
     "text": [
      "\u001b[36m(obj pid=7652)\u001b[0m Episode 300, Average Score: 98.4\u001b[32m [repeated 5x across cluster]\u001b[0m\n"
     ]
    },
    {
     "name": "stderr",
     "output_type": "stream",
     "text": [
      "\u001b[36m(obj pid=102964)\u001b[0m C:\\Users\\Benedict\\AppData\\Local\\Temp\\ipykernel_95128\\135224036.py:90: UserWarning: Creating a tensor from a list of numpy.ndarrays is extremely slow. Please consider converting the list to a single numpy.ndarray with numpy.array() before converting to a tensor. (Triggered internally at C:\\actions-runner\\_work\\pytorch\\pytorch\\builder\\windows\\pytorch\\torch\\csrc\\utils\\tensor_new.cpp:281.)\n"
     ]
    },
    {
     "name": "stdout",
     "output_type": "stream",
     "text": [
      "\u001b[36m(obj pid=102964)\u001b[0m Episode 100, Average Score: 24.04\u001b[32m [repeated 4x across cluster]\u001b[0m\n"
     ]
    },
    {
     "name": "stderr",
     "output_type": "stream",
     "text": [
      "\u001b[36m(obj pid=78884)\u001b[0m C:\\Users\\Benedict\\AppData\\Local\\Temp\\ipykernel_95128\\135224036.py:90: UserWarning: Creating a tensor from a list of numpy.ndarrays is extremely slow. Please consider converting the list to a single numpy.ndarray with numpy.array() before converting to a tensor. (Triggered internally at C:\\actions-runner\\_work\\pytorch\\pytorch\\builder\\windows\\pytorch\\torch\\csrc\\utils\\tensor_new.cpp:281.)\n"
     ]
    },
    {
     "name": "stdout",
     "output_type": "stream",
     "text": [
      "\u001b[36m(obj pid=78884)\u001b[0m Episode 100, Average Score: 9.4\u001b[32m [repeated 5x across cluster]\u001b[0m\n",
      "\u001b[36m(obj pid=80200)\u001b[0m Episode 50, Average Score: 9.28\u001b[32m [repeated 5x across cluster]\u001b[0m\n"
     ]
    },
    {
     "name": "stderr",
     "output_type": "stream",
     "text": [
      "\u001b[36m(obj pid=80200)\u001b[0m C:\\Users\\Benedict\\AppData\\Local\\Temp\\ipykernel_95128\\135224036.py:90: UserWarning: Creating a tensor from a list of numpy.ndarrays is extremely slow. Please consider converting the list to a single numpy.ndarray with numpy.array() before converting to a tensor. (Triggered internally at C:\\actions-runner\\_work\\pytorch\\pytorch\\builder\\windows\\pytorch\\torch\\csrc\\utils\\tensor_new.cpp:281.)\n"
     ]
    },
    {
     "name": "stdout",
     "output_type": "stream",
     "text": [
      "\u001b[36m(obj pid=80200)\u001b[0m Episode 250, Average Score: 9.44\u001b[32m [repeated 7x across cluster]\u001b[0m\n"
     ]
    },
    {
     "name": "stderr",
     "output_type": "stream",
     "text": [
      "\u001b[36m(obj pid=59404)\u001b[0m C:\\Users\\Benedict\\AppData\\Local\\Temp\\ipykernel_95128\\135224036.py:90: UserWarning: Creating a tensor from a list of numpy.ndarrays is extremely slow. Please consider converting the list to a single numpy.ndarray with numpy.array() before converting to a tensor. (Triggered internally at C:\\actions-runner\\_work\\pytorch\\pytorch\\builder\\windows\\pytorch\\torch\\csrc\\utils\\tensor_new.cpp:281.)\n"
     ]
    },
    {
     "name": "stdout",
     "output_type": "stream",
     "text": [
      "\u001b[36m(obj pid=59404)\u001b[0m Episode 250, Average Score: 9.2\u001b[32m [repeated 10x across cluster]\u001b[0m\n"
     ]
    },
    {
     "name": "stderr",
     "output_type": "stream",
     "text": [
      "\u001b[36m(obj pid=40700)\u001b[0m C:\\Users\\Benedict\\AppData\\Local\\Temp\\ipykernel_95128\\135224036.py:90: UserWarning: Creating a tensor from a list of numpy.ndarrays is extremely slow. Please consider converting the list to a single numpy.ndarray with numpy.array() before converting to a tensor. (Triggered internally at C:\\actions-runner\\_work\\pytorch\\pytorch\\builder\\windows\\pytorch\\torch\\csrc\\utils\\tensor_new.cpp:281.)\n"
     ]
    },
    {
     "name": "stdout",
     "output_type": "stream",
     "text": [
      "\u001b[36m(obj pid=40700)\u001b[0m Episode 100, Average Score: 15.06\u001b[32m [repeated 4x across cluster]\u001b[0m\n"
     ]
    },
    {
     "name": "stderr",
     "output_type": "stream",
     "text": [
      "\u001b[36m(obj pid=69504)\u001b[0m C:\\Users\\Benedict\\AppData\\Local\\Temp\\ipykernel_95128\\135224036.py:90: UserWarning: Creating a tensor from a list of numpy.ndarrays is extremely slow. Please consider converting the list to a single numpy.ndarray with numpy.array() before converting to a tensor. (Triggered internally at C:\\actions-runner\\_work\\pytorch\\pytorch\\builder\\windows\\pytorch\\torch\\csrc\\utils\\tensor_new.cpp:281.)\n"
     ]
    },
    {
     "name": "stdout",
     "output_type": "stream",
     "text": [
      "\u001b[36m(obj pid=40700)\u001b[0m Episode 200, Average Score: 69.78\u001b[32m [repeated 3x across cluster]\u001b[0m\n",
      "\u001b[36m(obj pid=107144)\u001b[0m Episode 50, Average Score: 9.94\u001b[32m [repeated 4x across cluster]\u001b[0m\n"
     ]
    },
    {
     "name": "stderr",
     "output_type": "stream",
     "text": [
      "\u001b[36m(obj pid=107144)\u001b[0m C:\\Users\\Benedict\\AppData\\Local\\Temp\\ipykernel_95128\\135224036.py:90: UserWarning: Creating a tensor from a list of numpy.ndarrays is extremely slow. Please consider converting the list to a single numpy.ndarray with numpy.array() before converting to a tensor. (Triggered internally at C:\\actions-runner\\_work\\pytorch\\pytorch\\builder\\windows\\pytorch\\torch\\csrc\\utils\\tensor_new.cpp:281.)\n"
     ]
    },
    {
     "name": "stdout",
     "output_type": "stream",
     "text": [
      "\u001b[36m(obj pid=69504)\u001b[0m Episode 250, Average Score: 30.3\u001b[32m [repeated 4x across cluster]\u001b[0m\n"
     ]
    },
    {
     "name": "stderr",
     "output_type": "stream",
     "text": [
      "\u001b[36m(obj pid=108960)\u001b[0m C:\\Users\\Benedict\\AppData\\Local\\Temp\\ipykernel_95128\\135224036.py:90: UserWarning: Creating a tensor from a list of numpy.ndarrays is extremely slow. Please consider converting the list to a single numpy.ndarray with numpy.array() before converting to a tensor. (Triggered internally at C:\\actions-runner\\_work\\pytorch\\pytorch\\builder\\windows\\pytorch\\torch\\csrc\\utils\\tensor_new.cpp:281.)\n"
     ]
    },
    {
     "name": "stdout",
     "output_type": "stream",
     "text": [
      "\u001b[36m(obj pid=108960)\u001b[0m Episode 100, Average Score: 13.5\u001b[32m [repeated 6x across cluster]\u001b[0m\n"
     ]
    },
    {
     "name": "stderr",
     "output_type": "stream",
     "text": [
      "\u001b[36m(obj pid=66504)\u001b[0m C:\\Users\\Benedict\\AppData\\Local\\Temp\\ipykernel_95128\\135224036.py:90: UserWarning: Creating a tensor from a list of numpy.ndarrays is extremely slow. Please consider converting the list to a single numpy.ndarray with numpy.array() before converting to a tensor. (Triggered internally at C:\\actions-runner\\_work\\pytorch\\pytorch\\builder\\windows\\pytorch\\torch\\csrc\\utils\\tensor_new.cpp:281.)\n"
     ]
    },
    {
     "name": "stdout",
     "output_type": "stream",
     "text": [
      "\u001b[36m(obj pid=107144)\u001b[0m Episode 300, Average Score: 52.68\u001b[32m [repeated 6x across cluster]\u001b[0m\n"
     ]
    },
    {
     "name": "stderr",
     "output_type": "stream",
     "text": [
      "\u001b[36m(obj pid=110064)\u001b[0m C:\\Users\\Benedict\\AppData\\Local\\Temp\\ipykernel_95128\\135224036.py:90: UserWarning: Creating a tensor from a list of numpy.ndarrays is extremely slow. Please consider converting the list to a single numpy.ndarray with numpy.array() before converting to a tensor. (Triggered internally at C:\\actions-runner\\_work\\pytorch\\pytorch\\builder\\windows\\pytorch\\torch\\csrc\\utils\\tensor_new.cpp:281.)\n"
     ]
    },
    {
     "name": "stdout",
     "output_type": "stream",
     "text": [
      "\u001b[36m(obj pid=110064)\u001b[0m Episode 150, Average Score: 14.46\u001b[32m [repeated 8x across cluster]\u001b[0m\n"
     ]
    },
    {
     "name": "stderr",
     "output_type": "stream",
     "text": [
      "\u001b[36m(obj pid=107600)\u001b[0m C:\\Users\\Benedict\\AppData\\Local\\Temp\\ipykernel_95128\\135224036.py:90: UserWarning: Creating a tensor from a list of numpy.ndarrays is extremely slow. Please consider converting the list to a single numpy.ndarray with numpy.array() before converting to a tensor. (Triggered internally at C:\\actions-runner\\_work\\pytorch\\pytorch\\builder\\windows\\pytorch\\torch\\csrc\\utils\\tensor_new.cpp:281.)\n"
     ]
    },
    {
     "name": "stdout",
     "output_type": "stream",
     "text": [
      "\u001b[36m(obj pid=107600)\u001b[0m Episode 100, Average Score: 12.72\u001b[32m [repeated 6x across cluster]\u001b[0m\n",
      "\u001b[36m(obj pid=66504)\u001b[0m Episode 350, Average Score: 58.68\u001b[32m [repeated 5x across cluster]\u001b[0m\n"
     ]
    },
    {
     "name": "stderr",
     "output_type": "stream",
     "text": [
      "\u001b[36m(obj pid=81936)\u001b[0m C:\\Users\\Benedict\\AppData\\Local\\Temp\\ipykernel_95128\\135224036.py:90: UserWarning: Creating a tensor from a list of numpy.ndarrays is extremely slow. Please consider converting the list to a single numpy.ndarray with numpy.array() before converting to a tensor. (Triggered internally at C:\\actions-runner\\_work\\pytorch\\pytorch\\builder\\windows\\pytorch\\torch\\csrc\\utils\\tensor_new.cpp:281.)\n"
     ]
    },
    {
     "name": "stdout",
     "output_type": "stream",
     "text": [
      "\u001b[36m(obj pid=66504)\u001b[0m Episode 400, Average Score: 57.66\u001b[32m [repeated 6x across cluster]\u001b[0m\n"
     ]
    },
    {
     "name": "stderr",
     "output_type": "stream",
     "text": [
      "\u001b[36m(obj pid=104212)\u001b[0m C:\\Users\\Benedict\\AppData\\Local\\Temp\\ipykernel_95128\\135224036.py:90: UserWarning: Creating a tensor from a list of numpy.ndarrays is extremely slow. Please consider converting the list to a single numpy.ndarray with numpy.array() before converting to a tensor. (Triggered internally at C:\\actions-runner\\_work\\pytorch\\pytorch\\builder\\windows\\pytorch\\torch\\csrc\\utils\\tensor_new.cpp:281.)\n"
     ]
    },
    {
     "name": "stdout",
     "output_type": "stream",
     "text": [
      "\u001b[36m(obj pid=104212)\u001b[0m Episode 100, Average Score: 28.06\u001b[32m [repeated 7x across cluster]\u001b[0m\n",
      "\u001b[36m(obj pid=10208)\u001b[0m Episode 50, Average Score: 10.1\u001b[32m [repeated 7x across cluster]\u001b[0m\n"
     ]
    },
    {
     "name": "stderr",
     "output_type": "stream",
     "text": [
      "\u001b[36m(obj pid=10208)\u001b[0m C:\\Users\\Benedict\\AppData\\Local\\Temp\\ipykernel_95128\\135224036.py:90: UserWarning: Creating a tensor from a list of numpy.ndarrays is extremely slow. Please consider converting the list to a single numpy.ndarray with numpy.array() before converting to a tensor. (Triggered internally at C:\\actions-runner\\_work\\pytorch\\pytorch\\builder\\windows\\pytorch\\torch\\csrc\\utils\\tensor_new.cpp:281.)\n"
     ]
    },
    {
     "name": "stdout",
     "output_type": "stream",
     "text": [
      "\u001b[36m(obj pid=100712)\u001b[0m Episode 50, Average Score: 9.42\u001b[32m [repeated 9x across cluster]\u001b[0m\n"
     ]
    },
    {
     "name": "stderr",
     "output_type": "stream",
     "text": [
      "\u001b[36m(obj pid=100712)\u001b[0m C:\\Users\\Benedict\\AppData\\Local\\Temp\\ipykernel_95128\\135224036.py:90: UserWarning: Creating a tensor from a list of numpy.ndarrays is extremely slow. Please consider converting the list to a single numpy.ndarray with numpy.array() before converting to a tensor. (Triggered internally at C:\\actions-runner\\_work\\pytorch\\pytorch\\builder\\windows\\pytorch\\torch\\csrc\\utils\\tensor_new.cpp:281.)\n",
      "\u001b[36m(obj pid=86988)\u001b[0m C:\\Users\\Benedict\\AppData\\Local\\Temp\\ipykernel_95128\\135224036.py:90: UserWarning: Creating a tensor from a list of numpy.ndarrays is extremely slow. Please consider converting the list to a single numpy.ndarray with numpy.array() before converting to a tensor. (Triggered internally at C:\\actions-runner\\_work\\pytorch\\pytorch\\builder\\windows\\pytorch\\torch\\csrc\\utils\\tensor_new.cpp:281.)\n"
     ]
    },
    {
     "name": "stdout",
     "output_type": "stream",
     "text": [
      "\u001b[36m(obj pid=86988)\u001b[0m Episode 50, Average Score: 9.18\u001b[32m [repeated 3x across cluster]\u001b[0m\n"
     ]
    },
    {
     "name": "stderr",
     "output_type": "stream",
     "text": [
      "\u001b[36m(obj pid=101568)\u001b[0m C:\\Users\\Benedict\\AppData\\Local\\Temp\\ipykernel_95128\\135224036.py:90: UserWarning: Creating a tensor from a list of numpy.ndarrays is extremely slow. Please consider converting the list to a single numpy.ndarray with numpy.array() before converting to a tensor. (Triggered internally at C:\\actions-runner\\_work\\pytorch\\pytorch\\builder\\windows\\pytorch\\torch\\csrc\\utils\\tensor_new.cpp:281.)\n"
     ]
    },
    {
     "name": "stdout",
     "output_type": "stream",
     "text": [
      "\u001b[36m(obj pid=100712)\u001b[0m Episode 300, Average Score: 9.44\u001b[32m [repeated 8x across cluster]\u001b[0m\n",
      "\u001b[36m(obj pid=61380)\u001b[0m Episode 50, Average Score: 9.4\u001b[32m [repeated 7x across cluster]\u001b[0m\n"
     ]
    },
    {
     "name": "stderr",
     "output_type": "stream",
     "text": [
      "\u001b[36m(obj pid=61380)\u001b[0m C:\\Users\\Benedict\\AppData\\Local\\Temp\\ipykernel_95128\\135224036.py:90: UserWarning: Creating a tensor from a list of numpy.ndarrays is extremely slow. Please consider converting the list to a single numpy.ndarray with numpy.array() before converting to a tensor. (Triggered internally at C:\\actions-runner\\_work\\pytorch\\pytorch\\builder\\windows\\pytorch\\torch\\csrc\\utils\\tensor_new.cpp:281.)\n"
     ]
    },
    {
     "name": "stdout",
     "output_type": "stream",
     "text": [
      "\u001b[36m(obj pid=69552)\u001b[0m Episode 50, Average Score: 9.3\u001b[32m [repeated 3x across cluster]\u001b[0m\n"
     ]
    },
    {
     "name": "stderr",
     "output_type": "stream",
     "text": [
      "\u001b[36m(obj pid=69552)\u001b[0m C:\\Users\\Benedict\\AppData\\Local\\Temp\\ipykernel_95128\\135224036.py:90: UserWarning: Creating a tensor from a list of numpy.ndarrays is extremely slow. Please consider converting the list to a single numpy.ndarray with numpy.array() before converting to a tensor. (Triggered internally at C:\\actions-runner\\_work\\pytorch\\pytorch\\builder\\windows\\pytorch\\torch\\csrc\\utils\\tensor_new.cpp:281.)\n"
     ]
    },
    {
     "name": "stdout",
     "output_type": "stream",
     "text": [
      "\u001b[36m(obj pid=14464)\u001b[0m Episode 50, Average Score: 9.4\u001b[32m [repeated 5x across cluster]\u001b[0m\n"
     ]
    },
    {
     "name": "stderr",
     "output_type": "stream",
     "text": [
      "\u001b[36m(obj pid=14464)\u001b[0m C:\\Users\\Benedict\\AppData\\Local\\Temp\\ipykernel_95128\\135224036.py:90: UserWarning: Creating a tensor from a list of numpy.ndarrays is extremely slow. Please consider converting the list to a single numpy.ndarray with numpy.array() before converting to a tensor. (Triggered internally at C:\\actions-runner\\_work\\pytorch\\pytorch\\builder\\windows\\pytorch\\torch\\csrc\\utils\\tensor_new.cpp:281.)\n"
     ]
    },
    {
     "name": "stdout",
     "output_type": "stream",
     "text": [
      "\u001b[36m(obj pid=13400)\u001b[0m Episode 50, Average Score: 9.22\u001b[32m [repeated 6x across cluster]\u001b[0m\n"
     ]
    },
    {
     "name": "stderr",
     "output_type": "stream",
     "text": [
      "\u001b[36m(obj pid=13400)\u001b[0m C:\\Users\\Benedict\\AppData\\Local\\Temp\\ipykernel_95128\\135224036.py:90: UserWarning: Creating a tensor from a list of numpy.ndarrays is extremely slow. Please consider converting the list to a single numpy.ndarray with numpy.array() before converting to a tensor. (Triggered internally at C:\\actions-runner\\_work\\pytorch\\pytorch\\builder\\windows\\pytorch\\torch\\csrc\\utils\\tensor_new.cpp:281.)\n"
     ]
    },
    {
     "name": "stdout",
     "output_type": "stream",
     "text": [
      "\u001b[36m(obj pid=13400)\u001b[0m Episode 150, Average Score: 14.98\u001b[32m [repeated 4x across cluster]\u001b[0m\n"
     ]
    },
    {
     "name": "stderr",
     "output_type": "stream",
     "text": [
      "\u001b[36m(obj pid=108048)\u001b[0m C:\\Users\\Benedict\\AppData\\Local\\Temp\\ipykernel_95128\\135224036.py:90: UserWarning: Creating a tensor from a list of numpy.ndarrays is extremely slow. Please consider converting the list to a single numpy.ndarray with numpy.array() before converting to a tensor. (Triggered internally at C:\\actions-runner\\_work\\pytorch\\pytorch\\builder\\windows\\pytorch\\torch\\csrc\\utils\\tensor_new.cpp:281.)\n"
     ]
    },
    {
     "name": "stdout",
     "output_type": "stream",
     "text": [
      "\u001b[36m(obj pid=108048)\u001b[0m Episode 100, Average Score: 31.2\u001b[32m [repeated 5x across cluster]\u001b[0m\n"
     ]
    },
    {
     "name": "stderr",
     "output_type": "stream",
     "text": [
      "2024-11-25 11:02:28,301\tWARNING tune.py:219 -- Stop signal received (e.g. via SIGINT/Ctrl+C), ending Ray Tune run. This will try to checkpoint the experiment state one last time. Press CTRL+C (or send SIGINT/SIGKILL/SIGTERM) to skip. \n",
      "2024-11-25 11:02:28,637\tINFO tune.py:1009 -- Wrote the latest version of all result files and experiment state to 'C:/Users/Benedict/ray_results/obj_2024-11-25_10-37-22' in 0.3360s.\n",
      "\u001b[36m(obj pid=107220)\u001b[0m C:\\Users\\Benedict\\AppData\\Local\\Temp\\ipykernel_95128\\135224036.py:90: UserWarning: Creating a tensor from a list of numpy.ndarrays is extremely slow. Please consider converting the list to a single numpy.ndarray with numpy.array() before converting to a tensor. (Triggered internally at C:\\actions-runner\\_work\\pytorch\\pytorch\\builder\\windows\\pytorch\\torch\\csrc\\utils\\tensor_new.cpp:281.)\n"
     ]
    },
    {
     "name": "stdout",
     "output_type": "stream",
     "text": [
      "\u001b[36m(obj pid=107220)\u001b[0m Solved at Episode 1\n",
      "\u001b[36m(obj pid=108048)\u001b[0m Episode 300, Average Score: 31.96\u001b[32m [repeated 7x across cluster]\u001b[0m\n"
     ]
    },
    {
     "name": "stderr",
     "output_type": "stream",
     "text": [
      "2024-11-25 11:02:33,472\tINFO tune.py:1041 -- Total run time: 1498.13 seconds (1492.90 seconds for the tuning loop).\n",
      "2024-11-25 11:02:33,472\tWARNING tune.py:1056 -- Experiment has been interrupted, but the most recent state was saved.\n",
      "Resume experiment with: Tuner.restore(path=\"C:/Users/Benedict/ray_results/obj_2024-11-25_10-37-22\", trainable=...)\n",
      "2024-11-25 11:02:37,889\tWARNING experiment_analysis.py:180 -- Failed to fetch metrics for 1 trial(s):\n",
      "- obj_635dc2b1: FileNotFoundError('Could not fetch metrics for obj_635dc2b1: both result.json and progress.csv were not found at C:/Users/Benedict/ray_results/obj_2024-11-25_10-37-22/obj_635dc2b1')\n"
     ]
    },
    {
     "name": "stdout",
     "output_type": "stream",
     "text": [
      "Best params found: {'num_tasks': 19, 'inner_lr': 0.03200238470468728, 'meta_lr': 0.005559334381269848, 'hidden_dim': 512, 'memory_size': 20000, 'batch_size': 32, 'target_update_freq': 30}\n",
      "Best score found: {'mean_reward': np.float64(377.3), 'timestamp': 1732499447, 'checkpoint_dir_name': None, 'done': True, 'training_iteration': 356, 'trial_id': '04542657', 'date': '2024-11-25_10-50-47', 'time_this_iter_s': 0.12251687049865723, 'time_total_s': 42.04860997200012, 'pid': 103460, 'hostname': 'Benovo', 'node_ip': '127.0.0.1', 'config': {'num_tasks': 19, 'inner_lr': 0.03200238470468728, 'meta_lr': 0.005559334381269848, 'hidden_dim': 512, 'memory_size': 20000, 'batch_size': 32, 'target_update_freq': 30}, 'time_since_restore': 42.04860997200012, 'iterations_since_restore': 356, 'experiment_tag': '122_batch_size=32,hidden_dim=512,inner_lr=0.0320,memory_size=20000,meta_lr=0.0056,num_tasks=19,target_update_freq=30'}\n"
     ]
    },
    {
     "data": {
      "image/png": "[encoded data removed]",
      "text/plain": [
       "<Figure size 640x480 with 1 Axes>"
      ]
     },
     "metadata": {},
     "output_type": "display_data"
    }
   ],
   "source": [
    "import numpy as np\n",
    "import torch\n",
    "import torch.nn as nn\n",
    "import torch.nn.functional as F\n",
    "import torch.optim as optim\n",
    "import gymnasium as gym\n",
    "from collections import deque, OrderedDict\n",
    "import random\n",
    "from typing import Dict, Optional, Callable\n",
    "\n",
    "from ray import train, tune\n",
    "from ray.tune.search.optuna import OptunaSearch\n",
    "\n",
    "class QNetwork(nn.Module):\n",
    "    def __init__(self, state_dim, action_dim, hidden_dim=256):\n",
    "        super(QNetwork, self).__init__()\n",
    "        self.fc1 = nn.Linear(state_dim, hidden_dim)\n",
    "        self.fc2 = nn.Linear(hidden_dim, hidden_dim)\n",
    "        self.fc3 = nn.Linear(hidden_dim, action_dim)\n",
    "\n",
    "        #we introduce a transform skip connection to allow for gradients to flow easier to the maml network during it's update.\n",
    "        self.skip_transform = nn.Linear(state_dim, action_dim) \n",
    "\n",
    "    def forward(self, state):\n",
    "        x = F.relu(self.fc1(state))\n",
    "        x = F.relu(self.fc2(x))\n",
    "        return self.fc3(x) + self.skip_transform(state) # Outputs Q-values for each action\n",
    "\n",
    "class ThompsonMetaQ:\n",
    "    def __init__(self, state_dim, action_dim, hidden_dim=256,\n",
    "                 inner_lr=0.01, meta_lr=0.001, gamma=0.99,\n",
    "                 memory_size=10000, batch_size=64,\n",
    "                 target_update_freq=10, num_tasks=5,\n",
    "                 initial_alpha=1.0, initial_beta=1.0,\n",
    "                 use_grokfast=True, grok_alpha=0.9, grok_lamb=0.8):\n",
    "        self.device = torch.device(\"cuda\" if torch.cuda.is_available() else \"cpu\")\n",
    "\n",
    "        # Underlying Q-Network\n",
    "        self.q_network = QNetwork(state_dim, action_dim, hidden_dim).to(self.device)\n",
    "        #for grokfast to enhance low gradients\n",
    "\n",
    "        #possible anti-grok gradient filter\n",
    "        self.use_grokfast: bool = False#use_grokfast #Set to False to disable Grokfast.\n",
    "        self.meta_grads: Optional[Dict[str, torch.Tensor]] = None # Running memory (EMA). Initialize by setting it to None. Feed the output of the method recursively after on.\n",
    "        self.grok_alpha: float = 0.0 #grok_alpha #Momentum hyperparmeter of the EMA.\n",
    "        # self.grok_lamb: float = 0.5 #Amplifying factor hyperparameter of the filter.\n",
    "        self.grok_lamb: Callable[[int, int], float] = 0.0 #grok_lamb\n",
    "        #lambda episode, max: 1.0 - 0.5*np.cos(episode * np.pi / (max/2))\n",
    "        # #Amplifying factor hyperparameter of the filter.\n",
    "\n",
    "        # and Meta Q-Network\n",
    "        self.target_network = QNetwork(state_dim, action_dim, hidden_dim).to(self.device)\n",
    "        self.target_network.load_state_dict(self.q_network.state_dict())\n",
    "        self.target_network.eval()\n",
    "\n",
    "        self.meta_optimizer = optim.Adam(self.q_network.parameters(), lr=meta_lr)\n",
    "        self.gamma = gamma\n",
    "        self.inner_lr = inner_lr\n",
    "        self.batch_size = batch_size\n",
    "        self.target_update_freq = target_update_freq\n",
    "        self.memory = deque(maxlen=memory_size)\n",
    "        self.num_tasks = num_tasks\n",
    "        self.learn_step_counter = 0\n",
    "        self.delta = 0.01\n",
    "\n",
    "        # Initialize Thompson Sampling parameters for each action\n",
    "        self.alpha = np.ones(action_dim) * initial_alpha\n",
    "        self.beta = np.ones(action_dim) * initial_beta\n",
    "\n",
    "    def select_action(self, state):\n",
    "        state = torch.FloatTensor(state).unsqueeze(0).to(self.device)\n",
    "\n",
    "        # Get Q-values\n",
    "        with torch.no_grad():\n",
    "            q_values = self.q_network(state).cpu().numpy()[0]\n",
    "\n",
    "        # Sample probabilities using Thompson Sampling\n",
    "        sampled_probs = np.array([np.random.beta(self.alpha[a], self.beta[a]) for a in range(len(q_values))])\n",
    "\n",
    "        # Select action based on weighted Q-values\n",
    "        weighted_q_values = q_values * sampled_probs\n",
    "        return np.argmax(weighted_q_values)\n",
    "\n",
    "    def store_transition(self, state, action, reward, next_state, done):\n",
    "        self.memory.append((state, action, reward, next_state, done))\n",
    "\n",
    "        # Update Thompson Sampling parameters\n",
    "        if reward > 0:\n",
    "            self.alpha[action] += 1  # Rewarded actions increase alpha\n",
    "        else:\n",
    "            self.beta[action] += 1  # Unsuccessful actions increase beta\n",
    "\n",
    "    def prepare_batch(self, batch):\n",
    "        states, actions, rewards, next_states, dones = zip(*batch)\n",
    "        states = torch.FloatTensor(states).to(self.device)\n",
    "        actions = torch.LongTensor(actions).to(self.device)\n",
    "        rewards = torch.FloatTensor(rewards).to(self.device)\n",
    "        next_states = torch.FloatTensor(next_states).to(self.device)\n",
    "        dones = torch.FloatTensor(dones).to(self.device)\n",
    "        return states, actions, rewards, next_states, dones\n",
    "\n",
    "    def inner_loop_update(self, task_batch):\n",
    "        # Perform task-specific updates\n",
    "        states, actions, rewards, next_states, dones = self.prepare_batch(task_batch)\n",
    "\n",
    "        # Compute Q-values\n",
    "        q_values = self.q_network(states).gather(1, actions.unsqueeze(1)).squeeze()\n",
    "        with torch.no_grad():\n",
    "            max_next_q_values = self.target_network(next_states).max(1)[0]\n",
    "            target_q_values = rewards + (1 - dones) * self.gamma * max_next_q_values\n",
    "\n",
    "        # Compute loss\n",
    "        loss = F.mse_loss(q_values, target_q_values)\n",
    "        loss += self.delta\n",
    "\n",
    "        # Update parameters using a temporary optimizer\n",
    "        grads = torch.autograd.grad(loss, self.q_network.parameters())\n",
    "        updated_params = OrderedDict()\n",
    "        for (name, param), grad in zip(self.q_network.named_parameters(), grads):\n",
    "            updated_params[name] = param - self.inner_lr * grad\n",
    "\n",
    "        return updated_params\n",
    "\n",
    "    def meta_update(self):\n",
    "        if len(self.memory) < self.batch_size * 2 * self.num_tasks:\n",
    "            return\n",
    "\n",
    "        meta_loss = 0\n",
    "        self.meta_optimizer.zero_grad()\n",
    "\n",
    "        for t in range(self.num_tasks):\n",
    "            # Sample task-specific batches\n",
    "            task_start = random.randint(0, len(self.memory) - self.batch_size * 2)\n",
    "            task_batch = list(self.memory)[task_start                 : task_start+self.batch_size]\n",
    "            eval_batch = list(self.memory)[task_start+self.batch_size : task_start+self.batch_size*2]\n",
    "\n",
    "            # Inner loop: Perform task-specific updates\n",
    "            updated_params = self.inner_loop_update(task_batch)\n",
    "\n",
    "            # Temporarily apply updated parameters\n",
    "            original_params = OrderedDict((name, param.clone()) for name, param in self.q_network.named_parameters())\n",
    "            for name, param in self.q_network.named_parameters():\n",
    "                param.data = updated_params[name].data\n",
    "\n",
    "            # Evaluate on evaluation batch\n",
    "            states, actions, rewards, next_states, dones = self.prepare_batch(eval_batch)\n",
    "            q_values = self.q_network(states).gather(1, actions.unsqueeze(1)).squeeze()\n",
    "            with torch.no_grad():\n",
    "                max_next_q_values = self.target_network(next_states).max(1)[0]\n",
    "                target_q_values = rewards + (1 - dones) * self.gamma * max_next_q_values\n",
    "\n",
    "            # Meta loss\n",
    "            task_meta_loss = F.mse_loss(q_values, target_q_values)\n",
    "            meta_loss += task_meta_loss\n",
    "\n",
    "            # Revert to original parameters\n",
    "            for name, param in self.q_network.named_parameters():\n",
    "                param.data = original_params[name].data\n",
    "\n",
    "        # Outer loop: Meta optimization\n",
    "        meta_loss = meta_loss / self.num_tasks\n",
    "        meta_loss.backward()\n",
    "        if self.use_grokfast:\n",
    "            self.meta_grads = gradfilter_ema(\n",
    "                self.q_network, \n",
    "                grads=self.meta_grads, \n",
    "                alpha=self.grok_alpha, \n",
    "                # lamb=self.grok_lamb(t, self.num_tasks)\n",
    "                lamb=0.9,\n",
    "            )\n",
    "        self.meta_optimizer.step()\n",
    "\n",
    "        # Update target network\n",
    "        self.learn_step_counter += 1\n",
    "        if self.learn_step_counter % self.target_update_freq == 0:\n",
    "            self.target_network.load_state_dict(self.q_network.state_dict())\n",
    "\n",
    "        #print(f\"Meta Loss: {meta_loss.item()}\")\n",
    "\n",
    "def train_thompson_meta_q(env_name='CartPole-v1', episodes=1000, max_steps=500, **kwargs):\n",
    "    env = gym.make(env_name)\n",
    "    state_dim = env.observation_space.shape[0]\n",
    "    action_dim = env.action_space.n\n",
    "\n",
    "    agent = ThompsonMetaQ(state_dim, action_dim, **kwargs)\n",
    "\n",
    "    scores = []\n",
    "    for episode in range(episodes):\n",
    "        state = env.reset(seed=episode)[0]\n",
    "        total_reward = 0\n",
    "\n",
    "        for _ in range(max_steps):\n",
    "            action = agent.select_action(state)\n",
    "            step = env.step(action)\n",
    "            next_state, reward, done, _ = step[:4]\n",
    "\n",
    "            agent.store_transition(state, action, reward, next_state, done)\n",
    "            total_reward += reward\n",
    "            state = next_state\n",
    "\n",
    "            if done:\n",
    "                break\n",
    "\n",
    "        scores.append(total_reward)\n",
    "\n",
    "        # Meta-update after each episode\n",
    "        agent.meta_update()\n",
    "\n",
    "        if (episode + 1) % 50 == 0:\n",
    "            avg_score = np.mean(scores[-50:])\n",
    "            print(f\"Episode {episode + 1}, Average Score: {avg_score}\")\n",
    "\n",
    "        # Check for solving criteria\n",
    "        if np.mean(scores[-100:]) >= 300:  # Solved when average score over last 100 episodes >= 195\n",
    "            print(f\"Solved at Episode {episode + 1}\")\n",
    "            break\n",
    "\n",
    "        return agent, scores\n",
    "    \n",
    "def obj(config): #same as above but now with optima hyperparameter optimization.\n",
    "    env_name=\"CartPole-v1\"\n",
    "    episodes=1000\n",
    "    max_steps=500\n",
    "\n",
    "    env = gym.make(env_name)\n",
    "    state_dim = env.observation_space.shape[0]\n",
    "    action_dim = env.action_space.n\n",
    "\n",
    "    agent = ThompsonMetaQ(state_dim, action_dim, **config)\n",
    "\n",
    "    scores = []\n",
    "    for episode in range(episodes):\n",
    "        state = env.reset(seed=episode)[0]\n",
    "        total_reward = 0\n",
    "\n",
    "        for _ in range(max_steps):\n",
    "            action = agent.select_action(state)\n",
    "            step = env.step(action)\n",
    "            next_state, reward, done, _ = step[:4]\n",
    "\n",
    "            agent.store_transition(state, action, reward, next_state, done)\n",
    "            total_reward += reward\n",
    "            state = next_state\n",
    "\n",
    "            if done:\n",
    "                break\n",
    "\n",
    "        scores.append(total_reward)\n",
    "\n",
    "        # Meta-update after each episode\n",
    "        agent.meta_update()\n",
    "\n",
    "        if (episode + 1) % 50 == 0:\n",
    "            avg_score = np.mean(scores[-50:])\n",
    "            print(f\"Episode {episode + 1}, Average Score: {avg_score}\")\n",
    "\n",
    "        # Check for solving criteria\n",
    "        if np.mean(scores[-100:]) >= 300:  # Solved when average score over last 100 episodes >= 195\n",
    "            print(f\"Solved at Episode {episode + 1}\")\n",
    "            break#\n",
    "\n",
    "        train.report({\"mean_reward\":np.mean(scores[-50:])})\n",
    "\n",
    "\n",
    "def opt_with_optima(iterations=200):\n",
    "    hp_space = {\n",
    "        \"num_tasks\": tune.randint(2, 20), \n",
    "        \"inner_lr\": tune.loguniform(0.0001, 0.1), \n",
    "        \"meta_lr\": tune.loguniform(0.0001, 0.1),\n",
    "        \"hidden_dim\": tune.choice([64, 128, 256, 512]),\n",
    "        \"memory_size\": tune.choice([10000, 20000, 50000]),\n",
    "        \"batch_size\": tune.choice([32, 64, 128]),\n",
    "        \"target_update_freq\": tune.randint(1, 100),\n",
    "        \"num_tasks\": tune.randint(2, 20),\n",
    "        # \"use_grokfast\": tune.choice([True, False]),\n",
    "        # \"grok_alpha\": tune.uniform(0, 1),\n",
    "        # \"grok_lamb\": tune.uniform(0, 2),\n",
    "    } \n",
    "\n",
    "    algo = OptunaSearch()\n",
    "    from ray.tune.stopper import TrialPlateauStopper#\n",
    "    from ray.tune.schedulers import ASHAScheduler\n",
    "\n",
    "    hbscheduler = ASHAScheduler(\n",
    "        max_t=iterations,\n",
    "        time_attr=\"training_iteration\",\n",
    "        grace_period=300,\n",
    "        reduction_factor=3,\n",
    "    )\n",
    "\n",
    "    tuner = tune.Tuner(\n",
    "        obj,\n",
    "        tune_config=tune.TuneConfig(\n",
    "            metric=\"mean_reward\",\n",
    "            mode=\"max\",\n",
    "            scheduler=hbscheduler,\n",
    "            search_alg=algo,\n",
    "            num_samples=iterations,\n",
    "            trial_dirname_creator=lambda trial: f\"{trial.trainable_name}_{trial.trial_id}\",\n",
    "        ),\n",
    "        param_space=hp_space,\n",
    "    )\n",
    "    results = tuner.fit()\n",
    "    return results.get_best_result().config, results.get_best_result().metrics\n",
    "\n",
    "if __name__ == \"__main__\":\n",
    "    torch.manual_seed(1)\n",
    "    np.random.seed(1)\n",
    "    random.seed(1)\n",
    "\n",
    "    # agent, scores = train_thompson_meta_q(episodes=1000)\n",
    "\n",
    "    optimal_params, score = opt_with_optima(iterations=400)\n",
    "\n",
    "    print(\"Best params found:\", optimal_params)\n",
    "    print(\"Best score found:\", score)\n",
    "\n",
    "\n",
    "    agent, scores = train_thompson_meta_q(episodes=1000, **optimal_params)\n",
    "\n",
    "    import matplotlib.pyplot as plt\n",
    "    plt.plot(scores)\n",
    "    plt.title('Thompson Sampling Meta-Learning Q-Network')\n",
    "    plt.xlabel('Episode')\n",
    "    plt.ylabel('Score')\n",
    "    plt.show()\n"
   ]
  },
  {
   "cell_type": "code",
   "execution_count": null,
   "metadata": {
    "id": "NE6anicNEPLN"
   },
   "outputs": [],
   "source": []
  }
 ],
 "metadata": {
  "accelerator": "GPU",
  "colab": {
   "gpuType": "T4",
   "provenance": []
  },
  "kernelspec": {
   "display_name": ".venv",
   "language": "python",
   "name": "python3"
  },
  "language_info": {
   "codemirror_mode": {
    "name": "ipython",
    "version": 3
   },
   "file_extension": ".py",
   "mimetype": "text/x-python",
   "name": "python",
   "nbconvert_exporter": "python",
   "pygments_lexer": "ipython3",
   "version": "3.12.3"
  }
 },
 "nbformat": 4,
 "nbformat_minor": 0
}
